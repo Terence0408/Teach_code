{
  "nbformat": 4,
  "nbformat_minor": 0,
  "metadata": {
    "colab": {
      "name": "Numerical modeling",
      "provenance": [],
      "collapsed_sections": [],
      "toc_visible": true,
      "include_colab_link": true
    },
    "kernelspec": {
      "name": "python3",
      "display_name": "Python 3"
    }
  },
  "cells": [
    {
      "cell_type": "markdown",
      "metadata": {
        "id": "view-in-github",
        "colab_type": "text"
      },
      "source": [
        "<a href=\"https://colab.research.google.com/github/Terence0408/Teach_code/blob/master/Numerical_modeling.ipynb\" target=\"_parent\"><img src=\"https://colab.research.google.com/assets/colab-badge.svg\" alt=\"Open In Colab\"/></a>"
      ]
    },
    {
      "cell_type": "markdown",
      "metadata": {
        "id": "N1v51tnpbzsv",
        "colab_type": "text"
      },
      "source": [
        "# Python 建立 model 相關的套件有\n",
        "* 數值運算: Scipy\n",
        "* 機器學習: sklearn\n",
        "* 文字分析: gensim\n",
        "* 影像處理: opencv-python\n"
      ]
    },
    {
      "cell_type": "code",
      "metadata": {
        "id": "ZDEedl8kuZGS",
        "colab_type": "code",
        "colab": {}
      },
      "source": [
        "import numpy as np\n",
        "import pandas as pd\n",
        "\n",
        "import warnings\n",
        "warnings.filterwarnings('ignore')"
      ],
      "execution_count": 0,
      "outputs": []
    },
    {
      "cell_type": "markdown",
      "metadata": {
        "id": "OSEFFa6VrZyj",
        "colab_type": "text"
      },
      "source": [
        "## 機器學習: sklearn"
      ]
    },
    {
      "cell_type": "code",
      "metadata": {
        "id": "eumEnY5_ro0M",
        "colab_type": "code",
        "colab": {}
      },
      "source": [
        "import sklearn"
      ],
      "execution_count": 0,
      "outputs": []
    },
    {
      "cell_type": "markdown",
      "metadata": {
        "id": "giRnymXmrynW",
        "colab_type": "text"
      },
      "source": [
        "### Load toy data\n",
        "sklearn 隨附的資料可以到這裡看: [link](https://scikit-learn.org/stable/modules/classes.html#module-sklearn.datasets)"
      ]
    },
    {
      "cell_type": "code",
      "metadata": {
        "id": "iCjtP5u2uILW",
        "colab_type": "code",
        "colab": {
          "base_uri": "https://localhost:8080/",
          "height": 84
        },
        "outputId": "a93422ec-6457-4184-f363-47c819b1c0d7"
      },
      "source": [
        "from sklearn.datasets import load_iris\n",
        "Iris = load_iris()\n",
        "\n",
        "Iris_X = Iris.data\n",
        "Iris_y = Iris.target\n",
        "Iris_names = Iris[\"feature_names\"]\n",
        "\n",
        "Iris_names"
      ],
      "execution_count": 3,
      "outputs": [
        {
          "output_type": "execute_result",
          "data": {
            "text/plain": [
              "['sepal length (cm)',\n",
              " 'sepal width (cm)',\n",
              " 'petal length (cm)',\n",
              " 'petal width (cm)']"
            ]
          },
          "metadata": {
            "tags": []
          },
          "execution_count": 3
        }
      ]
    },
    {
      "cell_type": "code",
      "metadata": {
        "id": "qyuUMXpEupHJ",
        "colab_type": "code",
        "colab": {
          "base_uri": "https://localhost:8080/",
          "height": 101
        },
        "outputId": "6c1f939d-9120-4575-d0b5-491993d26bb4"
      },
      "source": [
        "Iris_X[0:5]"
      ],
      "execution_count": 4,
      "outputs": [
        {
          "output_type": "execute_result",
          "data": {
            "text/plain": [
              "array([[5.1, 3.5, 1.4, 0.2],\n",
              "       [4.9, 3. , 1.4, 0.2],\n",
              "       [4.7, 3.2, 1.3, 0.2],\n",
              "       [4.6, 3.1, 1.5, 0.2],\n",
              "       [5. , 3.6, 1.4, 0.2]])"
            ]
          },
          "metadata": {
            "tags": []
          },
          "execution_count": 4
        }
      ]
    },
    {
      "cell_type": "code",
      "metadata": {
        "id": "hLkLZlSGuqie",
        "colab_type": "code",
        "colab": {
          "base_uri": "https://localhost:8080/",
          "height": 34
        },
        "outputId": "316a24b2-12da-4383-c789-b38e8b15d4b3"
      },
      "source": [
        "Iris_y[0:5]"
      ],
      "execution_count": 5,
      "outputs": [
        {
          "output_type": "execute_result",
          "data": {
            "text/plain": [
              "array([0, 0, 0, 0, 0])"
            ]
          },
          "metadata": {
            "tags": []
          },
          "execution_count": 5
        }
      ]
    },
    {
      "cell_type": "code",
      "metadata": {
        "id": "Pbb0wdwW_J5A",
        "colab_type": "code",
        "colab": {
          "base_uri": "https://localhost:8080/",
          "height": 34
        },
        "outputId": "8ad9512e-fd50-4bbc-f43c-26d5693f34d5"
      },
      "source": [
        "Iris_X.shape"
      ],
      "execution_count": 35,
      "outputs": [
        {
          "output_type": "execute_result",
          "data": {
            "text/plain": [
              "(150, 4)"
            ]
          },
          "metadata": {
            "tags": []
          },
          "execution_count": 35
        }
      ]
    },
    {
      "cell_type": "code",
      "metadata": {
        "id": "A1tDn3v__Pzx",
        "colab_type": "code",
        "colab": {
          "base_uri": "https://localhost:8080/",
          "height": 34
        },
        "outputId": "b7a62581-5201-4523-a98c-fb7b0a74cc69"
      },
      "source": [
        "Iris_y.shape"
      ],
      "execution_count": 36,
      "outputs": [
        {
          "output_type": "execute_result",
          "data": {
            "text/plain": [
              "(150,)"
            ]
          },
          "metadata": {
            "tags": []
          },
          "execution_count": 36
        }
      ]
    },
    {
      "cell_type": "markdown",
      "metadata": {
        "id": "yMuKub3Ztd1T",
        "colab_type": "text"
      },
      "source": [
        "### Classification"
      ]
    },
    {
      "cell_type": "code",
      "metadata": {
        "id": "6WtbtSpbx-L6",
        "colab_type": "code",
        "colab": {}
      },
      "source": [
        "from sklearn.datasets import load_iris\n",
        "Iris = load_iris()\n",
        "\n",
        "Iris_X = Iris.data\n",
        "Iris_y = Iris.target\n",
        "Iris_names = Iris[\"feature_names\"]"
      ],
      "execution_count": 0,
      "outputs": []
    },
    {
      "cell_type": "markdown",
      "metadata": {
        "id": "0MzdaOUr0c-V",
        "colab_type": "text"
      },
      "source": [
        "#### Naive Bayes"
      ]
    },
    {
      "cell_type": "markdown",
      "metadata": {
        "id": "ctpUDlzd0tG_",
        "colab_type": "text"
      },
      "source": [
        "Build model"
      ]
    },
    {
      "cell_type": "code",
      "metadata": {
        "id": "r3MvFKAO00s-",
        "colab_type": "code",
        "colab": {
          "base_uri": "https://localhost:8080/",
          "height": 0
        },
        "outputId": "91e942d1-0525-4a9a-e13c-816746e4a9de"
      },
      "source": [
        "from sklearn.naive_bayes import GaussianNB\n",
        "model = GaussianNB(priors=None)\n",
        "model.fit(Iris_X, Iris_y)"
      ],
      "execution_count": 7,
      "outputs": [
        {
          "output_type": "execute_result",
          "data": {
            "text/plain": [
              "GaussianNB(priors=None, var_smoothing=1e-09)"
            ]
          },
          "metadata": {
            "tags": []
          },
          "execution_count": 7
        }
      ]
    },
    {
      "cell_type": "markdown",
      "metadata": {
        "id": "wBZ9NXtg0vA7",
        "colab_type": "text"
      },
      "source": [
        "Prediction"
      ]
    },
    {
      "cell_type": "code",
      "metadata": {
        "id": "OzXesl2t0lTo",
        "colab_type": "code",
        "colab": {
          "base_uri": "https://localhost:8080/",
          "height": 0
        },
        "outputId": "2ee06581-cbf8-4322-e87c-4d89d85b4a4b"
      },
      "source": [
        "pred_y = model.predict(Iris_X)\n",
        "print(Iris_y[0:5], pred_y[0:5])"
      ],
      "execution_count": 8,
      "outputs": [
        {
          "output_type": "stream",
          "text": [
            "[0 0 0 0 0] [0 0 0 0 0]\n"
          ],
          "name": "stdout"
        }
      ]
    },
    {
      "cell_type": "markdown",
      "metadata": {
        "id": "Y09aRxtm0x8d",
        "colab_type": "text"
      },
      "source": [
        "Performance"
      ]
    },
    {
      "cell_type": "code",
      "metadata": {
        "id": "h7H8o7v80zIe",
        "colab_type": "code",
        "colab": {
          "base_uri": "https://localhost:8080/",
          "height": 0
        },
        "outputId": "9dab3f31-578a-4515-886a-5f328ecd03c9"
      },
      "source": [
        "from sklearn.metrics import classification_report, confusion_matrix\n",
        "print(classification_report(Iris_y, pred_y))\n",
        "print(confusion_matrix(Iris_y, pred_y))"
      ],
      "execution_count": 9,
      "outputs": [
        {
          "output_type": "stream",
          "text": [
            "              precision    recall  f1-score   support\n",
            "\n",
            "           0       1.00      1.00      1.00        50\n",
            "           1       0.94      0.94      0.94        50\n",
            "           2       0.94      0.94      0.94        50\n",
            "\n",
            "    accuracy                           0.96       150\n",
            "   macro avg       0.96      0.96      0.96       150\n",
            "weighted avg       0.96      0.96      0.96       150\n",
            "\n",
            "[[50  0  0]\n",
            " [ 0 47  3]\n",
            " [ 0  3 47]]\n"
          ],
          "name": "stdout"
        }
      ]
    },
    {
      "cell_type": "markdown",
      "metadata": {
        "id": "2Aw3coNe2d8g",
        "colab_type": "text"
      },
      "source": [
        "#### Decision Trees"
      ]
    },
    {
      "cell_type": "code",
      "metadata": {
        "id": "1MlHoNe12e_P",
        "colab_type": "code",
        "colab": {
          "base_uri": "https://localhost:8080/",
          "height": 0
        },
        "outputId": "8ee69f5d-9dcb-4de6-9667-5896d9f7da5f"
      },
      "source": [
        "from sklearn.tree import DecisionTreeClassifier\n",
        "model = DecisionTreeClassifier()\n",
        "model.fit(Iris_X, Iris_y)\n",
        "\n",
        "pred_y = model.predict(Iris_X)\n",
        "print(Iris_y[0:5], pred_y[0:5])\n",
        "\n",
        "from sklearn.metrics import classification_report, confusion_matrix\n",
        "print(classification_report(Iris_y, pred_y))\n",
        "print(confusion_matrix(Iris_y, pred_y))"
      ],
      "execution_count": 10,
      "outputs": [
        {
          "output_type": "stream",
          "text": [
            "[0 0 0 0 0] [0 0 0 0 0]\n",
            "              precision    recall  f1-score   support\n",
            "\n",
            "           0       1.00      1.00      1.00        50\n",
            "           1       1.00      1.00      1.00        50\n",
            "           2       1.00      1.00      1.00        50\n",
            "\n",
            "    accuracy                           1.00       150\n",
            "   macro avg       1.00      1.00      1.00       150\n",
            "weighted avg       1.00      1.00      1.00       150\n",
            "\n",
            "[[50  0  0]\n",
            " [ 0 50  0]\n",
            " [ 0  0 50]]\n"
          ],
          "name": "stdout"
        }
      ]
    },
    {
      "cell_type": "markdown",
      "metadata": {
        "id": "_dT7Pzdb2faQ",
        "colab_type": "text"
      },
      "source": [
        "#### Random Forest"
      ]
    },
    {
      "cell_type": "code",
      "metadata": {
        "id": "DWTr5zJp2fra",
        "colab_type": "code",
        "colab": {
          "base_uri": "https://localhost:8080/",
          "height": 0
        },
        "outputId": "cbe8c79e-6b3b-43fd-ad41-017b228cf826"
      },
      "source": [
        "from sklearn.ensemble import BaggingClassifier\n",
        "tree = DecisionTreeClassifier()\n",
        "model = BaggingClassifier(tree, \n",
        "                          n_estimators=200, \n",
        "                          max_samples=0.8,\n",
        "                          random_state=1)\n",
        "model.fit(Iris_X, Iris_y)\n",
        "\n",
        "pred_y = model.predict(Iris_X)\n",
        "print(Iris_y[0:5], pred_y[0:5])\n",
        "\n",
        "from sklearn.metrics import classification_report, confusion_matrix\n",
        "print(classification_report(Iris_y, pred_y))\n",
        "print(confusion_matrix(Iris_y, pred_y))"
      ],
      "execution_count": 11,
      "outputs": [
        {
          "output_type": "stream",
          "text": [
            "[0 0 0 0 0] [0 0 0 0 0]\n",
            "              precision    recall  f1-score   support\n",
            "\n",
            "           0       1.00      1.00      1.00        50\n",
            "           1       1.00      1.00      1.00        50\n",
            "           2       1.00      1.00      1.00        50\n",
            "\n",
            "    accuracy                           1.00       150\n",
            "   macro avg       1.00      1.00      1.00       150\n",
            "weighted avg       1.00      1.00      1.00       150\n",
            "\n",
            "[[50  0  0]\n",
            " [ 0 50  0]\n",
            " [ 0  0 50]]\n"
          ],
          "name": "stdout"
        }
      ]
    },
    {
      "cell_type": "markdown",
      "metadata": {
        "id": "TZJIAS7M1h4y",
        "colab_type": "text"
      },
      "source": [
        "#### Support Vector Machines"
      ]
    },
    {
      "cell_type": "code",
      "metadata": {
        "id": "suZhTQ1Q1kDO",
        "colab_type": "code",
        "colab": {
          "base_uri": "https://localhost:8080/",
          "height": 0
        },
        "outputId": "43f36c16-2d78-4d6e-e672-d5d669be175a"
      },
      "source": [
        "from sklearn.svm import SVC\n",
        "model = SVC(kernel='rbf')\n",
        "model.fit(Iris_X, Iris_y)\n",
        "\n",
        "pred_y = model.predict(Iris_X)\n",
        "print(Iris_y[0:5], pred_y[0:5])\n",
        "\n",
        "from sklearn.metrics import classification_report, confusion_matrix\n",
        "print(classification_report(Iris_y, pred_y))\n",
        "print(confusion_matrix(Iris_y, pred_y))"
      ],
      "execution_count": 12,
      "outputs": [
        {
          "output_type": "stream",
          "text": [
            "[0 0 0 0 0] [0 0 0 0 0]\n",
            "              precision    recall  f1-score   support\n",
            "\n",
            "           0       1.00      1.00      1.00        50\n",
            "           1       1.00      0.96      0.98        50\n",
            "           2       0.96      1.00      0.98        50\n",
            "\n",
            "    accuracy                           0.99       150\n",
            "   macro avg       0.99      0.99      0.99       150\n",
            "weighted avg       0.99      0.99      0.99       150\n",
            "\n",
            "[[50  0  0]\n",
            " [ 0 48  2]\n",
            " [ 0  0 50]]\n"
          ],
          "name": "stdout"
        }
      ]
    },
    {
      "cell_type": "markdown",
      "metadata": {
        "id": "RnxCELSas6i7",
        "colab_type": "text"
      },
      "source": [
        "### Regression"
      ]
    },
    {
      "cell_type": "code",
      "metadata": {
        "id": "vZI0KKFyvoWS",
        "colab_type": "code",
        "colab": {}
      },
      "source": [
        "from sklearn.datasets import load_boston\n",
        "Boston = load_boston()\n",
        "\n",
        "Boston_X = Boston.data\n",
        "Boston_y = Boston.target\n",
        "Boston_names = Boston[\"feature_names\"]"
      ],
      "execution_count": 0,
      "outputs": []
    },
    {
      "cell_type": "markdown",
      "metadata": {
        "id": "trDIZctKu2KR",
        "colab_type": "text"
      },
      "source": [
        "#### Linear regression"
      ]
    },
    {
      "cell_type": "markdown",
      "metadata": {
        "id": "qfucVp8uxCJi",
        "colab_type": "text"
      },
      "source": [
        "Build model"
      ]
    },
    {
      "cell_type": "code",
      "metadata": {
        "id": "WRw2pQq6u1OF",
        "colab_type": "code",
        "colab": {
          "base_uri": "https://localhost:8080/",
          "height": 34
        },
        "outputId": "64933f11-ef21-40c2-90a2-abae3ecbc0ac"
      },
      "source": [
        "from sklearn.linear_model import LinearRegression\n",
        "model = LinearRegression(fit_intercept=True)\n",
        "model.fit(Boston_X, Boston_y)"
      ],
      "execution_count": 14,
      "outputs": [
        {
          "output_type": "execute_result",
          "data": {
            "text/plain": [
              "LinearRegression(copy_X=True, fit_intercept=True, n_jobs=None, normalize=False)"
            ]
          },
          "metadata": {
            "tags": []
          },
          "execution_count": 14
        }
      ]
    },
    {
      "cell_type": "markdown",
      "metadata": {
        "id": "3aicVK_CxImg",
        "colab_type": "text"
      },
      "source": [
        "Prediction"
      ]
    },
    {
      "cell_type": "code",
      "metadata": {
        "id": "fQkSpvWxwjld",
        "colab_type": "code",
        "colab": {
          "base_uri": "https://localhost:8080/",
          "height": 34
        },
        "outputId": "973f2491-f097-4aa2-e027-a4f8015d1df1"
      },
      "source": [
        "pred_y = model.predict(Boston_X)\n",
        "print(Boston_y[0:5], pred_y[0:5])"
      ],
      "execution_count": 15,
      "outputs": [
        {
          "output_type": "stream",
          "text": [
            "[24.  21.6 34.7 33.4 36.2] [30.00384338 25.02556238 30.56759672 28.60703649 27.94352423]\n"
          ],
          "name": "stdout"
        }
      ]
    },
    {
      "cell_type": "markdown",
      "metadata": {
        "id": "F_CsUC4vxObK",
        "colab_type": "text"
      },
      "source": [
        "Performance"
      ]
    },
    {
      "cell_type": "code",
      "metadata": {
        "id": "_KDs9dY6wura",
        "colab_type": "code",
        "colab": {
          "base_uri": "https://localhost:8080/",
          "height": 34
        },
        "outputId": "04db8e0c-9178-4122-d71a-1c9a71d19b31"
      },
      "source": [
        "from sklearn.metrics import mean_squared_error\n",
        "mean_squared_error(Boston_y, pred_y)"
      ],
      "execution_count": 16,
      "outputs": [
        {
          "output_type": "execute_result",
          "data": {
            "text/plain": [
              "21.894831181729202"
            ]
          },
          "metadata": {
            "tags": []
          },
          "execution_count": 16
        }
      ]
    },
    {
      "cell_type": "markdown",
      "metadata": {
        "id": "NUbIt0F0xGle",
        "colab_type": "text"
      },
      "source": [
        "Others: coefficient"
      ]
    },
    {
      "cell_type": "code",
      "metadata": {
        "id": "ovPYRg4Swgf0",
        "colab_type": "code",
        "colab": {
          "base_uri": "https://localhost:8080/",
          "height": 101
        },
        "outputId": "8be7fadf-b79c-4a79-feb8-51a938948b76"
      },
      "source": [
        "print(\"Model slope:    \", model.coef_)\n",
        "print(\"Model intercept:\", model.intercept_)"
      ],
      "execution_count": 17,
      "outputs": [
        {
          "output_type": "stream",
          "text": [
            "Model slope:     [-1.08011358e-01  4.64204584e-02  2.05586264e-02  2.68673382e+00\n",
            " -1.77666112e+01  3.80986521e+00  6.92224640e-04 -1.47556685e+00\n",
            "  3.06049479e-01 -1.23345939e-02 -9.52747232e-01  9.31168327e-03\n",
            " -5.24758378e-01]\n",
            "Model intercept: 36.459488385090125\n"
          ],
          "name": "stdout"
        }
      ]
    },
    {
      "cell_type": "markdown",
      "metadata": {
        "id": "UwSzCLZoxtTg",
        "colab_type": "text"
      },
      "source": [
        "#### Ridge Regression"
      ]
    },
    {
      "cell_type": "code",
      "metadata": {
        "id": "YxLJ_dxN2Jly",
        "colab_type": "code",
        "colab": {
          "base_uri": "https://localhost:8080/",
          "height": 0
        },
        "outputId": "e38d79e9-5640-4dd3-846e-06d907fafda9"
      },
      "source": [
        "from sklearn.linear_model import Ridge\n",
        "model = Ridge(alpha=1, fit_intercept=True)\n",
        "model.fit(Boston_X, Boston_y)\n",
        "\n",
        "pred_y = model.predict(Boston_X)\n",
        "print(Boston_y[0:5], pred_y[0:5])\n",
        "\n",
        "from sklearn.metrics import mean_squared_error\n",
        "mean_squared_error(Boston_y, pred_y)\n",
        "\n",
        "print(\"Model slope:    \", model.coef_)\n",
        "print(\"Model intercept:\", model.intercept_)"
      ],
      "execution_count": 18,
      "outputs": [
        {
          "output_type": "stream",
          "text": [
            "[24.  21.6 34.7 33.4 36.2] [30.25311604 24.80547336 30.53232402 28.91100981 28.1832052 ]\n",
            "Model slope:     [-1.04595278e-01  4.74432243e-02 -8.80467889e-03  2.55239322e+00\n",
            " -1.07770146e+01  3.85400020e+00 -5.41453810e-03 -1.37265353e+00\n",
            "  2.90141589e-01 -1.29116463e-02 -8.76074394e-01  9.67327945e-03\n",
            " -5.33343225e-01]\n",
            "Model intercept: 31.597669818274014\n"
          ],
          "name": "stdout"
        }
      ]
    },
    {
      "cell_type": "markdown",
      "metadata": {
        "id": "VgLhh3EKxyxU",
        "colab_type": "text"
      },
      "source": [
        "#### LASSO Regression"
      ]
    },
    {
      "cell_type": "code",
      "metadata": {
        "id": "fFxMNifCvrTK",
        "colab_type": "code",
        "colab": {
          "base_uri": "https://localhost:8080/",
          "height": 0
        },
        "outputId": "45eab0bb-ded2-4870-d969-1628e06ee7ff"
      },
      "source": [
        "from sklearn.linear_model import Lasso\n",
        "model = Lasso(alpha=1, fit_intercept=True)\n",
        "model.fit(Boston_X, Boston_y)\n",
        "\n",
        "pred_y = model.predict(Boston_X)\n",
        "print(Boston_y[0:5], pred_y[0:5])\n",
        "\n",
        "from sklearn.metrics import mean_squared_error\n",
        "mean_squared_error(Boston_y, pred_y)\n",
        "\n",
        "print(\"Model slope:    \", model.coef_)\n",
        "print(\"Model intercept:\", model.intercept_)"
      ],
      "execution_count": 19,
      "outputs": [
        {
          "output_type": "stream",
          "text": [
            "[24.  21.6 34.7 33.4 36.2] [30.99753918 25.77681736 29.98601449 29.51799813 28.03248999]\n",
            "Model slope:     [-0.06343729  0.04916467 -0.          0.         -0.          0.9498107\n",
            "  0.02090951 -0.66879     0.26420643 -0.01521159 -0.72296636  0.00824703\n",
            " -0.76111454]\n",
            "Model intercept: 41.05693374499337\n"
          ],
          "name": "stdout"
        }
      ]
    },
    {
      "cell_type": "markdown",
      "metadata": {
        "id": "trmNdn7g2He-",
        "colab_type": "text"
      },
      "source": [
        "#### Support Vector Regression"
      ]
    },
    {
      "cell_type": "code",
      "metadata": {
        "id": "K36S9Tu62KEs",
        "colab_type": "code",
        "colab": {
          "base_uri": "https://localhost:8080/",
          "height": 50
        },
        "outputId": "200f7aa5-5520-4c61-c5eb-bd56d39a26cf"
      },
      "source": [
        "from sklearn.svm import SVR\n",
        "model = SVR(kernel='linear')\n",
        "model.fit(Boston_X, Boston_y)\n",
        "\n",
        "pred_y = model.predict(Boston_X)\n",
        "print(Boston_y[0:5], pred_y[0:5])\n",
        "\n",
        "from sklearn.metrics import mean_squared_error\n",
        "mean_squared_error(Boston_y, pred_y)"
      ],
      "execution_count": 20,
      "outputs": [
        {
          "output_type": "stream",
          "text": [
            "[24.  21.6 34.7 33.4 36.2] [28.56399526 23.75502366 29.94992127 28.73447852 28.47978597]\n"
          ],
          "name": "stdout"
        },
        {
          "output_type": "execute_result",
          "data": {
            "text/plain": [
              "25.010132230270592"
            ]
          },
          "metadata": {
            "tags": []
          },
          "execution_count": 20
        }
      ]
    },
    {
      "cell_type": "markdown",
      "metadata": {
        "id": "9O0tsz9Ttk4G",
        "colab_type": "text"
      },
      "source": [
        "### Clustering"
      ]
    },
    {
      "cell_type": "code",
      "metadata": {
        "id": "zh6fLPQO9GuW",
        "colab_type": "code",
        "colab": {}
      },
      "source": [
        "from sklearn.datasets import load_iris\n",
        "Iris = load_iris()\n",
        "\n",
        "Iris_X = Iris.data\n",
        "Iris_y = Iris.target\n",
        "Iris_names = Iris[\"feature_names\"]"
      ],
      "execution_count": 0,
      "outputs": []
    },
    {
      "cell_type": "markdown",
      "metadata": {
        "id": "2i9uFhHJ2xs8",
        "colab_type": "text"
      },
      "source": [
        "#### Kmeans"
      ]
    },
    {
      "cell_type": "code",
      "metadata": {
        "id": "xr7qE2av8zmT",
        "colab_type": "code",
        "colab": {}
      },
      "source": [
        "from sklearn.cluster import KMeans\n",
        "kmeans = KMeans(n_clusters=3)\n",
        "kmeans.fit(Iris_X)\n",
        "\n",
        "y_kmeans = kmeans.predict(Iris_X)"
      ],
      "execution_count": 0,
      "outputs": []
    },
    {
      "cell_type": "code",
      "metadata": {
        "id": "GWMyXKX181dT",
        "colab_type": "code",
        "colab": {
          "base_uri": "https://localhost:8080/",
          "height": 101
        },
        "outputId": "d4a52e19-52de-42a3-dab6-46f7668e8b7b"
      },
      "source": [
        "print(Iris_y)"
      ],
      "execution_count": 23,
      "outputs": [
        {
          "output_type": "stream",
          "text": [
            "[0 0 0 0 0 0 0 0 0 0 0 0 0 0 0 0 0 0 0 0 0 0 0 0 0 0 0 0 0 0 0 0 0 0 0 0 0\n",
            " 0 0 0 0 0 0 0 0 0 0 0 0 0 1 1 1 1 1 1 1 1 1 1 1 1 1 1 1 1 1 1 1 1 1 1 1 1\n",
            " 1 1 1 1 1 1 1 1 1 1 1 1 1 1 1 1 1 1 1 1 1 1 1 1 1 1 2 2 2 2 2 2 2 2 2 2 2\n",
            " 2 2 2 2 2 2 2 2 2 2 2 2 2 2 2 2 2 2 2 2 2 2 2 2 2 2 2 2 2 2 2 2 2 2 2 2 2\n",
            " 2 2]\n"
          ],
          "name": "stdout"
        }
      ]
    },
    {
      "cell_type": "code",
      "metadata": {
        "id": "NclRtAQS8-fP",
        "colab_type": "code",
        "colab": {
          "base_uri": "https://localhost:8080/",
          "height": 101
        },
        "outputId": "14620f8f-a450-4a6a-f38b-609255960d3c"
      },
      "source": [
        "print(y_kmeans)"
      ],
      "execution_count": 24,
      "outputs": [
        {
          "output_type": "stream",
          "text": [
            "[1 1 1 1 1 1 1 1 1 1 1 1 1 1 1 1 1 1 1 1 1 1 1 1 1 1 1 1 1 1 1 1 1 1 1 1 1\n",
            " 1 1 1 1 1 1 1 1 1 1 1 1 1 2 2 0 2 2 2 2 2 2 2 2 2 2 2 2 2 2 2 2 2 2 2 2 2\n",
            " 2 2 2 0 2 2 2 2 2 2 2 2 2 2 2 2 2 2 2 2 2 2 2 2 2 2 0 2 0 0 0 0 2 0 0 0 0\n",
            " 0 0 2 2 0 0 0 0 2 0 2 0 2 0 0 2 2 0 0 0 0 0 2 0 0 0 0 2 0 0 0 2 0 0 0 2 0\n",
            " 0 2]\n"
          ],
          "name": "stdout"
        }
      ]
    },
    {
      "cell_type": "markdown",
      "metadata": {
        "id": "w6CsJSn9tpo7",
        "colab_type": "text"
      },
      "source": [
        "### Model validation"
      ]
    },
    {
      "cell_type": "code",
      "metadata": {
        "id": "adxJUGGa3dKi",
        "colab_type": "code",
        "colab": {}
      },
      "source": [
        "from sklearn.datasets import load_iris\n",
        "Iris = load_iris()\n",
        "\n",
        "Iris_X = Iris.data\n",
        "Iris_y = Iris.target\n",
        "Iris_names = Iris[\"feature_names\"]"
      ],
      "execution_count": 0,
      "outputs": []
    },
    {
      "cell_type": "markdown",
      "metadata": {
        "id": "RO4AfELv23eK",
        "colab_type": "text"
      },
      "source": [
        "#### Split data"
      ]
    },
    {
      "cell_type": "code",
      "metadata": {
        "id": "wTxky2hH3W0h",
        "colab_type": "code",
        "colab": {}
      },
      "source": [
        "from sklearn.model_selection import train_test_split\n",
        "X_train, X_test, y_train, y_test = train_test_split(Iris_X, Iris_y,   # 放 X & y\n",
        "                                                    random_state=1)   # 固定 random seed"
      ],
      "execution_count": 0,
      "outputs": []
    },
    {
      "cell_type": "markdown",
      "metadata": {
        "id": "9F3IT3xQ27lO",
        "colab_type": "text"
      },
      "source": [
        "#### Cross variation\n",
        "```\n",
        "較舊的版本: from sklearn.cross_validation import cross_val_score    \n",
        "較新的版本: from sklearn.model_selection import cross_val_score\n",
        "```"
      ]
    },
    {
      "cell_type": "code",
      "metadata": {
        "id": "EGdOqpX75gWw",
        "colab_type": "code",
        "colab": {
          "base_uri": "https://localhost:8080/",
          "height": 34
        },
        "outputId": "6e3c55d0-83c7-40bd-ff83-eadd50549e33"
      },
      "source": [
        "from sklearn.svm import SVC                                # 使用 SVM 做訓練\n",
        "model = SVC(kernel='rbf')\n",
        "\n",
        "from sklearn.model_selection import cross_val_score\n",
        "cross_val_score(model,                                     # 放模型方法, ex. SVM\n",
        "                Iris_X, Iris_y,                            # 放 X & y\n",
        "                cv=5,                                      # 跑 5cv\n",
        "                scoring='neg_mean_squared_error')          # 計算每次的 -MSE"
      ],
      "execution_count": 27,
      "outputs": [
        {
          "output_type": "execute_result",
          "data": {
            "text/plain": [
              "array([-0.03333333, -0.        , -0.03333333, -0.03333333, -0.        ])"
            ]
          },
          "metadata": {
            "tags": []
          },
          "execution_count": 27
        }
      ]
    },
    {
      "cell_type": "markdown",
      "metadata": {
        "id": "iz24xrwG3Ckx",
        "colab_type": "text"
      },
      "source": [
        "#### Leave one out"
      ]
    },
    {
      "cell_type": "code",
      "metadata": {
        "id": "0aE_pS4_3GFA",
        "colab_type": "code",
        "colab": {}
      },
      "source": [
        "from sklearn.svm import SVC                                # 使用 SVM 做訓練\n",
        "model = SVC(kernel='rbf')\n",
        "\n",
        "from sklearn.model_selection import LeaveOneOut\n",
        "\n",
        "loo = LeaveOneOut()                                        # 生成每次 trian 和 test 的 row id\n",
        "for train_row, test_row in loo.split(Iris_X):\n",
        "    X_train = Iris_X[train_row,:]\n",
        "    y_train = Iris_y[train_row]\n",
        "    X_test  = Iris_X[test_row,:]\n",
        "    y_test  = Iris_y[test_row]\n",
        "    \n",
        "    model.fit(X_train, y_train)                             # 訓練當次模型\n",
        "    y_test_model = model.predict(X_test)                    # 預測當次 test 結果\n"
      ],
      "execution_count": 0,
      "outputs": []
    },
    {
      "cell_type": "markdown",
      "metadata": {
        "id": "Tf9oJJONv9Ec",
        "colab_type": "text"
      },
      "source": [
        "#### Grid Search"
      ]
    },
    {
      "cell_type": "markdown",
      "metadata": {
        "id": "96ojsGwkt6dk",
        "colab_type": "text"
      },
      "source": [
        "### Principal Component Analysis"
      ]
    },
    {
      "cell_type": "code",
      "metadata": {
        "id": "90-s2UVe9ZeU",
        "colab_type": "code",
        "colab": {}
      },
      "source": [
        "from sklearn.datasets import load_breast_cancer\n",
        "Breast = load_breast_cancer()\n",
        "\n",
        "Breast_X = Breast.data\n",
        "Breast_y = Breast.target\n",
        "Breast_names = Breast[\"feature_names\"]"
      ],
      "execution_count": 0,
      "outputs": []
    },
    {
      "cell_type": "code",
      "metadata": {
        "id": "x7ugJpyN9Jz8",
        "colab_type": "code",
        "colab": {
          "base_uri": "https://localhost:8080/",
          "height": 50
        },
        "outputId": "25a7101e-7f48-4b72-b3ef-83ec9a009068"
      },
      "source": [
        "from sklearn.decomposition import PCA\n",
        "pca = PCA(n_components=2)\n",
        "pca.fit(Breast_X)"
      ],
      "execution_count": 30,
      "outputs": [
        {
          "output_type": "execute_result",
          "data": {
            "text/plain": [
              "PCA(copy=True, iterated_power='auto', n_components=2, random_state=None,\n",
              "    svd_solver='auto', tol=0.0, whiten=False)"
            ]
          },
          "metadata": {
            "tags": []
          },
          "execution_count": 30
        }
      ]
    },
    {
      "cell_type": "code",
      "metadata": {
        "id": "0uNda5dt9vk_",
        "colab_type": "code",
        "colab": {
          "base_uri": "https://localhost:8080/",
          "height": 34
        },
        "outputId": "70436f30-1794-4c8c-bbc5-7bd44056119e"
      },
      "source": [
        "print(pca.explained_variance_ratio_)"
      ],
      "execution_count": 31,
      "outputs": [
        {
          "output_type": "stream",
          "text": [
            "[0.98204467 0.01617649]\n"
          ],
          "name": "stdout"
        }
      ]
    },
    {
      "cell_type": "code",
      "metadata": {
        "id": "ipxMMheo9PA3",
        "colab_type": "code",
        "colab": {
          "base_uri": "https://localhost:8080/",
          "height": 286
        },
        "outputId": "259885ab-5670-414b-b011-82f12248f29e"
      },
      "source": [
        "print(pca.components_)"
      ],
      "execution_count": 32,
      "outputs": [
        {
          "output_type": "stream",
          "text": [
            "[[ 5.08623202e-03  2.19657026e-03  3.50763298e-02  5.16826469e-01\n",
            "   4.23694535e-06  4.05260047e-05  8.19399539e-05  4.77807775e-05\n",
            "   7.07804332e-06 -2.62155251e-06  3.13742507e-04 -6.50984008e-05\n",
            "   2.23634150e-03  5.57271669e-02 -8.05646029e-07  5.51918197e-06\n",
            "   8.87094462e-06  3.27915009e-06 -1.24101836e-06 -8.54530832e-08\n",
            "   7.15473257e-03  3.06736622e-03  4.94576447e-02  8.52063392e-01\n",
            "   6.42005481e-06  1.01275937e-04  1.68928625e-04  7.36658178e-05\n",
            "   1.78986262e-05  1.61356159e-06]\n",
            " [ 9.28705650e-03 -2.88160658e-03  6.27480827e-02  8.51823720e-01\n",
            "  -1.48194356e-05 -2.68862249e-06  7.51419574e-05  4.63501038e-05\n",
            "  -2.52430431e-05 -1.61197148e-05 -5.38692831e-05  3.48370414e-04\n",
            "   8.19640791e-04  7.51112451e-03  1.49438131e-06  1.27357957e-05\n",
            "   2.86921009e-05  9.36007477e-06  1.22647432e-05  2.89683790e-07\n",
            "  -5.68673345e-04 -1.32152605e-02 -1.85961117e-04 -5.19742358e-01\n",
            "  -7.68565692e-05 -2.56104144e-04 -1.75471479e-04 -3.05051743e-05\n",
            "  -1.57042845e-04 -5.53071662e-05]]\n"
          ],
          "name": "stdout"
        }
      ]
    },
    {
      "cell_type": "code",
      "metadata": {
        "id": "0uZzV2uv9PMK",
        "colab_type": "code",
        "colab": {
          "base_uri": "https://localhost:8080/",
          "height": 101
        },
        "outputId": "17a0bec8-5d1f-4aed-d7f7-c1970b21bb95"
      },
      "source": [
        "X_pca = pca.transform(Breast_X)\n",
        "print(X_pca[0:5])"
      ],
      "execution_count": 33,
      "outputs": [
        {
          "output_type": "stream",
          "text": [
            "[[1160.1425737  -293.91754364]\n",
            " [1269.12244319   15.63018184]\n",
            " [ 995.79388896   39.15674324]\n",
            " [-407.18080253  -67.38031982]\n",
            " [ 930.34118015  189.34074158]]\n"
          ],
          "name": "stdout"
        }
      ]
    }
  ]
}