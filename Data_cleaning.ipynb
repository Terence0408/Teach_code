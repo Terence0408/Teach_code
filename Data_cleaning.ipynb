{
  "nbformat": 4,
  "nbformat_minor": 0,
  "metadata": {
    "colab": {
      "name": "Data cleaning",
      "provenance": [],
      "collapsed_sections": [],
      "toc_visible": true,
      "include_colab_link": true
    },
    "kernelspec": {
      "name": "python3",
      "display_name": "Python 3"
    }
  },
  "cells": [
    {
      "cell_type": "markdown",
      "metadata": {
        "id": "view-in-github",
        "colab_type": "text"
      },
      "source": [
        "<a href=\"https://colab.research.google.com/github/Terence0408/Teach_code/blob/master/Data_cleaning.ipynb\" target=\"_parent\"><img src=\"https://colab.research.google.com/assets/colab-badge.svg\" alt=\"Open In Colab\"/></a>"
      ]
    },
    {
      "cell_type": "markdown",
      "metadata": {
        "id": "enIAcEysLbyx",
        "colab_type": "text"
      },
      "source": [
        "# Numpy"
      ]
    },
    {
      "cell_type": "code",
      "metadata": {
        "id": "xmSqmt5QLa0N",
        "colab_type": "code",
        "colab": {}
      },
      "source": [
        "import numpy as np"
      ],
      "execution_count": 0,
      "outputs": []
    },
    {
      "cell_type": "markdown",
      "metadata": {
        "id": "Bv7CrZEfvd4g",
        "colab_type": "text"
      },
      "source": [
        "#### List to numpy array"
      ]
    },
    {
      "cell_type": "code",
      "metadata": {
        "id": "MB9lmQIFydVf",
        "colab_type": "code",
        "outputId": "93dd4e0c-0af3-47c5-c197-5df67a14645a",
        "colab": {
          "base_uri": "https://localhost:8080/",
          "height": 52
        }
      },
      "source": [
        "xx = [1,2,3,4,5,6,7,8,9,10,11,12]\n",
        "\n",
        "nparray = np.array(xx, dtype=np.float32)\n",
        "nparray"
      ],
      "execution_count": 0,
      "outputs": [
        {
          "output_type": "execute_result",
          "data": {
            "text/plain": [
              "array([ 1.,  2.,  3.,  4.,  5.,  6.,  7.,  8.,  9., 10., 11., 12.],\n",
              "      dtype=float32)"
            ]
          },
          "metadata": {
            "tags": []
          },
          "execution_count": 2
        }
      ]
    },
    {
      "cell_type": "code",
      "metadata": {
        "id": "09xcQyWIyy1O",
        "colab_type": "code",
        "outputId": "175e0e48-d115-4033-e5be-a9885c02ded4",
        "colab": {
          "base_uri": "https://localhost:8080/",
          "height": 35
        }
      },
      "source": [
        "nparray.shape"
      ],
      "execution_count": 0,
      "outputs": [
        {
          "output_type": "execute_result",
          "data": {
            "text/plain": [
              "(12,)"
            ]
          },
          "metadata": {
            "tags": []
          },
          "execution_count": 3
        }
      ]
    },
    {
      "cell_type": "markdown",
      "metadata": {
        "id": "B_DicjlOwzMW",
        "colab_type": "text"
      },
      "source": [
        "#### Reshape"
      ]
    },
    {
      "cell_type": "code",
      "metadata": {
        "id": "MCMs6HVbydAa",
        "colab_type": "code",
        "outputId": "c27ea613-7257-46df-db64-6cdbbc0798ea",
        "colab": {
          "base_uri": "https://localhost:8080/",
          "height": 87
        }
      },
      "source": [
        "nparray = nparray.reshape((4, 3))\n",
        "nparray"
      ],
      "execution_count": 0,
      "outputs": [
        {
          "output_type": "execute_result",
          "data": {
            "text/plain": [
              "array([[ 1.,  2.,  3.],\n",
              "       [ 4.,  5.,  6.],\n",
              "       [ 7.,  8.,  9.],\n",
              "       [10., 11., 12.]], dtype=float32)"
            ]
          },
          "metadata": {
            "tags": []
          },
          "execution_count": 4
        }
      ]
    },
    {
      "cell_type": "markdown",
      "metadata": {
        "id": "J6Ef3y5-vk4t",
        "colab_type": "text"
      },
      "source": [
        "#### Create numpy array"
      ]
    },
    {
      "cell_type": "code",
      "metadata": {
        "id": "u7e9JYMOzqJh",
        "colab_type": "code",
        "outputId": "efadb1cd-532e-4422-ccd5-43b607151d5a",
        "colab": {
          "base_uri": "https://localhost:8080/",
          "height": 87
        }
      },
      "source": [
        "zeroarray = np.zeros((4, 3), dtype=np.float32)\n",
        "zeroarray"
      ],
      "execution_count": 0,
      "outputs": [
        {
          "output_type": "execute_result",
          "data": {
            "text/plain": [
              "array([[0., 0., 0.],\n",
              "       [0., 0., 0.],\n",
              "       [0., 0., 0.],\n",
              "       [0., 0., 0.]], dtype=float32)"
            ]
          },
          "metadata": {
            "tags": []
          },
          "execution_count": 5
        }
      ]
    },
    {
      "cell_type": "code",
      "metadata": {
        "id": "1NhTKIvN0JQh",
        "colab_type": "code",
        "outputId": "d72c4039-3be6-4ef2-9ed9-204f17444343",
        "colab": {
          "base_uri": "https://localhost:8080/",
          "height": 87
        }
      },
      "source": [
        "onearray = np.ones((4, 3), dtype=np.float32)\n",
        "onearray"
      ],
      "execution_count": 0,
      "outputs": [
        {
          "output_type": "execute_result",
          "data": {
            "text/plain": [
              "array([[1., 1., 1.],\n",
              "       [1., 1., 1.],\n",
              "       [1., 1., 1.],\n",
              "       [1., 1., 1.]], dtype=float32)"
            ]
          },
          "metadata": {
            "tags": []
          },
          "execution_count": 6
        }
      ]
    },
    {
      "cell_type": "markdown",
      "metadata": {
        "id": "118tE6QazL6P",
        "colab_type": "text"
      },
      "source": [
        "#### Array 矩陣處理"
      ]
    },
    {
      "cell_type": "markdown",
      "metadata": {
        "id": "xHH_6-4p8uQz",
        "colab_type": "text"
      },
      "source": [
        "##### Select and change value"
      ]
    },
    {
      "cell_type": "markdown",
      "metadata": {
        "id": "blrYjsRNxdOL",
        "colab_type": "text"
      },
      "source": [
        "###### Elements"
      ]
    },
    {
      "cell_type": "code",
      "metadata": {
        "id": "qP9DclJ44jMm",
        "colab_type": "code",
        "outputId": "43670364-f6e6-4ab7-df7b-b4dbc508cfda",
        "colab": {
          "base_uri": "https://localhost:8080/",
          "height": 87
        }
      },
      "source": [
        "nparray[0,0] = 0\n",
        "nparray[1,1] = 0\n",
        "nparray[2,2] = 0\n",
        "\n",
        "nparray"
      ],
      "execution_count": 0,
      "outputs": [
        {
          "output_type": "execute_result",
          "data": {
            "text/plain": [
              "array([[ 0.,  2.,  3.],\n",
              "       [ 4.,  0.,  6.],\n",
              "       [ 7.,  8.,  0.],\n",
              "       [10., 11., 12.]], dtype=float32)"
            ]
          },
          "metadata": {
            "tags": []
          },
          "execution_count": 7
        }
      ]
    },
    {
      "cell_type": "markdown",
      "metadata": {
        "id": "JU3Evj8PxfI3",
        "colab_type": "text"
      },
      "source": [
        "###### Subarray"
      ]
    },
    {
      "cell_type": "code",
      "metadata": {
        "id": "RDSMpgx78EH1",
        "colab_type": "code",
        "outputId": "99559a0c-24d4-4440-afb2-815ca0349f3b",
        "colab": {
          "base_uri": "https://localhost:8080/",
          "height": 69
        }
      },
      "source": [
        "nparray[0:3,0:3]"
      ],
      "execution_count": 0,
      "outputs": [
        {
          "output_type": "execute_result",
          "data": {
            "text/plain": [
              "array([[0., 2., 3.],\n",
              "       [4., 0., 6.],\n",
              "       [7., 8., 0.]], dtype=float32)"
            ]
          },
          "metadata": {
            "tags": []
          },
          "execution_count": 8
        }
      ]
    },
    {
      "cell_type": "code",
      "metadata": {
        "id": "0LdchxxZ8PQf",
        "colab_type": "code",
        "outputId": "b7bcfa6a-8cbc-459f-c4c7-b4d48b1c7543",
        "colab": {
          "base_uri": "https://localhost:8080/",
          "height": 87
        }
      },
      "source": [
        "nparray[0:3,0:3]=[[1,2,3],\n",
        "                  [4,5,6],\n",
        "                  [7,8,9]]\n",
        "nparray"
      ],
      "execution_count": 0,
      "outputs": [
        {
          "output_type": "execute_result",
          "data": {
            "text/plain": [
              "array([[ 1.,  2.,  3.],\n",
              "       [ 4.,  5.,  6.],\n",
              "       [ 7.,  8.,  9.],\n",
              "       [10., 11., 12.]], dtype=float32)"
            ]
          },
          "metadata": {
            "tags": []
          },
          "execution_count": 9
        }
      ]
    },
    {
      "cell_type": "markdown",
      "metadata": {
        "id": "Xil4gjaH3s_B",
        "colab_type": "text"
      },
      "source": [
        "##### Arithmetic"
      ]
    },
    {
      "cell_type": "code",
      "metadata": {
        "id": "ydw-Ts-J47Jc",
        "colab_type": "code",
        "outputId": "07452150-1be9-40c0-b600-b240f91caa6f",
        "colab": {
          "base_uri": "https://localhost:8080/",
          "height": 87
        }
      },
      "source": [
        "np.add(nparray, 2)"
      ],
      "execution_count": 0,
      "outputs": [
        {
          "output_type": "execute_result",
          "data": {
            "text/plain": [
              "array([[ 3.,  4.,  5.],\n",
              "       [ 6.,  7.,  8.],\n",
              "       [ 9., 10., 11.],\n",
              "       [12., 13., 14.]], dtype=float32)"
            ]
          },
          "metadata": {
            "tags": []
          },
          "execution_count": 10
        }
      ]
    },
    {
      "cell_type": "code",
      "metadata": {
        "id": "yUnsuV3Q7iCv",
        "colab_type": "code",
        "outputId": "6a73a2f5-865e-4010-9d51-96f35613449e",
        "colab": {
          "base_uri": "https://localhost:8080/",
          "height": 87
        }
      },
      "source": [
        "np.add(nparray, onearray)"
      ],
      "execution_count": 0,
      "outputs": [
        {
          "output_type": "execute_result",
          "data": {
            "text/plain": [
              "array([[ 2.,  3.,  4.],\n",
              "       [ 5.,  6.,  7.],\n",
              "       [ 8.,  9., 10.],\n",
              "       [11., 12., 13.]], dtype=float32)"
            ]
          },
          "metadata": {
            "tags": []
          },
          "execution_count": 11
        }
      ]
    },
    {
      "cell_type": "code",
      "metadata": {
        "id": "iw8FQ5jU7egP",
        "colab_type": "code",
        "outputId": "2250d7e9-92d9-455d-ead3-f548074df64c",
        "colab": {
          "base_uri": "https://localhost:8080/",
          "height": 87
        }
      },
      "source": [
        "np.multiply(nparray, nparray)"
      ],
      "execution_count": 0,
      "outputs": [
        {
          "output_type": "execute_result",
          "data": {
            "text/plain": [
              "array([[  1.,   4.,   9.],\n",
              "       [ 16.,  25.,  36.],\n",
              "       [ 49.,  64.,  81.],\n",
              "       [100., 121., 144.]], dtype=float32)"
            ]
          },
          "metadata": {
            "tags": []
          },
          "execution_count": 12
        }
      ]
    },
    {
      "cell_type": "code",
      "metadata": {
        "id": "5QQxgzSf5Vp_",
        "colab_type": "code",
        "outputId": "bb6168e7-b839-4e4b-bf04-92d6e3d674d5",
        "colab": {
          "base_uri": "https://localhost:8080/",
          "height": 87
        }
      },
      "source": [
        "np.mod(nparray, 2)"
      ],
      "execution_count": 0,
      "outputs": [
        {
          "output_type": "execute_result",
          "data": {
            "text/plain": [
              "array([[1., 0., 1.],\n",
              "       [0., 1., 0.],\n",
              "       [1., 0., 1.],\n",
              "       [0., 1., 0.]], dtype=float32)"
            ]
          },
          "metadata": {
            "tags": []
          },
          "execution_count": 13
        }
      ]
    },
    {
      "cell_type": "markdown",
      "metadata": {
        "id": "mC0NKYSAxhy5",
        "colab_type": "text"
      },
      "source": [
        "##### Concatenate"
      ]
    },
    {
      "cell_type": "code",
      "metadata": {
        "id": "4haFIHU69jxl",
        "colab_type": "code",
        "outputId": "6d603400-fdee-40d8-b134-12e082a937c0",
        "colab": {
          "base_uri": "https://localhost:8080/",
          "height": 87
        }
      },
      "source": [
        "np.concatenate((nparray, nparray), axis=1)\n"
      ],
      "execution_count": 0,
      "outputs": [
        {
          "output_type": "execute_result",
          "data": {
            "text/plain": [
              "array([[ 1.,  2.,  3.,  1.,  2.,  3.],\n",
              "       [ 4.,  5.,  6.,  4.,  5.,  6.],\n",
              "       [ 7.,  8.,  9.,  7.,  8.,  9.],\n",
              "       [10., 11., 12., 10., 11., 12.]], dtype=float32)"
            ]
          },
          "metadata": {
            "tags": []
          },
          "execution_count": 14
        }
      ]
    },
    {
      "cell_type": "code",
      "metadata": {
        "id": "xlZVB8-gHw2J",
        "colab_type": "code",
        "outputId": "fb1698e7-8abc-41e1-fdce-f4226f8033bf",
        "colab": {
          "base_uri": "https://localhost:8080/",
          "height": 156
        }
      },
      "source": [
        "np.concatenate((nparray, nparray), axis=0)"
      ],
      "execution_count": 0,
      "outputs": [
        {
          "output_type": "execute_result",
          "data": {
            "text/plain": [
              "array([[ 1.,  2.,  3.],\n",
              "       [ 4.,  5.,  6.],\n",
              "       [ 7.,  8.,  9.],\n",
              "       [10., 11., 12.],\n",
              "       [ 1.,  2.,  3.],\n",
              "       [ 4.,  5.,  6.],\n",
              "       [ 7.,  8.,  9.],\n",
              "       [10., 11., 12.]], dtype=float32)"
            ]
          },
          "metadata": {
            "tags": []
          },
          "execution_count": 15
        }
      ]
    },
    {
      "cell_type": "markdown",
      "metadata": {
        "id": "PWr23EBCzcL3",
        "colab_type": "text"
      },
      "source": [
        "##### Aggregate"
      ]
    },
    {
      "cell_type": "markdown",
      "metadata": {
        "id": "QshMukTc24Z7",
        "colab_type": "text"
      },
      "source": [
        "##### 整體"
      ]
    },
    {
      "cell_type": "code",
      "metadata": {
        "id": "K5YJam1bKVCG",
        "colab_type": "code",
        "outputId": "225aecd2-1753-43b8-b095-db10e0c2fcc1",
        "colab": {
          "base_uri": "https://localhost:8080/",
          "height": 35
        }
      },
      "source": [
        "np.median(nparray)"
      ],
      "execution_count": 0,
      "outputs": [
        {
          "output_type": "execute_result",
          "data": {
            "text/plain": [
              "6.5"
            ]
          },
          "metadata": {
            "tags": []
          },
          "execution_count": 16
        }
      ]
    },
    {
      "cell_type": "code",
      "metadata": {
        "id": "Ez1IjfMmJJXQ",
        "colab_type": "code",
        "outputId": "04e58655-97a9-41bf-8cc9-c2cc6ae7b94c",
        "colab": {
          "base_uri": "https://localhost:8080/",
          "height": 35
        }
      },
      "source": [
        "nparray.sum()"
      ],
      "execution_count": 0,
      "outputs": [
        {
          "output_type": "execute_result",
          "data": {
            "text/plain": [
              "78.0"
            ]
          },
          "metadata": {
            "tags": []
          },
          "execution_count": 17
        }
      ]
    },
    {
      "cell_type": "code",
      "metadata": {
        "id": "BCxbU3F6IzAa",
        "colab_type": "code",
        "outputId": "47cd1d01-032c-4a43-b173-fc50405e2cd8",
        "colab": {
          "base_uri": "https://localhost:8080/",
          "height": 35
        }
      },
      "source": [
        "nparray.max()"
      ],
      "execution_count": 0,
      "outputs": [
        {
          "output_type": "execute_result",
          "data": {
            "text/plain": [
              "12.0"
            ]
          },
          "metadata": {
            "tags": []
          },
          "execution_count": 18
        }
      ]
    },
    {
      "cell_type": "markdown",
      "metadata": {
        "id": "F-qGkVak3-FO",
        "colab_type": "text"
      },
      "source": [
        "##### 各行列統計量"
      ]
    },
    {
      "cell_type": "code",
      "metadata": {
        "id": "Q5SGsybeI0bI",
        "colab_type": "code",
        "outputId": "f099eef7-6285-425f-c9d4-b664cf323df5",
        "colab": {
          "base_uri": "https://localhost:8080/",
          "height": 35
        }
      },
      "source": [
        "nparray.max(axis=0)"
      ],
      "execution_count": 0,
      "outputs": [
        {
          "output_type": "execute_result",
          "data": {
            "text/plain": [
              "array([10., 11., 12.], dtype=float32)"
            ]
          },
          "metadata": {
            "tags": []
          },
          "execution_count": 19
        }
      ]
    },
    {
      "cell_type": "code",
      "metadata": {
        "id": "NTR1JTamI2DP",
        "colab_type": "code",
        "outputId": "02f4d6ba-3741-49aa-9f7e-f8d9ce350257",
        "colab": {
          "base_uri": "https://localhost:8080/",
          "height": 35
        }
      },
      "source": [
        "nparray.max(axis=1)"
      ],
      "execution_count": 0,
      "outputs": [
        {
          "output_type": "execute_result",
          "data": {
            "text/plain": [
              "array([ 3.,  6.,  9., 12.], dtype=float32)"
            ]
          },
          "metadata": {
            "tags": []
          },
          "execution_count": 20
        }
      ]
    },
    {
      "cell_type": "code",
      "metadata": {
        "id": "zDgymg2LJvHT",
        "colab_type": "code",
        "outputId": "a854040f-f9c9-4cae-d5f3-f01d19032422",
        "colab": {
          "base_uri": "https://localhost:8080/",
          "height": 35
        }
      },
      "source": [
        "nparray.argmax(axis=0)"
      ],
      "execution_count": 0,
      "outputs": [
        {
          "output_type": "execute_result",
          "data": {
            "text/plain": [
              "array([3, 3, 3])"
            ]
          },
          "metadata": {
            "tags": []
          },
          "execution_count": 21
        }
      ]
    },
    {
      "cell_type": "code",
      "metadata": {
        "id": "iE-8No8dJ55T",
        "colab_type": "code",
        "outputId": "98a07f26-b21f-44d0-d94b-ef464bc0f909",
        "colab": {
          "base_uri": "https://localhost:8080/",
          "height": 35
        }
      },
      "source": [
        "nparray.argmax(axis=1)"
      ],
      "execution_count": 0,
      "outputs": [
        {
          "output_type": "execute_result",
          "data": {
            "text/plain": [
              "array([2, 2, 2, 2])"
            ]
          },
          "metadata": {
            "tags": []
          },
          "execution_count": 22
        }
      ]
    },
    {
      "cell_type": "markdown",
      "metadata": {
        "id": "7ycWsfqLMbbz",
        "colab_type": "text"
      },
      "source": [
        "# SQL"
      ]
    },
    {
      "cell_type": "markdown",
      "metadata": {
        "id": "yCLSrEgjRlxt",
        "colab_type": "text"
      },
      "source": [
        "#### 連接到資料庫"
      ]
    },
    {
      "cell_type": "markdown",
      "metadata": {
        "id": "XR33Z91-Wwmn",
        "colab_type": "text"
      },
      "source": [
        "##### 連接到 MySQL"
      ]
    },
    {
      "cell_type": "code",
      "metadata": {
        "id": "IWp-YF7CXB4S",
        "colab_type": "code",
        "outputId": "56466391-ee35-4a35-bd20-90450e740dae",
        "colab": {
          "base_uri": "https://localhost:8080/",
          "height": 72
        }
      },
      "source": [
        "!pip install -q mysql-python"
      ],
      "execution_count": 0,
      "outputs": [
        {
          "output_type": "stream",
          "text": [
            "\u001b[?25l\r\u001b[K     |███                             | 10kB 17.2MB/s eta 0:00:01\r\u001b[K     |██████                          | 20kB 3.3MB/s eta 0:00:01\r\u001b[K     |█████████                       | 30kB 4.7MB/s eta 0:00:01\r\u001b[K     |████████████                    | 40kB 3.0MB/s eta 0:00:01\r\u001b[K     |███████████████                 | 51kB 3.7MB/s eta 0:00:01\r\u001b[K     |██████████████████              | 61kB 4.4MB/s eta 0:00:01\r\u001b[K     |█████████████████████           | 71kB 5.0MB/s eta 0:00:01\r\u001b[K     |████████████████████████        | 81kB 5.6MB/s eta 0:00:01\r\u001b[K     |███████████████████████████     | 92kB 6.3MB/s eta 0:00:01\r\u001b[K     |██████████████████████████████  | 102kB 5.0MB/s eta 0:00:01\r\u001b[K     |████████████████████████████████| 112kB 5.0MB/s \n",
            "\u001b[31mERROR: Command errored out with exit status 1: python setup.py egg_info Check the logs for full command output.\u001b[0m\n",
            "\u001b[?25h"
          ],
          "name": "stdout"
        }
      ]
    },
    {
      "cell_type": "code",
      "metadata": {
        "id": "vsmKjP3DWxEF",
        "colab_type": "code",
        "outputId": "b395db51-cd20-4ebb-9535-c843b16188fd",
        "colab": {
          "base_uri": "https://localhost:8080/",
          "height": 339
        }
      },
      "source": [
        "import MySQLdb\n",
        "conn = MySQLdb.connect(host=\"localhost\", db=\"db_name\", user=\"db_user\", passwd=\"db_pass\")\n",
        "cur = conn.cursor()"
      ],
      "execution_count": 0,
      "outputs": [
        {
          "output_type": "error",
          "ename": "ModuleNotFoundError",
          "evalue": "ignored",
          "traceback": [
            "\u001b[0;31m---------------------------------------------------------------------------\u001b[0m",
            "\u001b[0;31mModuleNotFoundError\u001b[0m                       Traceback (most recent call last)",
            "\u001b[0;32m<ipython-input-24-d62f07ca2fed>\u001b[0m in \u001b[0;36m<module>\u001b[0;34m()\u001b[0m\n\u001b[0;32m----> 1\u001b[0;31m \u001b[0;32mimport\u001b[0m \u001b[0mMySQLdb\u001b[0m\u001b[0;34m\u001b[0m\u001b[0;34m\u001b[0m\u001b[0m\n\u001b[0m\u001b[1;32m      2\u001b[0m \u001b[0mconn\u001b[0m \u001b[0;34m=\u001b[0m \u001b[0mMySQLdb\u001b[0m\u001b[0;34m.\u001b[0m\u001b[0mconnect\u001b[0m\u001b[0;34m(\u001b[0m\u001b[0mhost\u001b[0m\u001b[0;34m=\u001b[0m\u001b[0;34m\"localhost\"\u001b[0m\u001b[0;34m,\u001b[0m \u001b[0mdb\u001b[0m\u001b[0;34m=\u001b[0m\u001b[0;34m\"db_name\"\u001b[0m\u001b[0;34m,\u001b[0m \u001b[0muser\u001b[0m\u001b[0;34m=\u001b[0m\u001b[0;34m\"db_user\"\u001b[0m\u001b[0;34m,\u001b[0m \u001b[0mpasswd\u001b[0m\u001b[0;34m=\u001b[0m\u001b[0;34m\"db_pass\"\u001b[0m\u001b[0;34m)\u001b[0m\u001b[0;34m\u001b[0m\u001b[0;34m\u001b[0m\u001b[0m\n\u001b[1;32m      3\u001b[0m \u001b[0mcur\u001b[0m \u001b[0;34m=\u001b[0m \u001b[0mconn\u001b[0m\u001b[0;34m.\u001b[0m\u001b[0mcursor\u001b[0m\u001b[0;34m(\u001b[0m\u001b[0;34m)\u001b[0m\u001b[0;34m\u001b[0m\u001b[0;34m\u001b[0m\u001b[0m\n",
            "\u001b[0;31mModuleNotFoundError\u001b[0m: No module named 'MySQLdb'",
            "",
            "\u001b[0;31m---------------------------------------------------------------------------\u001b[0;32m\nNOTE: If your import is failing due to a missing package, you can\nmanually install dependencies using either !pip or !apt.\n\nTo view examples of installing some common dependencies, click the\n\"Open Examples\" button below.\n\u001b[0;31m---------------------------------------------------------------------------\u001b[0m\n"
          ]
        }
      ]
    },
    {
      "cell_type": "markdown",
      "metadata": {
        "id": "8AUz8-hrRaqj",
        "colab_type": "text"
      },
      "source": [
        "##### 連接到 postgreSQL"
      ]
    },
    {
      "cell_type": "code",
      "metadata": {
        "id": "x-YNc5TtSajq",
        "colab_type": "code",
        "colab": {}
      },
      "source": [
        "!pip install -q psycopg2"
      ],
      "execution_count": 0,
      "outputs": []
    },
    {
      "cell_type": "code",
      "metadata": {
        "id": "_IRfR4hsRaJ4",
        "colab_type": "code",
        "outputId": "e9fff259-ba63-4bab-ea45-c3a243144b4a",
        "colab": {
          "base_uri": "https://localhost:8080/",
          "height": 481
        }
      },
      "source": [
        "import psycopg2\n",
        "conn = psycopg2.connect(\"host=localhost dbname=example user=postgres\")\n",
        "conn.autocommit = True \n",
        "cur = conn.cursor()"
      ],
      "execution_count": 0,
      "outputs": [
        {
          "output_type": "stream",
          "text": [
            "/usr/local/lib/python3.6/dist-packages/psycopg2/__init__.py:144: UserWarning: The psycopg2 wheel package will be renamed from release 2.8; in order to keep installing from binary please use \"pip install psycopg2-binary\" instead. For details see: <http://initd.org/psycopg/docs/install.html#binary-install-from-pypi>.\n",
            "  \"\"\")\n"
          ],
          "name": "stderr"
        },
        {
          "output_type": "error",
          "ename": "OperationalError",
          "evalue": "ignored",
          "traceback": [
            "\u001b[0;31m---------------------------------------------------------------------------\u001b[0m",
            "\u001b[0;31mOperationalError\u001b[0m                          Traceback (most recent call last)",
            "\u001b[0;32m<ipython-input-26-82548ed77ce6>\u001b[0m in \u001b[0;36m<module>\u001b[0;34m()\u001b[0m\n\u001b[1;32m      1\u001b[0m \u001b[0;32mimport\u001b[0m \u001b[0mpsycopg2\u001b[0m\u001b[0;34m\u001b[0m\u001b[0;34m\u001b[0m\u001b[0m\n\u001b[0;32m----> 2\u001b[0;31m \u001b[0mconn\u001b[0m \u001b[0;34m=\u001b[0m \u001b[0mpsycopg2\u001b[0m\u001b[0;34m.\u001b[0m\u001b[0mconnect\u001b[0m\u001b[0;34m(\u001b[0m\u001b[0;34m\"host=localhost dbname=example user=postgres\"\u001b[0m\u001b[0;34m)\u001b[0m\u001b[0;34m\u001b[0m\u001b[0;34m\u001b[0m\u001b[0m\n\u001b[0m\u001b[1;32m      3\u001b[0m \u001b[0mconn\u001b[0m\u001b[0;34m.\u001b[0m\u001b[0mautocommit\u001b[0m \u001b[0;34m=\u001b[0m \u001b[0;32mTrue\u001b[0m\u001b[0;34m\u001b[0m\u001b[0;34m\u001b[0m\u001b[0m\n\u001b[1;32m      4\u001b[0m \u001b[0mcur\u001b[0m \u001b[0;34m=\u001b[0m \u001b[0mconn\u001b[0m\u001b[0;34m.\u001b[0m\u001b[0mcursor\u001b[0m\u001b[0;34m(\u001b[0m\u001b[0;34m)\u001b[0m\u001b[0;34m\u001b[0m\u001b[0;34m\u001b[0m\u001b[0m\n",
            "\u001b[0;32m/usr/local/lib/python3.6/dist-packages/psycopg2/__init__.py\u001b[0m in \u001b[0;36mconnect\u001b[0;34m(dsn, connection_factory, cursor_factory, **kwargs)\u001b[0m\n\u001b[1;32m    128\u001b[0m \u001b[0;34m\u001b[0m\u001b[0m\n\u001b[1;32m    129\u001b[0m     \u001b[0mdsn\u001b[0m \u001b[0;34m=\u001b[0m \u001b[0m_ext\u001b[0m\u001b[0;34m.\u001b[0m\u001b[0mmake_dsn\u001b[0m\u001b[0;34m(\u001b[0m\u001b[0mdsn\u001b[0m\u001b[0;34m,\u001b[0m \u001b[0;34m**\u001b[0m\u001b[0mkwargs\u001b[0m\u001b[0;34m)\u001b[0m\u001b[0;34m\u001b[0m\u001b[0;34m\u001b[0m\u001b[0m\n\u001b[0;32m--> 130\u001b[0;31m     \u001b[0mconn\u001b[0m \u001b[0;34m=\u001b[0m \u001b[0m_connect\u001b[0m\u001b[0;34m(\u001b[0m\u001b[0mdsn\u001b[0m\u001b[0;34m,\u001b[0m \u001b[0mconnection_factory\u001b[0m\u001b[0;34m=\u001b[0m\u001b[0mconnection_factory\u001b[0m\u001b[0;34m,\u001b[0m \u001b[0;34m**\u001b[0m\u001b[0mkwasync\u001b[0m\u001b[0;34m)\u001b[0m\u001b[0;34m\u001b[0m\u001b[0;34m\u001b[0m\u001b[0m\n\u001b[0m\u001b[1;32m    131\u001b[0m     \u001b[0;32mif\u001b[0m \u001b[0mcursor_factory\u001b[0m \u001b[0;32mis\u001b[0m \u001b[0;32mnot\u001b[0m \u001b[0;32mNone\u001b[0m\u001b[0;34m:\u001b[0m\u001b[0;34m\u001b[0m\u001b[0;34m\u001b[0m\u001b[0m\n\u001b[1;32m    132\u001b[0m         \u001b[0mconn\u001b[0m\u001b[0;34m.\u001b[0m\u001b[0mcursor_factory\u001b[0m \u001b[0;34m=\u001b[0m \u001b[0mcursor_factory\u001b[0m\u001b[0;34m\u001b[0m\u001b[0;34m\u001b[0m\u001b[0m\n",
            "\u001b[0;31mOperationalError\u001b[0m: could not connect to server: Connection refused\n\tIs the server running on host \"localhost\" (127.0.0.1) and accepting\n\tTCP/IP connections on port 5432?\ncould not connect to server: Cannot assign requested address\n\tIs the server running on host \"localhost\" (::1) and accepting\n\tTCP/IP connections on port 5432?\n"
          ]
        }
      ]
    },
    {
      "cell_type": "markdown",
      "metadata": {
        "id": "GuFia3RXRRzj",
        "colab_type": "text"
      },
      "source": [
        "##### 連接到 sqlite"
      ]
    },
    {
      "cell_type": "code",
      "metadata": {
        "id": "HqXpbCHeQW3N",
        "colab_type": "code",
        "colab": {}
      },
      "source": [
        "import sqlite3\n",
        "conn = sqlite3.connect('dbname=example.db')\n",
        "cur = conn.cursor()"
      ],
      "execution_count": 0,
      "outputs": []
    },
    {
      "cell_type": "markdown",
      "metadata": {
        "id": "lIHk5P5WVqpp",
        "colab_type": "text"
      },
      "source": [
        "##### 關閉連接\n",
        "```\n",
        "cur.close()\n",
        "conn.close()\n",
        "```"
      ]
    },
    {
      "cell_type": "code",
      "metadata": {
        "id": "v-2AafTKVq-H",
        "colab_type": "code",
        "colab": {}
      },
      "source": [
        ""
      ],
      "execution_count": 0,
      "outputs": []
    },
    {
      "cell_type": "markdown",
      "metadata": {
        "id": "zJcduc1aS5zV",
        "colab_type": "text"
      },
      "source": [
        "#### 從 python 送指令給 SQL database\n",
        "```\n",
        "cur.execute(指令文字)\n",
        "conn.commit()\n",
        "```"
      ]
    },
    {
      "cell_type": "markdown",
      "metadata": {
        "id": "q5KvqqjsSn9P",
        "colab_type": "text"
      },
      "source": [
        "#### CREATE\n",
        "放新資料的位置\n",
        "\n",
        "\n",
        "*   TABLE: 以實體存在\n",
        "*   VIEW: 以指令存在，只有執行時才會跑，關閉 DB 就自動刪除\n",
        "\n"
      ]
    },
    {
      "cell_type": "code",
      "metadata": {
        "id": "mpOfOxlMRMp7",
        "colab_type": "code",
        "colab": {}
      },
      "source": [
        "cur.execute('''Drop Table IF Exists old_A;''')\n",
        "conn.commit()\n",
        "\n",
        "cur.execute('''CREATE TABLE old_A\n",
        "               (id      serial, \n",
        "                area    text, \n",
        "                age     double precision, \n",
        "                sex     CHAR(10));''')\n",
        "conn.commit()"
      ],
      "execution_count": 0,
      "outputs": []
    },
    {
      "cell_type": "code",
      "metadata": {
        "id": "P-tQoSR7gKoC",
        "colab_type": "code",
        "outputId": "39b6e59a-34c9-40e4-ac04-21f15fcebed9",
        "colab": {
          "base_uri": "https://localhost:8080/",
          "height": 35
        }
      },
      "source": [
        "try:\n",
        "   cur.execute('''CREATE TABLE old_B\n",
        "                  (id      serial, \n",
        "                   income  double precision);''')\n",
        "   conn.commit()\n",
        "except:\n",
        "   print(\"table old_B already exists\")"
      ],
      "execution_count": 0,
      "outputs": [
        {
          "output_type": "stream",
          "text": [
            "table old_B already exists\n"
          ],
          "name": "stdout"
        }
      ]
    },
    {
      "cell_type": "markdown",
      "metadata": {
        "id": "27oIj9VwUkJo",
        "colab_type": "text"
      },
      "source": [
        "##### Insert data"
      ]
    },
    {
      "cell_type": "code",
      "metadata": {
        "id": "7YPT1_yMUp1c",
        "colab_type": "code",
        "colab": {}
      },
      "source": [
        "cur.execute(\"\"\"INSERT INTO old_A \n",
        "               VALUES (1, 'S',  5,  'male');\"\"\")\n",
        "conn.commit()"
      ],
      "execution_count": 0,
      "outputs": []
    },
    {
      "cell_type": "code",
      "metadata": {
        "id": "Jhzu7MkofXRM",
        "colab_type": "code",
        "colab": {}
      },
      "source": [
        "cur.execute(\"\"\"INSERT INTO old_A (id, area, sex) \n",
        "               VALUES (2, 'N',     'female');\"\"\")\n",
        "conn.commit()"
      ],
      "execution_count": 0,
      "outputs": []
    },
    {
      "cell_type": "code",
      "metadata": {
        "id": "3j4Uw41ihP0k",
        "colab_type": "code",
        "colab": {}
      },
      "source": [
        "cur.execute(\"\"\"INSERT INTO old_A (id, area, age, sex) \n",
        "               VALUES (3, 'E', 30,   'male'),\n",
        "                      (4, 'S', 10, 'female'),\n",
        "                      (5, 'N', 60,   'male'),\n",
        "                      (6, 'E', 90, 'female');\"\"\")\n",
        "conn.commit()"
      ],
      "execution_count": 0,
      "outputs": []
    },
    {
      "cell_type": "code",
      "metadata": {
        "id": "tNL2nzTuigE9",
        "colab_type": "code",
        "outputId": "b9ff8c00-adf2-49f0-9744-a89e438ba27c",
        "colab": {
          "base_uri": "https://localhost:8080/",
          "height": 121
        }
      },
      "source": [
        "xx = [[\"1\",\"20\"],[\"4\",\"10\"],[\"5\",\"30\"],[\"7\",\"40\"],[\"8\",\"11\"],[\"19\",\"20\"]]\n",
        "\n",
        "for i in range(0,len(xx)):\n",
        "    query  = \"INSERT INTO old_B (id, income) \"\n",
        "    query += \"VALUES (\"+\",\".join(xx[i])+\");\"\n",
        "    print(query)\n",
        "\n",
        "    cur.execute(query)\n",
        "    conn.commit()"
      ],
      "execution_count": 0,
      "outputs": [
        {
          "output_type": "stream",
          "text": [
            "INSERT INTO old_B (id, income) VALUES (1,20);\n",
            "INSERT INTO old_B (id, income) VALUES (4,10);\n",
            "INSERT INTO old_B (id, income) VALUES (5,30);\n",
            "INSERT INTO old_B (id, income) VALUES (7,40);\n",
            "INSERT INTO old_B (id, income) VALUES (8,11);\n",
            "INSERT INTO old_B (id, income) VALUES (19,20);\n"
          ],
          "name": "stdout"
        }
      ]
    },
    {
      "cell_type": "markdown",
      "metadata": {
        "id": "5AOA0L4OUw3q",
        "colab_type": "text"
      },
      "source": [
        "##### Update data"
      ]
    },
    {
      "cell_type": "code",
      "metadata": {
        "id": "61uxp5UPX8_M",
        "colab_type": "code",
        "colab": {}
      },
      "source": [
        "query  = \"UPDATE old_A \"\n",
        "query += \"SET age = 20 \"\n",
        "query += \"WHERE id = 2;\"\n",
        "\n",
        "cur.execute(query)\n",
        "conn.commit()"
      ],
      "execution_count": 0,
      "outputs": []
    },
    {
      "cell_type": "markdown",
      "metadata": {
        "id": "y_EoslKLU1hp",
        "colab_type": "text"
      },
      "source": [
        "#### SELECT  \n",
        "選取需要的變數"
      ]
    },
    {
      "cell_type": "markdown",
      "metadata": {
        "id": "JBXhJgPGmtxu",
        "colab_type": "text"
      },
      "source": [
        "##### Python 內看選取結果要用 .fetchall()\n",
        "\n",
        "\n",
        "> 欄位名稱在 cur.description\n",
        "\n"
      ]
    },
    {
      "cell_type": "code",
      "metadata": {
        "id": "SKvVl71Bk30Q",
        "colab_type": "code",
        "colab": {}
      },
      "source": [
        "query  = \"SELECT * \"\n",
        "query += \"FROM old_A;\"\n",
        "\n",
        "cur.execute(query)\n",
        "conn.commit()"
      ],
      "execution_count": 0,
      "outputs": []
    },
    {
      "cell_type": "code",
      "metadata": {
        "id": "D23REgX0Q6Pe",
        "colab_type": "code",
        "outputId": "a3b95756-d75b-43c6-b838-270eb779c84b",
        "colab": {
          "base_uri": "https://localhost:8080/",
          "height": 139
        }
      },
      "source": [
        "query  = \"SELECT * \"\n",
        "query += \"FROM old_A;\"\n",
        "\n",
        "cur.execute(query)\n",
        "results = cur.fetchall()\n",
        "\n",
        "cols = [i[0] for i in cur.description]\n",
        "print(cols)  \n",
        "for result in results:\n",
        "    print(result)"
      ],
      "execution_count": 0,
      "outputs": [
        {
          "output_type": "stream",
          "text": [
            "['id', 'area', 'age', 'sex']\n",
            "(1, 'S', 5.0, 'male')\n",
            "(2, 'N', 20.0, 'female')\n",
            "(3, 'E', 30.0, 'male')\n",
            "(4, 'S', 10.0, 'female')\n",
            "(5, 'N', 60.0, 'male')\n",
            "(6, 'E', 90.0, 'female')\n"
          ],
          "name": "stdout"
        }
      ]
    },
    {
      "cell_type": "markdown",
      "metadata": {
        "id": "L1N-DTAE_uOB",
        "colab_type": "text"
      },
      "source": [
        "##### 欄位別名 & 表格別名 \n",
        "``` \n",
        "SELECT 表格別名.欄位 as 欄位別名\n",
        "FROM 表格名 as 表格別名; \n",
        "```"
      ]
    },
    {
      "cell_type": "code",
      "metadata": {
        "id": "QX03He1vlJtO",
        "colab_type": "code",
        "outputId": "744f41ad-eca8-4797-b581-4091b2d5626a",
        "colab": {
          "base_uri": "https://localhost:8080/",
          "height": 139
        }
      },
      "source": [
        "query  = \"SELECT t1.id, t1.area \"\n",
        "query += \"FROM old_A as t1;\"\n",
        "\n",
        "cur.execute(query)\n",
        "results = cur.fetchall()\n",
        "\n",
        "cols = [i[0] for i in cur.description]\n",
        "print(cols)  \n",
        "for result in results:\n",
        "    print(result)"
      ],
      "execution_count": 0,
      "outputs": [
        {
          "output_type": "stream",
          "text": [
            "['id', 'area']\n",
            "(1, 'S')\n",
            "(2, 'N')\n",
            "(3, 'E')\n",
            "(4, 'S')\n",
            "(5, 'N')\n",
            "(6, 'E')\n"
          ],
          "name": "stdout"
        }
      ]
    },
    {
      "cell_type": "markdown",
      "metadata": {
        "id": "XqCdlc7pADq8",
        "colab_type": "text"
      },
      "source": [
        "##### 欄位 if-else-then 條件\n",
        "```\n",
        "CASE WHEN 條件1 THEN 結果1\n",
        "     .........\n",
        "     WHEN 條件N THEN 結果N\n",
        "     ELSE 結果X\n",
        "     END as 新欄位名稱\n",
        "```"
      ]
    },
    {
      "cell_type": "code",
      "metadata": {
        "id": "vTBrfgpbBOXg",
        "colab_type": "code",
        "outputId": "3f3fb754-43bd-455c-b270-f0f388d3c8c6",
        "colab": {
          "base_uri": "https://localhost:8080/",
          "height": 139
        }
      },
      "source": [
        "query  = \"SELECT t1.id, t1.sex, \" \n",
        "query += \"       Case When t1.sex = 'female' then 0 \" \n",
        "query += \"            When t1.sex =   'male' then 1 \"\n",
        "query += \"            ELSE NULL \"\n",
        "query += \"       END as sex_n \"\n",
        "query += \"FROM old_A as t1;\" \n",
        "\n",
        "cur.execute(query) \n",
        "results = cur.fetchall() \n",
        "\n",
        "cols = [i[0] for i in cur.description]\n",
        "print(cols)  \n",
        "for result in results:\n",
        "    print(result)"
      ],
      "execution_count": 0,
      "outputs": [
        {
          "output_type": "stream",
          "text": [
            "['id', 'sex', 'sex_n']\n",
            "(1, 'male', 1)\n",
            "(2, 'female', 0)\n",
            "(3, 'male', 1)\n",
            "(4, 'female', 0)\n",
            "(5, 'male', 1)\n",
            "(6, 'female', 0)\n"
          ],
          "name": "stdout"
        }
      ]
    },
    {
      "cell_type": "markdown",
      "metadata": {
        "id": "MGZ64H3AaSo3",
        "colab_type": "text"
      },
      "source": [
        "#### WHERE \n",
        "條件式篩選資料，ex. 只處理年齡 > 60"
      ]
    },
    {
      "cell_type": "code",
      "metadata": {
        "id": "59e93QTWk8jv",
        "colab_type": "code",
        "outputId": "ca04f411-dc68-4f0c-9821-064da70f64bb",
        "colab": {
          "base_uri": "https://localhost:8080/",
          "height": 104
        }
      },
      "source": [
        "query  = \"SELECT t1.id, t1.area, t1.age, t1.sex \"\n",
        "query += \"FROM old_A as t1 \"\n",
        "query += \"WHERE t1.area = 'S' or t1.area = 'N';\"\n",
        "\n",
        "cur.execute(query)\n",
        "results = cur.fetchall()\n",
        "\n",
        "cols = [i[0] for i in cur.description]\n",
        "print(cols)  \n",
        "for result in results:\n",
        "    print(result)"
      ],
      "execution_count": 0,
      "outputs": [
        {
          "output_type": "stream",
          "text": [
            "['id', 'area', 'age', 'sex']\n",
            "(1, 'S', 5.0, 'male')\n",
            "(2, 'N', 20.0, 'female')\n",
            "(4, 'S', 10.0, 'female')\n",
            "(5, 'N', 60.0, 'male')\n"
          ],
          "name": "stdout"
        }
      ]
    },
    {
      "cell_type": "code",
      "metadata": {
        "id": "UmenFMNSn7xS",
        "colab_type": "code",
        "outputId": "9ff5afce-019a-4d6b-c8ab-d4ab812c102d",
        "colab": {
          "base_uri": "https://localhost:8080/",
          "height": 104
        }
      },
      "source": [
        "query  = \"SELECT t1.id, t1.area, t1.age, t1.sex \"\n",
        "query += \"FROM old_A as t1 \"\n",
        "query += \"WHERE t1.area in ('S', 'N');\"\n",
        "\n",
        "cur.execute(query)\n",
        "results = cur.fetchall()\n",
        "\n",
        "cols = [i[0] for i in cur.description]\n",
        "print(cols)  \n",
        "for result in results:\n",
        "    print(result)"
      ],
      "execution_count": 0,
      "outputs": [
        {
          "output_type": "stream",
          "text": [
            "['id', 'area', 'age', 'sex']\n",
            "(1, 'S', 5.0, 'male')\n",
            "(2, 'N', 20.0, 'female')\n",
            "(4, 'S', 10.0, 'female')\n",
            "(5, 'N', 60.0, 'male')\n"
          ],
          "name": "stdout"
        }
      ]
    },
    {
      "cell_type": "markdown",
      "metadata": {
        "id": "mGSvaBLVb4Ip",
        "colab_type": "text"
      },
      "source": [
        "#### FROM\n",
        "從那些表格得到資料，牽涉到 JOIN"
      ]
    },
    {
      "cell_type": "markdown",
      "metadata": {
        "id": "76SBiDl_C_bh",
        "colab_type": "text"
      },
      "source": [
        "##### 用 WHERE 給條件\n",
        "\n",
        "\n",
        "> 缺：計算較慢\n",
        "\n"
      ]
    },
    {
      "cell_type": "code",
      "metadata": {
        "id": "3hrt8gSeCh_S",
        "colab_type": "code",
        "outputId": "baaa9aa8-f7e4-4eca-8fd7-f16dfabb9ed5",
        "colab": {
          "base_uri": "https://localhost:8080/",
          "height": 191
        }
      },
      "source": [
        "query  = \"SELECT t1.id, t1.age, t1.sex, t2.income \"\n",
        "query += \"FROM old_A as t1, old_B as t2 \"\n",
        "query += \"WHERE t1.id = t2.id;\"\n",
        "\n",
        "cur.execute(query)\n",
        "results = cur.fetchall()\n",
        "\n",
        "cols = [i[0] for i in cur.description]\n",
        "print(cols)  \n",
        "for result in results:\n",
        "    print(result)"
      ],
      "execution_count": 0,
      "outputs": [
        {
          "output_type": "stream",
          "text": [
            "['id', 'age', 'sex', 'income']\n",
            "(1, 5.0, 'male', 20.0)\n",
            "(1, 5.0, 'male', 20.0)\n",
            "(1, 5.0, 'male', 20.0)\n",
            "(4, 10.0, 'female', 10.0)\n",
            "(4, 10.0, 'female', 10.0)\n",
            "(4, 10.0, 'female', 10.0)\n",
            "(5, 60.0, 'male', 30.0)\n",
            "(5, 60.0, 'male', 30.0)\n",
            "(5, 60.0, 'male', 30.0)\n"
          ],
          "name": "stdout"
        }
      ]
    },
    {
      "cell_type": "markdown",
      "metadata": {
        "id": "YOqTSRncDREP",
        "colab_type": "text"
      },
      "source": [
        "##### 用 JOIN 給條件\n",
        "\n",
        "> 在 Google 圖片下：\"SQL JOIN\" \n"
      ]
    },
    {
      "cell_type": "code",
      "metadata": {
        "id": "kiYqYxgcDlhP",
        "colab_type": "code",
        "outputId": "8b4f4980-bb58-441c-bb12-2de344f1c6e7",
        "colab": {
          "base_uri": "https://localhost:8080/",
          "height": 191
        }
      },
      "source": [
        "query  = \"SELECT t1.id, t1.age, t1.sex, t2.income \"\n",
        "query += \"FROM old_A as t1 INNER JOIN old_B as t2 on t1.id = t2.id;\"\n",
        "\n",
        "cur.execute(query)\n",
        "results = cur.fetchall()\n",
        "\n",
        "cols = [i[0] for i in cur.description]\n",
        "print(cols)  \n",
        "for result in results:\n",
        "    print(result)"
      ],
      "execution_count": 0,
      "outputs": [
        {
          "output_type": "stream",
          "text": [
            "['id', 'age', 'sex', 'income']\n",
            "(1, 5.0, 'male', 20.0)\n",
            "(1, 5.0, 'male', 20.0)\n",
            "(1, 5.0, 'male', 20.0)\n",
            "(4, 10.0, 'female', 10.0)\n",
            "(4, 10.0, 'female', 10.0)\n",
            "(4, 10.0, 'female', 10.0)\n",
            "(5, 60.0, 'male', 30.0)\n",
            "(5, 60.0, 'male', 30.0)\n",
            "(5, 60.0, 'male', 30.0)\n"
          ],
          "name": "stdout"
        }
      ]
    },
    {
      "cell_type": "markdown",
      "metadata": {
        "id": "LQ3n4VJaafbN",
        "colab_type": "text"
      },
      "source": [
        "#### GROUP BY \n",
        "分群計算，ex. 計算總和"
      ]
    },
    {
      "cell_type": "code",
      "metadata": {
        "id": "NJQ3SqiiECcv",
        "colab_type": "code",
        "outputId": "34c468f5-0019-4d05-aef2-f543bb665538",
        "colab": {
          "base_uri": "https://localhost:8080/",
          "height": 87
        }
      },
      "source": [
        "query  = \"SELECT t1.area, SUM(t1.age), AVG(t1.age) as avg_age, count(*) as count \"\n",
        "query += \"FROM old_A as t1 \"\n",
        "query += \"GROUP BY t1.area;\"\n",
        "\n",
        "cur.execute(query)\n",
        "results = cur.fetchall()\n",
        "\n",
        "cols = [i[0] for i in cur.description]\n",
        "print(cols)  \n",
        "for result in results:\n",
        "    print(result)"
      ],
      "execution_count": 0,
      "outputs": [
        {
          "output_type": "stream",
          "text": [
            "['area', 'SUM(t1.age)', 'avg_age', 'count']\n",
            "('E', 120.0, 60.0, 2)\n",
            "('N', 80.0, 40.0, 2)\n",
            "('S', 15.0, 7.5, 2)\n"
          ],
          "name": "stdout"
        }
      ]
    },
    {
      "cell_type": "markdown",
      "metadata": {
        "id": "IvMtnAaZbhOG",
        "colab_type": "text"
      },
      "source": [
        "#### HAVING\n",
        "篩選分群計算後的結果\n",
        "\n",
        "\n",
        "> 必須與 GROUP BY 搭配\n",
        "\n"
      ]
    },
    {
      "cell_type": "code",
      "metadata": {
        "id": "mmdS-e8vHlSs",
        "colab_type": "code",
        "outputId": "268e59b2-3750-4a21-bc5b-dfd012a6e8b4",
        "colab": {
          "base_uri": "https://localhost:8080/",
          "height": 69
        }
      },
      "source": [
        "query  = \"SELECT t1.area, SUM(t1.age), AVG(t1.age) as avg_age, count(*) as count \"\n",
        "query += \"FROM old_A as t1 \"\n",
        "query += \"GROUP BY t1.area \"\n",
        "query += \"HAVING avg_age >=40;\"\n",
        "\n",
        "cur.execute(query)\n",
        "results = cur.fetchall()\n",
        "\n",
        "cols = [i[0] for i in cur.description]\n",
        "print(cols)  \n",
        "for result in results:\n",
        "    print(result)"
      ],
      "execution_count": 0,
      "outputs": [
        {
          "output_type": "stream",
          "text": [
            "['area', 'SUM(t1.age)', 'avg_age', 'count']\n",
            "('E', 120.0, 60.0, 2)\n",
            "('N', 80.0, 40.0, 2)\n"
          ],
          "name": "stdout"
        }
      ]
    },
    {
      "cell_type": "markdown",
      "metadata": {
        "id": "9stXc6s0boB3",
        "colab_type": "text"
      },
      "source": [
        "#### ORDER BY\n",
        "排序資料"
      ]
    },
    {
      "cell_type": "code",
      "metadata": {
        "id": "rr-HwtFyIGkW",
        "colab_type": "code",
        "outputId": "303f27fa-395a-482b-9bf0-b790adeeb5ba",
        "colab": {
          "base_uri": "https://localhost:8080/",
          "height": 69
        }
      },
      "source": [
        "query  = \"SELECT t1.area, SUM(t1.age), AVG(t1.age) as avg_age, count(*) as count \"\n",
        "query += \"FROM old_A as t1 \"\n",
        "query += \"GROUP BY t1.area \"\n",
        "query += \"HAVING avg_age >=40 \"\n",
        "query += \"ORDER BY avg_age;\"\n",
        "\n",
        "cur.execute(query)\n",
        "results = cur.fetchall()\n",
        "\n",
        "cols = [i[0] for i in cur.description]\n",
        "print(cols)  \n",
        "for result in results:\n",
        "    print(result)"
      ],
      "execution_count": 0,
      "outputs": [
        {
          "output_type": "stream",
          "text": [
            "['area', 'SUM(t1.age)', 'avg_age', 'count']\n",
            "('N', 80.0, 40.0, 2)\n",
            "('E', 120.0, 60.0, 2)\n"
          ],
          "name": "stdout"
        }
      ]
    },
    {
      "cell_type": "markdown",
      "metadata": {
        "id": "2iZAjD-sZTMM",
        "colab_type": "text"
      },
      "source": [
        "#### 另一種送指令方式\n",
        "> 用類似 python 處理字串的方式查詢值或給值\n",
        "\n"
      ]
    },
    {
      "cell_type": "code",
      "metadata": {
        "id": "v54bKCF3JL_Z",
        "colab_type": "code",
        "outputId": "3dd2b4cc-f786-484a-d108-9ee512dfcfae",
        "colab": {
          "base_uri": "https://localhost:8080/",
          "height": 364
        }
      },
      "source": [
        "# Ex.       \"INSERT INTO old_B (id, income) VALUES (1,20);\"\n",
        "cur.execute(\"INSERT INTO old_B (id, income) VALUES (?, ?);\", [1,20])\n",
        "conn.commit()\n",
        "\n",
        "cur.execute(\"SELECT * FROM old_B\")\n",
        "results = cur.fetchall()\n",
        "cols = [i[0] for i in cur.description]\n",
        "print(cols)  \n",
        "for result in results:\n",
        "    print(result)"
      ],
      "execution_count": 0,
      "outputs": [
        {
          "output_type": "stream",
          "text": [
            "['id', 'income']\n",
            "(1, 20.0)\n",
            "(4, 10.0)\n",
            "(5, 30.0)\n",
            "(7, 40.0)\n",
            "(8, 11.0)\n",
            "(19, 20.0)\n",
            "(1, 20.0)\n",
            "(4, 10.0)\n",
            "(5, 30.0)\n",
            "(7, 40.0)\n",
            "(8, 11.0)\n",
            "(19, 20.0)\n",
            "(1, 20.0)\n",
            "(4, 10.0)\n",
            "(5, 30.0)\n",
            "(7, 40.0)\n",
            "(8, 11.0)\n",
            "(19, 20.0)\n",
            "(1, 20.0)\n"
          ],
          "name": "stdout"
        }
      ]
    },
    {
      "cell_type": "markdown",
      "metadata": {
        "id": "rlza1kCLLrRU",
        "colab_type": "text"
      },
      "source": [
        "# Pandas"
      ]
    },
    {
      "cell_type": "code",
      "metadata": {
        "id": "b8qYcgCSNbXm",
        "colab_type": "code",
        "colab": {}
      },
      "source": [
        "import pandas as pd"
      ],
      "execution_count": 0,
      "outputs": []
    },
    {
      "cell_type": "markdown",
      "metadata": {
        "id": "WhMP7UerL0o4",
        "colab_type": "text"
      },
      "source": [
        "#### Numpy -> Pandas"
      ]
    },
    {
      "cell_type": "code",
      "metadata": {
        "id": "BlsCjY3KL8vY",
        "colab_type": "code",
        "outputId": "a8018e41-3afc-4f90-cbd1-7765db039c52",
        "colab": {
          "base_uri": "https://localhost:8080/",
          "height": 121
        }
      },
      "source": [
        "Data = np.asarray([[1, 'S',  5.0,   'male'],\n",
        "                   [2, 'N', 20.0, 'female'],\n",
        "                   [3, 'E', 30.0,   'male'],\n",
        "                   [4, 'S', 10.0, 'female'],\n",
        "                   [5, 'N', 60.0,   'male'],\n",
        "                   [6, 'E', 90.0, 'female']])\n",
        "Data"
      ],
      "execution_count": 0,
      "outputs": [
        {
          "output_type": "execute_result",
          "data": {
            "text/plain": [
              "array([['1', 'S', '5.0', 'male'],\n",
              "       ['2', 'N', '20.0', 'female'],\n",
              "       ['3', 'E', '30.0', 'male'],\n",
              "       ['4', 'S', '10.0', 'female'],\n",
              "       ['5', 'N', '60.0', 'male'],\n",
              "       ['6', 'E', '90.0', 'female']], dtype='<U21')"
            ]
          },
          "metadata": {
            "tags": []
          },
          "execution_count": 50
        }
      ]
    },
    {
      "cell_type": "code",
      "metadata": {
        "id": "ZASVtZuVL0DV",
        "colab_type": "code",
        "outputId": "5aceb209-ff31-4a2d-fbd5-3f8fbdeea0ed",
        "colab": {
          "base_uri": "https://localhost:8080/",
          "height": 233
        }
      },
      "source": [
        "df = pd.DataFrame(data=Data,                                          # values\n",
        "                  columns= ['id', 'area', 'age', 'sex'],              # column names\n",
        "                  index  = ['1st', '1st','2nd','2nd','3rd','3rd'])    # row index\n",
        "df                      "
      ],
      "execution_count": 0,
      "outputs": [
        {
          "output_type": "execute_result",
          "data": {
            "text/html": [
              "<div>\n",
              "<style scoped>\n",
              "    .dataframe tbody tr th:only-of-type {\n",
              "        vertical-align: middle;\n",
              "    }\n",
              "\n",
              "    .dataframe tbody tr th {\n",
              "        vertical-align: top;\n",
              "    }\n",
              "\n",
              "    .dataframe thead th {\n",
              "        text-align: right;\n",
              "    }\n",
              "</style>\n",
              "<table border=\"1\" class=\"dataframe\">\n",
              "  <thead>\n",
              "    <tr style=\"text-align: right;\">\n",
              "      <th></th>\n",
              "      <th>id</th>\n",
              "      <th>area</th>\n",
              "      <th>age</th>\n",
              "      <th>sex</th>\n",
              "    </tr>\n",
              "  </thead>\n",
              "  <tbody>\n",
              "    <tr>\n",
              "      <th>1st</th>\n",
              "      <td>1</td>\n",
              "      <td>S</td>\n",
              "      <td>5.0</td>\n",
              "      <td>male</td>\n",
              "    </tr>\n",
              "    <tr>\n",
              "      <th>1st</th>\n",
              "      <td>2</td>\n",
              "      <td>N</td>\n",
              "      <td>20.0</td>\n",
              "      <td>female</td>\n",
              "    </tr>\n",
              "    <tr>\n",
              "      <th>2nd</th>\n",
              "      <td>3</td>\n",
              "      <td>E</td>\n",
              "      <td>30.0</td>\n",
              "      <td>male</td>\n",
              "    </tr>\n",
              "    <tr>\n",
              "      <th>2nd</th>\n",
              "      <td>4</td>\n",
              "      <td>S</td>\n",
              "      <td>10.0</td>\n",
              "      <td>female</td>\n",
              "    </tr>\n",
              "    <tr>\n",
              "      <th>3rd</th>\n",
              "      <td>5</td>\n",
              "      <td>N</td>\n",
              "      <td>60.0</td>\n",
              "      <td>male</td>\n",
              "    </tr>\n",
              "    <tr>\n",
              "      <th>3rd</th>\n",
              "      <td>6</td>\n",
              "      <td>E</td>\n",
              "      <td>90.0</td>\n",
              "      <td>female</td>\n",
              "    </tr>\n",
              "  </tbody>\n",
              "</table>\n",
              "</div>"
            ],
            "text/plain": [
              "    id area   age     sex\n",
              "1st  1    S   5.0    male\n",
              "1st  2    N  20.0  female\n",
              "2nd  3    E  30.0    male\n",
              "2nd  4    S  10.0  female\n",
              "3rd  5    N  60.0    male\n",
              "3rd  6    E  90.0  female"
            ]
          },
          "metadata": {
            "tags": []
          },
          "execution_count": 51
        }
      ]
    },
    {
      "cell_type": "markdown",
      "metadata": {
        "id": "LaoLxBvEYa_r",
        "colab_type": "text"
      },
      "source": [
        "#### Pandas <-> SQL"
      ]
    },
    {
      "cell_type": "code",
      "metadata": {
        "id": "qwdX0-2WiIlx",
        "colab_type": "code",
        "colab": {}
      },
      "source": [
        "df = pd.read_sql_query(\"SELECT * FROM old_A;\", con=conn)\n",
        "df"
      ],
      "execution_count": 0,
      "outputs": []
    },
    {
      "cell_type": "code",
      "metadata": {
        "id": "205-MVCkjH6V",
        "colab_type": "code",
        "outputId": "01fe72a4-4c77-45d4-cc4e-cd6ac369260f",
        "colab": {
          "base_uri": "https://localhost:8080/",
          "height": 156
        }
      },
      "source": [
        "try:\n",
        "    df.to_sql('users', con=conn)\n",
        "except:\n",
        "    print(\"Table 'users' already exists.\")\n",
        "\n",
        "cur.execute(\"SELECT * FROM users\")\n",
        "results = cur.fetchall()\n",
        "cols = [i[0] for i in cur.description]\n",
        "print(cols)  \n",
        "for result in results:\n",
        "    print(result)"
      ],
      "execution_count": 0,
      "outputs": [
        {
          "output_type": "stream",
          "text": [
            "Table 'users' already exists.\n",
            "['index', 'id', 'area', 'age', 'sex']\n",
            "(0, 1, 'S', 5.0, 'male')\n",
            "(1, 2, 'N', 20.0, 'female')\n",
            "(2, 3, 'E', 30.0, 'male')\n",
            "(3, 4, 'S', 10.0, 'female')\n",
            "(4, 5, 'N', 60.0, 'male')\n",
            "(5, 6, 'E', 90.0, 'female')\n"
          ],
          "name": "stdout"
        }
      ]
    },
    {
      "cell_type": "markdown",
      "metadata": {
        "id": "Iuyt36UuWOAO",
        "colab_type": "text"
      },
      "source": [
        "#### Pandas <-> CSV"
      ]
    },
    {
      "cell_type": "code",
      "metadata": {
        "id": "QFhuR1zkfihB",
        "colab_type": "code",
        "outputId": "12cdb8a1-3bec-419b-f744-2984ab7229fd",
        "colab": {
          "base_uri": "https://localhost:8080/",
          "height": 202
        }
      },
      "source": [
        "df = pd.read_csv('https://raw.githubusercontent.com/selva86/datasets/master/BostonHousing.csv')  \n",
        "df.head()"
      ],
      "execution_count": 0,
      "outputs": [
        {
          "output_type": "execute_result",
          "data": {
            "text/html": [
              "<div>\n",
              "<style scoped>\n",
              "    .dataframe tbody tr th:only-of-type {\n",
              "        vertical-align: middle;\n",
              "    }\n",
              "\n",
              "    .dataframe tbody tr th {\n",
              "        vertical-align: top;\n",
              "    }\n",
              "\n",
              "    .dataframe thead th {\n",
              "        text-align: right;\n",
              "    }\n",
              "</style>\n",
              "<table border=\"1\" class=\"dataframe\">\n",
              "  <thead>\n",
              "    <tr style=\"text-align: right;\">\n",
              "      <th></th>\n",
              "      <th>crim</th>\n",
              "      <th>zn</th>\n",
              "      <th>indus</th>\n",
              "      <th>chas</th>\n",
              "      <th>nox</th>\n",
              "      <th>rm</th>\n",
              "      <th>age</th>\n",
              "      <th>dis</th>\n",
              "      <th>rad</th>\n",
              "      <th>tax</th>\n",
              "      <th>ptratio</th>\n",
              "      <th>b</th>\n",
              "      <th>lstat</th>\n",
              "      <th>medv</th>\n",
              "    </tr>\n",
              "  </thead>\n",
              "  <tbody>\n",
              "    <tr>\n",
              "      <th>0</th>\n",
              "      <td>0.00632</td>\n",
              "      <td>18.0</td>\n",
              "      <td>2.31</td>\n",
              "      <td>0</td>\n",
              "      <td>0.538</td>\n",
              "      <td>6.575</td>\n",
              "      <td>65.2</td>\n",
              "      <td>4.0900</td>\n",
              "      <td>1</td>\n",
              "      <td>296</td>\n",
              "      <td>15.3</td>\n",
              "      <td>396.90</td>\n",
              "      <td>4.98</td>\n",
              "      <td>24.0</td>\n",
              "    </tr>\n",
              "    <tr>\n",
              "      <th>1</th>\n",
              "      <td>0.02731</td>\n",
              "      <td>0.0</td>\n",
              "      <td>7.07</td>\n",
              "      <td>0</td>\n",
              "      <td>0.469</td>\n",
              "      <td>6.421</td>\n",
              "      <td>78.9</td>\n",
              "      <td>4.9671</td>\n",
              "      <td>2</td>\n",
              "      <td>242</td>\n",
              "      <td>17.8</td>\n",
              "      <td>396.90</td>\n",
              "      <td>9.14</td>\n",
              "      <td>21.6</td>\n",
              "    </tr>\n",
              "    <tr>\n",
              "      <th>2</th>\n",
              "      <td>0.02729</td>\n",
              "      <td>0.0</td>\n",
              "      <td>7.07</td>\n",
              "      <td>0</td>\n",
              "      <td>0.469</td>\n",
              "      <td>7.185</td>\n",
              "      <td>61.1</td>\n",
              "      <td>4.9671</td>\n",
              "      <td>2</td>\n",
              "      <td>242</td>\n",
              "      <td>17.8</td>\n",
              "      <td>392.83</td>\n",
              "      <td>4.03</td>\n",
              "      <td>34.7</td>\n",
              "    </tr>\n",
              "    <tr>\n",
              "      <th>3</th>\n",
              "      <td>0.03237</td>\n",
              "      <td>0.0</td>\n",
              "      <td>2.18</td>\n",
              "      <td>0</td>\n",
              "      <td>0.458</td>\n",
              "      <td>6.998</td>\n",
              "      <td>45.8</td>\n",
              "      <td>6.0622</td>\n",
              "      <td>3</td>\n",
              "      <td>222</td>\n",
              "      <td>18.7</td>\n",
              "      <td>394.63</td>\n",
              "      <td>2.94</td>\n",
              "      <td>33.4</td>\n",
              "    </tr>\n",
              "    <tr>\n",
              "      <th>4</th>\n",
              "      <td>0.06905</td>\n",
              "      <td>0.0</td>\n",
              "      <td>2.18</td>\n",
              "      <td>0</td>\n",
              "      <td>0.458</td>\n",
              "      <td>7.147</td>\n",
              "      <td>54.2</td>\n",
              "      <td>6.0622</td>\n",
              "      <td>3</td>\n",
              "      <td>222</td>\n",
              "      <td>18.7</td>\n",
              "      <td>396.90</td>\n",
              "      <td>5.33</td>\n",
              "      <td>36.2</td>\n",
              "    </tr>\n",
              "  </tbody>\n",
              "</table>\n",
              "</div>"
            ],
            "text/plain": [
              "      crim    zn  indus  chas    nox  ...  tax  ptratio       b  lstat  medv\n",
              "0  0.00632  18.0   2.31     0  0.538  ...  296     15.3  396.90   4.98  24.0\n",
              "1  0.02731   0.0   7.07     0  0.469  ...  242     17.8  396.90   9.14  21.6\n",
              "2  0.02729   0.0   7.07     0  0.469  ...  242     17.8  392.83   4.03  34.7\n",
              "3  0.03237   0.0   2.18     0  0.458  ...  222     18.7  394.63   2.94  33.4\n",
              "4  0.06905   0.0   2.18     0  0.458  ...  222     18.7  396.90   5.33  36.2\n",
              "\n",
              "[5 rows x 14 columns]"
            ]
          },
          "metadata": {
            "tags": []
          },
          "execution_count": 56
        }
      ]
    },
    {
      "cell_type": "code",
      "metadata": {
        "id": "9SqQCQmMjYvt",
        "colab_type": "code",
        "colab": {}
      },
      "source": [
        "df.to_csv(\"BostonHousing.csv\")"
      ],
      "execution_count": 0,
      "outputs": []
    },
    {
      "cell_type": "markdown",
      "metadata": {
        "id": "J_gCoieTYg8w",
        "colab_type": "text"
      },
      "source": [
        "#### Pivot table"
      ]
    },
    {
      "cell_type": "code",
      "metadata": {
        "id": "T1VL4hnnlWFB",
        "colab_type": "code",
        "outputId": "435c6d40-2b70-4348-ab6e-dfa58a6e745e",
        "colab": {
          "base_uri": "https://localhost:8080/",
          "height": 355
        }
      },
      "source": [
        "pd.pivot_table(df,\n",
        "               index=['rad'], \n",
        "               values=['age', 'crim'])"
      ],
      "execution_count": 0,
      "outputs": [
        {
          "output_type": "execute_result",
          "data": {
            "text/html": [
              "<div>\n",
              "<style scoped>\n",
              "    .dataframe tbody tr th:only-of-type {\n",
              "        vertical-align: middle;\n",
              "    }\n",
              "\n",
              "    .dataframe tbody tr th {\n",
              "        vertical-align: top;\n",
              "    }\n",
              "\n",
              "    .dataframe thead th {\n",
              "        text-align: right;\n",
              "    }\n",
              "</style>\n",
              "<table border=\"1\" class=\"dataframe\">\n",
              "  <thead>\n",
              "    <tr style=\"text-align: right;\">\n",
              "      <th></th>\n",
              "      <th>age</th>\n",
              "      <th>crim</th>\n",
              "    </tr>\n",
              "    <tr>\n",
              "      <th>rad</th>\n",
              "      <th></th>\n",
              "      <th></th>\n",
              "    </tr>\n",
              "  </thead>\n",
              "  <tbody>\n",
              "    <tr>\n",
              "      <th>1</th>\n",
              "      <td>45.025000</td>\n",
              "      <td>0.036029</td>\n",
              "    </tr>\n",
              "    <tr>\n",
              "      <th>2</th>\n",
              "      <td>64.770833</td>\n",
              "      <td>0.083285</td>\n",
              "    </tr>\n",
              "    <tr>\n",
              "      <th>3</th>\n",
              "      <td>49.310526</td>\n",
              "      <td>0.097359</td>\n",
              "    </tr>\n",
              "    <tr>\n",
              "      <th>4</th>\n",
              "      <td>60.841818</td>\n",
              "      <td>0.393903</td>\n",
              "    </tr>\n",
              "    <tr>\n",
              "      <th>5</th>\n",
              "      <td>69.223478</td>\n",
              "      <td>0.687792</td>\n",
              "    </tr>\n",
              "    <tr>\n",
              "      <th>6</th>\n",
              "      <td>60.142308</td>\n",
              "      <td>0.150054</td>\n",
              "    </tr>\n",
              "    <tr>\n",
              "      <th>7</th>\n",
              "      <td>40.141176</td>\n",
              "      <td>0.150399</td>\n",
              "    </tr>\n",
              "    <tr>\n",
              "      <th>8</th>\n",
              "      <td>67.350000</td>\n",
              "      <td>0.371410</td>\n",
              "    </tr>\n",
              "    <tr>\n",
              "      <th>24</th>\n",
              "      <td>89.805303</td>\n",
              "      <td>12.759291</td>\n",
              "    </tr>\n",
              "  </tbody>\n",
              "</table>\n",
              "</div>"
            ],
            "text/plain": [
              "           age       crim\n",
              "rad                      \n",
              "1    45.025000   0.036029\n",
              "2    64.770833   0.083285\n",
              "3    49.310526   0.097359\n",
              "4    60.841818   0.393903\n",
              "5    69.223478   0.687792\n",
              "6    60.142308   0.150054\n",
              "7    40.141176   0.150399\n",
              "8    67.350000   0.371410\n",
              "24   89.805303  12.759291"
            ]
          },
          "metadata": {
            "tags": []
          },
          "execution_count": 58
        }
      ]
    },
    {
      "cell_type": "code",
      "metadata": {
        "id": "OCzDSJsSkxmi",
        "colab_type": "code",
        "outputId": "a6f93e61-2ec3-41c2-bfcd-c4067094a8fa",
        "colab": {
          "base_uri": "https://localhost:8080/",
          "height": 539
        }
      },
      "source": [
        "pd.pivot_table(df,\n",
        "               index=['chas','rad'],\n",
        "               values=['age', 'crim'])"
      ],
      "execution_count": 0,
      "outputs": [
        {
          "output_type": "execute_result",
          "data": {
            "text/html": [
              "<div>\n",
              "<style scoped>\n",
              "    .dataframe tbody tr th:only-of-type {\n",
              "        vertical-align: middle;\n",
              "    }\n",
              "\n",
              "    .dataframe tbody tr th {\n",
              "        vertical-align: top;\n",
              "    }\n",
              "\n",
              "    .dataframe thead th {\n",
              "        text-align: right;\n",
              "    }\n",
              "</style>\n",
              "<table border=\"1\" class=\"dataframe\">\n",
              "  <thead>\n",
              "    <tr style=\"text-align: right;\">\n",
              "      <th></th>\n",
              "      <th></th>\n",
              "      <th>age</th>\n",
              "      <th>crim</th>\n",
              "    </tr>\n",
              "    <tr>\n",
              "      <th>chas</th>\n",
              "      <th>rad</th>\n",
              "      <th></th>\n",
              "      <th></th>\n",
              "    </tr>\n",
              "  </thead>\n",
              "  <tbody>\n",
              "    <tr>\n",
              "      <th rowspan=\"9\" valign=\"top\">0</th>\n",
              "      <th>1</th>\n",
              "      <td>46.089474</td>\n",
              "      <td>0.037135</td>\n",
              "    </tr>\n",
              "    <tr>\n",
              "      <th>2</th>\n",
              "      <td>64.770833</td>\n",
              "      <td>0.083285</td>\n",
              "    </tr>\n",
              "    <tr>\n",
              "      <th>3</th>\n",
              "      <td>48.902778</td>\n",
              "      <td>0.094087</td>\n",
              "    </tr>\n",
              "    <tr>\n",
              "      <th>4</th>\n",
              "      <td>60.681373</td>\n",
              "      <td>0.409490</td>\n",
              "    </tr>\n",
              "    <tr>\n",
              "      <th>5</th>\n",
              "      <td>67.475962</td>\n",
              "      <td>0.622514</td>\n",
              "    </tr>\n",
              "    <tr>\n",
              "      <th>6</th>\n",
              "      <td>60.142308</td>\n",
              "      <td>0.150054</td>\n",
              "    </tr>\n",
              "    <tr>\n",
              "      <th>7</th>\n",
              "      <td>40.141176</td>\n",
              "      <td>0.150399</td>\n",
              "    </tr>\n",
              "    <tr>\n",
              "      <th>8</th>\n",
              "      <td>63.994737</td>\n",
              "      <td>0.345052</td>\n",
              "    </tr>\n",
              "    <tr>\n",
              "      <th>24</th>\n",
              "      <td>89.731452</td>\n",
              "      <td>13.209833</td>\n",
              "    </tr>\n",
              "    <tr>\n",
              "      <th rowspan=\"6\" valign=\"top\">1</th>\n",
              "      <th>1</th>\n",
              "      <td>24.800000</td>\n",
              "      <td>0.015010</td>\n",
              "    </tr>\n",
              "    <tr>\n",
              "      <th>3</th>\n",
              "      <td>56.650000</td>\n",
              "      <td>0.156265</td>\n",
              "    </tr>\n",
              "    <tr>\n",
              "      <th>4</th>\n",
              "      <td>62.887500</td>\n",
              "      <td>0.195176</td>\n",
              "    </tr>\n",
              "    <tr>\n",
              "      <th>5</th>\n",
              "      <td>85.745455</td>\n",
              "      <td>1.304961</td>\n",
              "    </tr>\n",
              "    <tr>\n",
              "      <th>8</th>\n",
              "      <td>80.100000</td>\n",
              "      <td>0.471570</td>\n",
              "    </tr>\n",
              "    <tr>\n",
              "      <th>24</th>\n",
              "      <td>90.950000</td>\n",
              "      <td>5.775886</td>\n",
              "    </tr>\n",
              "  </tbody>\n",
              "</table>\n",
              "</div>"
            ],
            "text/plain": [
              "                age       crim\n",
              "chas rad                      \n",
              "0    1    46.089474   0.037135\n",
              "     2    64.770833   0.083285\n",
              "     3    48.902778   0.094087\n",
              "     4    60.681373   0.409490\n",
              "     5    67.475962   0.622514\n",
              "     6    60.142308   0.150054\n",
              "     7    40.141176   0.150399\n",
              "     8    63.994737   0.345052\n",
              "     24   89.731452  13.209833\n",
              "1    1    24.800000   0.015010\n",
              "     3    56.650000   0.156265\n",
              "     4    62.887500   0.195176\n",
              "     5    85.745455   1.304961\n",
              "     8    80.100000   0.471570\n",
              "     24   90.950000   5.775886"
            ]
          },
          "metadata": {
            "tags": []
          },
          "execution_count": 59
        }
      ]
    },
    {
      "cell_type": "code",
      "metadata": {
        "id": "VJ2okUcGmwwB",
        "colab_type": "code",
        "outputId": "16dbb356-e25c-4163-9ab8-5e4353beea3f",
        "colab": {
          "base_uri": "https://localhost:8080/",
          "height": 386
        }
      },
      "source": [
        "pd.pivot_table(df,\n",
        "               index=['rad'], \n",
        "               columns=['chas'], \n",
        "               values=['age'])"
      ],
      "execution_count": 0,
      "outputs": [
        {
          "output_type": "execute_result",
          "data": {
            "text/html": [
              "<div>\n",
              "<style scoped>\n",
              "    .dataframe tbody tr th:only-of-type {\n",
              "        vertical-align: middle;\n",
              "    }\n",
              "\n",
              "    .dataframe tbody tr th {\n",
              "        vertical-align: top;\n",
              "    }\n",
              "\n",
              "    .dataframe thead tr th {\n",
              "        text-align: left;\n",
              "    }\n",
              "\n",
              "    .dataframe thead tr:last-of-type th {\n",
              "        text-align: right;\n",
              "    }\n",
              "</style>\n",
              "<table border=\"1\" class=\"dataframe\">\n",
              "  <thead>\n",
              "    <tr>\n",
              "      <th></th>\n",
              "      <th colspan=\"2\" halign=\"left\">age</th>\n",
              "    </tr>\n",
              "    <tr>\n",
              "      <th>chas</th>\n",
              "      <th>0</th>\n",
              "      <th>1</th>\n",
              "    </tr>\n",
              "    <tr>\n",
              "      <th>rad</th>\n",
              "      <th></th>\n",
              "      <th></th>\n",
              "    </tr>\n",
              "  </thead>\n",
              "  <tbody>\n",
              "    <tr>\n",
              "      <th>1</th>\n",
              "      <td>46.089474</td>\n",
              "      <td>24.800000</td>\n",
              "    </tr>\n",
              "    <tr>\n",
              "      <th>2</th>\n",
              "      <td>64.770833</td>\n",
              "      <td>NaN</td>\n",
              "    </tr>\n",
              "    <tr>\n",
              "      <th>3</th>\n",
              "      <td>48.902778</td>\n",
              "      <td>56.650000</td>\n",
              "    </tr>\n",
              "    <tr>\n",
              "      <th>4</th>\n",
              "      <td>60.681373</td>\n",
              "      <td>62.887500</td>\n",
              "    </tr>\n",
              "    <tr>\n",
              "      <th>5</th>\n",
              "      <td>67.475962</td>\n",
              "      <td>85.745455</td>\n",
              "    </tr>\n",
              "    <tr>\n",
              "      <th>6</th>\n",
              "      <td>60.142308</td>\n",
              "      <td>NaN</td>\n",
              "    </tr>\n",
              "    <tr>\n",
              "      <th>7</th>\n",
              "      <td>40.141176</td>\n",
              "      <td>NaN</td>\n",
              "    </tr>\n",
              "    <tr>\n",
              "      <th>8</th>\n",
              "      <td>63.994737</td>\n",
              "      <td>80.100000</td>\n",
              "    </tr>\n",
              "    <tr>\n",
              "      <th>24</th>\n",
              "      <td>89.731452</td>\n",
              "      <td>90.950000</td>\n",
              "    </tr>\n",
              "  </tbody>\n",
              "</table>\n",
              "</div>"
            ],
            "text/plain": [
              "            age           \n",
              "chas          0          1\n",
              "rad                       \n",
              "1     46.089474  24.800000\n",
              "2     64.770833        NaN\n",
              "3     48.902778  56.650000\n",
              "4     60.681373  62.887500\n",
              "5     67.475962  85.745455\n",
              "6     60.142308        NaN\n",
              "7     40.141176        NaN\n",
              "8     63.994737  80.100000\n",
              "24    89.731452  90.950000"
            ]
          },
          "metadata": {
            "tags": []
          },
          "execution_count": 60
        }
      ]
    },
    {
      "cell_type": "code",
      "metadata": {
        "id": "o_JI0luolF2N",
        "colab_type": "code",
        "outputId": "8c67c48d-453a-4e69-c111-75b6fc0633c5",
        "colab": {
          "base_uri": "https://localhost:8080/",
          "height": 417
        }
      },
      "source": [
        "pd.pivot_table(df,\n",
        "               index=['rad'], \n",
        "               columns=['chas'], \n",
        "               values=['age'],\n",
        "               aggfunc=[np.sum,np.mean])"
      ],
      "execution_count": 0,
      "outputs": [
        {
          "output_type": "execute_result",
          "data": {
            "text/html": [
              "<div>\n",
              "<style scoped>\n",
              "    .dataframe tbody tr th:only-of-type {\n",
              "        vertical-align: middle;\n",
              "    }\n",
              "\n",
              "    .dataframe tbody tr th {\n",
              "        vertical-align: top;\n",
              "    }\n",
              "\n",
              "    .dataframe thead tr th {\n",
              "        text-align: left;\n",
              "    }\n",
              "\n",
              "    .dataframe thead tr:last-of-type th {\n",
              "        text-align: right;\n",
              "    }\n",
              "</style>\n",
              "<table border=\"1\" class=\"dataframe\">\n",
              "  <thead>\n",
              "    <tr>\n",
              "      <th></th>\n",
              "      <th colspan=\"2\" halign=\"left\">sum</th>\n",
              "      <th colspan=\"2\" halign=\"left\">mean</th>\n",
              "    </tr>\n",
              "    <tr>\n",
              "      <th></th>\n",
              "      <th colspan=\"2\" halign=\"left\">age</th>\n",
              "      <th colspan=\"2\" halign=\"left\">age</th>\n",
              "    </tr>\n",
              "    <tr>\n",
              "      <th>chas</th>\n",
              "      <th>0</th>\n",
              "      <th>1</th>\n",
              "      <th>0</th>\n",
              "      <th>1</th>\n",
              "    </tr>\n",
              "    <tr>\n",
              "      <th>rad</th>\n",
              "      <th></th>\n",
              "      <th></th>\n",
              "      <th></th>\n",
              "      <th></th>\n",
              "    </tr>\n",
              "  </thead>\n",
              "  <tbody>\n",
              "    <tr>\n",
              "      <th>1</th>\n",
              "      <td>875.7</td>\n",
              "      <td>24.8</td>\n",
              "      <td>46.089474</td>\n",
              "      <td>24.800000</td>\n",
              "    </tr>\n",
              "    <tr>\n",
              "      <th>2</th>\n",
              "      <td>1554.5</td>\n",
              "      <td>NaN</td>\n",
              "      <td>64.770833</td>\n",
              "      <td>NaN</td>\n",
              "    </tr>\n",
              "    <tr>\n",
              "      <th>3</th>\n",
              "      <td>1760.5</td>\n",
              "      <td>113.3</td>\n",
              "      <td>48.902778</td>\n",
              "      <td>56.650000</td>\n",
              "    </tr>\n",
              "    <tr>\n",
              "      <th>4</th>\n",
              "      <td>6189.5</td>\n",
              "      <td>503.1</td>\n",
              "      <td>60.681373</td>\n",
              "      <td>62.887500</td>\n",
              "    </tr>\n",
              "    <tr>\n",
              "      <th>5</th>\n",
              "      <td>7017.5</td>\n",
              "      <td>943.2</td>\n",
              "      <td>67.475962</td>\n",
              "      <td>85.745455</td>\n",
              "    </tr>\n",
              "    <tr>\n",
              "      <th>6</th>\n",
              "      <td>1563.7</td>\n",
              "      <td>NaN</td>\n",
              "      <td>60.142308</td>\n",
              "      <td>NaN</td>\n",
              "    </tr>\n",
              "    <tr>\n",
              "      <th>7</th>\n",
              "      <td>682.4</td>\n",
              "      <td>NaN</td>\n",
              "      <td>40.141176</td>\n",
              "      <td>NaN</td>\n",
              "    </tr>\n",
              "    <tr>\n",
              "      <th>8</th>\n",
              "      <td>1215.9</td>\n",
              "      <td>400.5</td>\n",
              "      <td>63.994737</td>\n",
              "      <td>80.100000</td>\n",
              "    </tr>\n",
              "    <tr>\n",
              "      <th>24</th>\n",
              "      <td>11126.7</td>\n",
              "      <td>727.6</td>\n",
              "      <td>89.731452</td>\n",
              "      <td>90.950000</td>\n",
              "    </tr>\n",
              "  </tbody>\n",
              "</table>\n",
              "</div>"
            ],
            "text/plain": [
              "          sum              mean           \n",
              "          age               age           \n",
              "chas        0      1          0          1\n",
              "rad                                       \n",
              "1       875.7   24.8  46.089474  24.800000\n",
              "2      1554.5    NaN  64.770833        NaN\n",
              "3      1760.5  113.3  48.902778  56.650000\n",
              "4      6189.5  503.1  60.681373  62.887500\n",
              "5      7017.5  943.2  67.475962  85.745455\n",
              "6      1563.7    NaN  60.142308        NaN\n",
              "7       682.4    NaN  40.141176        NaN\n",
              "8      1215.9  400.5  63.994737  80.100000\n",
              "24    11126.7  727.6  89.731452  90.950000"
            ]
          },
          "metadata": {
            "tags": []
          },
          "execution_count": 61
        }
      ]
    },
    {
      "cell_type": "code",
      "metadata": {
        "id": "fi3LYEz3oDcf",
        "colab_type": "code",
        "outputId": "1b5c2e9a-fa33-43f9-fda8-e28d2259fa83",
        "colab": {
          "base_uri": "https://localhost:8080/",
          "height": 417
        }
      },
      "source": [
        "pd.pivot_table(df,\n",
        "               index=['rad'], \n",
        "               columns=['chas'], \n",
        "               values=['age'],\n",
        "               aggfunc=[np.sum,np.mean],\n",
        "               fill_value=0)"
      ],
      "execution_count": 0,
      "outputs": [
        {
          "output_type": "execute_result",
          "data": {
            "text/html": [
              "<div>\n",
              "<style scoped>\n",
              "    .dataframe tbody tr th:only-of-type {\n",
              "        vertical-align: middle;\n",
              "    }\n",
              "\n",
              "    .dataframe tbody tr th {\n",
              "        vertical-align: top;\n",
              "    }\n",
              "\n",
              "    .dataframe thead tr th {\n",
              "        text-align: left;\n",
              "    }\n",
              "\n",
              "    .dataframe thead tr:last-of-type th {\n",
              "        text-align: right;\n",
              "    }\n",
              "</style>\n",
              "<table border=\"1\" class=\"dataframe\">\n",
              "  <thead>\n",
              "    <tr>\n",
              "      <th></th>\n",
              "      <th colspan=\"2\" halign=\"left\">sum</th>\n",
              "      <th colspan=\"2\" halign=\"left\">mean</th>\n",
              "    </tr>\n",
              "    <tr>\n",
              "      <th></th>\n",
              "      <th colspan=\"2\" halign=\"left\">age</th>\n",
              "      <th colspan=\"2\" halign=\"left\">age</th>\n",
              "    </tr>\n",
              "    <tr>\n",
              "      <th>chas</th>\n",
              "      <th>0</th>\n",
              "      <th>1</th>\n",
              "      <th>0</th>\n",
              "      <th>1</th>\n",
              "    </tr>\n",
              "    <tr>\n",
              "      <th>rad</th>\n",
              "      <th></th>\n",
              "      <th></th>\n",
              "      <th></th>\n",
              "      <th></th>\n",
              "    </tr>\n",
              "  </thead>\n",
              "  <tbody>\n",
              "    <tr>\n",
              "      <th>1</th>\n",
              "      <td>875.7</td>\n",
              "      <td>24.8</td>\n",
              "      <td>46.089474</td>\n",
              "      <td>24.800000</td>\n",
              "    </tr>\n",
              "    <tr>\n",
              "      <th>2</th>\n",
              "      <td>1554.5</td>\n",
              "      <td>0.0</td>\n",
              "      <td>64.770833</td>\n",
              "      <td>0.000000</td>\n",
              "    </tr>\n",
              "    <tr>\n",
              "      <th>3</th>\n",
              "      <td>1760.5</td>\n",
              "      <td>113.3</td>\n",
              "      <td>48.902778</td>\n",
              "      <td>56.650000</td>\n",
              "    </tr>\n",
              "    <tr>\n",
              "      <th>4</th>\n",
              "      <td>6189.5</td>\n",
              "      <td>503.1</td>\n",
              "      <td>60.681373</td>\n",
              "      <td>62.887500</td>\n",
              "    </tr>\n",
              "    <tr>\n",
              "      <th>5</th>\n",
              "      <td>7017.5</td>\n",
              "      <td>943.2</td>\n",
              "      <td>67.475962</td>\n",
              "      <td>85.745455</td>\n",
              "    </tr>\n",
              "    <tr>\n",
              "      <th>6</th>\n",
              "      <td>1563.7</td>\n",
              "      <td>0.0</td>\n",
              "      <td>60.142308</td>\n",
              "      <td>0.000000</td>\n",
              "    </tr>\n",
              "    <tr>\n",
              "      <th>7</th>\n",
              "      <td>682.4</td>\n",
              "      <td>0.0</td>\n",
              "      <td>40.141176</td>\n",
              "      <td>0.000000</td>\n",
              "    </tr>\n",
              "    <tr>\n",
              "      <th>8</th>\n",
              "      <td>1215.9</td>\n",
              "      <td>400.5</td>\n",
              "      <td>63.994737</td>\n",
              "      <td>80.100000</td>\n",
              "    </tr>\n",
              "    <tr>\n",
              "      <th>24</th>\n",
              "      <td>11126.7</td>\n",
              "      <td>727.6</td>\n",
              "      <td>89.731452</td>\n",
              "      <td>90.950000</td>\n",
              "    </tr>\n",
              "  </tbody>\n",
              "</table>\n",
              "</div>"
            ],
            "text/plain": [
              "          sum              mean           \n",
              "          age               age           \n",
              "chas        0      1          0          1\n",
              "rad                                       \n",
              "1       875.7   24.8  46.089474  24.800000\n",
              "2      1554.5    0.0  64.770833   0.000000\n",
              "3      1760.5  113.3  48.902778  56.650000\n",
              "4      6189.5  503.1  60.681373  62.887500\n",
              "5      7017.5  943.2  67.475962  85.745455\n",
              "6      1563.7    0.0  60.142308   0.000000\n",
              "7       682.4    0.0  40.141176   0.000000\n",
              "8      1215.9  400.5  63.994737  80.100000\n",
              "24    11126.7  727.6  89.731452  90.950000"
            ]
          },
          "metadata": {
            "tags": []
          },
          "execution_count": 62
        }
      ]
    },
    {
      "cell_type": "code",
      "metadata": {
        "id": "GOzhUZi_oZRv",
        "colab_type": "code",
        "outputId": "adb2f3ce-339e-4423-c8f9-1c143b69b1cd",
        "colab": {
          "base_uri": "https://localhost:8080/",
          "height": 447
        }
      },
      "source": [
        "pd.pivot_table(df,\n",
        "               index=['rad'], \n",
        "               columns=['chas'], \n",
        "               values=['age'],\n",
        "               aggfunc=[np.sum,np.mean],\n",
        "               fill_value='X',\n",
        "               margins=1)"
      ],
      "execution_count": 0,
      "outputs": [
        {
          "output_type": "execute_result",
          "data": {
            "text/html": [
              "<div>\n",
              "<style scoped>\n",
              "    .dataframe tbody tr th:only-of-type {\n",
              "        vertical-align: middle;\n",
              "    }\n",
              "\n",
              "    .dataframe tbody tr th {\n",
              "        vertical-align: top;\n",
              "    }\n",
              "\n",
              "    .dataframe thead tr th {\n",
              "        text-align: left;\n",
              "    }\n",
              "\n",
              "    .dataframe thead tr:last-of-type th {\n",
              "        text-align: right;\n",
              "    }\n",
              "</style>\n",
              "<table border=\"1\" class=\"dataframe\">\n",
              "  <thead>\n",
              "    <tr>\n",
              "      <th></th>\n",
              "      <th colspan=\"3\" halign=\"left\">sum</th>\n",
              "      <th colspan=\"3\" halign=\"left\">mean</th>\n",
              "    </tr>\n",
              "    <tr>\n",
              "      <th></th>\n",
              "      <th colspan=\"3\" halign=\"left\">age</th>\n",
              "      <th colspan=\"3\" halign=\"left\">age</th>\n",
              "    </tr>\n",
              "    <tr>\n",
              "      <th>chas</th>\n",
              "      <th>0</th>\n",
              "      <th>1</th>\n",
              "      <th>All</th>\n",
              "      <th>0</th>\n",
              "      <th>1</th>\n",
              "      <th>All</th>\n",
              "    </tr>\n",
              "    <tr>\n",
              "      <th>rad</th>\n",
              "      <th></th>\n",
              "      <th></th>\n",
              "      <th></th>\n",
              "      <th></th>\n",
              "      <th></th>\n",
              "      <th></th>\n",
              "    </tr>\n",
              "  </thead>\n",
              "  <tbody>\n",
              "    <tr>\n",
              "      <th>1</th>\n",
              "      <td>875.7</td>\n",
              "      <td>24.8</td>\n",
              "      <td>900.5</td>\n",
              "      <td>46.089474</td>\n",
              "      <td>24.8</td>\n",
              "      <td>45.025000</td>\n",
              "    </tr>\n",
              "    <tr>\n",
              "      <th>2</th>\n",
              "      <td>1554.5</td>\n",
              "      <td>X</td>\n",
              "      <td>1554.5</td>\n",
              "      <td>64.770833</td>\n",
              "      <td>X</td>\n",
              "      <td>64.770833</td>\n",
              "    </tr>\n",
              "    <tr>\n",
              "      <th>3</th>\n",
              "      <td>1760.5</td>\n",
              "      <td>113.3</td>\n",
              "      <td>1873.8</td>\n",
              "      <td>48.902778</td>\n",
              "      <td>56.65</td>\n",
              "      <td>49.310526</td>\n",
              "    </tr>\n",
              "    <tr>\n",
              "      <th>4</th>\n",
              "      <td>6189.5</td>\n",
              "      <td>503.1</td>\n",
              "      <td>6692.6</td>\n",
              "      <td>60.681373</td>\n",
              "      <td>62.8875</td>\n",
              "      <td>60.841818</td>\n",
              "    </tr>\n",
              "    <tr>\n",
              "      <th>5</th>\n",
              "      <td>7017.5</td>\n",
              "      <td>943.2</td>\n",
              "      <td>7960.7</td>\n",
              "      <td>67.475962</td>\n",
              "      <td>85.7455</td>\n",
              "      <td>69.223478</td>\n",
              "    </tr>\n",
              "    <tr>\n",
              "      <th>6</th>\n",
              "      <td>1563.7</td>\n",
              "      <td>X</td>\n",
              "      <td>1563.7</td>\n",
              "      <td>60.142308</td>\n",
              "      <td>X</td>\n",
              "      <td>60.142308</td>\n",
              "    </tr>\n",
              "    <tr>\n",
              "      <th>7</th>\n",
              "      <td>682.4</td>\n",
              "      <td>X</td>\n",
              "      <td>682.4</td>\n",
              "      <td>40.141176</td>\n",
              "      <td>X</td>\n",
              "      <td>40.141176</td>\n",
              "    </tr>\n",
              "    <tr>\n",
              "      <th>8</th>\n",
              "      <td>1215.9</td>\n",
              "      <td>400.5</td>\n",
              "      <td>1616.4</td>\n",
              "      <td>63.994737</td>\n",
              "      <td>80.1</td>\n",
              "      <td>67.350000</td>\n",
              "    </tr>\n",
              "    <tr>\n",
              "      <th>24</th>\n",
              "      <td>11126.7</td>\n",
              "      <td>727.6</td>\n",
              "      <td>11854.3</td>\n",
              "      <td>89.731452</td>\n",
              "      <td>90.95</td>\n",
              "      <td>89.805303</td>\n",
              "    </tr>\n",
              "    <tr>\n",
              "      <th>All</th>\n",
              "      <td>31986.4</td>\n",
              "      <td>2712.5</td>\n",
              "      <td>34698.9</td>\n",
              "      <td>67.911677</td>\n",
              "      <td>77.5</td>\n",
              "      <td>68.574901</td>\n",
              "    </tr>\n",
              "  </tbody>\n",
              "</table>\n",
              "</div>"
            ],
            "text/plain": [
              "          sum                        mean                    \n",
              "          age                         age                    \n",
              "chas        0       1      All          0        1        All\n",
              "rad                                                          \n",
              "1       875.7    24.8    900.5  46.089474     24.8  45.025000\n",
              "2      1554.5       X   1554.5  64.770833        X  64.770833\n",
              "3      1760.5   113.3   1873.8  48.902778    56.65  49.310526\n",
              "4      6189.5   503.1   6692.6  60.681373  62.8875  60.841818\n",
              "5      7017.5   943.2   7960.7  67.475962  85.7455  69.223478\n",
              "6      1563.7       X   1563.7  60.142308        X  60.142308\n",
              "7       682.4       X    682.4  40.141176        X  40.141176\n",
              "8      1215.9   400.5   1616.4  63.994737     80.1  67.350000\n",
              "24    11126.7   727.6  11854.3  89.731452    90.95  89.805303\n",
              "All   31986.4  2712.5  34698.9  67.911677     77.5  68.574901"
            ]
          },
          "metadata": {
            "tags": []
          },
          "execution_count": 63
        }
      ]
    },
    {
      "cell_type": "markdown",
      "metadata": {
        "id": "5Bugc3CUjkJu",
        "colab_type": "text"
      },
      "source": [
        "#### 資料選擇與篩選\n",
        "\n",
        "\n",
        "\n"
      ]
    },
    {
      "cell_type": "code",
      "metadata": {
        "id": "32Gl33I7pn9N",
        "colab_type": "code",
        "outputId": "62dcddf4-e8c5-4c4b-afed-c89729494ff8",
        "colab": {
          "base_uri": "https://localhost:8080/",
          "height": 386
        }
      },
      "source": [
        "df_p = pd.pivot_table(df,\n",
        "                      index=['rad'],\n",
        "                      values=['age','crim','zn'],\n",
        "                      margins=1)\n",
        "df_p"
      ],
      "execution_count": 0,
      "outputs": [
        {
          "output_type": "execute_result",
          "data": {
            "text/html": [
              "<div>\n",
              "<style scoped>\n",
              "    .dataframe tbody tr th:only-of-type {\n",
              "        vertical-align: middle;\n",
              "    }\n",
              "\n",
              "    .dataframe tbody tr th {\n",
              "        vertical-align: top;\n",
              "    }\n",
              "\n",
              "    .dataframe thead th {\n",
              "        text-align: right;\n",
              "    }\n",
              "</style>\n",
              "<table border=\"1\" class=\"dataframe\">\n",
              "  <thead>\n",
              "    <tr style=\"text-align: right;\">\n",
              "      <th></th>\n",
              "      <th>age</th>\n",
              "      <th>crim</th>\n",
              "      <th>zn</th>\n",
              "    </tr>\n",
              "    <tr>\n",
              "      <th>rad</th>\n",
              "      <th></th>\n",
              "      <th></th>\n",
              "      <th></th>\n",
              "    </tr>\n",
              "  </thead>\n",
              "  <tbody>\n",
              "    <tr>\n",
              "      <th>1</th>\n",
              "      <td>45.025000</td>\n",
              "      <td>0.036029</td>\n",
              "      <td>39.900000</td>\n",
              "    </tr>\n",
              "    <tr>\n",
              "      <th>2</th>\n",
              "      <td>64.770833</td>\n",
              "      <td>0.083285</td>\n",
              "      <td>20.416667</td>\n",
              "    </tr>\n",
              "    <tr>\n",
              "      <th>3</th>\n",
              "      <td>49.310526</td>\n",
              "      <td>0.097359</td>\n",
              "      <td>16.381579</td>\n",
              "    </tr>\n",
              "    <tr>\n",
              "      <th>4</th>\n",
              "      <td>60.841818</td>\n",
              "      <td>0.393903</td>\n",
              "      <td>14.731818</td>\n",
              "    </tr>\n",
              "    <tr>\n",
              "      <th>5</th>\n",
              "      <td>69.223478</td>\n",
              "      <td>0.687792</td>\n",
              "      <td>11.108696</td>\n",
              "    </tr>\n",
              "    <tr>\n",
              "      <th>6</th>\n",
              "      <td>60.142308</td>\n",
              "      <td>0.150054</td>\n",
              "      <td>12.980769</td>\n",
              "    </tr>\n",
              "    <tr>\n",
              "      <th>7</th>\n",
              "      <td>40.141176</td>\n",
              "      <td>0.150399</td>\n",
              "      <td>26.705882</td>\n",
              "    </tr>\n",
              "    <tr>\n",
              "      <th>8</th>\n",
              "      <td>67.350000</td>\n",
              "      <td>0.371410</td>\n",
              "      <td>6.250000</td>\n",
              "    </tr>\n",
              "    <tr>\n",
              "      <th>24</th>\n",
              "      <td>89.805303</td>\n",
              "      <td>12.759291</td>\n",
              "      <td>0.000000</td>\n",
              "    </tr>\n",
              "    <tr>\n",
              "      <th>All</th>\n",
              "      <td>68.574901</td>\n",
              "      <td>3.613524</td>\n",
              "      <td>11.363636</td>\n",
              "    </tr>\n",
              "  </tbody>\n",
              "</table>\n",
              "</div>"
            ],
            "text/plain": [
              "           age       crim         zn\n",
              "rad                                 \n",
              "1    45.025000   0.036029  39.900000\n",
              "2    64.770833   0.083285  20.416667\n",
              "3    49.310526   0.097359  16.381579\n",
              "4    60.841818   0.393903  14.731818\n",
              "5    69.223478   0.687792  11.108696\n",
              "6    60.142308   0.150054  12.980769\n",
              "7    40.141176   0.150399  26.705882\n",
              "8    67.350000   0.371410   6.250000\n",
              "24   89.805303  12.759291   0.000000\n",
              "All  68.574901   3.613524  11.363636"
            ]
          },
          "metadata": {
            "tags": []
          },
          "execution_count": 64
        }
      ]
    },
    {
      "cell_type": "markdown",
      "metadata": {
        "id": "zQcPm58CpdM6",
        "colab_type": "text"
      },
      "source": [
        "##### .loc .iloc 方法選擇"
      ]
    },
    {
      "cell_type": "code",
      "metadata": {
        "id": "e_cjz6-iqXD2",
        "colab_type": "code",
        "outputId": "f8b88577-ffd4-4445-ea0e-3f58616d4b9a",
        "colab": {
          "base_uri": "https://localhost:8080/",
          "height": 35
        }
      },
      "source": [
        "df_p.iloc[-1, 1]"
      ],
      "execution_count": 0,
      "outputs": [
        {
          "output_type": "execute_result",
          "data": {
            "text/plain": [
              "3.6135235573122535"
            ]
          },
          "metadata": {
            "tags": []
          },
          "execution_count": 65
        }
      ]
    },
    {
      "cell_type": "code",
      "metadata": {
        "id": "Dmal7G8etAvx",
        "colab_type": "code",
        "outputId": "61a3b49a-765c-476b-8215-0643b975d129",
        "colab": {
          "base_uri": "https://localhost:8080/",
          "height": 35
        }
      },
      "source": [
        "df_p.loc['All','crim']"
      ],
      "execution_count": 0,
      "outputs": [
        {
          "output_type": "execute_result",
          "data": {
            "text/plain": [
              "3.6135235573122535"
            ]
          },
          "metadata": {
            "tags": []
          },
          "execution_count": 66
        }
      ]
    },
    {
      "cell_type": "markdown",
      "metadata": {
        "id": "3WcEBwClpesK",
        "colab_type": "text"
      },
      "source": [
        "##### 使用布林值篩選"
      ]
    },
    {
      "cell_type": "code",
      "metadata": {
        "id": "Etfw2V28q92G",
        "colab_type": "code",
        "outputId": "b5965172-4c81-4211-bcd0-530518ef522c",
        "colab": {
          "base_uri": "https://localhost:8080/",
          "height": 294
        }
      },
      "source": [
        "df_p.loc[df_p.age > 60]"
      ],
      "execution_count": 0,
      "outputs": [
        {
          "output_type": "execute_result",
          "data": {
            "text/html": [
              "<div>\n",
              "<style scoped>\n",
              "    .dataframe tbody tr th:only-of-type {\n",
              "        vertical-align: middle;\n",
              "    }\n",
              "\n",
              "    .dataframe tbody tr th {\n",
              "        vertical-align: top;\n",
              "    }\n",
              "\n",
              "    .dataframe thead th {\n",
              "        text-align: right;\n",
              "    }\n",
              "</style>\n",
              "<table border=\"1\" class=\"dataframe\">\n",
              "  <thead>\n",
              "    <tr style=\"text-align: right;\">\n",
              "      <th></th>\n",
              "      <th>age</th>\n",
              "      <th>crim</th>\n",
              "      <th>zn</th>\n",
              "    </tr>\n",
              "    <tr>\n",
              "      <th>rad</th>\n",
              "      <th></th>\n",
              "      <th></th>\n",
              "      <th></th>\n",
              "    </tr>\n",
              "  </thead>\n",
              "  <tbody>\n",
              "    <tr>\n",
              "      <th>2</th>\n",
              "      <td>64.770833</td>\n",
              "      <td>0.083285</td>\n",
              "      <td>20.416667</td>\n",
              "    </tr>\n",
              "    <tr>\n",
              "      <th>4</th>\n",
              "      <td>60.841818</td>\n",
              "      <td>0.393903</td>\n",
              "      <td>14.731818</td>\n",
              "    </tr>\n",
              "    <tr>\n",
              "      <th>5</th>\n",
              "      <td>69.223478</td>\n",
              "      <td>0.687792</td>\n",
              "      <td>11.108696</td>\n",
              "    </tr>\n",
              "    <tr>\n",
              "      <th>6</th>\n",
              "      <td>60.142308</td>\n",
              "      <td>0.150054</td>\n",
              "      <td>12.980769</td>\n",
              "    </tr>\n",
              "    <tr>\n",
              "      <th>8</th>\n",
              "      <td>67.350000</td>\n",
              "      <td>0.371410</td>\n",
              "      <td>6.250000</td>\n",
              "    </tr>\n",
              "    <tr>\n",
              "      <th>24</th>\n",
              "      <td>89.805303</td>\n",
              "      <td>12.759291</td>\n",
              "      <td>0.000000</td>\n",
              "    </tr>\n",
              "    <tr>\n",
              "      <th>All</th>\n",
              "      <td>68.574901</td>\n",
              "      <td>3.613524</td>\n",
              "      <td>11.363636</td>\n",
              "    </tr>\n",
              "  </tbody>\n",
              "</table>\n",
              "</div>"
            ],
            "text/plain": [
              "           age       crim         zn\n",
              "rad                                 \n",
              "2    64.770833   0.083285  20.416667\n",
              "4    60.841818   0.393903  14.731818\n",
              "5    69.223478   0.687792  11.108696\n",
              "6    60.142308   0.150054  12.980769\n",
              "8    67.350000   0.371410   6.250000\n",
              "24   89.805303  12.759291   0.000000\n",
              "All  68.574901   3.613524  11.363636"
            ]
          },
          "metadata": {
            "tags": []
          },
          "execution_count": 67
        }
      ]
    }
  ]
}