{
  "nbformat": 4,
  "nbformat_minor": 0,
  "metadata": {
    "colab": {
      "name": "Data cleaning",
      "provenance": [],
      "collapsed_sections": [],
      "toc_visible": true,
      "include_colab_link": true
    },
    "kernelspec": {
      "name": "python3",
      "display_name": "Python 3"
    }
  },
  "cells": [
    {
      "cell_type": "markdown",
      "metadata": {
        "id": "view-in-github",
        "colab_type": "text"
      },
      "source": [
        "<a href=\"https://colab.research.google.com/github/Terence0408/Teach_code/blob/master/Data_cleaning.ipynb\" target=\"_parent\"><img src=\"https://colab.research.google.com/assets/colab-badge.svg\" alt=\"Open In Colab\"/></a>"
      ]
    },
    {
      "cell_type": "markdown",
      "metadata": {
        "id": "w9p5qnfdgj_k",
        "colab_type": "text"
      },
      "source": [
        "# Python 資料處理有以下工具可搭配使用：\n",
        "* Numpy: Python 中最基本的數據儲存格式\n",
        "* 與 SQL 介接的套件\n",
        "* Pandas: 可做行列計算和 pivot 表"
      ]
    },
    {
      "cell_type": "markdown",
      "metadata": {
        "id": "enIAcEysLbyx",
        "colab_type": "text"
      },
      "source": [
        "## Numpy"
      ]
    },
    {
      "cell_type": "code",
      "metadata": {
        "id": "xmSqmt5QLa0N",
        "colab_type": "code",
        "colab": {}
      },
      "source": [
        "import numpy as np"
      ],
      "execution_count": 0,
      "outputs": []
    },
    {
      "cell_type": "markdown",
      "metadata": {
        "id": "Bv7CrZEfvd4g",
        "colab_type": "text"
      },
      "source": [
        "### List to numpy array"
      ]
    },
    {
      "cell_type": "code",
      "metadata": {
        "id": "MB9lmQIFydVf",
        "colab_type": "code",
        "outputId": "d021ceab-8769-42a3-d64e-1d8893b27afe",
        "colab": {
          "base_uri": "https://localhost:8080/",
          "height": 50
        }
      },
      "source": [
        "xx = [1,2,3,4,5,6,7,8,9,10,11,12]\n",
        "\n",
        "nparray = np.array(xx, dtype=np.float32)\n",
        "nparray"
      ],
      "execution_count": 2,
      "outputs": [
        {
          "output_type": "execute_result",
          "data": {
            "text/plain": [
              "array([ 1.,  2.,  3.,  4.,  5.,  6.,  7.,  8.,  9., 10., 11., 12.],\n",
              "      dtype=float32)"
            ]
          },
          "metadata": {
            "tags": []
          },
          "execution_count": 2
        }
      ]
    },
    {
      "cell_type": "code",
      "metadata": {
        "id": "09xcQyWIyy1O",
        "colab_type": "code",
        "outputId": "b6b41c21-ef3a-4e32-d179-f81fc2bdb8ff",
        "colab": {
          "base_uri": "https://localhost:8080/",
          "height": 34
        }
      },
      "source": [
        "nparray.shape"
      ],
      "execution_count": 3,
      "outputs": [
        {
          "output_type": "execute_result",
          "data": {
            "text/plain": [
              "(12,)"
            ]
          },
          "metadata": {
            "tags": []
          },
          "execution_count": 3
        }
      ]
    },
    {
      "cell_type": "markdown",
      "metadata": {
        "id": "B_DicjlOwzMW",
        "colab_type": "text"
      },
      "source": [
        "### Reshape"
      ]
    },
    {
      "cell_type": "code",
      "metadata": {
        "id": "MCMs6HVbydAa",
        "colab_type": "code",
        "outputId": "3dddba24-a181-46d4-9229-97d6e065a93f",
        "colab": {
          "base_uri": "https://localhost:8080/",
          "height": 84
        }
      },
      "source": [
        "nparray = nparray.reshape((4, 3))\n",
        "nparray"
      ],
      "execution_count": 4,
      "outputs": [
        {
          "output_type": "execute_result",
          "data": {
            "text/plain": [
              "array([[ 1.,  2.,  3.],\n",
              "       [ 4.,  5.,  6.],\n",
              "       [ 7.,  8.,  9.],\n",
              "       [10., 11., 12.]], dtype=float32)"
            ]
          },
          "metadata": {
            "tags": []
          },
          "execution_count": 4
        }
      ]
    },
    {
      "cell_type": "markdown",
      "metadata": {
        "id": "J6Ef3y5-vk4t",
        "colab_type": "text"
      },
      "source": [
        "### Create numpy array"
      ]
    },
    {
      "cell_type": "code",
      "metadata": {
        "id": "u7e9JYMOzqJh",
        "colab_type": "code",
        "outputId": "ce793844-a30d-41b5-9bba-007c4b19150e",
        "colab": {
          "base_uri": "https://localhost:8080/",
          "height": 84
        }
      },
      "source": [
        "zeroarray = np.zeros((4, 3), dtype=np.float32)\n",
        "zeroarray"
      ],
      "execution_count": 5,
      "outputs": [
        {
          "output_type": "execute_result",
          "data": {
            "text/plain": [
              "array([[0., 0., 0.],\n",
              "       [0., 0., 0.],\n",
              "       [0., 0., 0.],\n",
              "       [0., 0., 0.]], dtype=float32)"
            ]
          },
          "metadata": {
            "tags": []
          },
          "execution_count": 5
        }
      ]
    },
    {
      "cell_type": "code",
      "metadata": {
        "id": "1NhTKIvN0JQh",
        "colab_type": "code",
        "outputId": "8af64f2e-1fc7-4694-b2a5-29e3c289f718",
        "colab": {
          "base_uri": "https://localhost:8080/",
          "height": 84
        }
      },
      "source": [
        "onearray = np.ones((4, 3), dtype=np.float32)\n",
        "onearray"
      ],
      "execution_count": 6,
      "outputs": [
        {
          "output_type": "execute_result",
          "data": {
            "text/plain": [
              "array([[1., 1., 1.],\n",
              "       [1., 1., 1.],\n",
              "       [1., 1., 1.],\n",
              "       [1., 1., 1.]], dtype=float32)"
            ]
          },
          "metadata": {
            "tags": []
          },
          "execution_count": 6
        }
      ]
    },
    {
      "cell_type": "markdown",
      "metadata": {
        "id": "118tE6QazL6P",
        "colab_type": "text"
      },
      "source": [
        "### Array 矩陣處理"
      ]
    },
    {
      "cell_type": "markdown",
      "metadata": {
        "id": "xHH_6-4p8uQz",
        "colab_type": "text"
      },
      "source": [
        "#### Select and change value"
      ]
    },
    {
      "cell_type": "markdown",
      "metadata": {
        "id": "blrYjsRNxdOL",
        "colab_type": "text"
      },
      "source": [
        "##### Elements"
      ]
    },
    {
      "cell_type": "code",
      "metadata": {
        "id": "zkA7a2k1VoDp",
        "colab_type": "code",
        "outputId": "c2212d9b-60a9-41d2-891d-746049387219",
        "colab": {
          "base_uri": "https://localhost:8080/",
          "height": 34
        }
      },
      "source": [
        "nparray[0,0]"
      ],
      "execution_count": 7,
      "outputs": [
        {
          "output_type": "execute_result",
          "data": {
            "text/plain": [
              "1.0"
            ]
          },
          "metadata": {
            "tags": []
          },
          "execution_count": 7
        }
      ]
    },
    {
      "cell_type": "code",
      "metadata": {
        "id": "qP9DclJ44jMm",
        "colab_type": "code",
        "outputId": "9a2aba3a-07c0-4f4e-8052-bc77ce9ba2b9",
        "colab": {
          "base_uri": "https://localhost:8080/",
          "height": 84
        }
      },
      "source": [
        "nparray[0,0] = 0\n",
        "nparray[1,1] = 0\n",
        "nparray[2,2] = 0\n",
        "\n",
        "nparray"
      ],
      "execution_count": 8,
      "outputs": [
        {
          "output_type": "execute_result",
          "data": {
            "text/plain": [
              "array([[ 0.,  2.,  3.],\n",
              "       [ 4.,  0.,  6.],\n",
              "       [ 7.,  8.,  0.],\n",
              "       [10., 11., 12.]], dtype=float32)"
            ]
          },
          "metadata": {
            "tags": []
          },
          "execution_count": 8
        }
      ]
    },
    {
      "cell_type": "markdown",
      "metadata": {
        "id": "JU3Evj8PxfI3",
        "colab_type": "text"
      },
      "source": [
        "##### Subarray"
      ]
    },
    {
      "cell_type": "code",
      "metadata": {
        "id": "RDSMpgx78EH1",
        "colab_type": "code",
        "outputId": "2302b56f-db9b-4193-c7f8-bb36a35921d9",
        "colab": {
          "base_uri": "https://localhost:8080/",
          "height": 67
        }
      },
      "source": [
        "nparray[0:3,0:3]"
      ],
      "execution_count": 9,
      "outputs": [
        {
          "output_type": "execute_result",
          "data": {
            "text/plain": [
              "array([[0., 2., 3.],\n",
              "       [4., 0., 6.],\n",
              "       [7., 8., 0.]], dtype=float32)"
            ]
          },
          "metadata": {
            "tags": []
          },
          "execution_count": 9
        }
      ]
    },
    {
      "cell_type": "code",
      "metadata": {
        "id": "0LdchxxZ8PQf",
        "colab_type": "code",
        "outputId": "11d32ba0-cb4a-436b-d34b-9999f7af72b3",
        "colab": {
          "base_uri": "https://localhost:8080/",
          "height": 84
        }
      },
      "source": [
        "nparray[0:3,0:3]=[[1,2,3],\n",
        "                  [4,5,6],\n",
        "                  [7,8,9]]\n",
        "nparray"
      ],
      "execution_count": 10,
      "outputs": [
        {
          "output_type": "execute_result",
          "data": {
            "text/plain": [
              "array([[ 1.,  2.,  3.],\n",
              "       [ 4.,  5.,  6.],\n",
              "       [ 7.,  8.,  9.],\n",
              "       [10., 11., 12.]], dtype=float32)"
            ]
          },
          "metadata": {
            "tags": []
          },
          "execution_count": 10
        }
      ]
    },
    {
      "cell_type": "markdown",
      "metadata": {
        "id": "Xil4gjaH3s_B",
        "colab_type": "text"
      },
      "source": [
        "#### Arithmetic"
      ]
    },
    {
      "cell_type": "code",
      "metadata": {
        "id": "ydw-Ts-J47Jc",
        "colab_type": "code",
        "outputId": "0b699b70-5f14-47b6-f566-3188358f195e",
        "colab": {
          "base_uri": "https://localhost:8080/",
          "height": 84
        }
      },
      "source": [
        "np.add(nparray, 2)"
      ],
      "execution_count": 11,
      "outputs": [
        {
          "output_type": "execute_result",
          "data": {
            "text/plain": [
              "array([[ 3.,  4.,  5.],\n",
              "       [ 6.,  7.,  8.],\n",
              "       [ 9., 10., 11.],\n",
              "       [12., 13., 14.]], dtype=float32)"
            ]
          },
          "metadata": {
            "tags": []
          },
          "execution_count": 11
        }
      ]
    },
    {
      "cell_type": "code",
      "metadata": {
        "id": "yUnsuV3Q7iCv",
        "colab_type": "code",
        "outputId": "07b6c21b-2550-4e54-bcf6-f8eb4f5878eb",
        "colab": {
          "base_uri": "https://localhost:8080/",
          "height": 84
        }
      },
      "source": [
        "np.add(nparray, onearray)"
      ],
      "execution_count": 12,
      "outputs": [
        {
          "output_type": "execute_result",
          "data": {
            "text/plain": [
              "array([[ 2.,  3.,  4.],\n",
              "       [ 5.,  6.,  7.],\n",
              "       [ 8.,  9., 10.],\n",
              "       [11., 12., 13.]], dtype=float32)"
            ]
          },
          "metadata": {
            "tags": []
          },
          "execution_count": 12
        }
      ]
    },
    {
      "cell_type": "code",
      "metadata": {
        "id": "iw8FQ5jU7egP",
        "colab_type": "code",
        "outputId": "3fcd1aca-0689-4fc4-94ca-69352ccd0254",
        "colab": {
          "base_uri": "https://localhost:8080/",
          "height": 84
        }
      },
      "source": [
        "np.multiply(nparray, nparray)"
      ],
      "execution_count": 13,
      "outputs": [
        {
          "output_type": "execute_result",
          "data": {
            "text/plain": [
              "array([[  1.,   4.,   9.],\n",
              "       [ 16.,  25.,  36.],\n",
              "       [ 49.,  64.,  81.],\n",
              "       [100., 121., 144.]], dtype=float32)"
            ]
          },
          "metadata": {
            "tags": []
          },
          "execution_count": 13
        }
      ]
    },
    {
      "cell_type": "code",
      "metadata": {
        "id": "5QQxgzSf5Vp_",
        "colab_type": "code",
        "outputId": "0345490d-f94e-49b2-fc7d-8867819a20fb",
        "colab": {
          "base_uri": "https://localhost:8080/",
          "height": 84
        }
      },
      "source": [
        "np.mod(nparray, 2)"
      ],
      "execution_count": 14,
      "outputs": [
        {
          "output_type": "execute_result",
          "data": {
            "text/plain": [
              "array([[1., 0., 1.],\n",
              "       [0., 1., 0.],\n",
              "       [1., 0., 1.],\n",
              "       [0., 1., 0.]], dtype=float32)"
            ]
          },
          "metadata": {
            "tags": []
          },
          "execution_count": 14
        }
      ]
    },
    {
      "cell_type": "markdown",
      "metadata": {
        "id": "mC0NKYSAxhy5",
        "colab_type": "text"
      },
      "source": [
        "#### Concatenate"
      ]
    },
    {
      "cell_type": "code",
      "metadata": {
        "id": "4haFIHU69jxl",
        "colab_type": "code",
        "outputId": "12858f9a-f00f-4e93-ee88-23827584a6cc",
        "colab": {
          "base_uri": "https://localhost:8080/",
          "height": 84
        }
      },
      "source": [
        "np.concatenate((nparray, nparray), axis=1)\n"
      ],
      "execution_count": 15,
      "outputs": [
        {
          "output_type": "execute_result",
          "data": {
            "text/plain": [
              "array([[ 1.,  2.,  3.,  1.,  2.,  3.],\n",
              "       [ 4.,  5.,  6.,  4.,  5.,  6.],\n",
              "       [ 7.,  8.,  9.,  7.,  8.,  9.],\n",
              "       [10., 11., 12., 10., 11., 12.]], dtype=float32)"
            ]
          },
          "metadata": {
            "tags": []
          },
          "execution_count": 15
        }
      ]
    },
    {
      "cell_type": "code",
      "metadata": {
        "id": "xlZVB8-gHw2J",
        "colab_type": "code",
        "outputId": "6568b3bf-25df-44c3-adf5-4f34d28faee7",
        "colab": {
          "base_uri": "https://localhost:8080/",
          "height": 151
        }
      },
      "source": [
        "np.concatenate((nparray, nparray), axis=0)"
      ],
      "execution_count": 16,
      "outputs": [
        {
          "output_type": "execute_result",
          "data": {
            "text/plain": [
              "array([[ 1.,  2.,  3.],\n",
              "       [ 4.,  5.,  6.],\n",
              "       [ 7.,  8.,  9.],\n",
              "       [10., 11., 12.],\n",
              "       [ 1.,  2.,  3.],\n",
              "       [ 4.,  5.,  6.],\n",
              "       [ 7.,  8.,  9.],\n",
              "       [10., 11., 12.]], dtype=float32)"
            ]
          },
          "metadata": {
            "tags": []
          },
          "execution_count": 16
        }
      ]
    },
    {
      "cell_type": "markdown",
      "metadata": {
        "id": "PWr23EBCzcL3",
        "colab_type": "text"
      },
      "source": [
        "#### Aggregate"
      ]
    },
    {
      "cell_type": "markdown",
      "metadata": {
        "id": "QshMukTc24Z7",
        "colab_type": "text"
      },
      "source": [
        "##### 整體"
      ]
    },
    {
      "cell_type": "code",
      "metadata": {
        "id": "K5YJam1bKVCG",
        "colab_type": "code",
        "outputId": "20403724-118b-45a9-c7c4-38bb2b5fb350",
        "colab": {
          "base_uri": "https://localhost:8080/",
          "height": 34
        }
      },
      "source": [
        "np.median(nparray)"
      ],
      "execution_count": 17,
      "outputs": [
        {
          "output_type": "execute_result",
          "data": {
            "text/plain": [
              "6.5"
            ]
          },
          "metadata": {
            "tags": []
          },
          "execution_count": 17
        }
      ]
    },
    {
      "cell_type": "code",
      "metadata": {
        "id": "Ez1IjfMmJJXQ",
        "colab_type": "code",
        "outputId": "30278672-cd05-4c46-92bc-37f088c3b3be",
        "colab": {
          "base_uri": "https://localhost:8080/",
          "height": 34
        }
      },
      "source": [
        "nparray.sum()"
      ],
      "execution_count": 18,
      "outputs": [
        {
          "output_type": "execute_result",
          "data": {
            "text/plain": [
              "78.0"
            ]
          },
          "metadata": {
            "tags": []
          },
          "execution_count": 18
        }
      ]
    },
    {
      "cell_type": "code",
      "metadata": {
        "id": "BCxbU3F6IzAa",
        "colab_type": "code",
        "outputId": "3a890a52-229b-4948-b9b6-f59f8d0d8dbe",
        "colab": {
          "base_uri": "https://localhost:8080/",
          "height": 34
        }
      },
      "source": [
        "nparray.max()"
      ],
      "execution_count": 19,
      "outputs": [
        {
          "output_type": "execute_result",
          "data": {
            "text/plain": [
              "12.0"
            ]
          },
          "metadata": {
            "tags": []
          },
          "execution_count": 19
        }
      ]
    },
    {
      "cell_type": "markdown",
      "metadata": {
        "id": "F-qGkVak3-FO",
        "colab_type": "text"
      },
      "source": [
        "##### 各行列統計量"
      ]
    },
    {
      "cell_type": "code",
      "metadata": {
        "id": "Q5SGsybeI0bI",
        "colab_type": "code",
        "outputId": "1e489c10-7956-4820-83ef-98e3cd38ffc2",
        "colab": {
          "base_uri": "https://localhost:8080/",
          "height": 34
        }
      },
      "source": [
        "nparray.max(axis=0)"
      ],
      "execution_count": 20,
      "outputs": [
        {
          "output_type": "execute_result",
          "data": {
            "text/plain": [
              "array([10., 11., 12.], dtype=float32)"
            ]
          },
          "metadata": {
            "tags": []
          },
          "execution_count": 20
        }
      ]
    },
    {
      "cell_type": "code",
      "metadata": {
        "id": "NTR1JTamI2DP",
        "colab_type": "code",
        "outputId": "a5991fe0-de74-43cf-f223-8f2434229d41",
        "colab": {
          "base_uri": "https://localhost:8080/",
          "height": 34
        }
      },
      "source": [
        "nparray.max(axis=1)"
      ],
      "execution_count": 21,
      "outputs": [
        {
          "output_type": "execute_result",
          "data": {
            "text/plain": [
              "array([ 3.,  6.,  9., 12.], dtype=float32)"
            ]
          },
          "metadata": {
            "tags": []
          },
          "execution_count": 21
        }
      ]
    },
    {
      "cell_type": "code",
      "metadata": {
        "id": "zDgymg2LJvHT",
        "colab_type": "code",
        "outputId": "0dec06bb-72f0-475e-842c-65625383797b",
        "colab": {
          "base_uri": "https://localhost:8080/",
          "height": 34
        }
      },
      "source": [
        "nparray.argmax(axis=0)"
      ],
      "execution_count": 22,
      "outputs": [
        {
          "output_type": "execute_result",
          "data": {
            "text/plain": [
              "array([3, 3, 3])"
            ]
          },
          "metadata": {
            "tags": []
          },
          "execution_count": 22
        }
      ]
    },
    {
      "cell_type": "code",
      "metadata": {
        "id": "iE-8No8dJ55T",
        "colab_type": "code",
        "outputId": "f3120f20-c2a9-4bc6-a6b4-36024be2e67c",
        "colab": {
          "base_uri": "https://localhost:8080/",
          "height": 34
        }
      },
      "source": [
        "nparray.argmax(axis=1)"
      ],
      "execution_count": 23,
      "outputs": [
        {
          "output_type": "execute_result",
          "data": {
            "text/plain": [
              "array([2, 2, 2, 2])"
            ]
          },
          "metadata": {
            "tags": []
          },
          "execution_count": 23
        }
      ]
    },
    {
      "cell_type": "markdown",
      "metadata": {
        "id": "7ycWsfqLMbbz",
        "colab_type": "text"
      },
      "source": [
        "## SQL"
      ]
    },
    {
      "cell_type": "markdown",
      "metadata": {
        "id": "yCLSrEgjRlxt",
        "colab_type": "text"
      },
      "source": [
        "### 連接到資料庫"
      ]
    },
    {
      "cell_type": "markdown",
      "metadata": {
        "id": "XR33Z91-Wwmn",
        "colab_type": "text"
      },
      "source": [
        "#### 連接到 MySQL"
      ]
    },
    {
      "cell_type": "code",
      "metadata": {
        "id": "IWp-YF7CXB4S",
        "colab_type": "code",
        "outputId": "8a066562-29d4-4978-9e4b-f279183513db",
        "colab": {
          "base_uri": "https://localhost:8080/",
          "height": 50
        }
      },
      "source": [
        "!pip install -q mysql-python"
      ],
      "execution_count": 24,
      "outputs": [
        {
          "output_type": "stream",
          "text": [
            "\u001b[?25l\r\u001b[K     |███                             | 10kB 14.7MB/s eta 0:00:01\r\u001b[K     |██████                          | 20kB 2.3MB/s eta 0:00:01\r\u001b[K     |█████████                       | 30kB 3.3MB/s eta 0:00:01\r\u001b[K     |████████████                    | 40kB 2.1MB/s eta 0:00:01\r\u001b[K     |███████████████                 | 51kB 2.6MB/s eta 0:00:01\r\u001b[K     |██████████████████              | 61kB 3.1MB/s eta 0:00:01\r\u001b[K     |█████████████████████           | 71kB 3.5MB/s eta 0:00:01\r\u001b[K     |████████████████████████        | 81kB 4.0MB/s eta 0:00:01\r\u001b[K     |███████████████████████████     | 92kB 4.5MB/s eta 0:00:01\r\u001b[K     |██████████████████████████████  | 102kB 3.5MB/s eta 0:00:01\r\u001b[K     |████████████████████████████████| 112kB 3.5MB/s \n",
            "\u001b[31mERROR: Command errored out with exit status 1: python setup.py egg_info Check the logs for full command output.\u001b[0m\n",
            "\u001b[?25h"
          ],
          "name": "stdout"
        }
      ]
    },
    {
      "cell_type": "code",
      "metadata": {
        "id": "vsmKjP3DWxEF",
        "colab_type": "code",
        "colab": {}
      },
      "source": [
        "import MySQLdb\n",
        "conn = MySQLdb.connect(host=\"localhost\", db=\"db_name\", user=\"db_user\", passwd=\"db_pass\")\n",
        "cur = conn.cursor()"
      ],
      "execution_count": 0,
      "outputs": []
    },
    {
      "cell_type": "markdown",
      "metadata": {
        "id": "8AUz8-hrRaqj",
        "colab_type": "text"
      },
      "source": [
        "#### 連接到 postgreSQL"
      ]
    },
    {
      "cell_type": "code",
      "metadata": {
        "id": "x-YNc5TtSajq",
        "colab_type": "code",
        "colab": {}
      },
      "source": [
        "!pip install -q psycopg2"
      ],
      "execution_count": 0,
      "outputs": []
    },
    {
      "cell_type": "code",
      "metadata": {
        "id": "_IRfR4hsRaJ4",
        "colab_type": "code",
        "colab": {}
      },
      "source": [
        "import psycopg2\n",
        "conn = psycopg2.connect(\"host=localhost dbname=example user=postgres\")\n",
        "conn.autocommit = True \n",
        "cur = conn.cursor()"
      ],
      "execution_count": 0,
      "outputs": []
    },
    {
      "cell_type": "markdown",
      "metadata": {
        "id": "GuFia3RXRRzj",
        "colab_type": "text"
      },
      "source": [
        "#### 連接到 sqlite"
      ]
    },
    {
      "cell_type": "code",
      "metadata": {
        "id": "HqXpbCHeQW3N",
        "colab_type": "code",
        "colab": {}
      },
      "source": [
        "import sqlite3\n",
        "conn = sqlite3.connect('dbname=example.db')\n",
        "cur = conn.cursor()"
      ],
      "execution_count": 0,
      "outputs": []
    },
    {
      "cell_type": "markdown",
      "metadata": {
        "id": "lIHk5P5WVqpp",
        "colab_type": "text"
      },
      "source": [
        "#### 關閉連接\n",
        "```\n",
        "cur.close()\n",
        "conn.close()\n",
        "```"
      ]
    },
    {
      "cell_type": "code",
      "metadata": {
        "id": "v-2AafTKVq-H",
        "colab_type": "code",
        "colab": {}
      },
      "source": [
        ""
      ],
      "execution_count": 0,
      "outputs": []
    },
    {
      "cell_type": "markdown",
      "metadata": {
        "id": "zJcduc1aS5zV",
        "colab_type": "text"
      },
      "source": [
        "### 從 python 送指令給 SQL database\n",
        "```\n",
        "cur.execute(指令文字)\n",
        "conn.commit()\n",
        "```"
      ]
    },
    {
      "cell_type": "markdown",
      "metadata": {
        "id": "q5KvqqjsSn9P",
        "colab_type": "text"
      },
      "source": [
        "#### CREATE\n",
        "放新資料的位置\n",
        "\n",
        "\n",
        "*   TABLE: 以實體存在\n",
        "*   VIEW: 以指令存在，只有執行時才會跑，關閉 DB 就自動刪除\n",
        "\n"
      ]
    },
    {
      "cell_type": "code",
      "metadata": {
        "id": "mpOfOxlMRMp7",
        "colab_type": "code",
        "colab": {}
      },
      "source": [
        "cur.execute('''Drop Table IF Exists old_A;''')\n",
        "conn.commit()\n",
        "\n",
        "cur.execute('''CREATE TABLE old_A\n",
        "               (id      serial, \n",
        "                area    text, \n",
        "                age     double precision, \n",
        "                sex     CHAR(10));''')\n",
        "conn.commit()"
      ],
      "execution_count": 0,
      "outputs": []
    },
    {
      "cell_type": "code",
      "metadata": {
        "id": "P-tQoSR7gKoC",
        "colab_type": "code",
        "colab": {}
      },
      "source": [
        "try:\n",
        "   cur.execute('''CREATE TABLE old_B\n",
        "                  (id      serial, \n",
        "                   income  double precision);''')\n",
        "   conn.commit()\n",
        "except:\n",
        "   print(\"table old_B already exists\")"
      ],
      "execution_count": 0,
      "outputs": []
    },
    {
      "cell_type": "markdown",
      "metadata": {
        "id": "27oIj9VwUkJo",
        "colab_type": "text"
      },
      "source": [
        "##### Insert data"
      ]
    },
    {
      "cell_type": "code",
      "metadata": {
        "id": "7YPT1_yMUp1c",
        "colab_type": "code",
        "colab": {}
      },
      "source": [
        "cur.execute(\"\"\"INSERT INTO old_A \n",
        "               VALUES (1, 'S',  5,  'male');\"\"\")\n",
        "conn.commit()"
      ],
      "execution_count": 0,
      "outputs": []
    },
    {
      "cell_type": "code",
      "metadata": {
        "id": "Jhzu7MkofXRM",
        "colab_type": "code",
        "colab": {}
      },
      "source": [
        "cur.execute(\"\"\"INSERT INTO old_A (id, area, sex) \n",
        "               VALUES (2, 'N',     'female');\"\"\")\n",
        "conn.commit()"
      ],
      "execution_count": 0,
      "outputs": []
    },
    {
      "cell_type": "code",
      "metadata": {
        "id": "3j4Uw41ihP0k",
        "colab_type": "code",
        "colab": {}
      },
      "source": [
        "cur.execute(\"\"\"INSERT INTO old_A (id, area, age, sex) \n",
        "               VALUES (3, 'E', 30,   'male'),\n",
        "                      (4, 'S', 10, 'female'),\n",
        "                      (5, 'N', 60,   'male'),\n",
        "                      (6, 'E', 90, 'female');\"\"\")\n",
        "conn.commit()"
      ],
      "execution_count": 0,
      "outputs": []
    },
    {
      "cell_type": "code",
      "metadata": {
        "id": "tNL2nzTuigE9",
        "colab_type": "code",
        "outputId": "220cc2c9-c0dd-400e-a524-6cefcbd8d256",
        "colab": {
          "base_uri": "https://localhost:8080/",
          "height": 118
        }
      },
      "source": [
        "xx = [[\"1\",\"20\"],[\"4\",\"10\"],[\"5\",\"30\"],[\"7\",\"40\"],[\"8\",\"11\"],[\"19\",\"20\"]]\n",
        "\n",
        "for i in range(0,len(xx)):\n",
        "    query  = \"INSERT INTO old_B (id, income) \"\n",
        "    query += \"VALUES (\"+\",\".join(xx[i])+\");\"\n",
        "    print(query)\n",
        "\n",
        "    cur.execute(query)\n",
        "    conn.commit()"
      ],
      "execution_count": 32,
      "outputs": [
        {
          "output_type": "stream",
          "text": [
            "INSERT INTO old_B (id, income) VALUES (1,20);\n",
            "INSERT INTO old_B (id, income) VALUES (4,10);\n",
            "INSERT INTO old_B (id, income) VALUES (5,30);\n",
            "INSERT INTO old_B (id, income) VALUES (7,40);\n",
            "INSERT INTO old_B (id, income) VALUES (8,11);\n",
            "INSERT INTO old_B (id, income) VALUES (19,20);\n"
          ],
          "name": "stdout"
        }
      ]
    },
    {
      "cell_type": "markdown",
      "metadata": {
        "id": "5AOA0L4OUw3q",
        "colab_type": "text"
      },
      "source": [
        "##### Update data"
      ]
    },
    {
      "cell_type": "code",
      "metadata": {
        "id": "61uxp5UPX8_M",
        "colab_type": "code",
        "colab": {}
      },
      "source": [
        "query  = \"UPDATE old_A \"\n",
        "query += \"SET age = 20 \"\n",
        "query += \"WHERE id = 2;\"\n",
        "\n",
        "cur.execute(query)\n",
        "conn.commit()"
      ],
      "execution_count": 0,
      "outputs": []
    },
    {
      "cell_type": "markdown",
      "metadata": {
        "id": "y_EoslKLU1hp",
        "colab_type": "text"
      },
      "source": [
        "#### SELECT  \n",
        "選取需要的變數"
      ]
    },
    {
      "cell_type": "markdown",
      "metadata": {
        "id": "JBXhJgPGmtxu",
        "colab_type": "text"
      },
      "source": [
        "##### Python 內看選取結果要用 .fetchall()\n",
        "\n",
        "\n",
        "> 欄位名稱在 cur.description\n",
        "\n"
      ]
    },
    {
      "cell_type": "code",
      "metadata": {
        "id": "SKvVl71Bk30Q",
        "colab_type": "code",
        "colab": {}
      },
      "source": [
        "query  = \"SELECT * \"\n",
        "query += \"FROM old_A;\"\n",
        "\n",
        "cur.execute(query)\n",
        "conn.commit()"
      ],
      "execution_count": 0,
      "outputs": []
    },
    {
      "cell_type": "code",
      "metadata": {
        "id": "D23REgX0Q6Pe",
        "colab_type": "code",
        "outputId": "9268515e-ac7b-4ab2-d80b-7fcce31439b1",
        "colab": {
          "base_uri": "https://localhost:8080/",
          "height": 134
        }
      },
      "source": [
        "query  = \"SELECT * \"\n",
        "query += \"FROM old_A;\"\n",
        "\n",
        "cur.execute(query)\n",
        "results = cur.fetchall()\n",
        "\n",
        "cols = [i[0] for i in cur.description]\n",
        "print(cols)  \n",
        "for result in results:\n",
        "    print(result)"
      ],
      "execution_count": 35,
      "outputs": [
        {
          "output_type": "stream",
          "text": [
            "['id', 'area', 'age', 'sex']\n",
            "(1, 'S', 5.0, 'male')\n",
            "(2, 'N', 20.0, 'female')\n",
            "(3, 'E', 30.0, 'male')\n",
            "(4, 'S', 10.0, 'female')\n",
            "(5, 'N', 60.0, 'male')\n",
            "(6, 'E', 90.0, 'female')\n"
          ],
          "name": "stdout"
        }
      ]
    },
    {
      "cell_type": "markdown",
      "metadata": {
        "id": "L1N-DTAE_uOB",
        "colab_type": "text"
      },
      "source": [
        "##### 欄位別名 & 表格別名 \n",
        "``` \n",
        "SELECT 表格別名.欄位 as 欄位別名\n",
        "FROM 表格名 as 表格別名; \n",
        "```"
      ]
    },
    {
      "cell_type": "code",
      "metadata": {
        "id": "QX03He1vlJtO",
        "colab_type": "code",
        "outputId": "cfbb1259-a0b7-4bd7-9836-b90ec78b8ece",
        "colab": {
          "base_uri": "https://localhost:8080/",
          "height": 134
        }
      },
      "source": [
        "query  = \"SELECT t1.id, t1.area \"\n",
        "query += \"FROM old_A as t1;\"\n",
        "\n",
        "cur.execute(query)\n",
        "results = cur.fetchall()\n",
        "\n",
        "cols = [i[0] for i in cur.description]\n",
        "print(cols)  \n",
        "for result in results:\n",
        "    print(result)"
      ],
      "execution_count": 36,
      "outputs": [
        {
          "output_type": "stream",
          "text": [
            "['id', 'area']\n",
            "(1, 'S')\n",
            "(2, 'N')\n",
            "(3, 'E')\n",
            "(4, 'S')\n",
            "(5, 'N')\n",
            "(6, 'E')\n"
          ],
          "name": "stdout"
        }
      ]
    },
    {
      "cell_type": "markdown",
      "metadata": {
        "id": "XqCdlc7pADq8",
        "colab_type": "text"
      },
      "source": [
        "##### 欄位 if-else-then 條件\n",
        "```\n",
        "CASE WHEN 條件1 THEN 結果1\n",
        "     .........\n",
        "     WHEN 條件N THEN 結果N\n",
        "     ELSE 結果X\n",
        "     END as 新欄位名稱\n",
        "```"
      ]
    },
    {
      "cell_type": "code",
      "metadata": {
        "id": "vTBrfgpbBOXg",
        "colab_type": "code",
        "outputId": "8140d103-cea6-476a-9d5b-98b4202f0518",
        "colab": {
          "base_uri": "https://localhost:8080/",
          "height": 134
        }
      },
      "source": [
        "query  = \"SELECT t1.id, t1.sex, \" \n",
        "query += \"       Case When t1.sex = 'female' then 0 \" \n",
        "query += \"            When t1.sex =   'male' then 1 \"\n",
        "query += \"            ELSE NULL \"\n",
        "query += \"       END as sex_n \"\n",
        "query += \"FROM old_A as t1;\" \n",
        "\n",
        "cur.execute(query) \n",
        "results = cur.fetchall() \n",
        "\n",
        "cols = [i[0] for i in cur.description]\n",
        "print(cols)  \n",
        "for result in results:\n",
        "    print(result)"
      ],
      "execution_count": 37,
      "outputs": [
        {
          "output_type": "stream",
          "text": [
            "['id', 'sex', 'sex_n']\n",
            "(1, 'male', 1)\n",
            "(2, 'female', 0)\n",
            "(3, 'male', 1)\n",
            "(4, 'female', 0)\n",
            "(5, 'male', 1)\n",
            "(6, 'female', 0)\n"
          ],
          "name": "stdout"
        }
      ]
    },
    {
      "cell_type": "markdown",
      "metadata": {
        "id": "MGZ64H3AaSo3",
        "colab_type": "text"
      },
      "source": [
        "#### WHERE \n",
        "條件式篩選資料，ex. 只處理年齡 > 60"
      ]
    },
    {
      "cell_type": "code",
      "metadata": {
        "id": "59e93QTWk8jv",
        "colab_type": "code",
        "outputId": "eb89ef0f-bd51-43e6-cd78-7e76c76759e6",
        "colab": {
          "base_uri": "https://localhost:8080/",
          "height": 101
        }
      },
      "source": [
        "query  = \"SELECT t1.id, t1.area, t1.age, t1.sex \"\n",
        "query += \"FROM old_A as t1 \"\n",
        "query += \"WHERE t1.area = 'S' or t1.area = 'N';\"\n",
        "\n",
        "cur.execute(query)\n",
        "results = cur.fetchall()\n",
        "\n",
        "cols = [i[0] for i in cur.description]\n",
        "print(cols)  \n",
        "for result in results:\n",
        "    print(result)"
      ],
      "execution_count": 38,
      "outputs": [
        {
          "output_type": "stream",
          "text": [
            "['id', 'area', 'age', 'sex']\n",
            "(1, 'S', 5.0, 'male')\n",
            "(2, 'N', 20.0, 'female')\n",
            "(4, 'S', 10.0, 'female')\n",
            "(5, 'N', 60.0, 'male')\n"
          ],
          "name": "stdout"
        }
      ]
    },
    {
      "cell_type": "code",
      "metadata": {
        "id": "UmenFMNSn7xS",
        "colab_type": "code",
        "outputId": "6f1425cd-984c-4b56-cccb-2f3cff755cb4",
        "colab": {
          "base_uri": "https://localhost:8080/",
          "height": 101
        }
      },
      "source": [
        "query  = \"SELECT t1.id, t1.area, t1.age, t1.sex \"\n",
        "query += \"FROM old_A as t1 \"\n",
        "query += \"WHERE t1.area in ('S', 'N');\"\n",
        "\n",
        "cur.execute(query)\n",
        "results = cur.fetchall()\n",
        "\n",
        "cols = [i[0] for i in cur.description]\n",
        "print(cols)  \n",
        "for result in results:\n",
        "    print(result)"
      ],
      "execution_count": 39,
      "outputs": [
        {
          "output_type": "stream",
          "text": [
            "['id', 'area', 'age', 'sex']\n",
            "(1, 'S', 5.0, 'male')\n",
            "(2, 'N', 20.0, 'female')\n",
            "(4, 'S', 10.0, 'female')\n",
            "(5, 'N', 60.0, 'male')\n"
          ],
          "name": "stdout"
        }
      ]
    },
    {
      "cell_type": "markdown",
      "metadata": {
        "id": "mGSvaBLVb4Ip",
        "colab_type": "text"
      },
      "source": [
        "#### FROM\n",
        "從那些表格得到資料，牽涉到 JOIN"
      ]
    },
    {
      "cell_type": "markdown",
      "metadata": {
        "id": "76SBiDl_C_bh",
        "colab_type": "text"
      },
      "source": [
        "##### 用 WHERE 給條件\n",
        "\n",
        "\n",
        "> 缺：計算較慢\n",
        "\n"
      ]
    },
    {
      "cell_type": "code",
      "metadata": {
        "id": "3hrt8gSeCh_S",
        "colab_type": "code",
        "outputId": "57394ecc-5926-4403-9cbe-a133392c1002",
        "colab": {
          "base_uri": "https://localhost:8080/",
          "height": 84
        }
      },
      "source": [
        "query  = \"SELECT t1.id, t1.age, t1.sex, t2.income \"\n",
        "query += \"FROM old_A as t1, old_B as t2 \"\n",
        "query += \"WHERE t1.id = t2.id;\"\n",
        "\n",
        "cur.execute(query)\n",
        "results = cur.fetchall()\n",
        "\n",
        "cols = [i[0] for i in cur.description]\n",
        "print(cols)  \n",
        "for result in results:\n",
        "    print(result)"
      ],
      "execution_count": 40,
      "outputs": [
        {
          "output_type": "stream",
          "text": [
            "['id', 'age', 'sex', 'income']\n",
            "(1, 5.0, 'male', 20.0)\n",
            "(4, 10.0, 'female', 10.0)\n",
            "(5, 60.0, 'male', 30.0)\n"
          ],
          "name": "stdout"
        }
      ]
    },
    {
      "cell_type": "markdown",
      "metadata": {
        "id": "YOqTSRncDREP",
        "colab_type": "text"
      },
      "source": [
        "##### 用 JOIN 給條件\n",
        "\n",
        "> 在 Google 圖片下：\"SQL JOIN\" \n"
      ]
    },
    {
      "cell_type": "code",
      "metadata": {
        "id": "kiYqYxgcDlhP",
        "colab_type": "code",
        "outputId": "c8e27a34-b985-45cd-ab66-535e21bb2f7e",
        "colab": {
          "base_uri": "https://localhost:8080/",
          "height": 84
        }
      },
      "source": [
        "query  = \"SELECT t1.id, t1.age, t1.sex, t2.income \"\n",
        "query += \"FROM old_A as t1 INNER JOIN old_B as t2 on t1.id = t2.id;\"\n",
        "\n",
        "cur.execute(query)\n",
        "results = cur.fetchall()\n",
        "\n",
        "cols = [i[0] for i in cur.description]\n",
        "print(cols)  \n",
        "for result in results:\n",
        "    print(result)"
      ],
      "execution_count": 41,
      "outputs": [
        {
          "output_type": "stream",
          "text": [
            "['id', 'age', 'sex', 'income']\n",
            "(1, 5.0, 'male', 20.0)\n",
            "(4, 10.0, 'female', 10.0)\n",
            "(5, 60.0, 'male', 30.0)\n"
          ],
          "name": "stdout"
        }
      ]
    },
    {
      "cell_type": "markdown",
      "metadata": {
        "id": "LQ3n4VJaafbN",
        "colab_type": "text"
      },
      "source": [
        "#### GROUP BY \n",
        "分群計算，ex. 計算總和"
      ]
    },
    {
      "cell_type": "code",
      "metadata": {
        "id": "NJQ3SqiiECcv",
        "colab_type": "code",
        "outputId": "48584202-b0e0-4829-ef1b-c936b0d0f3dd",
        "colab": {
          "base_uri": "https://localhost:8080/",
          "height": 84
        }
      },
      "source": [
        "query  = \"SELECT t1.area, SUM(t1.age), AVG(t1.age) as avg_age, count(*) as count \"\n",
        "query += \"FROM old_A as t1 \"\n",
        "query += \"GROUP BY t1.area;\"\n",
        "\n",
        "cur.execute(query)\n",
        "results = cur.fetchall()\n",
        "\n",
        "cols = [i[0] for i in cur.description]\n",
        "print(cols)  \n",
        "for result in results:\n",
        "    print(result)"
      ],
      "execution_count": 42,
      "outputs": [
        {
          "output_type": "stream",
          "text": [
            "['area', 'SUM(t1.age)', 'avg_age', 'count']\n",
            "('E', 120.0, 60.0, 2)\n",
            "('N', 80.0, 40.0, 2)\n",
            "('S', 15.0, 7.5, 2)\n"
          ],
          "name": "stdout"
        }
      ]
    },
    {
      "cell_type": "markdown",
      "metadata": {
        "id": "IvMtnAaZbhOG",
        "colab_type": "text"
      },
      "source": [
        "#### HAVING\n",
        "篩選分群計算後的結果\n",
        "\n",
        "\n",
        "> 必須與 GROUP BY 搭配\n",
        "\n"
      ]
    },
    {
      "cell_type": "code",
      "metadata": {
        "id": "mmdS-e8vHlSs",
        "colab_type": "code",
        "outputId": "8ebdd476-62f6-4d6d-f713-46cc39d676c9",
        "colab": {
          "base_uri": "https://localhost:8080/",
          "height": 67
        }
      },
      "source": [
        "query  = \"SELECT t1.area, SUM(t1.age), AVG(t1.age) as avg_age, count(*) as count \"\n",
        "query += \"FROM old_A as t1 \"\n",
        "query += \"GROUP BY t1.area \"\n",
        "query += \"HAVING avg_age >=40;\"\n",
        "\n",
        "cur.execute(query)\n",
        "results = cur.fetchall()\n",
        "\n",
        "cols = [i[0] for i in cur.description]\n",
        "print(cols)  \n",
        "for result in results:\n",
        "    print(result)"
      ],
      "execution_count": 43,
      "outputs": [
        {
          "output_type": "stream",
          "text": [
            "['area', 'SUM(t1.age)', 'avg_age', 'count']\n",
            "('E', 120.0, 60.0, 2)\n",
            "('N', 80.0, 40.0, 2)\n"
          ],
          "name": "stdout"
        }
      ]
    },
    {
      "cell_type": "markdown",
      "metadata": {
        "id": "9stXc6s0boB3",
        "colab_type": "text"
      },
      "source": [
        "#### ORDER BY\n",
        "排序資料"
      ]
    },
    {
      "cell_type": "code",
      "metadata": {
        "id": "rr-HwtFyIGkW",
        "colab_type": "code",
        "outputId": "3653b312-cc20-405f-a838-baea49e28521",
        "colab": {
          "base_uri": "https://localhost:8080/",
          "height": 67
        }
      },
      "source": [
        "query  = \"SELECT t1.area, SUM(t1.age), AVG(t1.age) as avg_age, count(*) as count \"\n",
        "query += \"FROM old_A as t1 \"\n",
        "query += \"GROUP BY t1.area \"\n",
        "query += \"HAVING avg_age >=40 \"\n",
        "query += \"ORDER BY avg_age;\"\n",
        "\n",
        "cur.execute(query)\n",
        "results = cur.fetchall()\n",
        "\n",
        "cols = [i[0] for i in cur.description]\n",
        "print(cols)  \n",
        "for result in results:\n",
        "    print(result)"
      ],
      "execution_count": 44,
      "outputs": [
        {
          "output_type": "stream",
          "text": [
            "['area', 'SUM(t1.age)', 'avg_age', 'count']\n",
            "('N', 80.0, 40.0, 2)\n",
            "('E', 120.0, 60.0, 2)\n"
          ],
          "name": "stdout"
        }
      ]
    },
    {
      "cell_type": "markdown",
      "metadata": {
        "id": "2iZAjD-sZTMM",
        "colab_type": "text"
      },
      "source": [
        "### 另一種送指令方式\n",
        "> 用類似 python 處理字串的方式查詢值或給值\n",
        "\n"
      ]
    },
    {
      "cell_type": "code",
      "metadata": {
        "id": "v54bKCF3JL_Z",
        "colab_type": "code",
        "outputId": "da849ecc-7acd-4ce9-c8b4-58092e87386c",
        "colab": {
          "base_uri": "https://localhost:8080/",
          "height": 151
        }
      },
      "source": [
        "# Ex.       \"INSERT INTO old_B (id, income) VALUES (1,20);\"\n",
        "cur.execute(\"INSERT INTO old_B (id, income) VALUES (?, ?);\", [1,20])\n",
        "conn.commit()\n",
        "\n",
        "cur.execute(\"SELECT * FROM old_B\")\n",
        "results = cur.fetchall()\n",
        "cols = [i[0] for i in cur.description]\n",
        "print(cols)  \n",
        "for result in results:\n",
        "    print(result)"
      ],
      "execution_count": 45,
      "outputs": [
        {
          "output_type": "stream",
          "text": [
            "['id', 'income']\n",
            "(1, 20.0)\n",
            "(4, 10.0)\n",
            "(5, 30.0)\n",
            "(7, 40.0)\n",
            "(8, 11.0)\n",
            "(19, 20.0)\n",
            "(1, 20.0)\n"
          ],
          "name": "stdout"
        }
      ]
    },
    {
      "cell_type": "markdown",
      "metadata": {
        "id": "rlza1kCLLrRU",
        "colab_type": "text"
      },
      "source": [
        "## Pandas"
      ]
    },
    {
      "cell_type": "markdown",
      "metadata": {
        "id": "Ai7zKfWjmtqs",
        "colab_type": "text"
      },
      "source": [
        "### 格式互換"
      ]
    },
    {
      "cell_type": "code",
      "metadata": {
        "id": "b8qYcgCSNbXm",
        "colab_type": "code",
        "colab": {}
      },
      "source": [
        "import pandas as pd"
      ],
      "execution_count": 0,
      "outputs": []
    },
    {
      "cell_type": "markdown",
      "metadata": {
        "id": "WhMP7UerL0o4",
        "colab_type": "text"
      },
      "source": [
        "#### Numpy -> Pandas"
      ]
    },
    {
      "cell_type": "code",
      "metadata": {
        "id": "BlsCjY3KL8vY",
        "colab_type": "code",
        "outputId": "eb775c8c-b046-49b9-f526-691e59460235",
        "colab": {
          "base_uri": "https://localhost:8080/",
          "height": 118
        }
      },
      "source": [
        "Data = np.asarray([[1, 'S',  5.0,   'male'],\n",
        "                   [2, 'N', 20.0, 'female'],\n",
        "                   [3, 'E', 30.0,   'male'],\n",
        "                   [4, 'S', 10.0, 'female'],\n",
        "                   [5, 'N', 60.0,   'male'],\n",
        "                   [6, 'E', 90.0, 'female']])\n",
        "Data"
      ],
      "execution_count": 47,
      "outputs": [
        {
          "output_type": "execute_result",
          "data": {
            "text/plain": [
              "array([['1', 'S', '5.0', 'male'],\n",
              "       ['2', 'N', '20.0', 'female'],\n",
              "       ['3', 'E', '30.0', 'male'],\n",
              "       ['4', 'S', '10.0', 'female'],\n",
              "       ['5', 'N', '60.0', 'male'],\n",
              "       ['6', 'E', '90.0', 'female']], dtype='<U21')"
            ]
          },
          "metadata": {
            "tags": []
          },
          "execution_count": 47
        }
      ]
    },
    {
      "cell_type": "code",
      "metadata": {
        "id": "ZASVtZuVL0DV",
        "colab_type": "code",
        "outputId": "cc3dbb67-f5b3-4349-971e-ba6ceef62489",
        "colab": {
          "base_uri": "https://localhost:8080/",
          "height": 225
        }
      },
      "source": [
        "df = pd.DataFrame(data=Data,                                          # values\n",
        "                  columns= ['id', 'area', 'age', 'sex'],              # column names\n",
        "                  index  = ['1st', '1st','2nd','2nd','3rd','3rd'])    # row index\n",
        "df                      "
      ],
      "execution_count": 48,
      "outputs": [
        {
          "output_type": "execute_result",
          "data": {
            "text/html": [
              "<div>\n",
              "<style scoped>\n",
              "    .dataframe tbody tr th:only-of-type {\n",
              "        vertical-align: middle;\n",
              "    }\n",
              "\n",
              "    .dataframe tbody tr th {\n",
              "        vertical-align: top;\n",
              "    }\n",
              "\n",
              "    .dataframe thead th {\n",
              "        text-align: right;\n",
              "    }\n",
              "</style>\n",
              "<table border=\"1\" class=\"dataframe\">\n",
              "  <thead>\n",
              "    <tr style=\"text-align: right;\">\n",
              "      <th></th>\n",
              "      <th>id</th>\n",
              "      <th>area</th>\n",
              "      <th>age</th>\n",
              "      <th>sex</th>\n",
              "    </tr>\n",
              "  </thead>\n",
              "  <tbody>\n",
              "    <tr>\n",
              "      <th>1st</th>\n",
              "      <td>1</td>\n",
              "      <td>S</td>\n",
              "      <td>5.0</td>\n",
              "      <td>male</td>\n",
              "    </tr>\n",
              "    <tr>\n",
              "      <th>1st</th>\n",
              "      <td>2</td>\n",
              "      <td>N</td>\n",
              "      <td>20.0</td>\n",
              "      <td>female</td>\n",
              "    </tr>\n",
              "    <tr>\n",
              "      <th>2nd</th>\n",
              "      <td>3</td>\n",
              "      <td>E</td>\n",
              "      <td>30.0</td>\n",
              "      <td>male</td>\n",
              "    </tr>\n",
              "    <tr>\n",
              "      <th>2nd</th>\n",
              "      <td>4</td>\n",
              "      <td>S</td>\n",
              "      <td>10.0</td>\n",
              "      <td>female</td>\n",
              "    </tr>\n",
              "    <tr>\n",
              "      <th>3rd</th>\n",
              "      <td>5</td>\n",
              "      <td>N</td>\n",
              "      <td>60.0</td>\n",
              "      <td>male</td>\n",
              "    </tr>\n",
              "    <tr>\n",
              "      <th>3rd</th>\n",
              "      <td>6</td>\n",
              "      <td>E</td>\n",
              "      <td>90.0</td>\n",
              "      <td>female</td>\n",
              "    </tr>\n",
              "  </tbody>\n",
              "</table>\n",
              "</div>"
            ],
            "text/plain": [
              "    id area   age     sex\n",
              "1st  1    S   5.0    male\n",
              "1st  2    N  20.0  female\n",
              "2nd  3    E  30.0    male\n",
              "2nd  4    S  10.0  female\n",
              "3rd  5    N  60.0    male\n",
              "3rd  6    E  90.0  female"
            ]
          },
          "metadata": {
            "tags": []
          },
          "execution_count": 48
        }
      ]
    },
    {
      "cell_type": "markdown",
      "metadata": {
        "id": "LaoLxBvEYa_r",
        "colab_type": "text"
      },
      "source": [
        "#### Pandas <-> SQL"
      ]
    },
    {
      "cell_type": "code",
      "metadata": {
        "id": "qwdX0-2WiIlx",
        "colab_type": "code",
        "outputId": "e724624c-4d8d-4220-84bb-b4548fbcb11f",
        "colab": {
          "base_uri": "https://localhost:8080/",
          "height": 225
        }
      },
      "source": [
        "df = pd.read_sql_query(\"SELECT * FROM old_A;\", con=conn)\n",
        "df"
      ],
      "execution_count": 49,
      "outputs": [
        {
          "output_type": "execute_result",
          "data": {
            "text/html": [
              "<div>\n",
              "<style scoped>\n",
              "    .dataframe tbody tr th:only-of-type {\n",
              "        vertical-align: middle;\n",
              "    }\n",
              "\n",
              "    .dataframe tbody tr th {\n",
              "        vertical-align: top;\n",
              "    }\n",
              "\n",
              "    .dataframe thead th {\n",
              "        text-align: right;\n",
              "    }\n",
              "</style>\n",
              "<table border=\"1\" class=\"dataframe\">\n",
              "  <thead>\n",
              "    <tr style=\"text-align: right;\">\n",
              "      <th></th>\n",
              "      <th>id</th>\n",
              "      <th>area</th>\n",
              "      <th>age</th>\n",
              "      <th>sex</th>\n",
              "    </tr>\n",
              "  </thead>\n",
              "  <tbody>\n",
              "    <tr>\n",
              "      <th>0</th>\n",
              "      <td>1</td>\n",
              "      <td>S</td>\n",
              "      <td>5.0</td>\n",
              "      <td>male</td>\n",
              "    </tr>\n",
              "    <tr>\n",
              "      <th>1</th>\n",
              "      <td>2</td>\n",
              "      <td>N</td>\n",
              "      <td>20.0</td>\n",
              "      <td>female</td>\n",
              "    </tr>\n",
              "    <tr>\n",
              "      <th>2</th>\n",
              "      <td>3</td>\n",
              "      <td>E</td>\n",
              "      <td>30.0</td>\n",
              "      <td>male</td>\n",
              "    </tr>\n",
              "    <tr>\n",
              "      <th>3</th>\n",
              "      <td>4</td>\n",
              "      <td>S</td>\n",
              "      <td>10.0</td>\n",
              "      <td>female</td>\n",
              "    </tr>\n",
              "    <tr>\n",
              "      <th>4</th>\n",
              "      <td>5</td>\n",
              "      <td>N</td>\n",
              "      <td>60.0</td>\n",
              "      <td>male</td>\n",
              "    </tr>\n",
              "    <tr>\n",
              "      <th>5</th>\n",
              "      <td>6</td>\n",
              "      <td>E</td>\n",
              "      <td>90.0</td>\n",
              "      <td>female</td>\n",
              "    </tr>\n",
              "  </tbody>\n",
              "</table>\n",
              "</div>"
            ],
            "text/plain": [
              "   id area   age     sex\n",
              "0   1    S   5.0    male\n",
              "1   2    N  20.0  female\n",
              "2   3    E  30.0    male\n",
              "3   4    S  10.0  female\n",
              "4   5    N  60.0    male\n",
              "5   6    E  90.0  female"
            ]
          },
          "metadata": {
            "tags": []
          },
          "execution_count": 49
        }
      ]
    },
    {
      "cell_type": "code",
      "metadata": {
        "id": "205-MVCkjH6V",
        "colab_type": "code",
        "outputId": "4b7764c7-6bd4-4c8a-b7ba-762054bbb68c",
        "colab": {
          "base_uri": "https://localhost:8080/",
          "height": 134
        }
      },
      "source": [
        "try:\n",
        "    df.to_sql('users', con=conn)\n",
        "except:\n",
        "    print(\"Table 'users' already exists.\")\n",
        "\n",
        "cur.execute(\"SELECT * FROM users\")\n",
        "results = cur.fetchall()\n",
        "cols = [i[0] for i in cur.description]\n",
        "print(cols)  \n",
        "for result in results:\n",
        "    print(result)"
      ],
      "execution_count": 50,
      "outputs": [
        {
          "output_type": "stream",
          "text": [
            "['index', 'id', 'area', 'age', 'sex']\n",
            "(0, 1, 'S', 5.0, 'male')\n",
            "(1, 2, 'N', 20.0, 'female')\n",
            "(2, 3, 'E', 30.0, 'male')\n",
            "(3, 4, 'S', 10.0, 'female')\n",
            "(4, 5, 'N', 60.0, 'male')\n",
            "(5, 6, 'E', 90.0, 'female')\n"
          ],
          "name": "stdout"
        }
      ]
    },
    {
      "cell_type": "markdown",
      "metadata": {
        "id": "Iuyt36UuWOAO",
        "colab_type": "text"
      },
      "source": [
        "#### Pandas <-> CSV"
      ]
    },
    {
      "cell_type": "code",
      "metadata": {
        "id": "QFhuR1zkfihB",
        "colab_type": "code",
        "outputId": "93f970c4-2bf5-4388-ebb9-aa5b5ff55a20",
        "colab": {
          "base_uri": "https://localhost:8080/",
          "height": 195
        }
      },
      "source": [
        "df = pd.read_csv('https://raw.githubusercontent.com/selva86/datasets/master/BostonHousing.csv')  \n",
        "df.head()"
      ],
      "execution_count": 51,
      "outputs": [
        {
          "output_type": "execute_result",
          "data": {
            "text/html": [
              "<div>\n",
              "<style scoped>\n",
              "    .dataframe tbody tr th:only-of-type {\n",
              "        vertical-align: middle;\n",
              "    }\n",
              "\n",
              "    .dataframe tbody tr th {\n",
              "        vertical-align: top;\n",
              "    }\n",
              "\n",
              "    .dataframe thead th {\n",
              "        text-align: right;\n",
              "    }\n",
              "</style>\n",
              "<table border=\"1\" class=\"dataframe\">\n",
              "  <thead>\n",
              "    <tr style=\"text-align: right;\">\n",
              "      <th></th>\n",
              "      <th>crim</th>\n",
              "      <th>zn</th>\n",
              "      <th>indus</th>\n",
              "      <th>chas</th>\n",
              "      <th>nox</th>\n",
              "      <th>rm</th>\n",
              "      <th>age</th>\n",
              "      <th>dis</th>\n",
              "      <th>rad</th>\n",
              "      <th>tax</th>\n",
              "      <th>ptratio</th>\n",
              "      <th>b</th>\n",
              "      <th>lstat</th>\n",
              "      <th>medv</th>\n",
              "    </tr>\n",
              "  </thead>\n",
              "  <tbody>\n",
              "    <tr>\n",
              "      <th>0</th>\n",
              "      <td>0.00632</td>\n",
              "      <td>18.0</td>\n",
              "      <td>2.31</td>\n",
              "      <td>0</td>\n",
              "      <td>0.538</td>\n",
              "      <td>6.575</td>\n",
              "      <td>65.2</td>\n",
              "      <td>4.0900</td>\n",
              "      <td>1</td>\n",
              "      <td>296</td>\n",
              "      <td>15.3</td>\n",
              "      <td>396.90</td>\n",
              "      <td>4.98</td>\n",
              "      <td>24.0</td>\n",
              "    </tr>\n",
              "    <tr>\n",
              "      <th>1</th>\n",
              "      <td>0.02731</td>\n",
              "      <td>0.0</td>\n",
              "      <td>7.07</td>\n",
              "      <td>0</td>\n",
              "      <td>0.469</td>\n",
              "      <td>6.421</td>\n",
              "      <td>78.9</td>\n",
              "      <td>4.9671</td>\n",
              "      <td>2</td>\n",
              "      <td>242</td>\n",
              "      <td>17.8</td>\n",
              "      <td>396.90</td>\n",
              "      <td>9.14</td>\n",
              "      <td>21.6</td>\n",
              "    </tr>\n",
              "    <tr>\n",
              "      <th>2</th>\n",
              "      <td>0.02729</td>\n",
              "      <td>0.0</td>\n",
              "      <td>7.07</td>\n",
              "      <td>0</td>\n",
              "      <td>0.469</td>\n",
              "      <td>7.185</td>\n",
              "      <td>61.1</td>\n",
              "      <td>4.9671</td>\n",
              "      <td>2</td>\n",
              "      <td>242</td>\n",
              "      <td>17.8</td>\n",
              "      <td>392.83</td>\n",
              "      <td>4.03</td>\n",
              "      <td>34.7</td>\n",
              "    </tr>\n",
              "    <tr>\n",
              "      <th>3</th>\n",
              "      <td>0.03237</td>\n",
              "      <td>0.0</td>\n",
              "      <td>2.18</td>\n",
              "      <td>0</td>\n",
              "      <td>0.458</td>\n",
              "      <td>6.998</td>\n",
              "      <td>45.8</td>\n",
              "      <td>6.0622</td>\n",
              "      <td>3</td>\n",
              "      <td>222</td>\n",
              "      <td>18.7</td>\n",
              "      <td>394.63</td>\n",
              "      <td>2.94</td>\n",
              "      <td>33.4</td>\n",
              "    </tr>\n",
              "    <tr>\n",
              "      <th>4</th>\n",
              "      <td>0.06905</td>\n",
              "      <td>0.0</td>\n",
              "      <td>2.18</td>\n",
              "      <td>0</td>\n",
              "      <td>0.458</td>\n",
              "      <td>7.147</td>\n",
              "      <td>54.2</td>\n",
              "      <td>6.0622</td>\n",
              "      <td>3</td>\n",
              "      <td>222</td>\n",
              "      <td>18.7</td>\n",
              "      <td>396.90</td>\n",
              "      <td>5.33</td>\n",
              "      <td>36.2</td>\n",
              "    </tr>\n",
              "  </tbody>\n",
              "</table>\n",
              "</div>"
            ],
            "text/plain": [
              "      crim    zn  indus  chas    nox  ...  tax  ptratio       b  lstat  medv\n",
              "0  0.00632  18.0   2.31     0  0.538  ...  296     15.3  396.90   4.98  24.0\n",
              "1  0.02731   0.0   7.07     0  0.469  ...  242     17.8  396.90   9.14  21.6\n",
              "2  0.02729   0.0   7.07     0  0.469  ...  242     17.8  392.83   4.03  34.7\n",
              "3  0.03237   0.0   2.18     0  0.458  ...  222     18.7  394.63   2.94  33.4\n",
              "4  0.06905   0.0   2.18     0  0.458  ...  222     18.7  396.90   5.33  36.2\n",
              "\n",
              "[5 rows x 14 columns]"
            ]
          },
          "metadata": {
            "tags": []
          },
          "execution_count": 51
        }
      ]
    },
    {
      "cell_type": "code",
      "metadata": {
        "id": "9SqQCQmMjYvt",
        "colab_type": "code",
        "colab": {}
      },
      "source": [
        "df.to_csv(\"BostonHousing.csv\")"
      ],
      "execution_count": 0,
      "outputs": []
    },
    {
      "cell_type": "markdown",
      "metadata": {
        "id": "J_gCoieTYg8w",
        "colab_type": "text"
      },
      "source": [
        "### Pivot table"
      ]
    },
    {
      "cell_type": "code",
      "metadata": {
        "id": "T1VL4hnnlWFB",
        "colab_type": "code",
        "outputId": "4f946b16-3193-482b-c12d-a7eb922ef89f",
        "colab": {
          "base_uri": "https://localhost:8080/",
          "height": 343
        }
      },
      "source": [
        "pd.pivot_table(df,\n",
        "               index=['rad'], \n",
        "               values=['age', 'crim'])"
      ],
      "execution_count": 53,
      "outputs": [
        {
          "output_type": "execute_result",
          "data": {
            "text/html": [
              "<div>\n",
              "<style scoped>\n",
              "    .dataframe tbody tr th:only-of-type {\n",
              "        vertical-align: middle;\n",
              "    }\n",
              "\n",
              "    .dataframe tbody tr th {\n",
              "        vertical-align: top;\n",
              "    }\n",
              "\n",
              "    .dataframe thead th {\n",
              "        text-align: right;\n",
              "    }\n",
              "</style>\n",
              "<table border=\"1\" class=\"dataframe\">\n",
              "  <thead>\n",
              "    <tr style=\"text-align: right;\">\n",
              "      <th></th>\n",
              "      <th>age</th>\n",
              "      <th>crim</th>\n",
              "    </tr>\n",
              "    <tr>\n",
              "      <th>rad</th>\n",
              "      <th></th>\n",
              "      <th></th>\n",
              "    </tr>\n",
              "  </thead>\n",
              "  <tbody>\n",
              "    <tr>\n",
              "      <th>1</th>\n",
              "      <td>45.025000</td>\n",
              "      <td>0.036029</td>\n",
              "    </tr>\n",
              "    <tr>\n",
              "      <th>2</th>\n",
              "      <td>64.770833</td>\n",
              "      <td>0.083285</td>\n",
              "    </tr>\n",
              "    <tr>\n",
              "      <th>3</th>\n",
              "      <td>49.310526</td>\n",
              "      <td>0.097359</td>\n",
              "    </tr>\n",
              "    <tr>\n",
              "      <th>4</th>\n",
              "      <td>60.841818</td>\n",
              "      <td>0.393903</td>\n",
              "    </tr>\n",
              "    <tr>\n",
              "      <th>5</th>\n",
              "      <td>69.223478</td>\n",
              "      <td>0.687792</td>\n",
              "    </tr>\n",
              "    <tr>\n",
              "      <th>6</th>\n",
              "      <td>60.142308</td>\n",
              "      <td>0.150054</td>\n",
              "    </tr>\n",
              "    <tr>\n",
              "      <th>7</th>\n",
              "      <td>40.141176</td>\n",
              "      <td>0.150399</td>\n",
              "    </tr>\n",
              "    <tr>\n",
              "      <th>8</th>\n",
              "      <td>67.350000</td>\n",
              "      <td>0.371410</td>\n",
              "    </tr>\n",
              "    <tr>\n",
              "      <th>24</th>\n",
              "      <td>89.805303</td>\n",
              "      <td>12.759291</td>\n",
              "    </tr>\n",
              "  </tbody>\n",
              "</table>\n",
              "</div>"
            ],
            "text/plain": [
              "           age       crim\n",
              "rad                      \n",
              "1    45.025000   0.036029\n",
              "2    64.770833   0.083285\n",
              "3    49.310526   0.097359\n",
              "4    60.841818   0.393903\n",
              "5    69.223478   0.687792\n",
              "6    60.142308   0.150054\n",
              "7    40.141176   0.150399\n",
              "8    67.350000   0.371410\n",
              "24   89.805303  12.759291"
            ]
          },
          "metadata": {
            "tags": []
          },
          "execution_count": 53
        }
      ]
    },
    {
      "cell_type": "code",
      "metadata": {
        "id": "OCzDSJsSkxmi",
        "colab_type": "code",
        "outputId": "606027c9-cb9a-418c-eba0-e8e1dcdf88e9",
        "colab": {
          "base_uri": "https://localhost:8080/",
          "height": 521
        }
      },
      "source": [
        "pd.pivot_table(df,\n",
        "               index=['chas','rad'],\n",
        "               values=['age', 'crim'])"
      ],
      "execution_count": 54,
      "outputs": [
        {
          "output_type": "execute_result",
          "data": {
            "text/html": [
              "<div>\n",
              "<style scoped>\n",
              "    .dataframe tbody tr th:only-of-type {\n",
              "        vertical-align: middle;\n",
              "    }\n",
              "\n",
              "    .dataframe tbody tr th {\n",
              "        vertical-align: top;\n",
              "    }\n",
              "\n",
              "    .dataframe thead th {\n",
              "        text-align: right;\n",
              "    }\n",
              "</style>\n",
              "<table border=\"1\" class=\"dataframe\">\n",
              "  <thead>\n",
              "    <tr style=\"text-align: right;\">\n",
              "      <th></th>\n",
              "      <th></th>\n",
              "      <th>age</th>\n",
              "      <th>crim</th>\n",
              "    </tr>\n",
              "    <tr>\n",
              "      <th>chas</th>\n",
              "      <th>rad</th>\n",
              "      <th></th>\n",
              "      <th></th>\n",
              "    </tr>\n",
              "  </thead>\n",
              "  <tbody>\n",
              "    <tr>\n",
              "      <th rowspan=\"9\" valign=\"top\">0</th>\n",
              "      <th>1</th>\n",
              "      <td>46.089474</td>\n",
              "      <td>0.037135</td>\n",
              "    </tr>\n",
              "    <tr>\n",
              "      <th>2</th>\n",
              "      <td>64.770833</td>\n",
              "      <td>0.083285</td>\n",
              "    </tr>\n",
              "    <tr>\n",
              "      <th>3</th>\n",
              "      <td>48.902778</td>\n",
              "      <td>0.094087</td>\n",
              "    </tr>\n",
              "    <tr>\n",
              "      <th>4</th>\n",
              "      <td>60.681373</td>\n",
              "      <td>0.409490</td>\n",
              "    </tr>\n",
              "    <tr>\n",
              "      <th>5</th>\n",
              "      <td>67.475962</td>\n",
              "      <td>0.622514</td>\n",
              "    </tr>\n",
              "    <tr>\n",
              "      <th>6</th>\n",
              "      <td>60.142308</td>\n",
              "      <td>0.150054</td>\n",
              "    </tr>\n",
              "    <tr>\n",
              "      <th>7</th>\n",
              "      <td>40.141176</td>\n",
              "      <td>0.150399</td>\n",
              "    </tr>\n",
              "    <tr>\n",
              "      <th>8</th>\n",
              "      <td>63.994737</td>\n",
              "      <td>0.345052</td>\n",
              "    </tr>\n",
              "    <tr>\n",
              "      <th>24</th>\n",
              "      <td>89.731452</td>\n",
              "      <td>13.209833</td>\n",
              "    </tr>\n",
              "    <tr>\n",
              "      <th rowspan=\"6\" valign=\"top\">1</th>\n",
              "      <th>1</th>\n",
              "      <td>24.800000</td>\n",
              "      <td>0.015010</td>\n",
              "    </tr>\n",
              "    <tr>\n",
              "      <th>3</th>\n",
              "      <td>56.650000</td>\n",
              "      <td>0.156265</td>\n",
              "    </tr>\n",
              "    <tr>\n",
              "      <th>4</th>\n",
              "      <td>62.887500</td>\n",
              "      <td>0.195176</td>\n",
              "    </tr>\n",
              "    <tr>\n",
              "      <th>5</th>\n",
              "      <td>85.745455</td>\n",
              "      <td>1.304961</td>\n",
              "    </tr>\n",
              "    <tr>\n",
              "      <th>8</th>\n",
              "      <td>80.100000</td>\n",
              "      <td>0.471570</td>\n",
              "    </tr>\n",
              "    <tr>\n",
              "      <th>24</th>\n",
              "      <td>90.950000</td>\n",
              "      <td>5.775886</td>\n",
              "    </tr>\n",
              "  </tbody>\n",
              "</table>\n",
              "</div>"
            ],
            "text/plain": [
              "                age       crim\n",
              "chas rad                      \n",
              "0    1    46.089474   0.037135\n",
              "     2    64.770833   0.083285\n",
              "     3    48.902778   0.094087\n",
              "     4    60.681373   0.409490\n",
              "     5    67.475962   0.622514\n",
              "     6    60.142308   0.150054\n",
              "     7    40.141176   0.150399\n",
              "     8    63.994737   0.345052\n",
              "     24   89.731452  13.209833\n",
              "1    1    24.800000   0.015010\n",
              "     3    56.650000   0.156265\n",
              "     4    62.887500   0.195176\n",
              "     5    85.745455   1.304961\n",
              "     8    80.100000   0.471570\n",
              "     24   90.950000   5.775886"
            ]
          },
          "metadata": {
            "tags": []
          },
          "execution_count": 54
        }
      ]
    },
    {
      "cell_type": "code",
      "metadata": {
        "id": "VJ2okUcGmwwB",
        "colab_type": "code",
        "outputId": "0e4805a4-9caa-4177-afa1-34b188b741b4",
        "colab": {
          "base_uri": "https://localhost:8080/",
          "height": 373
        }
      },
      "source": [
        "pd.pivot_table(df,\n",
        "               index=['rad'], \n",
        "               columns=['chas'], \n",
        "               values=['age'])"
      ],
      "execution_count": 55,
      "outputs": [
        {
          "output_type": "execute_result",
          "data": {
            "text/html": [
              "<div>\n",
              "<style scoped>\n",
              "    .dataframe tbody tr th:only-of-type {\n",
              "        vertical-align: middle;\n",
              "    }\n",
              "\n",
              "    .dataframe tbody tr th {\n",
              "        vertical-align: top;\n",
              "    }\n",
              "\n",
              "    .dataframe thead tr th {\n",
              "        text-align: left;\n",
              "    }\n",
              "\n",
              "    .dataframe thead tr:last-of-type th {\n",
              "        text-align: right;\n",
              "    }\n",
              "</style>\n",
              "<table border=\"1\" class=\"dataframe\">\n",
              "  <thead>\n",
              "    <tr>\n",
              "      <th></th>\n",
              "      <th colspan=\"2\" halign=\"left\">age</th>\n",
              "    </tr>\n",
              "    <tr>\n",
              "      <th>chas</th>\n",
              "      <th>0</th>\n",
              "      <th>1</th>\n",
              "    </tr>\n",
              "    <tr>\n",
              "      <th>rad</th>\n",
              "      <th></th>\n",
              "      <th></th>\n",
              "    </tr>\n",
              "  </thead>\n",
              "  <tbody>\n",
              "    <tr>\n",
              "      <th>1</th>\n",
              "      <td>46.089474</td>\n",
              "      <td>24.800000</td>\n",
              "    </tr>\n",
              "    <tr>\n",
              "      <th>2</th>\n",
              "      <td>64.770833</td>\n",
              "      <td>NaN</td>\n",
              "    </tr>\n",
              "    <tr>\n",
              "      <th>3</th>\n",
              "      <td>48.902778</td>\n",
              "      <td>56.650000</td>\n",
              "    </tr>\n",
              "    <tr>\n",
              "      <th>4</th>\n",
              "      <td>60.681373</td>\n",
              "      <td>62.887500</td>\n",
              "    </tr>\n",
              "    <tr>\n",
              "      <th>5</th>\n",
              "      <td>67.475962</td>\n",
              "      <td>85.745455</td>\n",
              "    </tr>\n",
              "    <tr>\n",
              "      <th>6</th>\n",
              "      <td>60.142308</td>\n",
              "      <td>NaN</td>\n",
              "    </tr>\n",
              "    <tr>\n",
              "      <th>7</th>\n",
              "      <td>40.141176</td>\n",
              "      <td>NaN</td>\n",
              "    </tr>\n",
              "    <tr>\n",
              "      <th>8</th>\n",
              "      <td>63.994737</td>\n",
              "      <td>80.100000</td>\n",
              "    </tr>\n",
              "    <tr>\n",
              "      <th>24</th>\n",
              "      <td>89.731452</td>\n",
              "      <td>90.950000</td>\n",
              "    </tr>\n",
              "  </tbody>\n",
              "</table>\n",
              "</div>"
            ],
            "text/plain": [
              "            age           \n",
              "chas          0          1\n",
              "rad                       \n",
              "1     46.089474  24.800000\n",
              "2     64.770833        NaN\n",
              "3     48.902778  56.650000\n",
              "4     60.681373  62.887500\n",
              "5     67.475962  85.745455\n",
              "6     60.142308        NaN\n",
              "7     40.141176        NaN\n",
              "8     63.994737  80.100000\n",
              "24    89.731452  90.950000"
            ]
          },
          "metadata": {
            "tags": []
          },
          "execution_count": 55
        }
      ]
    },
    {
      "cell_type": "code",
      "metadata": {
        "id": "o_JI0luolF2N",
        "colab_type": "code",
        "outputId": "c4bdde29-1951-4b19-942a-db39ed37e51e",
        "colab": {
          "base_uri": "https://localhost:8080/",
          "height": 402
        }
      },
      "source": [
        "pd.pivot_table(df,\n",
        "               index=['rad'], \n",
        "               columns=['chas'], \n",
        "               values=['age'],\n",
        "               aggfunc=[np.sum,np.mean])"
      ],
      "execution_count": 56,
      "outputs": [
        {
          "output_type": "execute_result",
          "data": {
            "text/html": [
              "<div>\n",
              "<style scoped>\n",
              "    .dataframe tbody tr th:only-of-type {\n",
              "        vertical-align: middle;\n",
              "    }\n",
              "\n",
              "    .dataframe tbody tr th {\n",
              "        vertical-align: top;\n",
              "    }\n",
              "\n",
              "    .dataframe thead tr th {\n",
              "        text-align: left;\n",
              "    }\n",
              "\n",
              "    .dataframe thead tr:last-of-type th {\n",
              "        text-align: right;\n",
              "    }\n",
              "</style>\n",
              "<table border=\"1\" class=\"dataframe\">\n",
              "  <thead>\n",
              "    <tr>\n",
              "      <th></th>\n",
              "      <th colspan=\"2\" halign=\"left\">sum</th>\n",
              "      <th colspan=\"2\" halign=\"left\">mean</th>\n",
              "    </tr>\n",
              "    <tr>\n",
              "      <th></th>\n",
              "      <th colspan=\"2\" halign=\"left\">age</th>\n",
              "      <th colspan=\"2\" halign=\"left\">age</th>\n",
              "    </tr>\n",
              "    <tr>\n",
              "      <th>chas</th>\n",
              "      <th>0</th>\n",
              "      <th>1</th>\n",
              "      <th>0</th>\n",
              "      <th>1</th>\n",
              "    </tr>\n",
              "    <tr>\n",
              "      <th>rad</th>\n",
              "      <th></th>\n",
              "      <th></th>\n",
              "      <th></th>\n",
              "      <th></th>\n",
              "    </tr>\n",
              "  </thead>\n",
              "  <tbody>\n",
              "    <tr>\n",
              "      <th>1</th>\n",
              "      <td>875.7</td>\n",
              "      <td>24.8</td>\n",
              "      <td>46.089474</td>\n",
              "      <td>24.800000</td>\n",
              "    </tr>\n",
              "    <tr>\n",
              "      <th>2</th>\n",
              "      <td>1554.5</td>\n",
              "      <td>NaN</td>\n",
              "      <td>64.770833</td>\n",
              "      <td>NaN</td>\n",
              "    </tr>\n",
              "    <tr>\n",
              "      <th>3</th>\n",
              "      <td>1760.5</td>\n",
              "      <td>113.3</td>\n",
              "      <td>48.902778</td>\n",
              "      <td>56.650000</td>\n",
              "    </tr>\n",
              "    <tr>\n",
              "      <th>4</th>\n",
              "      <td>6189.5</td>\n",
              "      <td>503.1</td>\n",
              "      <td>60.681373</td>\n",
              "      <td>62.887500</td>\n",
              "    </tr>\n",
              "    <tr>\n",
              "      <th>5</th>\n",
              "      <td>7017.5</td>\n",
              "      <td>943.2</td>\n",
              "      <td>67.475962</td>\n",
              "      <td>85.745455</td>\n",
              "    </tr>\n",
              "    <tr>\n",
              "      <th>6</th>\n",
              "      <td>1563.7</td>\n",
              "      <td>NaN</td>\n",
              "      <td>60.142308</td>\n",
              "      <td>NaN</td>\n",
              "    </tr>\n",
              "    <tr>\n",
              "      <th>7</th>\n",
              "      <td>682.4</td>\n",
              "      <td>NaN</td>\n",
              "      <td>40.141176</td>\n",
              "      <td>NaN</td>\n",
              "    </tr>\n",
              "    <tr>\n",
              "      <th>8</th>\n",
              "      <td>1215.9</td>\n",
              "      <td>400.5</td>\n",
              "      <td>63.994737</td>\n",
              "      <td>80.100000</td>\n",
              "    </tr>\n",
              "    <tr>\n",
              "      <th>24</th>\n",
              "      <td>11126.7</td>\n",
              "      <td>727.6</td>\n",
              "      <td>89.731452</td>\n",
              "      <td>90.950000</td>\n",
              "    </tr>\n",
              "  </tbody>\n",
              "</table>\n",
              "</div>"
            ],
            "text/plain": [
              "          sum              mean           \n",
              "          age               age           \n",
              "chas        0      1          0          1\n",
              "rad                                       \n",
              "1       875.7   24.8  46.089474  24.800000\n",
              "2      1554.5    NaN  64.770833        NaN\n",
              "3      1760.5  113.3  48.902778  56.650000\n",
              "4      6189.5  503.1  60.681373  62.887500\n",
              "5      7017.5  943.2  67.475962  85.745455\n",
              "6      1563.7    NaN  60.142308        NaN\n",
              "7       682.4    NaN  40.141176        NaN\n",
              "8      1215.9  400.5  63.994737  80.100000\n",
              "24    11126.7  727.6  89.731452  90.950000"
            ]
          },
          "metadata": {
            "tags": []
          },
          "execution_count": 56
        }
      ]
    },
    {
      "cell_type": "code",
      "metadata": {
        "id": "fi3LYEz3oDcf",
        "colab_type": "code",
        "outputId": "63a4eac2-62c6-4e4b-95e7-54be2a6dc8fd",
        "colab": {
          "base_uri": "https://localhost:8080/",
          "height": 402
        }
      },
      "source": [
        "pd.pivot_table(df,\n",
        "               index=['rad'], \n",
        "               columns=['chas'], \n",
        "               values=['age'],\n",
        "               aggfunc=[np.sum,np.mean],\n",
        "               fill_value=0)"
      ],
      "execution_count": 57,
      "outputs": [
        {
          "output_type": "execute_result",
          "data": {
            "text/html": [
              "<div>\n",
              "<style scoped>\n",
              "    .dataframe tbody tr th:only-of-type {\n",
              "        vertical-align: middle;\n",
              "    }\n",
              "\n",
              "    .dataframe tbody tr th {\n",
              "        vertical-align: top;\n",
              "    }\n",
              "\n",
              "    .dataframe thead tr th {\n",
              "        text-align: left;\n",
              "    }\n",
              "\n",
              "    .dataframe thead tr:last-of-type th {\n",
              "        text-align: right;\n",
              "    }\n",
              "</style>\n",
              "<table border=\"1\" class=\"dataframe\">\n",
              "  <thead>\n",
              "    <tr>\n",
              "      <th></th>\n",
              "      <th colspan=\"2\" halign=\"left\">sum</th>\n",
              "      <th colspan=\"2\" halign=\"left\">mean</th>\n",
              "    </tr>\n",
              "    <tr>\n",
              "      <th></th>\n",
              "      <th colspan=\"2\" halign=\"left\">age</th>\n",
              "      <th colspan=\"2\" halign=\"left\">age</th>\n",
              "    </tr>\n",
              "    <tr>\n",
              "      <th>chas</th>\n",
              "      <th>0</th>\n",
              "      <th>1</th>\n",
              "      <th>0</th>\n",
              "      <th>1</th>\n",
              "    </tr>\n",
              "    <tr>\n",
              "      <th>rad</th>\n",
              "      <th></th>\n",
              "      <th></th>\n",
              "      <th></th>\n",
              "      <th></th>\n",
              "    </tr>\n",
              "  </thead>\n",
              "  <tbody>\n",
              "    <tr>\n",
              "      <th>1</th>\n",
              "      <td>875.7</td>\n",
              "      <td>24.8</td>\n",
              "      <td>46.089474</td>\n",
              "      <td>24.800000</td>\n",
              "    </tr>\n",
              "    <tr>\n",
              "      <th>2</th>\n",
              "      <td>1554.5</td>\n",
              "      <td>0.0</td>\n",
              "      <td>64.770833</td>\n",
              "      <td>0.000000</td>\n",
              "    </tr>\n",
              "    <tr>\n",
              "      <th>3</th>\n",
              "      <td>1760.5</td>\n",
              "      <td>113.3</td>\n",
              "      <td>48.902778</td>\n",
              "      <td>56.650000</td>\n",
              "    </tr>\n",
              "    <tr>\n",
              "      <th>4</th>\n",
              "      <td>6189.5</td>\n",
              "      <td>503.1</td>\n",
              "      <td>60.681373</td>\n",
              "      <td>62.887500</td>\n",
              "    </tr>\n",
              "    <tr>\n",
              "      <th>5</th>\n",
              "      <td>7017.5</td>\n",
              "      <td>943.2</td>\n",
              "      <td>67.475962</td>\n",
              "      <td>85.745455</td>\n",
              "    </tr>\n",
              "    <tr>\n",
              "      <th>6</th>\n",
              "      <td>1563.7</td>\n",
              "      <td>0.0</td>\n",
              "      <td>60.142308</td>\n",
              "      <td>0.000000</td>\n",
              "    </tr>\n",
              "    <tr>\n",
              "      <th>7</th>\n",
              "      <td>682.4</td>\n",
              "      <td>0.0</td>\n",
              "      <td>40.141176</td>\n",
              "      <td>0.000000</td>\n",
              "    </tr>\n",
              "    <tr>\n",
              "      <th>8</th>\n",
              "      <td>1215.9</td>\n",
              "      <td>400.5</td>\n",
              "      <td>63.994737</td>\n",
              "      <td>80.100000</td>\n",
              "    </tr>\n",
              "    <tr>\n",
              "      <th>24</th>\n",
              "      <td>11126.7</td>\n",
              "      <td>727.6</td>\n",
              "      <td>89.731452</td>\n",
              "      <td>90.950000</td>\n",
              "    </tr>\n",
              "  </tbody>\n",
              "</table>\n",
              "</div>"
            ],
            "text/plain": [
              "          sum              mean           \n",
              "          age               age           \n",
              "chas        0      1          0          1\n",
              "rad                                       \n",
              "1       875.7   24.8  46.089474  24.800000\n",
              "2      1554.5    0.0  64.770833   0.000000\n",
              "3      1760.5  113.3  48.902778  56.650000\n",
              "4      6189.5  503.1  60.681373  62.887500\n",
              "5      7017.5  943.2  67.475962  85.745455\n",
              "6      1563.7    0.0  60.142308   0.000000\n",
              "7       682.4    0.0  40.141176   0.000000\n",
              "8      1215.9  400.5  63.994737  80.100000\n",
              "24    11126.7  727.6  89.731452  90.950000"
            ]
          },
          "metadata": {
            "tags": []
          },
          "execution_count": 57
        }
      ]
    },
    {
      "cell_type": "code",
      "metadata": {
        "id": "GOzhUZi_oZRv",
        "colab_type": "code",
        "outputId": "ff0a2bce-bb4b-4e5a-9241-632f1019966b",
        "colab": {
          "base_uri": "https://localhost:8080/",
          "height": 432
        }
      },
      "source": [
        "pd.pivot_table(df,\n",
        "               index=['rad'], \n",
        "               columns=['chas'], \n",
        "               values=['age'],\n",
        "               aggfunc=[np.sum,np.mean],\n",
        "               fill_value='X',\n",
        "               margins=1)"
      ],
      "execution_count": 58,
      "outputs": [
        {
          "output_type": "execute_result",
          "data": {
            "text/html": [
              "<div>\n",
              "<style scoped>\n",
              "    .dataframe tbody tr th:only-of-type {\n",
              "        vertical-align: middle;\n",
              "    }\n",
              "\n",
              "    .dataframe tbody tr th {\n",
              "        vertical-align: top;\n",
              "    }\n",
              "\n",
              "    .dataframe thead tr th {\n",
              "        text-align: left;\n",
              "    }\n",
              "\n",
              "    .dataframe thead tr:last-of-type th {\n",
              "        text-align: right;\n",
              "    }\n",
              "</style>\n",
              "<table border=\"1\" class=\"dataframe\">\n",
              "  <thead>\n",
              "    <tr>\n",
              "      <th></th>\n",
              "      <th colspan=\"3\" halign=\"left\">sum</th>\n",
              "      <th colspan=\"3\" halign=\"left\">mean</th>\n",
              "    </tr>\n",
              "    <tr>\n",
              "      <th></th>\n",
              "      <th colspan=\"3\" halign=\"left\">age</th>\n",
              "      <th colspan=\"3\" halign=\"left\">age</th>\n",
              "    </tr>\n",
              "    <tr>\n",
              "      <th>chas</th>\n",
              "      <th>0</th>\n",
              "      <th>1</th>\n",
              "      <th>All</th>\n",
              "      <th>0</th>\n",
              "      <th>1</th>\n",
              "      <th>All</th>\n",
              "    </tr>\n",
              "    <tr>\n",
              "      <th>rad</th>\n",
              "      <th></th>\n",
              "      <th></th>\n",
              "      <th></th>\n",
              "      <th></th>\n",
              "      <th></th>\n",
              "      <th></th>\n",
              "    </tr>\n",
              "  </thead>\n",
              "  <tbody>\n",
              "    <tr>\n",
              "      <th>1</th>\n",
              "      <td>875.7</td>\n",
              "      <td>24.8</td>\n",
              "      <td>900.5</td>\n",
              "      <td>46.089474</td>\n",
              "      <td>24.8</td>\n",
              "      <td>45.025000</td>\n",
              "    </tr>\n",
              "    <tr>\n",
              "      <th>2</th>\n",
              "      <td>1554.5</td>\n",
              "      <td>X</td>\n",
              "      <td>1554.5</td>\n",
              "      <td>64.770833</td>\n",
              "      <td>X</td>\n",
              "      <td>64.770833</td>\n",
              "    </tr>\n",
              "    <tr>\n",
              "      <th>3</th>\n",
              "      <td>1760.5</td>\n",
              "      <td>113.3</td>\n",
              "      <td>1873.8</td>\n",
              "      <td>48.902778</td>\n",
              "      <td>56.65</td>\n",
              "      <td>49.310526</td>\n",
              "    </tr>\n",
              "    <tr>\n",
              "      <th>4</th>\n",
              "      <td>6189.5</td>\n",
              "      <td>503.1</td>\n",
              "      <td>6692.6</td>\n",
              "      <td>60.681373</td>\n",
              "      <td>62.8875</td>\n",
              "      <td>60.841818</td>\n",
              "    </tr>\n",
              "    <tr>\n",
              "      <th>5</th>\n",
              "      <td>7017.5</td>\n",
              "      <td>943.2</td>\n",
              "      <td>7960.7</td>\n",
              "      <td>67.475962</td>\n",
              "      <td>85.7455</td>\n",
              "      <td>69.223478</td>\n",
              "    </tr>\n",
              "    <tr>\n",
              "      <th>6</th>\n",
              "      <td>1563.7</td>\n",
              "      <td>X</td>\n",
              "      <td>1563.7</td>\n",
              "      <td>60.142308</td>\n",
              "      <td>X</td>\n",
              "      <td>60.142308</td>\n",
              "    </tr>\n",
              "    <tr>\n",
              "      <th>7</th>\n",
              "      <td>682.4</td>\n",
              "      <td>X</td>\n",
              "      <td>682.4</td>\n",
              "      <td>40.141176</td>\n",
              "      <td>X</td>\n",
              "      <td>40.141176</td>\n",
              "    </tr>\n",
              "    <tr>\n",
              "      <th>8</th>\n",
              "      <td>1215.9</td>\n",
              "      <td>400.5</td>\n",
              "      <td>1616.4</td>\n",
              "      <td>63.994737</td>\n",
              "      <td>80.1</td>\n",
              "      <td>67.350000</td>\n",
              "    </tr>\n",
              "    <tr>\n",
              "      <th>24</th>\n",
              "      <td>11126.7</td>\n",
              "      <td>727.6</td>\n",
              "      <td>11854.3</td>\n",
              "      <td>89.731452</td>\n",
              "      <td>90.95</td>\n",
              "      <td>89.805303</td>\n",
              "    </tr>\n",
              "    <tr>\n",
              "      <th>All</th>\n",
              "      <td>31986.4</td>\n",
              "      <td>2712.5</td>\n",
              "      <td>34698.9</td>\n",
              "      <td>67.911677</td>\n",
              "      <td>77.5</td>\n",
              "      <td>68.574901</td>\n",
              "    </tr>\n",
              "  </tbody>\n",
              "</table>\n",
              "</div>"
            ],
            "text/plain": [
              "          sum                        mean                    \n",
              "          age                         age                    \n",
              "chas        0       1      All          0        1        All\n",
              "rad                                                          \n",
              "1       875.7    24.8    900.5  46.089474     24.8  45.025000\n",
              "2      1554.5       X   1554.5  64.770833        X  64.770833\n",
              "3      1760.5   113.3   1873.8  48.902778    56.65  49.310526\n",
              "4      6189.5   503.1   6692.6  60.681373  62.8875  60.841818\n",
              "5      7017.5   943.2   7960.7  67.475962  85.7455  69.223478\n",
              "6      1563.7       X   1563.7  60.142308        X  60.142308\n",
              "7       682.4       X    682.4  40.141176        X  40.141176\n",
              "8      1215.9   400.5   1616.4  63.994737     80.1  67.350000\n",
              "24    11126.7   727.6  11854.3  89.731452    90.95  89.805303\n",
              "All   31986.4  2712.5  34698.9  67.911677     77.5  68.574901"
            ]
          },
          "metadata": {
            "tags": []
          },
          "execution_count": 58
        }
      ]
    },
    {
      "cell_type": "markdown",
      "metadata": {
        "id": "5Bugc3CUjkJu",
        "colab_type": "text"
      },
      "source": [
        "### 資料選擇與篩選\n",
        "\n",
        "\n",
        "\n"
      ]
    },
    {
      "cell_type": "code",
      "metadata": {
        "id": "32Gl33I7pn9N",
        "colab_type": "code",
        "outputId": "aa6044b9-1321-4972-e4a1-5e81e9c5d1ec",
        "colab": {
          "base_uri": "https://localhost:8080/",
          "height": 373
        }
      },
      "source": [
        "df_p = pd.pivot_table(df,\n",
        "                      index=['rad'],\n",
        "                      values=['age','crim','zn'],\n",
        "                      margins=1)\n",
        "df_p"
      ],
      "execution_count": 59,
      "outputs": [
        {
          "output_type": "execute_result",
          "data": {
            "text/html": [
              "<div>\n",
              "<style scoped>\n",
              "    .dataframe tbody tr th:only-of-type {\n",
              "        vertical-align: middle;\n",
              "    }\n",
              "\n",
              "    .dataframe tbody tr th {\n",
              "        vertical-align: top;\n",
              "    }\n",
              "\n",
              "    .dataframe thead th {\n",
              "        text-align: right;\n",
              "    }\n",
              "</style>\n",
              "<table border=\"1\" class=\"dataframe\">\n",
              "  <thead>\n",
              "    <tr style=\"text-align: right;\">\n",
              "      <th></th>\n",
              "      <th>age</th>\n",
              "      <th>crim</th>\n",
              "      <th>zn</th>\n",
              "    </tr>\n",
              "    <tr>\n",
              "      <th>rad</th>\n",
              "      <th></th>\n",
              "      <th></th>\n",
              "      <th></th>\n",
              "    </tr>\n",
              "  </thead>\n",
              "  <tbody>\n",
              "    <tr>\n",
              "      <th>1</th>\n",
              "      <td>45.025000</td>\n",
              "      <td>0.036029</td>\n",
              "      <td>39.900000</td>\n",
              "    </tr>\n",
              "    <tr>\n",
              "      <th>2</th>\n",
              "      <td>64.770833</td>\n",
              "      <td>0.083285</td>\n",
              "      <td>20.416667</td>\n",
              "    </tr>\n",
              "    <tr>\n",
              "      <th>3</th>\n",
              "      <td>49.310526</td>\n",
              "      <td>0.097359</td>\n",
              "      <td>16.381579</td>\n",
              "    </tr>\n",
              "    <tr>\n",
              "      <th>4</th>\n",
              "      <td>60.841818</td>\n",
              "      <td>0.393903</td>\n",
              "      <td>14.731818</td>\n",
              "    </tr>\n",
              "    <tr>\n",
              "      <th>5</th>\n",
              "      <td>69.223478</td>\n",
              "      <td>0.687792</td>\n",
              "      <td>11.108696</td>\n",
              "    </tr>\n",
              "    <tr>\n",
              "      <th>6</th>\n",
              "      <td>60.142308</td>\n",
              "      <td>0.150054</td>\n",
              "      <td>12.980769</td>\n",
              "    </tr>\n",
              "    <tr>\n",
              "      <th>7</th>\n",
              "      <td>40.141176</td>\n",
              "      <td>0.150399</td>\n",
              "      <td>26.705882</td>\n",
              "    </tr>\n",
              "    <tr>\n",
              "      <th>8</th>\n",
              "      <td>67.350000</td>\n",
              "      <td>0.371410</td>\n",
              "      <td>6.250000</td>\n",
              "    </tr>\n",
              "    <tr>\n",
              "      <th>24</th>\n",
              "      <td>89.805303</td>\n",
              "      <td>12.759291</td>\n",
              "      <td>0.000000</td>\n",
              "    </tr>\n",
              "    <tr>\n",
              "      <th>All</th>\n",
              "      <td>68.574901</td>\n",
              "      <td>3.613524</td>\n",
              "      <td>11.363636</td>\n",
              "    </tr>\n",
              "  </tbody>\n",
              "</table>\n",
              "</div>"
            ],
            "text/plain": [
              "           age       crim         zn\n",
              "rad                                 \n",
              "1    45.025000   0.036029  39.900000\n",
              "2    64.770833   0.083285  20.416667\n",
              "3    49.310526   0.097359  16.381579\n",
              "4    60.841818   0.393903  14.731818\n",
              "5    69.223478   0.687792  11.108696\n",
              "6    60.142308   0.150054  12.980769\n",
              "7    40.141176   0.150399  26.705882\n",
              "8    67.350000   0.371410   6.250000\n",
              "24   89.805303  12.759291   0.000000\n",
              "All  68.574901   3.613524  11.363636"
            ]
          },
          "metadata": {
            "tags": []
          },
          "execution_count": 59
        }
      ]
    },
    {
      "cell_type": "markdown",
      "metadata": {
        "id": "zQcPm58CpdM6",
        "colab_type": "text"
      },
      "source": [
        "#### .loc .iloc 方法選擇"
      ]
    },
    {
      "cell_type": "code",
      "metadata": {
        "id": "e_cjz6-iqXD2",
        "colab_type": "code",
        "outputId": "da4b45f9-ab8f-4c62-aadf-41a7d4b39a0e",
        "colab": {
          "base_uri": "https://localhost:8080/",
          "height": 34
        }
      },
      "source": [
        "df_p.iloc[-1, 1]"
      ],
      "execution_count": 60,
      "outputs": [
        {
          "output_type": "execute_result",
          "data": {
            "text/plain": [
              "3.6135235573122535"
            ]
          },
          "metadata": {
            "tags": []
          },
          "execution_count": 60
        }
      ]
    },
    {
      "cell_type": "code",
      "metadata": {
        "id": "Dmal7G8etAvx",
        "colab_type": "code",
        "outputId": "9dd7e738-d224-4550-827c-cb85a1583651",
        "colab": {
          "base_uri": "https://localhost:8080/",
          "height": 34
        }
      },
      "source": [
        "df_p.loc['All','crim']"
      ],
      "execution_count": 61,
      "outputs": [
        {
          "output_type": "execute_result",
          "data": {
            "text/plain": [
              "3.6135235573122535"
            ]
          },
          "metadata": {
            "tags": []
          },
          "execution_count": 61
        }
      ]
    },
    {
      "cell_type": "markdown",
      "metadata": {
        "id": "3WcEBwClpesK",
        "colab_type": "text"
      },
      "source": [
        "#### 使用布林值篩選"
      ]
    },
    {
      "cell_type": "code",
      "metadata": {
        "id": "Etfw2V28q92G",
        "colab_type": "code",
        "outputId": "db53f41b-32af-4e87-ea08-17d944d9d28a",
        "colab": {
          "base_uri": "https://localhost:8080/",
          "height": 284
        }
      },
      "source": [
        "df_p.loc[df_p.age > 60]"
      ],
      "execution_count": 62,
      "outputs": [
        {
          "output_type": "execute_result",
          "data": {
            "text/html": [
              "<div>\n",
              "<style scoped>\n",
              "    .dataframe tbody tr th:only-of-type {\n",
              "        vertical-align: middle;\n",
              "    }\n",
              "\n",
              "    .dataframe tbody tr th {\n",
              "        vertical-align: top;\n",
              "    }\n",
              "\n",
              "    .dataframe thead th {\n",
              "        text-align: right;\n",
              "    }\n",
              "</style>\n",
              "<table border=\"1\" class=\"dataframe\">\n",
              "  <thead>\n",
              "    <tr style=\"text-align: right;\">\n",
              "      <th></th>\n",
              "      <th>age</th>\n",
              "      <th>crim</th>\n",
              "      <th>zn</th>\n",
              "    </tr>\n",
              "    <tr>\n",
              "      <th>rad</th>\n",
              "      <th></th>\n",
              "      <th></th>\n",
              "      <th></th>\n",
              "    </tr>\n",
              "  </thead>\n",
              "  <tbody>\n",
              "    <tr>\n",
              "      <th>2</th>\n",
              "      <td>64.770833</td>\n",
              "      <td>0.083285</td>\n",
              "      <td>20.416667</td>\n",
              "    </tr>\n",
              "    <tr>\n",
              "      <th>4</th>\n",
              "      <td>60.841818</td>\n",
              "      <td>0.393903</td>\n",
              "      <td>14.731818</td>\n",
              "    </tr>\n",
              "    <tr>\n",
              "      <th>5</th>\n",
              "      <td>69.223478</td>\n",
              "      <td>0.687792</td>\n",
              "      <td>11.108696</td>\n",
              "    </tr>\n",
              "    <tr>\n",
              "      <th>6</th>\n",
              "      <td>60.142308</td>\n",
              "      <td>0.150054</td>\n",
              "      <td>12.980769</td>\n",
              "    </tr>\n",
              "    <tr>\n",
              "      <th>8</th>\n",
              "      <td>67.350000</td>\n",
              "      <td>0.371410</td>\n",
              "      <td>6.250000</td>\n",
              "    </tr>\n",
              "    <tr>\n",
              "      <th>24</th>\n",
              "      <td>89.805303</td>\n",
              "      <td>12.759291</td>\n",
              "      <td>0.000000</td>\n",
              "    </tr>\n",
              "    <tr>\n",
              "      <th>All</th>\n",
              "      <td>68.574901</td>\n",
              "      <td>3.613524</td>\n",
              "      <td>11.363636</td>\n",
              "    </tr>\n",
              "  </tbody>\n",
              "</table>\n",
              "</div>"
            ],
            "text/plain": [
              "           age       crim         zn\n",
              "rad                                 \n",
              "2    64.770833   0.083285  20.416667\n",
              "4    60.841818   0.393903  14.731818\n",
              "5    69.223478   0.687792  11.108696\n",
              "6    60.142308   0.150054  12.980769\n",
              "8    67.350000   0.371410   6.250000\n",
              "24   89.805303  12.759291   0.000000\n",
              "All  68.574901   3.613524  11.363636"
            ]
          },
          "metadata": {
            "tags": []
          },
          "execution_count": 62
        }
      ]
    }
  ]
}