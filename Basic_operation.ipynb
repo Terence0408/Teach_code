{
  "nbformat": 4,
  "nbformat_minor": 0,
  "metadata": {
    "colab": {
      "name": "Basic operation.ipynb",
      "provenance": [],
      "collapsed_sections": [],
      "toc_visible": true,
      "include_colab_link": true
    },
    "kernelspec": {
      "name": "python3",
      "display_name": "Python 3"
    }
  },
  "cells": [
    {
      "cell_type": "markdown",
      "metadata": {
        "id": "view-in-github",
        "colab_type": "text"
      },
      "source": [
        "<a href=\"https://colab.research.google.com/github/Terence0408/Teach_code/blob/master/Basic_operation.ipynb\" target=\"_parent\"><img src=\"https://colab.research.google.com/assets/colab-badge.svg\" alt=\"Open In Colab\"/></a>"
      ]
    },
    {
      "cell_type": "markdown",
      "metadata": {
        "id": "XdJ2Sb2XLWBF",
        "colab_type": "text"
      },
      "source": [
        "# List"
      ]
    },
    {
      "cell_type": "code",
      "metadata": {
        "id": "SGYz6iqCLYnj",
        "colab_type": "code",
        "outputId": "257d52d1-ed45-4a68-e594-8a9568ca266e",
        "colab": {
          "base_uri": "https://localhost:8080/",
          "height": 35
        }
      },
      "source": [
        "list_f=[1,2,3,1,2,3]\n",
        "list_f"
      ],
      "execution_count": 0,
      "outputs": [
        {
          "output_type": "execute_result",
          "data": {
            "text/plain": [
              "[1, 2, 3, 1, 2, 3]"
            ]
          },
          "metadata": {
            "tags": []
          },
          "execution_count": 1
        }
      ]
    },
    {
      "cell_type": "markdown",
      "metadata": {
        "id": "zuT7MR5DLjfk",
        "colab_type": "text"
      },
      "source": [
        "## 不會影響原 list 的指令"
      ]
    },
    {
      "cell_type": "markdown",
      "metadata": {
        "id": "OX12HaZEWVhs",
        "colab_type": "text"
      },
      "source": [
        "#### list 的長度"
      ]
    },
    {
      "cell_type": "code",
      "metadata": {
        "id": "2e-2uKYZWVro",
        "colab_type": "code",
        "outputId": "27456a62-ce0d-42c9-f06e-f10968aaa11a",
        "colab": {
          "base_uri": "https://localhost:8080/",
          "height": 35
        }
      },
      "source": [
        "len(list_f)"
      ],
      "execution_count": 0,
      "outputs": [
        {
          "output_type": "execute_result",
          "data": {
            "text/plain": [
              "6"
            ]
          },
          "metadata": {
            "tags": []
          },
          "execution_count": 2
        }
      ]
    },
    {
      "cell_type": "markdown",
      "metadata": {
        "id": "KI8e8x41Ltio",
        "colab_type": "text"
      },
      "source": [
        "#### 計算 list 中 2 出現的次數"
      ]
    },
    {
      "cell_type": "code",
      "metadata": {
        "id": "fyDv0WGgLlSO",
        "colab_type": "code",
        "outputId": "543754ca-a851-4329-94b4-c6e96c0c2bb2",
        "colab": {
          "base_uri": "https://localhost:8080/",
          "height": 35
        }
      },
      "source": [
        "list_f.count(2)  "
      ],
      "execution_count": 0,
      "outputs": [
        {
          "output_type": "execute_result",
          "data": {
            "text/plain": [
              "2"
            ]
          },
          "metadata": {
            "tags": []
          },
          "execution_count": 3
        }
      ]
    },
    {
      "cell_type": "markdown",
      "metadata": {
        "id": "XdlHfFnzME50",
        "colab_type": "text"
      },
      "source": [
        "#### 在 list 中從 0 開始找第一筆 1 的位置"
      ]
    },
    {
      "cell_type": "code",
      "metadata": {
        "id": "vfHjkvEAMKZK",
        "colab_type": "code",
        "outputId": "4328bd01-5b55-48b9-c26f-23b57ce60334",
        "colab": {
          "base_uri": "https://localhost:8080/",
          "height": 35
        }
      },
      "source": [
        "list_f.index(1,0) "
      ],
      "execution_count": 0,
      "outputs": [
        {
          "output_type": "execute_result",
          "data": {
            "text/plain": [
              "0"
            ]
          },
          "metadata": {
            "tags": []
          },
          "execution_count": 4
        }
      ]
    },
    {
      "cell_type": "markdown",
      "metadata": {
        "id": "Qoc2JFvLMK11",
        "colab_type": "text"
      },
      "source": [
        "#### 將 list 移除重複的資料"
      ]
    },
    {
      "cell_type": "code",
      "metadata": {
        "id": "RrqMkm9UMNes",
        "colab_type": "code",
        "outputId": "ccb69f5f-3afc-40f5-ffdf-f34c8fd7b033",
        "colab": {
          "base_uri": "https://localhost:8080/",
          "height": 35
        }
      },
      "source": [
        "set(list_f) "
      ],
      "execution_count": 0,
      "outputs": [
        {
          "output_type": "execute_result",
          "data": {
            "text/plain": [
              "{1, 2, 3}"
            ]
          },
          "metadata": {
            "tags": []
          },
          "execution_count": 5
        }
      ]
    },
    {
      "cell_type": "markdown",
      "metadata": {
        "id": "y-ev2YxeMPGa",
        "colab_type": "text"
      },
      "source": [
        "#### 找 list 中第 2 個位置的元素\n",
        "\n",
        "> Python 數列由 0 開始\n",
        "\n",
        "\n",
        "\n",
        "\n"
      ]
    },
    {
      "cell_type": "code",
      "metadata": {
        "id": "1qCjKX9MMY0r",
        "colab_type": "code",
        "outputId": "3bbb801a-b097-4425-dcc1-4a49d74c4554",
        "colab": {
          "base_uri": "https://localhost:8080/",
          "height": 35
        }
      },
      "source": [
        "list_f"
      ],
      "execution_count": 0,
      "outputs": [
        {
          "output_type": "execute_result",
          "data": {
            "text/plain": [
              "[1, 2, 3, 1, 2, 3]"
            ]
          },
          "metadata": {
            "tags": []
          },
          "execution_count": 6
        }
      ]
    },
    {
      "cell_type": "code",
      "metadata": {
        "id": "D8R_pNqQMPQa",
        "colab_type": "code",
        "outputId": "830c4e5f-b1cc-4778-baf7-e526f65ec903",
        "colab": {
          "base_uri": "https://localhost:8080/",
          "height": 35
        }
      },
      "source": [
        "list_f[2-1] "
      ],
      "execution_count": 0,
      "outputs": [
        {
          "output_type": "execute_result",
          "data": {
            "text/plain": [
              "2"
            ]
          },
          "metadata": {
            "tags": []
          },
          "execution_count": 7
        }
      ]
    },
    {
      "cell_type": "markdown",
      "metadata": {
        "id": "zjiryaVeMz17",
        "colab_type": "text"
      },
      "source": [
        "## 會影響原 list 的指令\n",
        "\n",
        "> 碼掉這行 list_f=[1,2,3,1,2,3]，多跑幾次就能感受差異\n",
        "\n",
        "\n",
        "\n",
        "\n",
        "\n",
        "\n"
      ]
    },
    {
      "cell_type": "markdown",
      "metadata": {
        "id": "WbgBaCB2NJRv",
        "colab_type": "text"
      },
      "source": [
        "#### 更新 list 中的值"
      ]
    },
    {
      "cell_type": "code",
      "metadata": {
        "id": "aoDjtW0jNJbR",
        "colab_type": "code",
        "outputId": "0a150a21-c242-4f9a-bacf-2db7353529b5",
        "colab": {
          "base_uri": "https://localhost:8080/",
          "height": 35
        }
      },
      "source": [
        "list_f=[1,2,3,1,2,3]\n",
        "\n",
        "list_f[2-1] = 5\n",
        "list_f"
      ],
      "execution_count": 0,
      "outputs": [
        {
          "output_type": "execute_result",
          "data": {
            "text/plain": [
              "[1, 5, 3, 1, 2, 3]"
            ]
          },
          "metadata": {
            "tags": []
          },
          "execution_count": 8
        }
      ]
    },
    {
      "cell_type": "markdown",
      "metadata": {
        "id": "s934QC9yNftw",
        "colab_type": "text"
      },
      "source": [
        "#### 在 list 尾端資加一筆資料"
      ]
    },
    {
      "cell_type": "markdown",
      "metadata": {
        "id": "LarhpEVQGtDg",
        "colab_type": "text"
      },
      "source": [
        "##### 透過 extend"
      ]
    },
    {
      "cell_type": "code",
      "metadata": {
        "id": "1bCa8aOKNf6k",
        "colab_type": "code",
        "outputId": "0a74ade6-fec4-404a-d300-970f49766b4e",
        "colab": {
          "base_uri": "https://localhost:8080/",
          "height": 35
        }
      },
      "source": [
        "list_f=[1,2,3,1,2,3]\n",
        "\n",
        "list_f.extend([4])  \n",
        "list_f"
      ],
      "execution_count": 0,
      "outputs": [
        {
          "output_type": "execute_result",
          "data": {
            "text/plain": [
              "[1, 2, 3, 1, 2, 3, 4]"
            ]
          },
          "metadata": {
            "tags": []
          },
          "execution_count": 9
        }
      ]
    },
    {
      "cell_type": "code",
      "metadata": {
        "id": "ZW57KiMnOMtd",
        "colab_type": "code",
        "outputId": "a098bb75-0f5a-4ccd-906a-f87be2e80a1d",
        "colab": {
          "base_uri": "https://localhost:8080/",
          "height": 35
        }
      },
      "source": [
        "list_f.extend([4])  \n",
        "list_f"
      ],
      "execution_count": 0,
      "outputs": [
        {
          "output_type": "execute_result",
          "data": {
            "text/plain": [
              "[1, 2, 3, 1, 2, 3, 4, 4]"
            ]
          },
          "metadata": {
            "tags": []
          },
          "execution_count": 10
        }
      ]
    },
    {
      "cell_type": "markdown",
      "metadata": {
        "id": "aGNV5vWtGyTC",
        "colab_type": "text"
      },
      "source": [
        "##### 透過 append"
      ]
    },
    {
      "cell_type": "code",
      "metadata": {
        "id": "IcG6b4ObG1tl",
        "colab_type": "code",
        "outputId": "594b4eb7-c49e-41e8-eaa4-580dbf22644a",
        "colab": {
          "base_uri": "https://localhost:8080/",
          "height": 35
        }
      },
      "source": [
        "list_f=[1,2,3,1,2,3]\n",
        "\n",
        "list_f.append(4)  \n",
        "list_f"
      ],
      "execution_count": 0,
      "outputs": [
        {
          "output_type": "execute_result",
          "data": {
            "text/plain": [
              "[1, 2, 3, 1, 2, 3, 4]"
            ]
          },
          "metadata": {
            "tags": []
          },
          "execution_count": 11
        }
      ]
    },
    {
      "cell_type": "code",
      "metadata": {
        "id": "KyLnpGjOG68g",
        "colab_type": "code",
        "outputId": "4b998262-351d-49ce-bf1c-0cceb3238a4f",
        "colab": {
          "base_uri": "https://localhost:8080/",
          "height": 35
        }
      },
      "source": [
        "list_f.append(4)  \n",
        "list_f"
      ],
      "execution_count": 0,
      "outputs": [
        {
          "output_type": "execute_result",
          "data": {
            "text/plain": [
              "[1, 2, 3, 1, 2, 3, 4, 4]"
            ]
          },
          "metadata": {
            "tags": []
          },
          "execution_count": 12
        }
      ]
    },
    {
      "cell_type": "markdown",
      "metadata": {
        "id": "jDE9NX41NkF0",
        "colab_type": "text"
      },
      "source": [
        "#### 在 list 中 0 的位置插入資料 -1"
      ]
    },
    {
      "cell_type": "code",
      "metadata": {
        "id": "PG19_J-kNkNk",
        "colab_type": "code",
        "outputId": "74f239ee-ddc4-4f08-a768-4f991354693e",
        "colab": {
          "base_uri": "https://localhost:8080/",
          "height": 35
        }
      },
      "source": [
        "list_f=[1,2,3,1,2,3]\n",
        "\n",
        "list_f.insert(0,-1)       \n",
        "list_f"
      ],
      "execution_count": 0,
      "outputs": [
        {
          "output_type": "execute_result",
          "data": {
            "text/plain": [
              "[-1, 1, 2, 3, 1, 2, 3]"
            ]
          },
          "metadata": {
            "tags": []
          },
          "execution_count": 13
        }
      ]
    },
    {
      "cell_type": "code",
      "metadata": {
        "id": "p75RKYg-OSnO",
        "colab_type": "code",
        "outputId": "8f71ba93-e505-4a1d-c5e6-bd52e4964604",
        "colab": {
          "base_uri": "https://localhost:8080/",
          "height": 35
        }
      },
      "source": [
        "list_f.insert(0,-1)       \n",
        "list_f"
      ],
      "execution_count": 0,
      "outputs": [
        {
          "output_type": "execute_result",
          "data": {
            "text/plain": [
              "[-1, -1, 1, 2, 3, 1, 2, 3]"
            ]
          },
          "metadata": {
            "tags": []
          },
          "execution_count": 14
        }
      ]
    },
    {
      "cell_type": "markdown",
      "metadata": {
        "id": "IOYBaqCXOSEb",
        "colab_type": "text"
      },
      "source": [
        "#### 移除 list 中第一筆與 3 相符的資料"
      ]
    },
    {
      "cell_type": "code",
      "metadata": {
        "id": "slUiMfSTOUhp",
        "colab_type": "code",
        "outputId": "9b525574-044c-4a0b-de46-73f23c579a30",
        "colab": {
          "base_uri": "https://localhost:8080/",
          "height": 35
        }
      },
      "source": [
        "list_f=[1,2,3,1,2,3]\n",
        "\n",
        "list_f.remove(3)     \n",
        "list_f"
      ],
      "execution_count": 0,
      "outputs": [
        {
          "output_type": "execute_result",
          "data": {
            "text/plain": [
              "[1, 2, 1, 2, 3]"
            ]
          },
          "metadata": {
            "tags": []
          },
          "execution_count": 15
        }
      ]
    },
    {
      "cell_type": "code",
      "metadata": {
        "id": "FXTOnRwwObPp",
        "colab_type": "code",
        "outputId": "3d851361-77c0-4aec-c4a1-f9341e02c5f2",
        "colab": {
          "base_uri": "https://localhost:8080/",
          "height": 35
        }
      },
      "source": [
        "list_f.remove(3)     \n",
        "list_f"
      ],
      "execution_count": 0,
      "outputs": [
        {
          "output_type": "execute_result",
          "data": {
            "text/plain": [
              "[1, 2, 1, 2]"
            ]
          },
          "metadata": {
            "tags": []
          },
          "execution_count": 16
        }
      ]
    },
    {
      "cell_type": "markdown",
      "metadata": {
        "id": "rbrr5fISOSIw",
        "colab_type": "text"
      },
      "source": [
        "#### 移除 list 中最後一筆資料, 並回傳該值"
      ]
    },
    {
      "cell_type": "code",
      "metadata": {
        "id": "ftBRlb_sOd19",
        "colab_type": "code",
        "outputId": "40a3c56e-a56b-4974-9adc-1bfc5f24bb32",
        "colab": {
          "base_uri": "https://localhost:8080/",
          "height": 35
        }
      },
      "source": [
        "list_f=[1,2,3,1,2,3]\n",
        "\n",
        "list_f.pop()   "
      ],
      "execution_count": 0,
      "outputs": [
        {
          "output_type": "execute_result",
          "data": {
            "text/plain": [
              "3"
            ]
          },
          "metadata": {
            "tags": []
          },
          "execution_count": 17
        }
      ]
    },
    {
      "cell_type": "code",
      "metadata": {
        "id": "iayDsZ27Ohe5",
        "colab_type": "code",
        "outputId": "a029a5fa-3ace-4734-acf2-8859ba1a2e50",
        "colab": {
          "base_uri": "https://localhost:8080/",
          "height": 35
        }
      },
      "source": [
        "list_f.pop()   "
      ],
      "execution_count": 0,
      "outputs": [
        {
          "output_type": "execute_result",
          "data": {
            "text/plain": [
              "2"
            ]
          },
          "metadata": {
            "tags": []
          },
          "execution_count": 18
        }
      ]
    },
    {
      "cell_type": "markdown",
      "metadata": {
        "id": "Qv89YNHDOiHg",
        "colab_type": "text"
      },
      "source": [
        "#### 將 list 排序(reverse=True, 反轉排序)"
      ]
    },
    {
      "cell_type": "code",
      "metadata": {
        "id": "iHum440mOiRe",
        "colab_type": "code",
        "outputId": "7c92c89f-e0b3-4965-d7c7-7d455f3daa6f",
        "colab": {
          "base_uri": "https://localhost:8080/",
          "height": 35
        }
      },
      "source": [
        "list_f=[1,2,3,1,2,3]\n",
        "\n",
        "list_f.sort(reverse=True) \n",
        "list_f"
      ],
      "execution_count": 0,
      "outputs": [
        {
          "output_type": "execute_result",
          "data": {
            "text/plain": [
              "[3, 3, 2, 2, 1, 1]"
            ]
          },
          "metadata": {
            "tags": []
          },
          "execution_count": 19
        }
      ]
    },
    {
      "cell_type": "markdown",
      "metadata": {
        "id": "d82b1Bw0OsD7",
        "colab_type": "text"
      },
      "source": [
        "#### 將 list 反轉"
      ]
    },
    {
      "cell_type": "code",
      "metadata": {
        "id": "PT5v6CNBOrDq",
        "colab_type": "code",
        "outputId": "12c4ea99-8bcf-40d9-bcdf-4afd0353ba94",
        "colab": {
          "base_uri": "https://localhost:8080/",
          "height": 35
        }
      },
      "source": [
        "list_f=[1,2,3,1,2,3]\n",
        "\n",
        "list_f.reverse()     \n",
        "list_f"
      ],
      "execution_count": 0,
      "outputs": [
        {
          "output_type": "execute_result",
          "data": {
            "text/plain": [
              "[3, 2, 1, 3, 2, 1]"
            ]
          },
          "metadata": {
            "tags": []
          },
          "execution_count": 20
        }
      ]
    },
    {
      "cell_type": "markdown",
      "metadata": {
        "id": "Ymr2pQj1Ovid",
        "colab_type": "text"
      },
      "source": [
        "## 字串和 list 操作比較"
      ]
    },
    {
      "cell_type": "markdown",
      "metadata": {
        "id": "fJ2P2v2xO72i",
        "colab_type": "text"
      },
      "source": [
        "#### 找第 2 個位置的元素"
      ]
    },
    {
      "cell_type": "code",
      "metadata": {
        "id": "ZAncE6NvOyk4",
        "colab_type": "code",
        "outputId": "dee4da8a-0509-48cb-c83d-6097a5e13c94",
        "colab": {
          "base_uri": "https://localhost:8080/",
          "height": 35
        }
      },
      "source": [
        "lists = [\"P\",\"y\",\"t\",\"h\",\"o\",\"n\",\"P\",\"y\",\"t\",\"h\",\"o\",\"n\"]\n",
        "lists[2]"
      ],
      "execution_count": 0,
      "outputs": [
        {
          "output_type": "execute_result",
          "data": {
            "text/plain": [
              "'t'"
            ]
          },
          "metadata": {
            "tags": []
          },
          "execution_count": 21
        }
      ]
    },
    {
      "cell_type": "code",
      "metadata": {
        "id": "c0KKiNvhO0hm",
        "colab_type": "code",
        "outputId": "87248217-de95-4ee9-ce9d-956083a33598",
        "colab": {
          "base_uri": "https://localhost:8080/",
          "height": 35
        }
      },
      "source": [
        "texts = \"PythonPython\"\n",
        "texts[2]"
      ],
      "execution_count": 0,
      "outputs": [
        {
          "output_type": "execute_result",
          "data": {
            "text/plain": [
              "'t'"
            ]
          },
          "metadata": {
            "tags": []
          },
          "execution_count": 22
        }
      ]
    },
    {
      "cell_type": "markdown",
      "metadata": {
        "id": "mrRUPwiXPFP5",
        "colab_type": "text"
      },
      "source": [
        "#### 移除重複的資料"
      ]
    },
    {
      "cell_type": "code",
      "metadata": {
        "id": "XdinkLmMPQJd",
        "colab_type": "code",
        "outputId": "e52075f8-928c-4af5-c490-fb6ce9e22891",
        "colab": {
          "base_uri": "https://localhost:8080/",
          "height": 35
        }
      },
      "source": [
        "lists = [\"P\",\"y\",\"t\",\"h\",\"o\",\"n\",\"P\",\"y\",\"t\",\"h\",\"o\",\"n\"]\n",
        "set(lists) "
      ],
      "execution_count": 0,
      "outputs": [
        {
          "output_type": "execute_result",
          "data": {
            "text/plain": [
              "{'P', 'h', 'n', 'o', 't', 'y'}"
            ]
          },
          "metadata": {
            "tags": []
          },
          "execution_count": 23
        }
      ]
    },
    {
      "cell_type": "code",
      "metadata": {
        "id": "HGQp3OgQPQL5",
        "colab_type": "code",
        "outputId": "e7cfbab1-df1b-4de8-d90c-5bb7aad74845",
        "colab": {
          "base_uri": "https://localhost:8080/",
          "height": 35
        }
      },
      "source": [
        "texts = \"PythonPython\"\n",
        "set(texts) "
      ],
      "execution_count": 0,
      "outputs": [
        {
          "output_type": "execute_result",
          "data": {
            "text/plain": [
              "{'P', 'h', 'n', 'o', 't', 'y'}"
            ]
          },
          "metadata": {
            "tags": []
          },
          "execution_count": 24
        }
      ]
    },
    {
      "cell_type": "markdown",
      "metadata": {
        "id": "Yy0z1wlIPVlu",
        "colab_type": "text"
      },
      "source": [
        "#### 反轉排序"
      ]
    },
    {
      "cell_type": "code",
      "metadata": {
        "id": "JUN2Tq8tPVt1",
        "colab_type": "code",
        "outputId": "e35d74ac-c478-4d38-8df3-719dfee6300a",
        "colab": {
          "base_uri": "https://localhost:8080/",
          "height": 35
        }
      },
      "source": [
        "lists = [\"P\",\"y\",\"t\",\"h\",\"o\",\"n\"]\n",
        "lists.reverse() \n",
        "lists"
      ],
      "execution_count": 0,
      "outputs": [
        {
          "output_type": "execute_result",
          "data": {
            "text/plain": [
              "['n', 'o', 'h', 't', 'y', 'P']"
            ]
          },
          "metadata": {
            "tags": []
          },
          "execution_count": 25
        }
      ]
    },
    {
      "cell_type": "code",
      "metadata": {
        "id": "2km9VhxnPYBc",
        "colab_type": "code",
        "outputId": "e2b7438a-0e9b-4fdc-8d06-9eeb89a25996",
        "colab": {
          "base_uri": "https://localhost:8080/",
          "height": 201
        }
      },
      "source": [
        "texts = \"Python\"\n",
        "texts.reverse() \n",
        "texts"
      ],
      "execution_count": 0,
      "outputs": [
        {
          "output_type": "error",
          "ename": "AttributeError",
          "evalue": "ignored",
          "traceback": [
            "\u001b[0;31m---------------------------------------------------------------------------\u001b[0m",
            "\u001b[0;31mAttributeError\u001b[0m                            Traceback (most recent call last)",
            "\u001b[0;32m<ipython-input-26-e34e521e268c>\u001b[0m in \u001b[0;36m<module>\u001b[0;34m()\u001b[0m\n\u001b[1;32m      1\u001b[0m \u001b[0mtexts\u001b[0m \u001b[0;34m=\u001b[0m \u001b[0;34m\"Python\"\u001b[0m\u001b[0;34m\u001b[0m\u001b[0;34m\u001b[0m\u001b[0m\n\u001b[0;32m----> 2\u001b[0;31m \u001b[0mtexts\u001b[0m\u001b[0;34m.\u001b[0m\u001b[0mreverse\u001b[0m\u001b[0;34m(\u001b[0m\u001b[0;34m)\u001b[0m\u001b[0;34m\u001b[0m\u001b[0;34m\u001b[0m\u001b[0m\n\u001b[0m\u001b[1;32m      3\u001b[0m \u001b[0mtexts\u001b[0m\u001b[0;34m\u001b[0m\u001b[0;34m\u001b[0m\u001b[0m\n",
            "\u001b[0;31mAttributeError\u001b[0m: 'str' object has no attribute 'reverse'"
          ]
        }
      ]
    },
    {
      "cell_type": "markdown",
      "metadata": {
        "id": "4TDo6nq0QUKb",
        "colab_type": "text"
      },
      "source": [
        "##  list 內放 list "
      ]
    },
    {
      "cell_type": "code",
      "metadata": {
        "id": "b6J29hz3Qgd4",
        "colab_type": "code",
        "outputId": "0a4b0d61-f144-4b03-9d18-c7117e5fac14",
        "colab": {
          "base_uri": "https://localhost:8080/",
          "height": 35
        }
      },
      "source": [
        "lists = [[1,2,3,4],[\"Python\", \"Class\"],\"123\"]\n",
        "lists"
      ],
      "execution_count": 0,
      "outputs": [
        {
          "output_type": "execute_result",
          "data": {
            "text/plain": [
              "[[1, 2, 3, 4], ['Python', 'Class'], '123']"
            ]
          },
          "metadata": {
            "tags": []
          },
          "execution_count": 27
        }
      ]
    },
    {
      "cell_type": "markdown",
      "metadata": {
        "id": "2rziGJePQ7uF",
        "colab_type": "text"
      },
      "source": [
        "#### 找指定位置的元素"
      ]
    },
    {
      "cell_type": "code",
      "metadata": {
        "id": "eZY-GqDZQwOK",
        "colab_type": "code",
        "outputId": "4ac633e6-54d3-4423-b718-3ab5109fd25c",
        "colab": {
          "base_uri": "https://localhost:8080/",
          "height": 35
        }
      },
      "source": [
        "lists[0][2]"
      ],
      "execution_count": 0,
      "outputs": [
        {
          "output_type": "execute_result",
          "data": {
            "text/plain": [
              "3"
            ]
          },
          "metadata": {
            "tags": []
          },
          "execution_count": 28
        }
      ]
    },
    {
      "cell_type": "markdown",
      "metadata": {
        "id": "5eSwraKHPuUp",
        "colab_type": "text"
      },
      "source": [
        "# Dictionary"
      ]
    },
    {
      "cell_type": "markdown",
      "metadata": {
        "id": "0Y-xPuLlP2mq",
        "colab_type": "text"
      },
      "source": [
        "#### 建立空的 dict"
      ]
    },
    {
      "cell_type": "markdown",
      "metadata": {
        "id": "oQABeDl4VrtZ",
        "colab_type": "text"
      },
      "source": [
        "##### 空的 dict"
      ]
    },
    {
      "cell_type": "code",
      "metadata": {
        "id": "wMgCwRUnRkNr",
        "colab_type": "code",
        "outputId": "088686ec-5949-4d78-ec7d-521ee03e4675",
        "colab": {
          "base_uri": "https://localhost:8080/",
          "height": 35
        }
      },
      "source": [
        "cleese={}  \n",
        "cleese"
      ],
      "execution_count": 0,
      "outputs": [
        {
          "output_type": "execute_result",
          "data": {
            "text/plain": [
              "{}"
            ]
          },
          "metadata": {
            "tags": []
          },
          "execution_count": 29
        }
      ]
    },
    {
      "cell_type": "code",
      "metadata": {
        "id": "In2Vf6orTBuI",
        "colab_type": "code",
        "colab": {}
      },
      "source": [
        "cleese=dict()\n",
        "cleese"
      ],
      "execution_count": 0,
      "outputs": []
    },
    {
      "cell_type": "markdown",
      "metadata": {
        "id": "28qOn_S4TIE8",
        "colab_type": "text"
      },
      "source": [
        "##### 建立有值的 dict"
      ]
    },
    {
      "cell_type": "code",
      "metadata": {
        "id": "JvAcDeWyTMpJ",
        "colab_type": "code",
        "outputId": "e5bce94a-ac92-4686-faef-2881b63f4297",
        "colab": {
          "base_uri": "https://localhost:8080/",
          "height": 35
        }
      },
      "source": [
        "cleese={'Key1':'actor',                         \n",
        "        'Key2':['writer','film producer']}\n",
        "cleese"
      ],
      "execution_count": 0,
      "outputs": [
        {
          "output_type": "execute_result",
          "data": {
            "text/plain": [
              "{'Key1': 'actor', 'Key2': ['writer', 'film producer']}"
            ]
          },
          "metadata": {
            "tags": []
          },
          "execution_count": 30
        }
      ]
    },
    {
      "cell_type": "markdown",
      "metadata": {
        "id": "V7a5wPktSSGZ",
        "colab_type": "text"
      },
      "source": [
        "#### 增加 key-value"
      ]
    },
    {
      "cell_type": "code",
      "metadata": {
        "id": "NHdEqfGUSFys",
        "colab_type": "code",
        "outputId": "67666808-1e45-4701-e551-47ea6e7d9a2b",
        "colab": {
          "base_uri": "https://localhost:8080/",
          "height": 87
        }
      },
      "source": [
        "cleese['Key3']='actor'\n",
        "cleese['Key4']=['writer','film producer']\n",
        "cleese"
      ],
      "execution_count": 0,
      "outputs": [
        {
          "output_type": "execute_result",
          "data": {
            "text/plain": [
              "{'Key1': 'actor',\n",
              " 'Key2': ['writer', 'film producer'],\n",
              " 'Key3': 'actor',\n",
              " 'Key4': ['writer', 'film producer']}"
            ]
          },
          "metadata": {
            "tags": []
          },
          "execution_count": 31
        }
      ]
    },
    {
      "cell_type": "markdown",
      "metadata": {
        "id": "9-tYbZzfThrM",
        "colab_type": "text"
      },
      "source": [
        "#### 呈現 dict 所有的 key"
      ]
    },
    {
      "cell_type": "code",
      "metadata": {
        "id": "DUP2Ft-aThyf",
        "colab_type": "code",
        "outputId": "a46e9c8e-40ab-4c34-9e9b-002621c9de8a",
        "colab": {
          "base_uri": "https://localhost:8080/",
          "height": 35
        }
      },
      "source": [
        "cleese.keys()"
      ],
      "execution_count": 0,
      "outputs": [
        {
          "output_type": "execute_result",
          "data": {
            "text/plain": [
              "dict_keys(['Key1', 'Key2', 'Key3', 'Key4'])"
            ]
          },
          "metadata": {
            "tags": []
          },
          "execution_count": 32
        }
      ]
    },
    {
      "cell_type": "markdown",
      "metadata": {
        "id": "jlwqG0bqTpTR",
        "colab_type": "text"
      },
      "source": [
        "#### 排序 dict 的 key 值"
      ]
    },
    {
      "cell_type": "code",
      "metadata": {
        "id": "y5MepSG2TpYR",
        "colab_type": "code",
        "outputId": "06e9b7d0-e2f6-4eff-cb13-0ae8a40ee616",
        "colab": {
          "base_uri": "https://localhost:8080/",
          "height": 35
        }
      },
      "source": [
        "sorted(cleese.keys(), reverse=True)"
      ],
      "execution_count": 0,
      "outputs": [
        {
          "output_type": "execute_result",
          "data": {
            "text/plain": [
              "['Key4', 'Key3', 'Key2', 'Key1']"
            ]
          },
          "metadata": {
            "tags": []
          },
          "execution_count": 33
        }
      ]
    },
    {
      "cell_type": "code",
      "metadata": {
        "id": "mRVreQ0NUWK6",
        "colab_type": "code",
        "outputId": "3a638695-4be9-418a-defa-4854f335280c",
        "colab": {
          "base_uri": "https://localhost:8080/",
          "height": 35
        }
      },
      "source": [
        "cleese[sorted(cleese.keys(), reverse=True)[3]]"
      ],
      "execution_count": 0,
      "outputs": [
        {
          "output_type": "execute_result",
          "data": {
            "text/plain": [
              "'actor'"
            ]
          },
          "metadata": {
            "tags": []
          },
          "execution_count": 34
        }
      ]
    },
    {
      "cell_type": "markdown",
      "metadata": {
        "id": "Tl1pSN2LVj4X",
        "colab_type": "text"
      },
      "source": [
        "#### 呼叫 dict 內特定 key 的對應 value"
      ]
    },
    {
      "cell_type": "markdown",
      "metadata": {
        "id": "NdoSX-7nHC9a",
        "colab_type": "text"
      },
      "source": [
        "##### 直接指定 key 名稱"
      ]
    },
    {
      "cell_type": "code",
      "metadata": {
        "id": "-A7VjL9rVl3G",
        "colab_type": "code",
        "outputId": "024b308c-8bce-4346-a7f0-9fa3d1fa30bd",
        "colab": {
          "base_uri": "https://localhost:8080/",
          "height": 35
        }
      },
      "source": [
        "cleese['Key1']"
      ],
      "execution_count": 0,
      "outputs": [
        {
          "output_type": "execute_result",
          "data": {
            "text/plain": [
              "'actor'"
            ]
          },
          "metadata": {
            "tags": []
          },
          "execution_count": 36
        }
      ]
    },
    {
      "cell_type": "markdown",
      "metadata": {
        "id": "iEy0OJH8HJCf",
        "colab_type": "text"
      },
      "source": [
        "##### 透過 .keys() 選取 key 名稱\n",
        "因為 .keys() does not support indexing，需先轉為 list"
      ]
    },
    {
      "cell_type": "code",
      "metadata": {
        "id": "tCpZYPvfHOcU",
        "colab_type": "code",
        "outputId": "f1bb9f27-f1ab-4cbe-de9f-b40f30b156b1",
        "colab": {
          "base_uri": "https://localhost:8080/",
          "height": 166
        }
      },
      "source": [
        "cleese[cleese.keys()[0]]"
      ],
      "execution_count": 0,
      "outputs": [
        {
          "output_type": "error",
          "ename": "TypeError",
          "evalue": "ignored",
          "traceback": [
            "\u001b[0;31m---------------------------------------------------------------------------\u001b[0m",
            "\u001b[0;31mTypeError\u001b[0m                                 Traceback (most recent call last)",
            "\u001b[0;32m<ipython-input-38-ae85803aa7ea>\u001b[0m in \u001b[0;36m<module>\u001b[0;34m()\u001b[0m\n\u001b[0;32m----> 1\u001b[0;31m \u001b[0mcleese\u001b[0m\u001b[0;34m[\u001b[0m\u001b[0mcleese\u001b[0m\u001b[0;34m.\u001b[0m\u001b[0mkeys\u001b[0m\u001b[0;34m(\u001b[0m\u001b[0;34m)\u001b[0m\u001b[0;34m[\u001b[0m\u001b[0;36m0\u001b[0m\u001b[0;34m]\u001b[0m\u001b[0;34m]\u001b[0m\u001b[0;34m\u001b[0m\u001b[0;34m\u001b[0m\u001b[0m\n\u001b[0m",
            "\u001b[0;31mTypeError\u001b[0m: 'dict_keys' object does not support indexing"
          ]
        }
      ]
    },
    {
      "cell_type": "code",
      "metadata": {
        "id": "qsFfPX58GP75",
        "colab_type": "code",
        "outputId": "3623eac9-fd36-4a45-f8f3-166981bd3987",
        "colab": {
          "base_uri": "https://localhost:8080/",
          "height": 35
        }
      },
      "source": [
        "cleese[list(cleese.keys())[0]]"
      ],
      "execution_count": 0,
      "outputs": [
        {
          "output_type": "execute_result",
          "data": {
            "text/plain": [
              "'actor'"
            ]
          },
          "metadata": {
            "tags": []
          },
          "execution_count": 39
        }
      ]
    },
    {
      "cell_type": "markdown",
      "metadata": {
        "id": "hbyT_kCbWDq2",
        "colab_type": "text"
      },
      "source": [
        "# For loop"
      ]
    },
    {
      "cell_type": "code",
      "metadata": {
        "id": "h2NZrykcWH5M",
        "colab_type": "code",
        "cellView": "both",
        "outputId": "cf8dc9ad-029d-4726-a8f2-598bb84d6a6a",
        "colab": {
          "base_uri": "https://localhost:8080/",
          "height": 104
        }
      },
      "source": [
        "for i in [0,1,2,3,4]:\n",
        "    print(i)"
      ],
      "execution_count": 0,
      "outputs": [
        {
          "output_type": "stream",
          "text": [
            "0\n",
            "1\n",
            "2\n",
            "3\n",
            "4\n"
          ],
          "name": "stdout"
        }
      ]
    },
    {
      "cell_type": "markdown",
      "metadata": {
        "id": "NxT43iHsYgqt",
        "colab_type": "text"
      },
      "source": [
        "#### 設定迴圈次數"
      ]
    },
    {
      "cell_type": "code",
      "metadata": {
        "id": "1P9Ow7OWW3hE",
        "colab_type": "code",
        "outputId": "9fcac992-5ee8-4035-9fd2-8b44367196c5",
        "colab": {
          "base_uri": "https://localhost:8080/",
          "height": 104
        }
      },
      "source": [
        "for i in range(0,5):\n",
        "    print(i)"
      ],
      "execution_count": 0,
      "outputs": [
        {
          "output_type": "stream",
          "text": [
            "0\n",
            "1\n",
            "2\n",
            "3\n",
            "4\n"
          ],
          "name": "stdout"
        }
      ]
    },
    {
      "cell_type": "markdown",
      "metadata": {
        "id": "B0j9mEm1Yz4d",
        "colab_type": "text"
      },
      "source": [
        "#### 依 list 長度印出 list 字串"
      ]
    },
    {
      "cell_type": "code",
      "metadata": {
        "id": "ZunA6QHSXt5j",
        "colab_type": "code",
        "outputId": "d4c608d5-f191-49e7-d189-617be0522acf",
        "colab": {
          "base_uri": "https://localhost:8080/",
          "height": 87
        }
      },
      "source": [
        "texts = ['google', 'facebook', 'youtube', 'yahoo']\n",
        "for i in texts:\n",
        "    print(i)"
      ],
      "execution_count": 0,
      "outputs": [
        {
          "output_type": "stream",
          "text": [
            "google\n",
            "facebook\n",
            "youtube\n",
            "yahoo\n"
          ],
          "name": "stdout"
        }
      ]
    },
    {
      "cell_type": "code",
      "metadata": {
        "id": "Hde4pOurW8wr",
        "colab_type": "code",
        "outputId": "0f27cba9-2ec7-48ce-ec6d-bb35790cacde",
        "colab": {
          "base_uri": "https://localhost:8080/",
          "height": 201
        }
      },
      "source": [
        "texts = ['google', 'facebook', 'youtube', 'yahoo']\n",
        "for i in texts:\n",
        "    print(i,\"-->\", texts[i])"
      ],
      "execution_count": 0,
      "outputs": [
        {
          "output_type": "error",
          "ename": "TypeError",
          "evalue": "ignored",
          "traceback": [
            "\u001b[0;31m---------------------------------------------------------------------------\u001b[0m",
            "\u001b[0;31mTypeError\u001b[0m                                 Traceback (most recent call last)",
            "\u001b[0;32m<ipython-input-43-f484affcb569>\u001b[0m in \u001b[0;36m<module>\u001b[0;34m()\u001b[0m\n\u001b[1;32m      1\u001b[0m \u001b[0mtexts\u001b[0m \u001b[0;34m=\u001b[0m \u001b[0;34m[\u001b[0m\u001b[0;34m'google'\u001b[0m\u001b[0;34m,\u001b[0m \u001b[0;34m'facebook'\u001b[0m\u001b[0;34m,\u001b[0m \u001b[0;34m'youtube'\u001b[0m\u001b[0;34m,\u001b[0m \u001b[0;34m'yahoo'\u001b[0m\u001b[0;34m]\u001b[0m\u001b[0;34m\u001b[0m\u001b[0;34m\u001b[0m\u001b[0m\n\u001b[1;32m      2\u001b[0m \u001b[0;32mfor\u001b[0m \u001b[0mi\u001b[0m \u001b[0;32min\u001b[0m \u001b[0mtexts\u001b[0m\u001b[0;34m:\u001b[0m\u001b[0;34m\u001b[0m\u001b[0;34m\u001b[0m\u001b[0m\n\u001b[0;32m----> 3\u001b[0;31m     \u001b[0mprint\u001b[0m\u001b[0;34m(\u001b[0m\u001b[0mi\u001b[0m\u001b[0;34m,\u001b[0m\u001b[0;34m\"-->\"\u001b[0m\u001b[0;34m,\u001b[0m \u001b[0mtexts\u001b[0m\u001b[0;34m[\u001b[0m\u001b[0mi\u001b[0m\u001b[0;34m]\u001b[0m\u001b[0;34m)\u001b[0m\u001b[0;34m\u001b[0m\u001b[0;34m\u001b[0m\u001b[0m\n\u001b[0m",
            "\u001b[0;31mTypeError\u001b[0m: list indices must be integers or slices, not str"
          ]
        }
      ]
    },
    {
      "cell_type": "code",
      "metadata": {
        "id": "XD80wTuJX2eh",
        "colab_type": "code",
        "outputId": "1462ddcd-053e-4c32-e349-d59996c0244c",
        "colab": {
          "base_uri": "https://localhost:8080/",
          "height": 87
        }
      },
      "source": [
        "texts = ['google', 'facebook', 'youtube', 'yahoo']\n",
        "for i in range(0,len(texts)):\n",
        "    print(i,\"-->\", texts[i])"
      ],
      "execution_count": 0,
      "outputs": [
        {
          "output_type": "stream",
          "text": [
            "0 --> google\n",
            "1 --> facebook\n",
            "2 --> youtube\n",
            "3 --> yahoo\n"
          ],
          "name": "stdout"
        }
      ]
    },
    {
      "cell_type": "markdown",
      "metadata": {
        "id": "hpvuACwKZJG_",
        "colab_type": "text"
      },
      "source": [
        "#### 使用 enumerate() \n",
        "> 自動加入索引\n",
        "\n"
      ]
    },
    {
      "cell_type": "code",
      "metadata": {
        "id": "C7GBA2afXKi2",
        "colab_type": "code",
        "outputId": "9aea0da8-1150-4752-ecbc-fe32aecb9935",
        "colab": {
          "base_uri": "https://localhost:8080/",
          "height": 87
        }
      },
      "source": [
        "texts = ['google', 'facebook', 'youtube', 'yahoo']\n",
        "for i,texts in enumerate(texts):\n",
        "    print(i, '-->', texts)"
      ],
      "execution_count": 0,
      "outputs": [
        {
          "output_type": "stream",
          "text": [
            "0 --> google\n",
            "1 --> facebook\n",
            "2 --> youtube\n",
            "3 --> yahoo\n"
          ],
          "name": "stdout"
        }
      ]
    },
    {
      "cell_type": "markdown",
      "metadata": {
        "id": "1TzX98HwZjnp",
        "colab_type": "text"
      },
      "source": [
        "#### for 迴圈單行寫法\n",
        "> 雖然很難看懂，但可降低內存，提高程式效率\n",
        "\n"
      ]
    },
    {
      "cell_type": "code",
      "metadata": {
        "id": "6gxctWfQZz2W",
        "colab_type": "code",
        "outputId": "08e0f7ee-72ca-47cc-d520-bb53ef6822fe",
        "colab": {
          "base_uri": "https://localhost:8080/",
          "height": 104
        }
      },
      "source": [
        "for i in range(0,5):\n",
        "    print(i)"
      ],
      "execution_count": 0,
      "outputs": [
        {
          "output_type": "stream",
          "text": [
            "0\n",
            "1\n",
            "2\n",
            "3\n",
            "4\n"
          ],
          "name": "stdout"
        }
      ]
    },
    {
      "cell_type": "code",
      "metadata": {
        "id": "xGI25RHmZ9RX",
        "colab_type": "code",
        "outputId": "1782761b-2562-4a8f-c062-a9e690777840",
        "colab": {
          "base_uri": "https://localhost:8080/",
          "height": 121
        }
      },
      "source": [
        "xx = [print(i) for i in range(0,5)]\n",
        "xx"
      ],
      "execution_count": 0,
      "outputs": [
        {
          "output_type": "stream",
          "text": [
            "0\n",
            "1\n",
            "2\n",
            "3\n",
            "4\n"
          ],
          "name": "stdout"
        },
        {
          "output_type": "execute_result",
          "data": {
            "text/plain": [
              "[None, None, None, None, None]"
            ]
          },
          "metadata": {
            "tags": []
          },
          "execution_count": 47
        }
      ]
    },
    {
      "cell_type": "code",
      "metadata": {
        "id": "c8_EyPQnae3b",
        "colab_type": "code",
        "outputId": "0d25690a-b645-4625-d411-fa110eac41fb",
        "colab": {
          "base_uri": "https://localhost:8080/",
          "height": 35
        }
      },
      "source": [
        "xx = [i*100 for i in range(0,5)]\n",
        "xx"
      ],
      "execution_count": 0,
      "outputs": [
        {
          "output_type": "execute_result",
          "data": {
            "text/plain": [
              "[0, 100, 200, 300, 400]"
            ]
          },
          "metadata": {
            "tags": []
          },
          "execution_count": 48
        }
      ]
    },
    {
      "cell_type": "markdown",
      "metadata": {
        "id": "pmYK1OjOa-WU",
        "colab_type": "text"
      },
      "source": [
        "# While loop"
      ]
    },
    {
      "cell_type": "code",
      "metadata": {
        "id": "MrxlIvzJbBlG",
        "colab_type": "code",
        "outputId": "e79c893f-6bf4-448d-e084-cc05e72b314a",
        "colab": {
          "base_uri": "https://localhost:8080/",
          "height": 104
        }
      },
      "source": [
        "i = 0\n",
        "while i < 5:\n",
        "    print(i)\n",
        "    i += 1"
      ],
      "execution_count": 0,
      "outputs": [
        {
          "output_type": "stream",
          "text": [
            "0\n",
            "1\n",
            "2\n",
            "3\n",
            "4\n"
          ],
          "name": "stdout"
        }
      ]
    },
    {
      "cell_type": "markdown",
      "metadata": {
        "id": "hAmRvlREbjd6",
        "colab_type": "text"
      },
      "source": [
        "# If-else"
      ]
    },
    {
      "cell_type": "code",
      "metadata": {
        "id": "NMn7QKJMilDv",
        "colab_type": "code",
        "outputId": "9b0f20ac-91f9-478f-ae94-82318758fa59",
        "colab": {
          "base_uri": "https://localhost:8080/",
          "height": 52
        }
      },
      "source": [
        "score = int(input('請輸入考試分數 (1-100)：'))\n",
        " \n",
        "if score > 100:\n",
        "    print('請勿亂輸入！')\n",
        "else:\n",
        "    print(score)"
      ],
      "execution_count": 0,
      "outputs": [
        {
          "output_type": "stream",
          "text": [
            "請輸入考試分數 (1-100)：20\n",
            "20\n"
          ],
          "name": "stdout"
        }
      ]
    },
    {
      "cell_type": "code",
      "metadata": {
        "id": "2cDQOHf1b8r6",
        "colab_type": "code",
        "outputId": "f0c7ef85-1c28-4919-9ecd-7d4bfa743bec",
        "colab": {
          "base_uri": "https://localhost:8080/",
          "height": 52
        }
      },
      "source": [
        "score = int(input('請輸入考試分數 (1-100)：'))\n",
        " \n",
        "if score > 100:\n",
        "    print('請勿亂輸入！')\n",
        "elif score >= 90 and score <= 100:\n",
        "    print('成績：A+')\n",
        "elif score >= 80 and score < 90:\n",
        "    print('成績：B+')\n",
        "elif score >= 70 and score < 80:\n",
        "    print('成績：B')\n",
        "else:\n",
        "    print('成績：C')"
      ],
      "execution_count": 0,
      "outputs": [
        {
          "output_type": "stream",
          "text": [
            "請輸入考試分數 (1-100)：20\n",
            "成績：C\n"
          ],
          "name": "stdout"
        }
      ]
    },
    {
      "cell_type": "markdown",
      "metadata": {
        "id": "0rGWPeg7cugv",
        "colab_type": "text"
      },
      "source": [
        "# Try-except-finally \n",
        "對於有可能錯誤的地方用 try 去包住它，然後針對可能的錯誤去處理\n",
        "\n",
        "*   try 區塊　　：可能產生錯誤的程式碼\n",
        "*   except 區塊：放錯誤發生時的處置。可以有多個 except\n",
        "*   finally 區塊 ：無論有無錯誤，一定會執行，可有可無\n",
        "\n",
        "\n",
        "\n",
        "\n",
        "\n",
        "\n",
        "\n",
        "\n"
      ]
    },
    {
      "cell_type": "code",
      "metadata": {
        "id": "frw1FkLdjAAz",
        "colab_type": "code",
        "outputId": "d1439a17-71dd-40ba-8981-9fd7d425c78b",
        "colab": {
          "base_uri": "https://localhost:8080/",
          "height": 35
        }
      },
      "source": [
        "try:\n",
        "    inputs = int(input('輸入整數：'))\n",
        "    print('{0} 為 {1}'.format(inputs, '奇數' if inputs % 2 else '偶數'))\n",
        "\n",
        "except:\n",
        "    print('中斷')"
      ],
      "execution_count": 0,
      "outputs": [
        {
          "output_type": "stream",
          "text": [
            "中斷\n"
          ],
          "name": "stdout"
        }
      ]
    },
    {
      "cell_type": "code",
      "metadata": {
        "id": "00U4cqs5gMrG",
        "colab_type": "code",
        "outputId": "0020592f-7547-44de-e7da-2f63403f1b37",
        "colab": {
          "base_uri": "https://localhost:8080/",
          "height": 52
        }
      },
      "source": [
        "try:\n",
        "    inputs = int(input('輸入整數：'))\n",
        "    print('{0} 為 {1}'.format(inputs, '奇數' if inputs % 2 else '偶數'))\n",
        "\n",
        "except ValueError:\n",
        "    print('請輸入阿拉伯數字')\n",
        "except (EOFError, KeyboardInterrupt):\n",
        "    print('使用者中斷程式')\n",
        "except:\n",
        "    print('不明的程式中斷')\n",
        "\n",
        "finally:\n",
        "    print('end')"
      ],
      "execution_count": 0,
      "outputs": [
        {
          "output_type": "stream",
          "text": [
            "使用者中斷程式\n",
            "end\n"
          ],
          "name": "stdout"
        }
      ]
    },
    {
      "cell_type": "markdown",
      "metadata": {
        "id": "FON0d0yyji1b",
        "colab_type": "text"
      },
      "source": [
        "# 檔案存取"
      ]
    },
    {
      "cell_type": "markdown",
      "metadata": {
        "id": "JvKjl2ScuBY7",
        "colab_type": "text"
      },
      "source": [
        "#### 寫入\n"
      ]
    },
    {
      "cell_type": "code",
      "metadata": {
        "id": "WfS42BISuOuD",
        "colab_type": "code",
        "colab": {}
      },
      "source": [
        "out=open('data.txt','w')   #\b 打開 data.txt 檔案，相關資訊存在 out\n",
        "                           # 之後東西會存在 data.txt 檔案內\n",
        "                           # 'w':寫入, 'a':加入, 'r':讀取\n",
        "print(\"new data\",file=out) \n",
        "out.close()                # 關閉 data.txt 檔案"
      ],
      "execution_count": 0,
      "outputs": []
    },
    {
      "cell_type": "code",
      "metadata": {
        "id": "izwVaV9Pt3jh",
        "colab_type": "code",
        "colab": {}
      },
      "source": [
        "out=open('data.txt','a')   \n",
        "print(\"add data\",file=out) \n",
        "out.close()  "
      ],
      "execution_count": 0,
      "outputs": []
    },
    {
      "cell_type": "code",
      "metadata": {
        "id": "1Xl8O-PhvhuL",
        "colab_type": "code",
        "colab": {}
      },
      "source": [
        "out=open('data.txt','a')   \n",
        "\n",
        "for i in [0,1,2,3,4]:\n",
        "    print(i,file=out)\n",
        "\n",
        "out.close()  "
      ],
      "execution_count": 0,
      "outputs": []
    },
    {
      "cell_type": "markdown",
      "metadata": {
        "id": "YOghAe6buIm_",
        "colab_type": "text"
      },
      "source": [
        "#### 讀取 txt"
      ]
    },
    {
      "cell_type": "code",
      "metadata": {
        "id": "GQPl2Sd_v5o5",
        "colab_type": "code",
        "outputId": "388859ea-b133-4a3d-95bc-aec275ffcd61",
        "colab": {
          "base_uri": "https://localhost:8080/",
          "height": 35
        }
      },
      "source": [
        "out=open('data.txt','r')   \n",
        "out   \n",
        "    "
      ],
      "execution_count": 0,
      "outputs": [
        {
          "output_type": "execute_result",
          "data": {
            "text/plain": [
              "<_io.TextIOWrapper name='data.txt' mode='r' encoding='UTF-8'>"
            ]
          },
          "metadata": {
            "tags": []
          },
          "execution_count": 57
        }
      ]
    },
    {
      "cell_type": "code",
      "metadata": {
        "id": "s5U_RKpVwMmm",
        "colab_type": "code",
        "outputId": "d4e3c86c-826d-45ad-9ba6-3b75710e28f6",
        "colab": {
          "base_uri": "https://localhost:8080/",
          "height": 260
        }
      },
      "source": [
        "out=open('data.txt','r')        \n",
        "for line in out:\n",
        "    print(line)\n",
        "out.close()"
      ],
      "execution_count": 0,
      "outputs": [
        {
          "output_type": "stream",
          "text": [
            "new data\n",
            "\n",
            "add data\n",
            "\n",
            "0\n",
            "\n",
            "1\n",
            "\n",
            "2\n",
            "\n",
            "3\n",
            "\n",
            "4\n",
            "\n"
          ],
          "name": "stdout"
        }
      ]
    },
    {
      "cell_type": "code",
      "metadata": {
        "id": "MoY_AK_iybCe",
        "colab_type": "code",
        "outputId": "d062ab3c-e8f3-4068-df60-3b3f9f43241a",
        "colab": {
          "base_uri": "https://localhost:8080/",
          "height": 35
        }
      },
      "source": [
        "out=open('data.txt','r') \n",
        "lines = out.readlines()\n",
        "lines"
      ],
      "execution_count": 0,
      "outputs": [
        {
          "output_type": "execute_result",
          "data": {
            "text/plain": [
              "['new data\\n', 'add data\\n', '0\\n', '1\\n', '2\\n', '3\\n', '4\\n']"
            ]
          },
          "metadata": {
            "tags": []
          },
          "execution_count": 60
        }
      ]
    },
    {
      "cell_type": "markdown",
      "metadata": {
        "id": "R95wwSAuykxc",
        "colab_type": "text"
      },
      "source": [
        "#### 讀取 csv"
      ]
    },
    {
      "cell_type": "code",
      "metadata": {
        "id": "P7STT_I1xiPh",
        "colab_type": "code",
        "colab": {}
      },
      "source": [
        "import csv\n",
        "\n",
        "out = open('iris.csv', newline='')\n",
        "\n",
        "rows = csv.reader(out, delimiter=',') # 以逗號分隔欄位，讀取檔案內容\n",
        "for row in rows:\n",
        "  print(row)"
      ],
      "execution_count": 0,
      "outputs": []
    },
    {
      "cell_type": "markdown",
      "metadata": {
        "id": "Ap2NtRZ0jy4q",
        "colab_type": "text"
      },
      "source": [
        "#### 物件存取"
      ]
    },
    {
      "cell_type": "code",
      "metadata": {
        "id": "LbFcPYl6y3hm",
        "colab_type": "code",
        "colab": {}
      },
      "source": [
        "import pickle\n",
        "\n",
        "out = open('mydata.pickle','wb') #\b 打開 mydata.pickle 檔案，相關資訊存在 out\n",
        "pickle.dump([1,2,'three'], out)  # 用 pickle.dump 將 [1,2,'three'] 透過 out 保存到 mydata.pickle 檔案"
      ],
      "execution_count": 0,
      "outputs": []
    },
    {
      "cell_type": "code",
      "metadata": {
        "id": "y753SpoK0eDs",
        "colab_type": "code",
        "outputId": "800f6850-ef9a-4406-84f6-e144164fccea",
        "colab": {
          "base_uri": "https://localhost:8080/",
          "height": 35
        }
      },
      "source": [
        "import pickle\n",
        "\n",
        "out = open('mydata.pickle','rb') #\b 打開 mydata.pickle 檔案，相關資訊存在 out\n",
        "mydata = pickle.load(out)        # 用 pickle.load 透過 out 復原 [1,2,'three']\n",
        "mydata"
      ],
      "execution_count": 0,
      "outputs": [
        {
          "output_type": "execute_result",
          "data": {
            "text/plain": [
              "[1, 2, 'three']"
            ]
          },
          "metadata": {
            "tags": []
          },
          "execution_count": 63
        }
      ]
    },
    {
      "cell_type": "markdown",
      "metadata": {
        "id": "06k4ddAB1mEs",
        "colab_type": "text"
      },
      "source": [
        "# Function\n",
        "當發現到幾個程式片段極為類似，只有當中幾個計算用到的數值或變數不同時\n",
        "\n",
        "*   程式的重複利用性\n",
        "*   程式的易讀性\n",
        "*   程式的易除錯性\n",
        "*   程式的一致性\n",
        "*   程式的模組化\n",
        "\n"
      ]
    },
    {
      "cell_type": "code",
      "metadata": {
        "id": "-2IeEcmVH9l5",
        "colab_type": "code",
        "outputId": "a49385f1-ff9e-4806-fb24-9e6d0303e7d9",
        "colab": {
          "base_uri": "https://localhost:8080/",
          "height": 35
        }
      },
      "source": [
        "3**3"
      ],
      "execution_count": 0,
      "outputs": [
        {
          "output_type": "execute_result",
          "data": {
            "text/plain": [
              "27"
            ]
          },
          "metadata": {
            "tags": []
          },
          "execution_count": 64
        }
      ]
    },
    {
      "cell_type": "code",
      "metadata": {
        "id": "oPRe-emXH60U",
        "colab_type": "code",
        "outputId": "d98bf4ed-f025-40f1-94dd-ace3f10dd3cc",
        "colab": {
          "base_uri": "https://localhost:8080/",
          "height": 35
        }
      },
      "source": [
        "5**4"
      ],
      "execution_count": 0,
      "outputs": [
        {
          "output_type": "execute_result",
          "data": {
            "text/plain": [
              "625"
            ]
          },
          "metadata": {
            "tags": []
          },
          "execution_count": 65
        }
      ]
    },
    {
      "cell_type": "code",
      "metadata": {
        "id": "RuqglmTJ1mir",
        "colab_type": "code",
        "colab": {}
      },
      "source": [
        "def power_formula(input, power):\n",
        "  input**power\n",
        "\n",
        "power_formula(5,3)"
      ],
      "execution_count": 0,
      "outputs": []
    },
    {
      "cell_type": "code",
      "metadata": {
        "id": "yP7ewGqAIvAH",
        "colab_type": "code",
        "outputId": "4cdb2199-e728-4f00-80e9-574159f2a4dc",
        "colab": {
          "base_uri": "https://localhost:8080/",
          "height": 35
        }
      },
      "source": [
        "def power_formula(input, power):\n",
        "  return(input**power)\n",
        "\n",
        "xx = power_formula(5,3)\n",
        "xx"
      ],
      "execution_count": 0,
      "outputs": [
        {
          "output_type": "execute_result",
          "data": {
            "text/plain": [
              "125"
            ]
          },
          "metadata": {
            "tags": []
          },
          "execution_count": 67
        }
      ]
    },
    {
      "cell_type": "markdown",
      "metadata": {
        "id": "j-N1zuzUI3nR",
        "colab_type": "text"
      },
      "source": [
        "# 套件安裝"
      ]
    },
    {
      "cell_type": "markdown",
      "metadata": {
        "id": "AFrPgVvkI8ok",
        "colab_type": "text"
      },
      "source": [
        "#### Pure python \n",
        "\n",
        "打開 CMD / 命令提示字元 / 終端機\n",
        "> pip install 套件名稱\n",
        "\n"
      ]
    },
    {
      "cell_type": "markdown",
      "metadata": {
        "id": "kPoto60oKG2A",
        "colab_type": "text"
      },
      "source": [
        "#### Anaconda \n",
        "打開 CMD / 命令提示字元 / 終端機  \n",
        "\n",
        "> conda install 套件名稱\n",
        "\n"
      ]
    },
    {
      "cell_type": "markdown",
      "metadata": {
        "id": "53kwW0KpFRdY",
        "colab_type": "text"
      },
      "source": [
        "#### Colab\n",
        "\n",
        "\n",
        "> 在 Code 視窗直接打 !pip install -q 套件名稱\n",
        "\n"
      ]
    },
    {
      "cell_type": "code",
      "metadata": {
        "id": "a2Snme5CFRtE",
        "colab_type": "code",
        "colab": {}
      },
      "source": [
        "!pip install -q keras"
      ],
      "execution_count": 0,
      "outputs": []
    },
    {
      "cell_type": "markdown",
      "metadata": {
        "id": "CXU7aU-yAu-m",
        "colab_type": "text"
      },
      "source": [
        "# 爬蟲程式"
      ]
    },
    {
      "cell_type": "markdown",
      "metadata": {
        "id": "c4gf79BPA1U9",
        "colab_type": "text"
      },
      "source": [
        "#### 抓取網頁原始碼"
      ]
    },
    {
      "cell_type": "code",
      "metadata": {
        "id": "Q5wrnH83EnMu",
        "colab_type": "code",
        "outputId": "73cec48a-bf9f-4118-bdcc-239a6840d01c",
        "colab": {
          "base_uri": "https://localhost:8080/",
          "height": 35
        }
      },
      "source": [
        "import requests\n",
        "from bs4 import BeautifulSoup\n",
        "\n",
        "url = 'https://e-service.cwb.gov.tw/HistoryDataQuery/DayDataController.do?command=viewMain&station=467440&stname=%25E9%25AB%2598%25E9%259B%2584&datepicker=2019-11-24'\n",
        "\n",
        "res  = requests.get(url)\n",
        "soup = BeautifulSoup(res.text, 'html.parser')\n",
        "len(soup)"
      ],
      "execution_count": 0,
      "outputs": [
        {
          "output_type": "execute_result",
          "data": {
            "text/plain": [
              "4"
            ]
          },
          "metadata": {
            "tags": []
          },
          "execution_count": 69
        }
      ]
    },
    {
      "cell_type": "markdown",
      "metadata": {
        "id": "LxDhsNDoGzch",
        "colab_type": "text"
      },
      "source": [
        "#### 找節點"
      ]
    },
    {
      "cell_type": "code",
      "metadata": {
        "id": "V0su--dEB18I",
        "colab_type": "code",
        "outputId": "60fc66d4-8fda-4bc4-aa01-409e4b4a2c31",
        "colab": {
          "base_uri": "https://localhost:8080/",
          "height": 35
        }
      },
      "source": [
        "div = soup.find_all('div')\n",
        "len(div)"
      ],
      "execution_count": 0,
      "outputs": [
        {
          "output_type": "execute_result",
          "data": {
            "text/plain": [
              "2"
            ]
          },
          "metadata": {
            "tags": []
          },
          "execution_count": 70
        }
      ]
    },
    {
      "cell_type": "code",
      "metadata": {
        "id": "uz0sMKqQFnSE",
        "colab_type": "code",
        "outputId": "f912b0a9-664a-4b6f-a7d6-025fd74098d6",
        "colab": {
          "base_uri": "https://localhost:8080/",
          "height": 35
        }
      },
      "source": [
        "tr  = div[1].find_all('tr')\n",
        "len(tr)"
      ],
      "execution_count": 0,
      "outputs": [
        {
          "output_type": "execute_result",
          "data": {
            "text/plain": [
              "27"
            ]
          },
          "metadata": {
            "tags": []
          },
          "execution_count": 71
        }
      ]
    },
    {
      "cell_type": "code",
      "metadata": {
        "id": "dieo8aXBGS4Y",
        "colab_type": "code",
        "outputId": "ef0c5ce1-a958-4e14-fd7f-156de7d4fb02",
        "colab": {
          "base_uri": "https://localhost:8080/",
          "height": 35
        }
      },
      "source": [
        "td = tr[3].find_all('td')\n",
        "len(td)"
      ],
      "execution_count": 0,
      "outputs": [
        {
          "output_type": "execute_result",
          "data": {
            "text/plain": [
              "17"
            ]
          },
          "metadata": {
            "tags": []
          },
          "execution_count": 72
        }
      ]
    }
  ]
}