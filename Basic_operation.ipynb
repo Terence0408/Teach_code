{
  "nbformat": 4,
  "nbformat_minor": 0,
  "metadata": {
    "colab": {
      "name": "Basic operation.ipynb",
      "provenance": [],
      "collapsed_sections": [],
      "toc_visible": true,
      "include_colab_link": true
    },
    "kernelspec": {
      "name": "python3",
      "display_name": "Python 3"
    }
  },
  "cells": [
    {
      "cell_type": "markdown",
      "metadata": {
        "id": "view-in-github",
        "colab_type": "text"
      },
      "source": [
        "<a href=\"https://colab.research.google.com/github/Terence0408/Teach_code/blob/master/Basic_operation.ipynb\" target=\"_parent\"><img src=\"https://colab.research.google.com/assets/colab-badge.svg\" alt=\"Open In Colab\"/></a>"
      ]
    },
    {
      "cell_type": "markdown",
      "metadata": {
        "id": "ldspJ-Gnhk2i",
        "colab_type": "text"
      },
      "source": [
        "# 基本的 Python 操作\n",
        "* 儲存格式\n",
        "    * List\n",
        "    * Dictionary\n",
        "* 指令\n",
        "    * For loop\n",
        "    * While loop\n",
        "    * If-else\n",
        "    * Try-except-finally\n",
        "    * Function\n",
        "* 檔案存取\n",
        "* 套件安裝\n",
        "    * 爬蟲程式"
      ]
    },
    {
      "cell_type": "markdown",
      "metadata": {
        "id": "sL93nnRJk_cz",
        "colab_type": "text"
      },
      "source": [
        "## 儲存格式"
      ]
    },
    {
      "cell_type": "markdown",
      "metadata": {
        "id": "XdJ2Sb2XLWBF",
        "colab_type": "text"
      },
      "source": [
        "### List"
      ]
    },
    {
      "cell_type": "code",
      "metadata": {
        "id": "SGYz6iqCLYnj",
        "colab_type": "code",
        "outputId": "b3b21882-d8e6-49e7-fbeb-1787f8862882",
        "colab": {
          "base_uri": "https://localhost:8080/",
          "height": 34
        }
      },
      "source": [
        "list_f=[1,2,3,1,2,3]\n",
        "list_f"
      ],
      "execution_count": 1,
      "outputs": [
        {
          "output_type": "execute_result",
          "data": {
            "text/plain": [
              "[1, 2, 3, 1, 2, 3]"
            ]
          },
          "metadata": {
            "tags": []
          },
          "execution_count": 1
        }
      ]
    },
    {
      "cell_type": "markdown",
      "metadata": {
        "id": "zuT7MR5DLjfk",
        "colab_type": "text"
      },
      "source": [
        "#### 不會影響原 list 的指令"
      ]
    },
    {
      "cell_type": "markdown",
      "metadata": {
        "id": "OX12HaZEWVhs",
        "colab_type": "text"
      },
      "source": [
        "##### list 的長度"
      ]
    },
    {
      "cell_type": "code",
      "metadata": {
        "id": "2e-2uKYZWVro",
        "colab_type": "code",
        "outputId": "cd228f37-7c70-40b4-f6cd-018e5056cbeb",
        "colab": {
          "base_uri": "https://localhost:8080/",
          "height": 34
        }
      },
      "source": [
        "len(list_f)"
      ],
      "execution_count": 2,
      "outputs": [
        {
          "output_type": "execute_result",
          "data": {
            "text/plain": [
              "6"
            ]
          },
          "metadata": {
            "tags": []
          },
          "execution_count": 2
        }
      ]
    },
    {
      "cell_type": "markdown",
      "metadata": {
        "id": "KI8e8x41Ltio",
        "colab_type": "text"
      },
      "source": [
        "##### 計算 list 中 2 出現的次數"
      ]
    },
    {
      "cell_type": "code",
      "metadata": {
        "id": "fyDv0WGgLlSO",
        "colab_type": "code",
        "outputId": "cd0009ae-8a9b-4432-9f6c-a286f99aae5f",
        "colab": {
          "base_uri": "https://localhost:8080/",
          "height": 34
        }
      },
      "source": [
        "list_f.count(2)  "
      ],
      "execution_count": 3,
      "outputs": [
        {
          "output_type": "execute_result",
          "data": {
            "text/plain": [
              "2"
            ]
          },
          "metadata": {
            "tags": []
          },
          "execution_count": 3
        }
      ]
    },
    {
      "cell_type": "markdown",
      "metadata": {
        "id": "XdlHfFnzME50",
        "colab_type": "text"
      },
      "source": [
        "##### 在 list 中從 0 開始找第一筆 1 的位置"
      ]
    },
    {
      "cell_type": "code",
      "metadata": {
        "id": "vfHjkvEAMKZK",
        "colab_type": "code",
        "outputId": "6d2d656a-e4e7-4703-b919-0c4a86909bb7",
        "colab": {
          "base_uri": "https://localhost:8080/",
          "height": 34
        }
      },
      "source": [
        "list_f.index(1,0) "
      ],
      "execution_count": 4,
      "outputs": [
        {
          "output_type": "execute_result",
          "data": {
            "text/plain": [
              "0"
            ]
          },
          "metadata": {
            "tags": []
          },
          "execution_count": 4
        }
      ]
    },
    {
      "cell_type": "markdown",
      "metadata": {
        "id": "Qoc2JFvLMK11",
        "colab_type": "text"
      },
      "source": [
        "##### 將 list 移除重複的資料"
      ]
    },
    {
      "cell_type": "code",
      "metadata": {
        "id": "RrqMkm9UMNes",
        "colab_type": "code",
        "outputId": "b2c485fd-c037-43c9-add6-df8b4f7b1938",
        "colab": {
          "base_uri": "https://localhost:8080/",
          "height": 34
        }
      },
      "source": [
        "set(list_f) "
      ],
      "execution_count": 5,
      "outputs": [
        {
          "output_type": "execute_result",
          "data": {
            "text/plain": [
              "{1, 2, 3}"
            ]
          },
          "metadata": {
            "tags": []
          },
          "execution_count": 5
        }
      ]
    },
    {
      "cell_type": "markdown",
      "metadata": {
        "id": "y-ev2YxeMPGa",
        "colab_type": "text"
      },
      "source": [
        "##### 找 list 中第 2 個位置的元素\n",
        "\n",
        "> Python 數列由 0 開始\n",
        "\n",
        "\n",
        "\n",
        "\n"
      ]
    },
    {
      "cell_type": "code",
      "metadata": {
        "id": "1qCjKX9MMY0r",
        "colab_type": "code",
        "outputId": "69eb5cb8-6184-4820-bcd6-cb8568b0f20f",
        "colab": {
          "base_uri": "https://localhost:8080/",
          "height": 34
        }
      },
      "source": [
        "list_f"
      ],
      "execution_count": 6,
      "outputs": [
        {
          "output_type": "execute_result",
          "data": {
            "text/plain": [
              "[1, 2, 3, 1, 2, 3]"
            ]
          },
          "metadata": {
            "tags": []
          },
          "execution_count": 6
        }
      ]
    },
    {
      "cell_type": "code",
      "metadata": {
        "id": "D8R_pNqQMPQa",
        "colab_type": "code",
        "outputId": "9507243e-f4f2-4b85-ed96-6dc08eab0e63",
        "colab": {
          "base_uri": "https://localhost:8080/",
          "height": 34
        }
      },
      "source": [
        "list_f[2-1] "
      ],
      "execution_count": 7,
      "outputs": [
        {
          "output_type": "execute_result",
          "data": {
            "text/plain": [
              "2"
            ]
          },
          "metadata": {
            "tags": []
          },
          "execution_count": 7
        }
      ]
    },
    {
      "cell_type": "markdown",
      "metadata": {
        "id": "zjiryaVeMz17",
        "colab_type": "text"
      },
      "source": [
        "#### 會影響原 list 的指令\n",
        "\n",
        "> 碼掉這行 list_f=[1,2,3,1,2,3]，多跑幾次就能感受差異\n",
        "\n",
        "\n",
        "\n",
        "\n",
        "\n",
        "\n"
      ]
    },
    {
      "cell_type": "markdown",
      "metadata": {
        "id": "WbgBaCB2NJRv",
        "colab_type": "text"
      },
      "source": [
        "##### 更新 list 中的值"
      ]
    },
    {
      "cell_type": "code",
      "metadata": {
        "id": "aoDjtW0jNJbR",
        "colab_type": "code",
        "outputId": "830d02b4-1922-4fe1-e8d8-3e7495e85840",
        "colab": {
          "base_uri": "https://localhost:8080/",
          "height": 34
        }
      },
      "source": [
        "list_f=[1,2,3,1,2,3]\n",
        "\n",
        "list_f[2-1] = 5\n",
        "list_f"
      ],
      "execution_count": 8,
      "outputs": [
        {
          "output_type": "execute_result",
          "data": {
            "text/plain": [
              "[1, 5, 3, 1, 2, 3]"
            ]
          },
          "metadata": {
            "tags": []
          },
          "execution_count": 8
        }
      ]
    },
    {
      "cell_type": "markdown",
      "metadata": {
        "id": "s934QC9yNftw",
        "colab_type": "text"
      },
      "source": [
        "##### 在 list 尾端資加一筆資料"
      ]
    },
    {
      "cell_type": "markdown",
      "metadata": {
        "id": "LarhpEVQGtDg",
        "colab_type": "text"
      },
      "source": [
        "###### 透過 extend\n",
        "extend 比較像接一筆新的 list"
      ]
    },
    {
      "cell_type": "code",
      "metadata": {
        "id": "1bCa8aOKNf6k",
        "colab_type": "code",
        "outputId": "c1daf9fd-a479-432a-9d0a-07ae980b84a1",
        "colab": {
          "base_uri": "https://localhost:8080/",
          "height": 34
        }
      },
      "source": [
        "list_f=[1,2,3,1,2,3]\n",
        "\n",
        "list_f.extend([4])  \n",
        "list_f"
      ],
      "execution_count": 9,
      "outputs": [
        {
          "output_type": "execute_result",
          "data": {
            "text/plain": [
              "[1, 2, 3, 1, 2, 3, 4]"
            ]
          },
          "metadata": {
            "tags": []
          },
          "execution_count": 9
        }
      ]
    },
    {
      "cell_type": "code",
      "metadata": {
        "id": "ZW57KiMnOMtd",
        "colab_type": "code",
        "outputId": "cac8c8cc-5720-489d-eaba-fbb2b6846ee0",
        "colab": {
          "base_uri": "https://localhost:8080/",
          "height": 34
        }
      },
      "source": [
        "list_f.extend([4])  \n",
        "list_f"
      ],
      "execution_count": 10,
      "outputs": [
        {
          "output_type": "execute_result",
          "data": {
            "text/plain": [
              "[1, 2, 3, 1, 2, 3, 4, 4]"
            ]
          },
          "metadata": {
            "tags": []
          },
          "execution_count": 10
        }
      ]
    },
    {
      "cell_type": "markdown",
      "metadata": {
        "id": "aGNV5vWtGyTC",
        "colab_type": "text"
      },
      "source": [
        "###### 透過 append\n",
        "append 比較像直接插入一筆新資料"
      ]
    },
    {
      "cell_type": "code",
      "metadata": {
        "id": "IcG6b4ObG1tl",
        "colab_type": "code",
        "outputId": "2165a9d8-0bb2-4465-ad11-d4a13610502e",
        "colab": {
          "base_uri": "https://localhost:8080/",
          "height": 34
        }
      },
      "source": [
        "list_f=[1,2,3,1,2,3]\n",
        "\n",
        "list_f.append(4)  \n",
        "list_f"
      ],
      "execution_count": 11,
      "outputs": [
        {
          "output_type": "execute_result",
          "data": {
            "text/plain": [
              "[1, 2, 3, 1, 2, 3, 4]"
            ]
          },
          "metadata": {
            "tags": []
          },
          "execution_count": 11
        }
      ]
    },
    {
      "cell_type": "code",
      "metadata": {
        "id": "KyLnpGjOG68g",
        "colab_type": "code",
        "outputId": "880a4042-1a06-4956-ecdf-ceb9297392ae",
        "colab": {
          "base_uri": "https://localhost:8080/",
          "height": 34
        }
      },
      "source": [
        "list_f.append(4)  \n",
        "list_f"
      ],
      "execution_count": 12,
      "outputs": [
        {
          "output_type": "execute_result",
          "data": {
            "text/plain": [
              "[1, 2, 3, 1, 2, 3, 4, 4]"
            ]
          },
          "metadata": {
            "tags": []
          },
          "execution_count": 12
        }
      ]
    },
    {
      "cell_type": "markdown",
      "metadata": {
        "id": "jDE9NX41NkF0",
        "colab_type": "text"
      },
      "source": [
        "##### 在 list 中 0 的位置插入資料 -1"
      ]
    },
    {
      "cell_type": "code",
      "metadata": {
        "id": "PG19_J-kNkNk",
        "colab_type": "code",
        "outputId": "862bcd88-6ddc-46c0-a4db-bc54c08231e2",
        "colab": {
          "base_uri": "https://localhost:8080/",
          "height": 34
        }
      },
      "source": [
        "list_f=[1,2,3,1,2,3]\n",
        "\n",
        "list_f.insert(0,-1)       \n",
        "list_f"
      ],
      "execution_count": 13,
      "outputs": [
        {
          "output_type": "execute_result",
          "data": {
            "text/plain": [
              "[-1, 1, 2, 3, 1, 2, 3]"
            ]
          },
          "metadata": {
            "tags": []
          },
          "execution_count": 13
        }
      ]
    },
    {
      "cell_type": "code",
      "metadata": {
        "id": "p75RKYg-OSnO",
        "colab_type": "code",
        "outputId": "cfcf86af-a49e-420f-d487-f32b9e03398c",
        "colab": {
          "base_uri": "https://localhost:8080/",
          "height": 34
        }
      },
      "source": [
        "list_f.insert(0,-1)       \n",
        "list_f"
      ],
      "execution_count": 14,
      "outputs": [
        {
          "output_type": "execute_result",
          "data": {
            "text/plain": [
              "[-1, -1, 1, 2, 3, 1, 2, 3]"
            ]
          },
          "metadata": {
            "tags": []
          },
          "execution_count": 14
        }
      ]
    },
    {
      "cell_type": "markdown",
      "metadata": {
        "id": "IOYBaqCXOSEb",
        "colab_type": "text"
      },
      "source": [
        "##### 移除 list 中第一筆與 3 相符的資料"
      ]
    },
    {
      "cell_type": "code",
      "metadata": {
        "id": "slUiMfSTOUhp",
        "colab_type": "code",
        "outputId": "17119d4a-f51e-4963-b82d-bdb047374331",
        "colab": {
          "base_uri": "https://localhost:8080/",
          "height": 34
        }
      },
      "source": [
        "list_f=[1,2,3,1,2,3]\n",
        "\n",
        "list_f.remove(3)     \n",
        "list_f"
      ],
      "execution_count": 15,
      "outputs": [
        {
          "output_type": "execute_result",
          "data": {
            "text/plain": [
              "[1, 2, 1, 2, 3]"
            ]
          },
          "metadata": {
            "tags": []
          },
          "execution_count": 15
        }
      ]
    },
    {
      "cell_type": "code",
      "metadata": {
        "id": "FXTOnRwwObPp",
        "colab_type": "code",
        "outputId": "93ac4970-207b-4b2d-b80d-9f66666e7ed0",
        "colab": {
          "base_uri": "https://localhost:8080/",
          "height": 34
        }
      },
      "source": [
        "list_f.remove(3)     \n",
        "list_f"
      ],
      "execution_count": 16,
      "outputs": [
        {
          "output_type": "execute_result",
          "data": {
            "text/plain": [
              "[1, 2, 1, 2]"
            ]
          },
          "metadata": {
            "tags": []
          },
          "execution_count": 16
        }
      ]
    },
    {
      "cell_type": "markdown",
      "metadata": {
        "id": "rbrr5fISOSIw",
        "colab_type": "text"
      },
      "source": [
        "##### 移除 list 中最後一筆資料, 並回傳該值"
      ]
    },
    {
      "cell_type": "code",
      "metadata": {
        "id": "ftBRlb_sOd19",
        "colab_type": "code",
        "outputId": "2ff298fa-5d17-49eb-cd51-c5a74ad9818a",
        "colab": {
          "base_uri": "https://localhost:8080/",
          "height": 34
        }
      },
      "source": [
        "list_f=[1,2,3,1,2,3]\n",
        "\n",
        "list_f.pop()   "
      ],
      "execution_count": 17,
      "outputs": [
        {
          "output_type": "execute_result",
          "data": {
            "text/plain": [
              "3"
            ]
          },
          "metadata": {
            "tags": []
          },
          "execution_count": 17
        }
      ]
    },
    {
      "cell_type": "code",
      "metadata": {
        "id": "iayDsZ27Ohe5",
        "colab_type": "code",
        "outputId": "334ecab8-c8b7-4777-8b68-ca04bcea2817",
        "colab": {
          "base_uri": "https://localhost:8080/",
          "height": 34
        }
      },
      "source": [
        "list_f.pop()   "
      ],
      "execution_count": 18,
      "outputs": [
        {
          "output_type": "execute_result",
          "data": {
            "text/plain": [
              "2"
            ]
          },
          "metadata": {
            "tags": []
          },
          "execution_count": 18
        }
      ]
    },
    {
      "cell_type": "markdown",
      "metadata": {
        "id": "Qv89YNHDOiHg",
        "colab_type": "text"
      },
      "source": [
        "##### 將 list 排序(reverse=True, 反轉排序)"
      ]
    },
    {
      "cell_type": "code",
      "metadata": {
        "id": "iHum440mOiRe",
        "colab_type": "code",
        "outputId": "43d8736c-2aa4-428c-96f7-380d3f248d0a",
        "colab": {
          "base_uri": "https://localhost:8080/",
          "height": 34
        }
      },
      "source": [
        "list_f=[1,2,3,1,2,3]\n",
        "\n",
        "list_f.sort(reverse=True) \n",
        "list_f"
      ],
      "execution_count": 19,
      "outputs": [
        {
          "output_type": "execute_result",
          "data": {
            "text/plain": [
              "[3, 3, 2, 2, 1, 1]"
            ]
          },
          "metadata": {
            "tags": []
          },
          "execution_count": 19
        }
      ]
    },
    {
      "cell_type": "markdown",
      "metadata": {
        "id": "d82b1Bw0OsD7",
        "colab_type": "text"
      },
      "source": [
        "##### 將 list 反轉"
      ]
    },
    {
      "cell_type": "code",
      "metadata": {
        "id": "PT5v6CNBOrDq",
        "colab_type": "code",
        "outputId": "44a256f1-5b6e-4887-a863-c6ecfb167a62",
        "colab": {
          "base_uri": "https://localhost:8080/",
          "height": 34
        }
      },
      "source": [
        "list_f=[1,2,3,1,2,3]\n",
        "\n",
        "list_f.reverse()     \n",
        "list_f"
      ],
      "execution_count": 20,
      "outputs": [
        {
          "output_type": "execute_result",
          "data": {
            "text/plain": [
              "[3, 2, 1, 3, 2, 1]"
            ]
          },
          "metadata": {
            "tags": []
          },
          "execution_count": 20
        }
      ]
    },
    {
      "cell_type": "markdown",
      "metadata": {
        "id": "Ymr2pQj1Ovid",
        "colab_type": "text"
      },
      "source": [
        "#### 字串和 list 操作比較"
      ]
    },
    {
      "cell_type": "markdown",
      "metadata": {
        "id": "fJ2P2v2xO72i",
        "colab_type": "text"
      },
      "source": [
        "##### 找第 2 個位置的元素"
      ]
    },
    {
      "cell_type": "code",
      "metadata": {
        "id": "ZAncE6NvOyk4",
        "colab_type": "code",
        "outputId": "9d005cb8-fdde-4694-fa1e-a73cd08e5105",
        "colab": {
          "base_uri": "https://localhost:8080/",
          "height": 34
        }
      },
      "source": [
        "lists = [\"P\",\"y\",\"t\",\"h\",\"o\",\"n\",\"P\",\"y\",\"t\",\"h\",\"o\",\"n\"]\n",
        "lists[2]"
      ],
      "execution_count": 21,
      "outputs": [
        {
          "output_type": "execute_result",
          "data": {
            "text/plain": [
              "'t'"
            ]
          },
          "metadata": {
            "tags": []
          },
          "execution_count": 21
        }
      ]
    },
    {
      "cell_type": "code",
      "metadata": {
        "id": "c0KKiNvhO0hm",
        "colab_type": "code",
        "outputId": "80f90b2b-389c-406f-e36e-d2495f30b5c7",
        "colab": {
          "base_uri": "https://localhost:8080/",
          "height": 34
        }
      },
      "source": [
        "texts = \"PythonPython\"\n",
        "texts[2]"
      ],
      "execution_count": 22,
      "outputs": [
        {
          "output_type": "execute_result",
          "data": {
            "text/plain": [
              "'t'"
            ]
          },
          "metadata": {
            "tags": []
          },
          "execution_count": 22
        }
      ]
    },
    {
      "cell_type": "markdown",
      "metadata": {
        "id": "mrRUPwiXPFP5",
        "colab_type": "text"
      },
      "source": [
        "##### 移除重複的資料"
      ]
    },
    {
      "cell_type": "code",
      "metadata": {
        "id": "XdinkLmMPQJd",
        "colab_type": "code",
        "outputId": "206f7fb7-8882-4715-e843-f5acd050615d",
        "colab": {
          "base_uri": "https://localhost:8080/",
          "height": 34
        }
      },
      "source": [
        "lists = [\"P\",\"y\",\"t\",\"h\",\"o\",\"n\",\"P\",\"y\",\"t\",\"h\",\"o\",\"n\"]\n",
        "set(lists) "
      ],
      "execution_count": 23,
      "outputs": [
        {
          "output_type": "execute_result",
          "data": {
            "text/plain": [
              "{'P', 'h', 'n', 'o', 't', 'y'}"
            ]
          },
          "metadata": {
            "tags": []
          },
          "execution_count": 23
        }
      ]
    },
    {
      "cell_type": "code",
      "metadata": {
        "id": "HGQp3OgQPQL5",
        "colab_type": "code",
        "outputId": "b432428e-2cb5-44db-db14-7c4b77cbd65b",
        "colab": {
          "base_uri": "https://localhost:8080/",
          "height": 34
        }
      },
      "source": [
        "texts = \"PythonPython\"\n",
        "set(texts) "
      ],
      "execution_count": 24,
      "outputs": [
        {
          "output_type": "execute_result",
          "data": {
            "text/plain": [
              "{'P', 'h', 'n', 'o', 't', 'y'}"
            ]
          },
          "metadata": {
            "tags": []
          },
          "execution_count": 24
        }
      ]
    },
    {
      "cell_type": "markdown",
      "metadata": {
        "id": "Yy0z1wlIPVlu",
        "colab_type": "text"
      },
      "source": [
        "##### 反轉排序"
      ]
    },
    {
      "cell_type": "code",
      "metadata": {
        "id": "JUN2Tq8tPVt1",
        "colab_type": "code",
        "outputId": "2ffdff18-a2de-41f8-9e54-ef240705a1ec",
        "colab": {
          "base_uri": "https://localhost:8080/",
          "height": 34
        }
      },
      "source": [
        "lists = [\"P\",\"y\",\"t\",\"h\",\"o\",\"n\"]\n",
        "lists.reverse() \n",
        "lists"
      ],
      "execution_count": 25,
      "outputs": [
        {
          "output_type": "execute_result",
          "data": {
            "text/plain": [
              "['n', 'o', 'h', 't', 'y', 'P']"
            ]
          },
          "metadata": {
            "tags": []
          },
          "execution_count": 25
        }
      ]
    },
    {
      "cell_type": "code",
      "metadata": {
        "id": "2km9VhxnPYBc",
        "colab_type": "code",
        "outputId": "73410984-02e4-46c3-9057-4a205d23151c",
        "colab": {
          "base_uri": "https://localhost:8080/",
          "height": 229
        }
      },
      "source": [
        "texts = \"Python\"\n",
        "texts.reverse() \n",
        "texts\n",
        "\n",
        "# AttributeError: 'str' object has no attribute 'reverse'"
      ],
      "execution_count": 26,
      "outputs": [
        {
          "output_type": "error",
          "ename": "AttributeError",
          "evalue": "ignored",
          "traceback": [
            "\u001b[0;31m---------------------------------------------------------------------------\u001b[0m",
            "\u001b[0;31mAttributeError\u001b[0m                            Traceback (most recent call last)",
            "\u001b[0;32m<ipython-input-26-68514f7842e9>\u001b[0m in \u001b[0;36m<module>\u001b[0;34m()\u001b[0m\n\u001b[1;32m      1\u001b[0m \u001b[0mtexts\u001b[0m \u001b[0;34m=\u001b[0m \u001b[0;34m\"Python\"\u001b[0m\u001b[0;34m\u001b[0m\u001b[0;34m\u001b[0m\u001b[0m\n\u001b[0;32m----> 2\u001b[0;31m \u001b[0mtexts\u001b[0m\u001b[0;34m.\u001b[0m\u001b[0mreverse\u001b[0m\u001b[0;34m(\u001b[0m\u001b[0;34m)\u001b[0m\u001b[0;34m\u001b[0m\u001b[0;34m\u001b[0m\u001b[0m\n\u001b[0m\u001b[1;32m      3\u001b[0m \u001b[0mtexts\u001b[0m\u001b[0;34m\u001b[0m\u001b[0;34m\u001b[0m\u001b[0m\n\u001b[1;32m      4\u001b[0m \u001b[0;34m\u001b[0m\u001b[0m\n\u001b[1;32m      5\u001b[0m \u001b[0;31m# AttributeError: 'str' object has no attribute 'reverse'\u001b[0m\u001b[0;34m\u001b[0m\u001b[0;34m\u001b[0m\u001b[0;34m\u001b[0m\u001b[0m\n",
            "\u001b[0;31mAttributeError\u001b[0m: 'str' object has no attribute 'reverse'"
          ]
        }
      ]
    },
    {
      "cell_type": "markdown",
      "metadata": {
        "id": "4TDo6nq0QUKb",
        "colab_type": "text"
      },
      "source": [
        "####  list 內放 list "
      ]
    },
    {
      "cell_type": "code",
      "metadata": {
        "id": "b6J29hz3Qgd4",
        "colab_type": "code",
        "outputId": "cf89477b-0897-4c1a-8c5f-8f4414995b2e",
        "colab": {
          "base_uri": "https://localhost:8080/",
          "height": 34
        }
      },
      "source": [
        "lists = [[1,2,3,4],[\"Python\", \"Class\"],\"123\"]\n",
        "lists"
      ],
      "execution_count": 28,
      "outputs": [
        {
          "output_type": "execute_result",
          "data": {
            "text/plain": [
              "[[1, 2, 3, 4], ['Python', 'Class'], '123']"
            ]
          },
          "metadata": {
            "tags": []
          },
          "execution_count": 28
        }
      ]
    },
    {
      "cell_type": "markdown",
      "metadata": {
        "id": "2rziGJePQ7uF",
        "colab_type": "text"
      },
      "source": [
        "##### 找指定位置的元素"
      ]
    },
    {
      "cell_type": "code",
      "metadata": {
        "id": "eZY-GqDZQwOK",
        "colab_type": "code",
        "outputId": "f0a195c1-9d8e-47d7-f12a-658aa3e2ab27",
        "colab": {
          "base_uri": "https://localhost:8080/",
          "height": 34
        }
      },
      "source": [
        "lists[0][2]"
      ],
      "execution_count": 29,
      "outputs": [
        {
          "output_type": "execute_result",
          "data": {
            "text/plain": [
              "3"
            ]
          },
          "metadata": {
            "tags": []
          },
          "execution_count": 29
        }
      ]
    },
    {
      "cell_type": "markdown",
      "metadata": {
        "id": "5eSwraKHPuUp",
        "colab_type": "text"
      },
      "source": [
        "## Dictionary"
      ]
    },
    {
      "cell_type": "markdown",
      "metadata": {
        "id": "0Y-xPuLlP2mq",
        "colab_type": "text"
      },
      "source": [
        "#### 建立空的 dict"
      ]
    },
    {
      "cell_type": "markdown",
      "metadata": {
        "id": "oQABeDl4VrtZ",
        "colab_type": "text"
      },
      "source": [
        "##### 空的 dict"
      ]
    },
    {
      "cell_type": "code",
      "metadata": {
        "id": "wMgCwRUnRkNr",
        "colab_type": "code",
        "outputId": "fbf4f39b-6d85-4dca-ff1f-564722616730",
        "colab": {
          "base_uri": "https://localhost:8080/",
          "height": 34
        }
      },
      "source": [
        "cleese={}  \n",
        "cleese"
      ],
      "execution_count": 30,
      "outputs": [
        {
          "output_type": "execute_result",
          "data": {
            "text/plain": [
              "{}"
            ]
          },
          "metadata": {
            "tags": []
          },
          "execution_count": 30
        }
      ]
    },
    {
      "cell_type": "code",
      "metadata": {
        "id": "In2Vf6orTBuI",
        "colab_type": "code",
        "colab": {
          "base_uri": "https://localhost:8080/",
          "height": 34
        },
        "outputId": "ade3b75c-e36c-480e-db86-60ae9778ca10"
      },
      "source": [
        "cleese=dict()\n",
        "cleese"
      ],
      "execution_count": 31,
      "outputs": [
        {
          "output_type": "execute_result",
          "data": {
            "text/plain": [
              "{}"
            ]
          },
          "metadata": {
            "tags": []
          },
          "execution_count": 31
        }
      ]
    },
    {
      "cell_type": "markdown",
      "metadata": {
        "id": "V7a5wPktSSGZ",
        "colab_type": "text"
      },
      "source": [
        "##### 增加 key-value"
      ]
    },
    {
      "cell_type": "code",
      "metadata": {
        "id": "NHdEqfGUSFys",
        "colab_type": "code",
        "outputId": "8cb13aff-d2b3-4185-ca86-44d84bbe2626",
        "colab": {
          "base_uri": "https://localhost:8080/",
          "height": 34
        }
      },
      "source": [
        "cleese['Key3']='actor'\n",
        "cleese['Key4']=['writer','film producer']\n",
        "cleese"
      ],
      "execution_count": 32,
      "outputs": [
        {
          "output_type": "execute_result",
          "data": {
            "text/plain": [
              "{'Key3': 'actor', 'Key4': ['writer', 'film producer']}"
            ]
          },
          "metadata": {
            "tags": []
          },
          "execution_count": 32
        }
      ]
    },
    {
      "cell_type": "markdown",
      "metadata": {
        "id": "28qOn_S4TIE8",
        "colab_type": "text"
      },
      "source": [
        "#### 建立有值的 dict"
      ]
    },
    {
      "cell_type": "code",
      "metadata": {
        "id": "JvAcDeWyTMpJ",
        "colab_type": "code",
        "outputId": "33065079-e8ba-4b3d-a057-8d6f4b1dd507",
        "colab": {
          "base_uri": "https://localhost:8080/",
          "height": 34
        }
      },
      "source": [
        "cleese={'Key1':'actor',                         \n",
        "        'Key2':['writer','film producer']}\n",
        "cleese"
      ],
      "execution_count": 33,
      "outputs": [
        {
          "output_type": "execute_result",
          "data": {
            "text/plain": [
              "{'Key1': 'actor', 'Key2': ['writer', 'film producer']}"
            ]
          },
          "metadata": {
            "tags": []
          },
          "execution_count": 33
        }
      ]
    },
    {
      "cell_type": "markdown",
      "metadata": {
        "id": "9-tYbZzfThrM",
        "colab_type": "text"
      },
      "source": [
        "##### 呈現 dict 所有的 key"
      ]
    },
    {
      "cell_type": "code",
      "metadata": {
        "id": "DUP2Ft-aThyf",
        "colab_type": "code",
        "outputId": "3285253a-98da-4762-90a2-e5e74c0f64d8",
        "colab": {
          "base_uri": "https://localhost:8080/",
          "height": 34
        }
      },
      "source": [
        "cleese.keys()"
      ],
      "execution_count": 34,
      "outputs": [
        {
          "output_type": "execute_result",
          "data": {
            "text/plain": [
              "dict_keys(['Key1', 'Key2'])"
            ]
          },
          "metadata": {
            "tags": []
          },
          "execution_count": 34
        }
      ]
    },
    {
      "cell_type": "markdown",
      "metadata": {
        "id": "jlwqG0bqTpTR",
        "colab_type": "text"
      },
      "source": [
        "##### 排序 dict 的 key 值"
      ]
    },
    {
      "cell_type": "code",
      "metadata": {
        "id": "y5MepSG2TpYR",
        "colab_type": "code",
        "outputId": "55f0476d-3a94-48e6-df8d-f6969edbc5a9",
        "colab": {
          "base_uri": "https://localhost:8080/",
          "height": 34
        }
      },
      "source": [
        "sorted(cleese.keys(), reverse=True)"
      ],
      "execution_count": 35,
      "outputs": [
        {
          "output_type": "execute_result",
          "data": {
            "text/plain": [
              "['Key2', 'Key1']"
            ]
          },
          "metadata": {
            "tags": []
          },
          "execution_count": 35
        }
      ]
    },
    {
      "cell_type": "code",
      "metadata": {
        "id": "mRVreQ0NUWK6",
        "colab_type": "code",
        "outputId": "30438b5c-bef7-4e83-c373-b4bb9ca4c2fa",
        "colab": {
          "base_uri": "https://localhost:8080/",
          "height": 162
        }
      },
      "source": [
        "cleese[sorted(cleese.keys(), reverse=True)[3]]"
      ],
      "execution_count": 36,
      "outputs": [
        {
          "output_type": "error",
          "ename": "IndexError",
          "evalue": "ignored",
          "traceback": [
            "\u001b[0;31m---------------------------------------------------------------------------\u001b[0m",
            "\u001b[0;31mIndexError\u001b[0m                                Traceback (most recent call last)",
            "\u001b[0;32m<ipython-input-36-74deaaf3e300>\u001b[0m in \u001b[0;36m<module>\u001b[0;34m()\u001b[0m\n\u001b[0;32m----> 1\u001b[0;31m \u001b[0mcleese\u001b[0m\u001b[0;34m[\u001b[0m\u001b[0msorted\u001b[0m\u001b[0;34m(\u001b[0m\u001b[0mcleese\u001b[0m\u001b[0;34m.\u001b[0m\u001b[0mkeys\u001b[0m\u001b[0;34m(\u001b[0m\u001b[0;34m)\u001b[0m\u001b[0;34m,\u001b[0m \u001b[0mreverse\u001b[0m\u001b[0;34m=\u001b[0m\u001b[0;32mTrue\u001b[0m\u001b[0;34m)\u001b[0m\u001b[0;34m[\u001b[0m\u001b[0;36m3\u001b[0m\u001b[0;34m]\u001b[0m\u001b[0;34m]\u001b[0m\u001b[0;34m\u001b[0m\u001b[0;34m\u001b[0m\u001b[0m\n\u001b[0m",
            "\u001b[0;31mIndexError\u001b[0m: list index out of range"
          ]
        }
      ]
    },
    {
      "cell_type": "markdown",
      "metadata": {
        "id": "Tl1pSN2LVj4X",
        "colab_type": "text"
      },
      "source": [
        "#### 呼叫 dict 內特定 key 的對應 value"
      ]
    },
    {
      "cell_type": "markdown",
      "metadata": {
        "id": "NdoSX-7nHC9a",
        "colab_type": "text"
      },
      "source": [
        "##### 直接指定 key 名稱"
      ]
    },
    {
      "cell_type": "code",
      "metadata": {
        "id": "-A7VjL9rVl3G",
        "colab_type": "code",
        "outputId": "f26c86ab-94e3-4f86-8232-b6743a9162cf",
        "colab": {
          "base_uri": "https://localhost:8080/",
          "height": 34
        }
      },
      "source": [
        "cleese['Key1']"
      ],
      "execution_count": 37,
      "outputs": [
        {
          "output_type": "execute_result",
          "data": {
            "text/plain": [
              "'actor'"
            ]
          },
          "metadata": {
            "tags": []
          },
          "execution_count": 37
        }
      ]
    },
    {
      "cell_type": "markdown",
      "metadata": {
        "id": "iEy0OJH8HJCf",
        "colab_type": "text"
      },
      "source": [
        "##### 透過 .keys() 選取 key 名稱\n",
        "因為 .keys() does not support indexing，需先轉為 list"
      ]
    },
    {
      "cell_type": "code",
      "metadata": {
        "id": "tCpZYPvfHOcU",
        "colab_type": "code",
        "outputId": "9189281d-0e5e-4c39-e24b-e10dedf003d4",
        "colab": {
          "base_uri": "https://localhost:8080/",
          "height": 195
        }
      },
      "source": [
        "cleese[cleese.keys()[0]]\n",
        "\n",
        "# TypeError: 'dict_keys' object does not support indexing"
      ],
      "execution_count": 38,
      "outputs": [
        {
          "output_type": "error",
          "ename": "TypeError",
          "evalue": "ignored",
          "traceback": [
            "\u001b[0;31m---------------------------------------------------------------------------\u001b[0m",
            "\u001b[0;31mTypeError\u001b[0m                                 Traceback (most recent call last)",
            "\u001b[0;32m<ipython-input-38-a0004ff5ff8f>\u001b[0m in \u001b[0;36m<module>\u001b[0;34m()\u001b[0m\n\u001b[0;32m----> 1\u001b[0;31m \u001b[0mcleese\u001b[0m\u001b[0;34m[\u001b[0m\u001b[0mcleese\u001b[0m\u001b[0;34m.\u001b[0m\u001b[0mkeys\u001b[0m\u001b[0;34m(\u001b[0m\u001b[0;34m)\u001b[0m\u001b[0;34m[\u001b[0m\u001b[0;36m0\u001b[0m\u001b[0;34m]\u001b[0m\u001b[0;34m]\u001b[0m\u001b[0;34m\u001b[0m\u001b[0;34m\u001b[0m\u001b[0m\n\u001b[0m\u001b[1;32m      2\u001b[0m \u001b[0;34m\u001b[0m\u001b[0m\n\u001b[1;32m      3\u001b[0m \u001b[0;31m# TypeError: 'dict_keys' object does not support indexing\u001b[0m\u001b[0;34m\u001b[0m\u001b[0;34m\u001b[0m\u001b[0;34m\u001b[0m\u001b[0m\n",
            "\u001b[0;31mTypeError\u001b[0m: 'dict_keys' object does not support indexing"
          ]
        }
      ]
    },
    {
      "cell_type": "code",
      "metadata": {
        "id": "qsFfPX58GP75",
        "colab_type": "code",
        "outputId": "e716bb86-5e8b-4995-f729-76055610cb5f",
        "colab": {
          "base_uri": "https://localhost:8080/",
          "height": 34
        }
      },
      "source": [
        "cleese[list(cleese.keys())[0]]\n",
        "\n",
        "# IndexError: list index out of range"
      ],
      "execution_count": 39,
      "outputs": [
        {
          "output_type": "execute_result",
          "data": {
            "text/plain": [
              "'actor'"
            ]
          },
          "metadata": {
            "tags": []
          },
          "execution_count": 39
        }
      ]
    },
    {
      "cell_type": "markdown",
      "metadata": {
        "id": "DTV89gMDlEWO",
        "colab_type": "text"
      },
      "source": [
        "## 指令"
      ]
    },
    {
      "cell_type": "markdown",
      "metadata": {
        "id": "hbyT_kCbWDq2",
        "colab_type": "text"
      },
      "source": [
        "### For loop"
      ]
    },
    {
      "cell_type": "code",
      "metadata": {
        "id": "h2NZrykcWH5M",
        "colab_type": "code",
        "cellView": "both",
        "outputId": "e09e56a7-f598-4866-917f-0263b65a693c",
        "colab": {
          "base_uri": "https://localhost:8080/",
          "height": 101
        }
      },
      "source": [
        "for i in [0,1,2,3,4]:\n",
        "    print(i)"
      ],
      "execution_count": 40,
      "outputs": [
        {
          "output_type": "stream",
          "text": [
            "0\n",
            "1\n",
            "2\n",
            "3\n",
            "4\n"
          ],
          "name": "stdout"
        }
      ]
    },
    {
      "cell_type": "markdown",
      "metadata": {
        "id": "NxT43iHsYgqt",
        "colab_type": "text"
      },
      "source": [
        "#### 設定迴圈次數"
      ]
    },
    {
      "cell_type": "code",
      "metadata": {
        "id": "1P9Ow7OWW3hE",
        "colab_type": "code",
        "outputId": "400f76c4-bfb6-47cf-da40-35c7ba0cb8be",
        "colab": {
          "base_uri": "https://localhost:8080/",
          "height": 101
        }
      },
      "source": [
        "for i in range(0,5):\n",
        "    print(i)"
      ],
      "execution_count": 41,
      "outputs": [
        {
          "output_type": "stream",
          "text": [
            "0\n",
            "1\n",
            "2\n",
            "3\n",
            "4\n"
          ],
          "name": "stdout"
        }
      ]
    },
    {
      "cell_type": "markdown",
      "metadata": {
        "id": "B0j9mEm1Yz4d",
        "colab_type": "text"
      },
      "source": [
        "#### 依 list 長度印出 list 字串"
      ]
    },
    {
      "cell_type": "code",
      "metadata": {
        "id": "ZunA6QHSXt5j",
        "colab_type": "code",
        "outputId": "90215d18-88dc-4ca7-cd9d-d272d149280f",
        "colab": {
          "base_uri": "https://localhost:8080/",
          "height": 84
        }
      },
      "source": [
        "texts = ['google', 'facebook', 'youtube', 'yahoo']\n",
        "for i in texts:\n",
        "    print(i)"
      ],
      "execution_count": 42,
      "outputs": [
        {
          "output_type": "stream",
          "text": [
            "google\n",
            "facebook\n",
            "youtube\n",
            "yahoo\n"
          ],
          "name": "stdout"
        }
      ]
    },
    {
      "cell_type": "code",
      "metadata": {
        "id": "Hde4pOurW8wr",
        "colab_type": "code",
        "outputId": "be5284cb-2314-46b6-d386-4951d98cfdee",
        "colab": {
          "base_uri": "https://localhost:8080/",
          "height": 195
        }
      },
      "source": [
        "texts = ['google', 'facebook', 'youtube', 'yahoo']\n",
        "for i in texts:\n",
        "    print(i,\"-->\", texts[i])"
      ],
      "execution_count": 43,
      "outputs": [
        {
          "output_type": "error",
          "ename": "TypeError",
          "evalue": "ignored",
          "traceback": [
            "\u001b[0;31m---------------------------------------------------------------------------\u001b[0m",
            "\u001b[0;31mTypeError\u001b[0m                                 Traceback (most recent call last)",
            "\u001b[0;32m<ipython-input-43-f484affcb569>\u001b[0m in \u001b[0;36m<module>\u001b[0;34m()\u001b[0m\n\u001b[1;32m      1\u001b[0m \u001b[0mtexts\u001b[0m \u001b[0;34m=\u001b[0m \u001b[0;34m[\u001b[0m\u001b[0;34m'google'\u001b[0m\u001b[0;34m,\u001b[0m \u001b[0;34m'facebook'\u001b[0m\u001b[0;34m,\u001b[0m \u001b[0;34m'youtube'\u001b[0m\u001b[0;34m,\u001b[0m \u001b[0;34m'yahoo'\u001b[0m\u001b[0;34m]\u001b[0m\u001b[0;34m\u001b[0m\u001b[0;34m\u001b[0m\u001b[0m\n\u001b[1;32m      2\u001b[0m \u001b[0;32mfor\u001b[0m \u001b[0mi\u001b[0m \u001b[0;32min\u001b[0m \u001b[0mtexts\u001b[0m\u001b[0;34m:\u001b[0m\u001b[0;34m\u001b[0m\u001b[0;34m\u001b[0m\u001b[0m\n\u001b[0;32m----> 3\u001b[0;31m     \u001b[0mprint\u001b[0m\u001b[0;34m(\u001b[0m\u001b[0mi\u001b[0m\u001b[0;34m,\u001b[0m\u001b[0;34m\"-->\"\u001b[0m\u001b[0;34m,\u001b[0m \u001b[0mtexts\u001b[0m\u001b[0;34m[\u001b[0m\u001b[0mi\u001b[0m\u001b[0;34m]\u001b[0m\u001b[0;34m)\u001b[0m\u001b[0;34m\u001b[0m\u001b[0;34m\u001b[0m\u001b[0m\n\u001b[0m",
            "\u001b[0;31mTypeError\u001b[0m: list indices must be integers or slices, not str"
          ]
        }
      ]
    },
    {
      "cell_type": "code",
      "metadata": {
        "id": "XD80wTuJX2eh",
        "colab_type": "code",
        "outputId": "8f3e41b3-7981-4723-8306-755c110c2a13",
        "colab": {
          "base_uri": "https://localhost:8080/",
          "height": 84
        }
      },
      "source": [
        "texts = ['google', 'facebook', 'youtube', 'yahoo']\n",
        "for i in range(0,len(texts)):\n",
        "    print(i,\"-->\", texts[i])"
      ],
      "execution_count": 44,
      "outputs": [
        {
          "output_type": "stream",
          "text": [
            "0 --> google\n",
            "1 --> facebook\n",
            "2 --> youtube\n",
            "3 --> yahoo\n"
          ],
          "name": "stdout"
        }
      ]
    },
    {
      "cell_type": "markdown",
      "metadata": {
        "id": "hpvuACwKZJG_",
        "colab_type": "text"
      },
      "source": [
        "#### 使用 enumerate() \n",
        "> 自動加入索引\n",
        "\n"
      ]
    },
    {
      "cell_type": "code",
      "metadata": {
        "id": "C7GBA2afXKi2",
        "colab_type": "code",
        "outputId": "a4f3710f-4d0d-4438-dad0-a33f47b1b76e",
        "colab": {
          "base_uri": "https://localhost:8080/",
          "height": 84
        }
      },
      "source": [
        "texts = ['google', 'facebook', 'youtube', 'yahoo']\n",
        "for i,texts in enumerate(texts):\n",
        "    print(i, '-->', texts)"
      ],
      "execution_count": 45,
      "outputs": [
        {
          "output_type": "stream",
          "text": [
            "0 --> google\n",
            "1 --> facebook\n",
            "2 --> youtube\n",
            "3 --> yahoo\n"
          ],
          "name": "stdout"
        }
      ]
    },
    {
      "cell_type": "markdown",
      "metadata": {
        "id": "1TzX98HwZjnp",
        "colab_type": "text"
      },
      "source": [
        "#### for 迴圈單行寫法\n",
        "> 雖然很難看懂，但可降低內存，提高程式效率\n",
        "\n"
      ]
    },
    {
      "cell_type": "code",
      "metadata": {
        "id": "6gxctWfQZz2W",
        "colab_type": "code",
        "outputId": "888ad2aa-fa74-41b0-a385-01f7cf159fc3",
        "colab": {
          "base_uri": "https://localhost:8080/",
          "height": 101
        }
      },
      "source": [
        "for i in range(0,5):\n",
        "    print(i)"
      ],
      "execution_count": 46,
      "outputs": [
        {
          "output_type": "stream",
          "text": [
            "0\n",
            "1\n",
            "2\n",
            "3\n",
            "4\n"
          ],
          "name": "stdout"
        }
      ]
    },
    {
      "cell_type": "code",
      "metadata": {
        "id": "xGI25RHmZ9RX",
        "colab_type": "code",
        "outputId": "33a4375e-5acb-47b5-d3e2-168880415b11",
        "colab": {
          "base_uri": "https://localhost:8080/",
          "height": 118
        }
      },
      "source": [
        "xx = [print(i) for i in range(0,5)]\n",
        "xx"
      ],
      "execution_count": 47,
      "outputs": [
        {
          "output_type": "stream",
          "text": [
            "0\n",
            "1\n",
            "2\n",
            "3\n",
            "4\n"
          ],
          "name": "stdout"
        },
        {
          "output_type": "execute_result",
          "data": {
            "text/plain": [
              "[None, None, None, None, None]"
            ]
          },
          "metadata": {
            "tags": []
          },
          "execution_count": 47
        }
      ]
    },
    {
      "cell_type": "code",
      "metadata": {
        "id": "c8_EyPQnae3b",
        "colab_type": "code",
        "outputId": "6b84c37c-3b25-4116-f5e6-8a013b855483",
        "colab": {
          "base_uri": "https://localhost:8080/",
          "height": 34
        }
      },
      "source": [
        "xx = [i*100 for i in range(0,5)]\n",
        "xx"
      ],
      "execution_count": 48,
      "outputs": [
        {
          "output_type": "execute_result",
          "data": {
            "text/plain": [
              "[0, 100, 200, 300, 400]"
            ]
          },
          "metadata": {
            "tags": []
          },
          "execution_count": 48
        }
      ]
    },
    {
      "cell_type": "markdown",
      "metadata": {
        "id": "pmYK1OjOa-WU",
        "colab_type": "text"
      },
      "source": [
        "### While loop"
      ]
    },
    {
      "cell_type": "code",
      "metadata": {
        "id": "MrxlIvzJbBlG",
        "colab_type": "code",
        "outputId": "b0e9a207-3a59-4bcc-b201-13d000fd58f2",
        "colab": {
          "base_uri": "https://localhost:8080/",
          "height": 101
        }
      },
      "source": [
        "i = 0\n",
        "while i < 5:\n",
        "    print(i)\n",
        "    i += 1"
      ],
      "execution_count": 49,
      "outputs": [
        {
          "output_type": "stream",
          "text": [
            "0\n",
            "1\n",
            "2\n",
            "3\n",
            "4\n"
          ],
          "name": "stdout"
        }
      ]
    },
    {
      "cell_type": "markdown",
      "metadata": {
        "id": "hAmRvlREbjd6",
        "colab_type": "text"
      },
      "source": [
        "### If-else"
      ]
    },
    {
      "cell_type": "code",
      "metadata": {
        "id": "NMn7QKJMilDv",
        "colab_type": "code",
        "outputId": "e1b325e8-0733-4081-839e-28ad76db6900",
        "colab": {
          "base_uri": "https://localhost:8080/",
          "height": 50
        }
      },
      "source": [
        "score = int(input('請輸入考試分數 (1-100)：'))\n",
        " \n",
        "if score > 100:\n",
        "    print('請勿亂輸入！')\n",
        "else:\n",
        "    print(score)"
      ],
      "execution_count": 52,
      "outputs": [
        {
          "output_type": "stream",
          "text": [
            "請輸入考試分數 (1-100)：20\n",
            "20\n"
          ],
          "name": "stdout"
        }
      ]
    },
    {
      "cell_type": "code",
      "metadata": {
        "id": "2cDQOHf1b8r6",
        "colab_type": "code",
        "outputId": "edb2fd0c-5adc-4bad-e176-366f724084ad",
        "colab": {
          "base_uri": "https://localhost:8080/",
          "height": 50
        }
      },
      "source": [
        "score = int(input('請輸入考試分數 (1-100)：'))\n",
        " \n",
        "if score > 100:\n",
        "    print('請勿亂輸入！')\n",
        "elif score >= 90 and score <= 100:\n",
        "    print('成績：A+')\n",
        "elif score >= 80 and score < 90:\n",
        "    print('成績：B+')\n",
        "elif score >= 70 and score < 80:\n",
        "    print('成績：B')\n",
        "else:\n",
        "    print('成績：C')"
      ],
      "execution_count": 53,
      "outputs": [
        {
          "output_type": "stream",
          "text": [
            "請輸入考試分數 (1-100)：30\n",
            "成績：C\n"
          ],
          "name": "stdout"
        }
      ]
    },
    {
      "cell_type": "markdown",
      "metadata": {
        "id": "0rGWPeg7cugv",
        "colab_type": "text"
      },
      "source": [
        "### Try-except-finally \n",
        "對於有可能錯誤的地方用 try 去包住它，然後針對可能的錯誤去處理\n",
        "\n",
        "*   try 區塊　　：可能產生錯誤的程式碼\n",
        "*   except 區塊：放錯誤發生時的處置。可以有多個 except\n",
        "*   finally 區塊 ：無論有無錯誤，一定會執行，可有可無\n",
        "\n",
        "\n",
        "\n",
        "\n",
        "\n",
        "\n",
        "\n",
        "\n"
      ]
    },
    {
      "cell_type": "code",
      "metadata": {
        "id": "frw1FkLdjAAz",
        "colab_type": "code",
        "outputId": "f187f051-1afc-483b-ec99-f180c79c849b",
        "colab": {
          "base_uri": "https://localhost:8080/",
          "height": 50
        }
      },
      "source": [
        "try:\n",
        "    inputs = int(input('輸入整數：'))\n",
        "    print('{0} 為 {1}'.format(inputs, '奇數' if inputs % 2 else '偶數'))\n",
        "\n",
        "except:\n",
        "    print('中斷')"
      ],
      "execution_count": 54,
      "outputs": [
        {
          "output_type": "stream",
          "text": [
            "輸入整數：\n",
            "中斷\n"
          ],
          "name": "stdout"
        }
      ]
    },
    {
      "cell_type": "code",
      "metadata": {
        "id": "00U4cqs5gMrG",
        "colab_type": "code",
        "outputId": "5c9a8ca8-782c-4b0a-b185-ce16cce9edec",
        "colab": {
          "base_uri": "https://localhost:8080/",
          "height": 67
        }
      },
      "source": [
        "try:\n",
        "    inputs = int(input('輸入整數：'))\n",
        "    print('{0} 為 {1}'.format(inputs, '奇數' if inputs % 2 else '偶數'))\n",
        "\n",
        "except ValueError:\n",
        "    print('請輸入阿拉伯數字')\n",
        "except (EOFError, KeyboardInterrupt):\n",
        "    print('使用者中斷程式')\n",
        "except:\n",
        "    print('不明的程式中斷')\n",
        "\n",
        "finally:\n",
        "    print('end')"
      ],
      "execution_count": 55,
      "outputs": [
        {
          "output_type": "stream",
          "text": [
            "輸入整數：\n",
            "請輸入阿拉伯數字\n",
            "end\n"
          ],
          "name": "stdout"
        }
      ]
    },
    {
      "cell_type": "markdown",
      "metadata": {
        "id": "BH7HmoxQilYQ",
        "colab_type": "text"
      },
      "source": [
        "### Function\n",
        "當發現到幾個程式片段極為類似，只有當中幾個計算用到的數值或變數不同時\n",
        "\n",
        "* 程式的重複利用性\n",
        "* 程式的易讀性\n",
        "* 程式的易除錯性\n",
        "* 程式的一致性\n",
        "* 程式的模組化"
      ]
    },
    {
      "cell_type": "code",
      "metadata": {
        "id": "OYubnEWBjETR",
        "colab_type": "code",
        "colab": {
          "base_uri": "https://localhost:8080/",
          "height": 34
        },
        "outputId": "9e5815f0-a753-4c41-a837-6bfcea5a5209"
      },
      "source": [
        "3**3"
      ],
      "execution_count": 56,
      "outputs": [
        {
          "output_type": "execute_result",
          "data": {
            "text/plain": [
              "27"
            ]
          },
          "metadata": {
            "tags": []
          },
          "execution_count": 56
        }
      ]
    },
    {
      "cell_type": "code",
      "metadata": {
        "id": "YiqSDcRMjGUq",
        "colab_type": "code",
        "colab": {
          "base_uri": "https://localhost:8080/",
          "height": 34
        },
        "outputId": "aca90a5f-d749-455a-bde1-e238db20be94"
      },
      "source": [
        "5**4"
      ],
      "execution_count": 57,
      "outputs": [
        {
          "output_type": "execute_result",
          "data": {
            "text/plain": [
              "625"
            ]
          },
          "metadata": {
            "tags": []
          },
          "execution_count": 57
        }
      ]
    },
    {
      "cell_type": "code",
      "metadata": {
        "id": "HpedM3C1jH2W",
        "colab_type": "code",
        "colab": {}
      },
      "source": [
        "def power_formula(input, power):\n",
        "  input**power\n",
        "\n",
        "power_formula(5,3)"
      ],
      "execution_count": 0,
      "outputs": []
    },
    {
      "cell_type": "code",
      "metadata": {
        "id": "NJUv4g7QjJ6n",
        "colab_type": "code",
        "colab": {
          "base_uri": "https://localhost:8080/",
          "height": 34
        },
        "outputId": "d7493da5-0566-4d4b-c339-856ab5a1f11e"
      },
      "source": [
        "def power_formula(input, power):\n",
        "  return(input**power)\n",
        "\n",
        "xx = power_formula(5,3)\n",
        "xx"
      ],
      "execution_count": 59,
      "outputs": [
        {
          "output_type": "execute_result",
          "data": {
            "text/plain": [
              "125"
            ]
          },
          "metadata": {
            "tags": []
          },
          "execution_count": 59
        }
      ]
    },
    {
      "cell_type": "markdown",
      "metadata": {
        "id": "FON0d0yyji1b",
        "colab_type": "text"
      },
      "source": [
        "## 檔案存取"
      ]
    },
    {
      "cell_type": "markdown",
      "metadata": {
        "id": "JvKjl2ScuBY7",
        "colab_type": "text"
      },
      "source": [
        "### 寫入\n"
      ]
    },
    {
      "cell_type": "code",
      "metadata": {
        "id": "WfS42BISuOuD",
        "colab_type": "code",
        "colab": {}
      },
      "source": [
        "out=open('data.txt','w')   #\b 打開 data.txt 檔案，相關資訊存在 out\n",
        "                           # 之後東西會存在 data.txt 檔案內\n",
        "                           # 'w':寫入, 'a':加入, 'r':讀取\n",
        "print(\"new data\",file=out) \n",
        "out.close()                # 關閉 data.txt 檔案"
      ],
      "execution_count": 0,
      "outputs": []
    },
    {
      "cell_type": "code",
      "metadata": {
        "id": "izwVaV9Pt3jh",
        "colab_type": "code",
        "colab": {}
      },
      "source": [
        "out=open('data.txt','a')   \n",
        "print(\"add data\",file=out) \n",
        "out.close()  "
      ],
      "execution_count": 0,
      "outputs": []
    },
    {
      "cell_type": "code",
      "metadata": {
        "id": "1Xl8O-PhvhuL",
        "colab_type": "code",
        "colab": {}
      },
      "source": [
        "out=open('data.txt','a')   \n",
        "\n",
        "for i in [0,1,2,3,4]:\n",
        "    print(i,file=out)\n",
        "\n",
        "out.close()  "
      ],
      "execution_count": 0,
      "outputs": []
    },
    {
      "cell_type": "markdown",
      "metadata": {
        "id": "YOghAe6buIm_",
        "colab_type": "text"
      },
      "source": [
        "### 讀取 txt"
      ]
    },
    {
      "cell_type": "code",
      "metadata": {
        "id": "GQPl2Sd_v5o5",
        "colab_type": "code",
        "outputId": "c6df9e7b-e055-41b0-c266-52dae23e1522",
        "colab": {
          "base_uri": "https://localhost:8080/",
          "height": 34
        }
      },
      "source": [
        "out=open('data.txt','r')   \n",
        "out   \n",
        "    "
      ],
      "execution_count": 63,
      "outputs": [
        {
          "output_type": "execute_result",
          "data": {
            "text/plain": [
              "<_io.TextIOWrapper name='data.txt' mode='r' encoding='UTF-8'>"
            ]
          },
          "metadata": {
            "tags": []
          },
          "execution_count": 63
        }
      ]
    },
    {
      "cell_type": "code",
      "metadata": {
        "id": "s5U_RKpVwMmm",
        "colab_type": "code",
        "outputId": "df3c4a03-bac5-4c3b-f3f1-875cc1a32ff6",
        "colab": {
          "base_uri": "https://localhost:8080/",
          "height": 252
        }
      },
      "source": [
        "out=open('data.txt','r')        \n",
        "for line in out:\n",
        "    print(line)\n",
        "out.close()"
      ],
      "execution_count": 64,
      "outputs": [
        {
          "output_type": "stream",
          "text": [
            "new data\n",
            "\n",
            "add data\n",
            "\n",
            "0\n",
            "\n",
            "1\n",
            "\n",
            "2\n",
            "\n",
            "3\n",
            "\n",
            "4\n",
            "\n"
          ],
          "name": "stdout"
        }
      ]
    },
    {
      "cell_type": "code",
      "metadata": {
        "id": "MoY_AK_iybCe",
        "colab_type": "code",
        "outputId": "3482a530-b78d-4102-f9fa-3c344799d933",
        "colab": {
          "base_uri": "https://localhost:8080/",
          "height": 34
        }
      },
      "source": [
        "out=open('data.txt','r') \n",
        "lines = out.readlines()\n",
        "lines"
      ],
      "execution_count": 65,
      "outputs": [
        {
          "output_type": "execute_result",
          "data": {
            "text/plain": [
              "['new data\\n', 'add data\\n', '0\\n', '1\\n', '2\\n', '3\\n', '4\\n']"
            ]
          },
          "metadata": {
            "tags": []
          },
          "execution_count": 65
        }
      ]
    },
    {
      "cell_type": "markdown",
      "metadata": {
        "id": "R95wwSAuykxc",
        "colab_type": "text"
      },
      "source": [
        "### 讀取 csv"
      ]
    },
    {
      "cell_type": "code",
      "metadata": {
        "id": "P7STT_I1xiPh",
        "colab_type": "code",
        "outputId": "28bf2462-0353-4ece-832f-14fe2e803a2b",
        "colab": {
          "base_uri": "https://localhost:8080/",
          "height": 1000
        }
      },
      "source": [
        "import csv\n",
        "\n",
        "out = open('iris.csv', newline='')\n",
        "\n",
        "rows = csv.reader(out, delimiter=',') # 以逗號分隔欄位，讀取檔案內容\n",
        "for row in rows:\n",
        "  print(row)"
      ],
      "execution_count": 74,
      "outputs": [
        {
          "output_type": "stream",
          "text": [
            "['sepal.length', 'sepal.width', 'petal.length', 'petal.width', 'variety']\n",
            "['5.1', '3.5', '1.4', '.2', 'Setosa']\n",
            "['4.9', '3', '1.4', '.2', 'Setosa']\n",
            "['4.7', '3.2', '1.3', '.2', 'Setosa']\n",
            "['4.6', '3.1', '1.5', '.2', 'Setosa']\n",
            "['5', '3.6', '1.4', '.2', 'Setosa']\n",
            "['5.4', '3.9', '1.7', '.4', 'Setosa']\n",
            "['4.6', '3.4', '1.4', '.3', 'Setosa']\n",
            "['5', '3.4', '1.5', '.2', 'Setosa']\n",
            "['4.4', '2.9', '1.4', '.2', 'Setosa']\n",
            "['4.9', '3.1', '1.5', '.1', 'Setosa']\n",
            "['5.4', '3.7', '1.5', '.2', 'Setosa']\n",
            "['4.8', '3.4', '1.6', '.2', 'Setosa']\n",
            "['4.8', '3', '1.4', '.1', 'Setosa']\n",
            "['4.3', '3', '1.1', '.1', 'Setosa']\n",
            "['5.8', '4', '1.2', '.2', 'Setosa']\n",
            "['5.7', '4.4', '1.5', '.4', 'Setosa']\n",
            "['5.4', '3.9', '1.3', '.4', 'Setosa']\n",
            "['5.1', '3.5', '1.4', '.3', 'Setosa']\n",
            "['5.7', '3.8', '1.7', '.3', 'Setosa']\n",
            "['5.1', '3.8', '1.5', '.3', 'Setosa']\n",
            "['5.4', '3.4', '1.7', '.2', 'Setosa']\n",
            "['5.1', '3.7', '1.5', '.4', 'Setosa']\n",
            "['4.6', '3.6', '1', '.2', 'Setosa']\n",
            "['5.1', '3.3', '1.7', '.5', 'Setosa']\n",
            "['4.8', '3.4', '1.9', '.2', 'Setosa']\n",
            "['5', '3', '1.6', '.2', 'Setosa']\n",
            "['5', '3.4', '1.6', '.4', 'Setosa']\n",
            "['5.2', '3.5', '1.5', '.2', 'Setosa']\n",
            "['5.2', '3.4', '1.4', '.2', 'Setosa']\n",
            "['4.7', '3.2', '1.6', '.2', 'Setosa']\n",
            "['4.8', '3.1', '1.6', '.2', 'Setosa']\n",
            "['5.4', '3.4', '1.5', '.4', 'Setosa']\n",
            "['5.2', '4.1', '1.5', '.1', 'Setosa']\n",
            "['5.5', '4.2', '1.4', '.2', 'Setosa']\n",
            "['4.9', '3.1', '1.5', '.2', 'Setosa']\n",
            "['5', '3.2', '1.2', '.2', 'Setosa']\n",
            "['5.5', '3.5', '1.3', '.2', 'Setosa']\n",
            "['4.9', '3.6', '1.4', '.1', 'Setosa']\n",
            "['4.4', '3', '1.3', '.2', 'Setosa']\n",
            "['5.1', '3.4', '1.5', '.2', 'Setosa']\n",
            "['5', '3.5', '1.3', '.3', 'Setosa']\n",
            "['4.5', '2.3', '1.3', '.3', 'Setosa']\n",
            "['4.4', '3.2', '1.3', '.2', 'Setosa']\n",
            "['5', '3.5', '1.6', '.6', 'Setosa']\n",
            "['5.1', '3.8', '1.9', '.4', 'Setosa']\n",
            "['4.8', '3', '1.4', '.3', 'Setosa']\n",
            "['5.1', '3.8', '1.6', '.2', 'Setosa']\n",
            "['4.6', '3.2', '1.4', '.2', 'Setosa']\n",
            "['5.3', '3.7', '1.5', '.2', 'Setosa']\n",
            "['5', '3.3', '1.4', '.2', 'Setosa']\n",
            "['7', '3.2', '4.7', '1.4', 'Versicolor']\n",
            "['6.4', '3.2', '4.5', '1.5', 'Versicolor']\n",
            "['6.9', '3.1', '4.9', '1.5', 'Versicolor']\n",
            "['5.5', '2.3', '4', '1.3', 'Versicolor']\n",
            "['6.5', '2.8', '4.6', '1.5', 'Versicolor']\n",
            "['5.7', '2.8', '4.5', '1.3', 'Versicolor']\n",
            "['6.3', '3.3', '4.7', '1.6', 'Versicolor']\n",
            "['4.9', '2.4', '3.3', '1', 'Versicolor']\n",
            "['6.6', '2.9', '4.6', '1.3', 'Versicolor']\n",
            "['5.2', '2.7', '3.9', '1.4', 'Versicolor']\n",
            "['5', '2', '3.5', '1', 'Versicolor']\n",
            "['5.9', '3', '4.2', '1.5', 'Versicolor']\n",
            "['6', '2.2', '4', '1', 'Versicolor']\n",
            "['6.1', '2.9', '4.7', '1.4', 'Versicolor']\n",
            "['5.6', '2.9', '3.6', '1.3', 'Versicolor']\n",
            "['6.7', '3.1', '4.4', '1.4', 'Versicolor']\n",
            "['5.6', '3', '4.5', '1.5', 'Versicolor']\n",
            "['5.8', '2.7', '4.1', '1', 'Versicolor']\n",
            "['6.2', '2.2', '4.5', '1.5', 'Versicolor']\n",
            "['5.6', '2.5', '3.9', '1.1', 'Versicolor']\n",
            "['5.9', '3.2', '4.8', '1.8', 'Versicolor']\n",
            "['6.1', '2.8', '4', '1.3', 'Versicolor']\n",
            "['6.3', '2.5', '4.9', '1.5', 'Versicolor']\n",
            "['6.1', '2.8', '4.7', '1.2', 'Versicolor']\n",
            "['6.4', '2.9', '4.3', '1.3', 'Versicolor']\n",
            "['6.6', '3', '4.4', '1.4', 'Versicolor']\n",
            "['6.8', '2.8', '4.8', '1.4', 'Versicolor']\n",
            "['6.7', '3', '5', '1.7', 'Versicolor']\n",
            "['6', '2.9', '4.5', '1.5', 'Versicolor']\n",
            "['5.7', '2.6', '3.5', '1', 'Versicolor']\n",
            "['5.5', '2.4', '3.8', '1.1', 'Versicolor']\n",
            "['5.5', '2.4', '3.7', '1', 'Versicolor']\n",
            "['5.8', '2.7', '3.9', '1.2', 'Versicolor']\n",
            "['6', '2.7', '5.1', '1.6', 'Versicolor']\n",
            "['5.4', '3', '4.5', '1.5', 'Versicolor']\n",
            "['6', '3.4', '4.5', '1.6', 'Versicolor']\n",
            "['6.7', '3.1', '4.7', '1.5', 'Versicolor']\n",
            "['6.3', '2.3', '4.4', '1.3', 'Versicolor']\n",
            "['5.6', '3', '4.1', '1.3', 'Versicolor']\n",
            "['5.5', '2.5', '4', '1.3', 'Versicolor']\n",
            "['5.5', '2.6', '4.4', '1.2', 'Versicolor']\n",
            "['6.1', '3', '4.6', '1.4', 'Versicolor']\n",
            "['5.8', '2.6', '4', '1.2', 'Versicolor']\n",
            "['5', '2.3', '3.3', '1', 'Versicolor']\n",
            "['5.6', '2.7', '4.2', '1.3', 'Versicolor']\n",
            "['5.7', '3', '4.2', '1.2', 'Versicolor']\n",
            "['5.7', '2.9', '4.2', '1.3', 'Versicolor']\n",
            "['6.2', '2.9', '4.3', '1.3', 'Versicolor']\n",
            "['5.1', '2.5', '3', '1.1', 'Versicolor']\n",
            "['5.7', '2.8', '4.1', '1.3', 'Versicolor']\n",
            "['6.3', '3.3', '6', '2.5', 'Virginica']\n",
            "['5.8', '2.7', '5.1', '1.9', 'Virginica']\n",
            "['7.1', '3', '5.9', '2.1', 'Virginica']\n",
            "['6.3', '2.9', '5.6', '1.8', 'Virginica']\n",
            "['6.5', '3', '5.8', '2.2', 'Virginica']\n",
            "['7.6', '3', '6.6', '2.1', 'Virginica']\n",
            "['4.9', '2.5', '4.5', '1.7', 'Virginica']\n",
            "['7.3', '2.9', '6.3', '1.8', 'Virginica']\n",
            "['6.7', '2.5', '5.8', '1.8', 'Virginica']\n",
            "['7.2', '3.6', '6.1', '2.5', 'Virginica']\n",
            "['6.5', '3.2', '5.1', '2', 'Virginica']\n",
            "['6.4', '2.7', '5.3', '1.9', 'Virginica']\n",
            "['6.8', '3', '5.5', '2.1', 'Virginica']\n",
            "['5.7', '2.5', '5', '2', 'Virginica']\n",
            "['5.8', '2.8', '5.1', '2.4', 'Virginica']\n",
            "['6.4', '3.2', '5.3', '2.3', 'Virginica']\n",
            "['6.5', '3', '5.5', '1.8', 'Virginica']\n",
            "['7.7', '3.8', '6.7', '2.2', 'Virginica']\n",
            "['7.7', '2.6', '6.9', '2.3', 'Virginica']\n",
            "['6', '2.2', '5', '1.5', 'Virginica']\n",
            "['6.9', '3.2', '5.7', '2.3', 'Virginica']\n",
            "['5.6', '2.8', '4.9', '2', 'Virginica']\n",
            "['7.7', '2.8', '6.7', '2', 'Virginica']\n",
            "['6.3', '2.7', '4.9', '1.8', 'Virginica']\n",
            "['6.7', '3.3', '5.7', '2.1', 'Virginica']\n",
            "['7.2', '3.2', '6', '1.8', 'Virginica']\n",
            "['6.2', '2.8', '4.8', '1.8', 'Virginica']\n",
            "['6.1', '3', '4.9', '1.8', 'Virginica']\n",
            "['6.4', '2.8', '5.6', '2.1', 'Virginica']\n",
            "['7.2', '3', '5.8', '1.6', 'Virginica']\n",
            "['7.4', '2.8', '6.1', '1.9', 'Virginica']\n",
            "['7.9', '3.8', '6.4', '2', 'Virginica']\n",
            "['6.4', '2.8', '5.6', '2.2', 'Virginica']\n",
            "['6.3', '2.8', '5.1', '1.5', 'Virginica']\n",
            "['6.1', '2.6', '5.6', '1.4', 'Virginica']\n",
            "['7.7', '3', '6.1', '2.3', 'Virginica']\n",
            "['6.3', '3.4', '5.6', '2.4', 'Virginica']\n",
            "['6.4', '3.1', '5.5', '1.8', 'Virginica']\n",
            "['6', '3', '4.8', '1.8', 'Virginica']\n",
            "['6.9', '3.1', '5.4', '2.1', 'Virginica']\n",
            "['6.7', '3.1', '5.6', '2.4', 'Virginica']\n",
            "['6.9', '3.1', '5.1', '2.3', 'Virginica']\n",
            "['5.8', '2.7', '5.1', '1.9', 'Virginica']\n",
            "['6.8', '3.2', '5.9', '2.3', 'Virginica']\n",
            "['6.7', '3.3', '5.7', '2.5', 'Virginica']\n",
            "['6.7', '3', '5.2', '2.3', 'Virginica']\n",
            "['6.3', '2.5', '5', '1.9', 'Virginica']\n",
            "['6.5', '3', '5.2', '2', 'Virginica']\n",
            "['6.2', '3.4', '5.4', '2.3', 'Virginica']\n",
            "['5.9', '3', '5.1', '1.8', 'Virginica']\n"
          ],
          "name": "stdout"
        }
      ]
    },
    {
      "cell_type": "markdown",
      "metadata": {
        "id": "Ap2NtRZ0jy4q",
        "colab_type": "text"
      },
      "source": [
        "### 物件存取"
      ]
    },
    {
      "cell_type": "code",
      "metadata": {
        "id": "LbFcPYl6y3hm",
        "colab_type": "code",
        "colab": {}
      },
      "source": [
        "import pickle\n",
        "\n",
        "out = open('mydata.pickle','wb') #\b 打開 mydata.pickle 檔案，相關資訊存在 out\n",
        "pickle.dump([1,2,'three'], out)  # 用 pickle.dump 將 [1,2,'three'] 透過 out 保存到 mydata.pickle 檔案"
      ],
      "execution_count": 0,
      "outputs": []
    },
    {
      "cell_type": "code",
      "metadata": {
        "id": "y753SpoK0eDs",
        "colab_type": "code",
        "outputId": "3e416d1f-3da0-4abc-ea1e-2e5bd0fbc185",
        "colab": {
          "base_uri": "https://localhost:8080/",
          "height": 34
        }
      },
      "source": [
        "import pickle\n",
        "\n",
        "out = open('mydata.pickle','rb') #\b 打開 mydata.pickle 檔案，相關資訊存在 out\n",
        "mydata = pickle.load(out)        # 用 pickle.load 透過 out 復原 [1,2,'three']\n",
        "mydata"
      ],
      "execution_count": 76,
      "outputs": [
        {
          "output_type": "execute_result",
          "data": {
            "text/plain": [
              "[1, 2, 'three']"
            ]
          },
          "metadata": {
            "tags": []
          },
          "execution_count": 76
        }
      ]
    },
    {
      "cell_type": "markdown",
      "metadata": {
        "id": "j-N1zuzUI3nR",
        "colab_type": "text"
      },
      "source": [
        "## 套件安裝"
      ]
    },
    {
      "cell_type": "markdown",
      "metadata": {
        "id": "AFrPgVvkI8ok",
        "colab_type": "text"
      },
      "source": [
        "### Pure python \n",
        "\n",
        "打開 CMD / 命令提示字元 / 終端機\n",
        "> pip install 套件名稱\n",
        "\n"
      ]
    },
    {
      "cell_type": "markdown",
      "metadata": {
        "id": "kPoto60oKG2A",
        "colab_type": "text"
      },
      "source": [
        "### Anaconda \n",
        "打開 CMD / 命令提示字元 / 終端機  \n",
        "\n",
        "> conda install 套件名稱\n",
        "\n"
      ]
    },
    {
      "cell_type": "markdown",
      "metadata": {
        "id": "53kwW0KpFRdY",
        "colab_type": "text"
      },
      "source": [
        "### Colab\n",
        "\n",
        "\n",
        "> 在 Code 視窗直接打 !pip install -q 套件名稱\n",
        "\n"
      ]
    },
    {
      "cell_type": "code",
      "metadata": {
        "id": "a2Snme5CFRtE",
        "colab_type": "code",
        "colab": {}
      },
      "source": [
        "!pip install -q keras"
      ],
      "execution_count": 0,
      "outputs": []
    },
    {
      "cell_type": "markdown",
      "metadata": {
        "id": "CXU7aU-yAu-m",
        "colab_type": "text"
      },
      "source": [
        "### 爬蟲程式\n",
        "\n",
        "\n",
        "\n",
        "* 結構簡單的網頁，可以透過 requests & BeautifulSoup 兩個套件抓取和剖析\n",
        "* 需要靠滑鼠觸發才可載入新資訊的網頁，可先透過 selenium 這個套件模擬滑鼠行為後，再用 requests & BeautifulSoup 兩個套件處理\n",
        "    > 注意 FireFox, Chrome 版本更新後，可能使套件暫時失效\n",
        "\n",
        "\n",
        "\n"
      ]
    },
    {
      "cell_type": "markdown",
      "metadata": {
        "id": "c4gf79BPA1U9",
        "colab_type": "text"
      },
      "source": [
        "#### 抓取網頁原始碼"
      ]
    },
    {
      "cell_type": "code",
      "metadata": {
        "id": "Q5wrnH83EnMu",
        "colab_type": "code",
        "outputId": "57e3b2b3-c939-4a92-a7fc-d0db33a026e0",
        "colab": {
          "base_uri": "https://localhost:8080/",
          "height": 34
        }
      },
      "source": [
        "import requests\n",
        "from bs4 import BeautifulSoup\n",
        "\n",
        "url = 'https://e-service.cwb.gov.tw/HistoryDataQuery/DayDataController.do?command=viewMain&station=467440&stname=%25E9%25AB%2598%25E9%259B%2584&datepicker=2019-11-24'\n",
        "\n",
        "res  = requests.get(url)\n",
        "soup = BeautifulSoup(res.text, 'html.parser')\n",
        "len(soup)"
      ],
      "execution_count": 78,
      "outputs": [
        {
          "output_type": "execute_result",
          "data": {
            "text/plain": [
              "4"
            ]
          },
          "metadata": {
            "tags": []
          },
          "execution_count": 78
        }
      ]
    },
    {
      "cell_type": "markdown",
      "metadata": {
        "id": "LxDhsNDoGzch",
        "colab_type": "text"
      },
      "source": [
        "#### 找節點"
      ]
    },
    {
      "cell_type": "code",
      "metadata": {
        "id": "V0su--dEB18I",
        "colab_type": "code",
        "outputId": "59020630-92c6-4e25-8075-784ac6c5b4fe",
        "colab": {
          "base_uri": "https://localhost:8080/",
          "height": 34
        }
      },
      "source": [
        "div = soup.find_all('div')\n",
        "len(div)"
      ],
      "execution_count": 79,
      "outputs": [
        {
          "output_type": "execute_result",
          "data": {
            "text/plain": [
              "2"
            ]
          },
          "metadata": {
            "tags": []
          },
          "execution_count": 79
        }
      ]
    },
    {
      "cell_type": "code",
      "metadata": {
        "id": "uz0sMKqQFnSE",
        "colab_type": "code",
        "outputId": "a03879d7-a64c-4e40-9a10-58074d7675e4",
        "colab": {
          "base_uri": "https://localhost:8080/",
          "height": 34
        }
      },
      "source": [
        "tr  = div[1].find_all('tr')\n",
        "len(tr)"
      ],
      "execution_count": 80,
      "outputs": [
        {
          "output_type": "execute_result",
          "data": {
            "text/plain": [
              "27"
            ]
          },
          "metadata": {
            "tags": []
          },
          "execution_count": 80
        }
      ]
    },
    {
      "cell_type": "code",
      "metadata": {
        "id": "dieo8aXBGS4Y",
        "colab_type": "code",
        "outputId": "a5f97bf5-8865-408f-e934-d3c77600bb59",
        "colab": {
          "base_uri": "https://localhost:8080/",
          "height": 34
        }
      },
      "source": [
        "td = tr[3].find_all('td')\n",
        "len(td)"
      ],
      "execution_count": 81,
      "outputs": [
        {
          "output_type": "execute_result",
          "data": {
            "text/plain": [
              "17"
            ]
          },
          "metadata": {
            "tags": []
          },
          "execution_count": 81
        }
      ]
    }
  ]
}