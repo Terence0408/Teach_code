{
 "cells": [
  {
   "cell_type": "markdown",
   "metadata": {},
   "source": [
    "# Keras example: imdb_lstm"
   ]
  },
  {
   "cell_type": "code",
   "execution_count": 1,
   "metadata": {},
   "outputs": [
    {
     "name": "stderr",
     "output_type": "stream",
     "text": [
      "Using TensorFlow backend.\n"
     ]
    }
   ],
   "source": [
    "'''Trains an LSTM model on the IMDB sentiment classification task.\n",
    "\n",
    "The dataset is actually too small for LSTM to be of any advantage\n",
    "compared to simpler, much faster methods such as TF-IDF + LogReg.\n",
    "\n",
    "# Notes\n",
    "\n",
    "- RNNs are tricky. Choice of batch size is important,\n",
    "choice of loss and optimizer is critical, etc.\n",
    "Some configurations won't converge.\n",
    "\n",
    "- LSTM loss decrease patterns during training can be quite different\n",
    "from what you see with CNNs/MLPs/etc.\n",
    "'''\n",
    "from __future__ import print_function\n",
    "\n",
    "from keras.preprocessing import sequence\n",
    "from keras.models import Sequential\n",
    "from keras.layers import Dense, Embedding\n",
    "from keras.layers import LSTM\n",
    "from keras.datasets import imdb"
   ]
  },
  {
   "cell_type": "code",
   "execution_count": 2,
   "metadata": {
    "collapsed": true
   },
   "outputs": [],
   "source": [
    "max_features = 20000\n",
    "# cut texts after this number of words (among top max_features most common words)\n",
    "maxlen = 80\n",
    "batch_size = 32"
   ]
  },
  {
   "cell_type": "code",
   "execution_count": 3,
   "metadata": {},
   "outputs": [
    {
     "name": "stdout",
     "output_type": "stream",
     "text": [
      "Loading data...\n",
      "25000 train sequences\n",
      "25000 test sequences\n"
     ]
    }
   ],
   "source": [
    "print('Loading data...')\n",
    "(x_train, y_train), (x_test, y_test) = imdb.load_data(num_words=max_features)\n",
    "print(len(x_train), 'train sequences')\n",
    "print(len(x_test), 'test sequences')\n"
   ]
  },
  {
   "cell_type": "code",
   "execution_count": 4,
   "metadata": {},
   "outputs": [
    {
     "name": "stdout",
     "output_type": "stream",
     "text": [
      "Pad sequences (samples x time)\n",
      "x_train shape: (25000, 80)\n",
      "x_test shape: (25000, 80)\n"
     ]
    }
   ],
   "source": [
    "print('Pad sequences (samples x time)')\n",
    "x_train = sequence.pad_sequences(x_train, maxlen=maxlen)\n",
    "x_test = sequence.pad_sequences(x_test, maxlen=maxlen)\n",
    "print('x_train shape:', x_train.shape)\n",
    "print('x_test shape:', x_test.shape)"
   ]
  },
  {
   "cell_type": "code",
   "execution_count": 5,
   "metadata": {},
   "outputs": [
    {
     "name": "stdout",
     "output_type": "stream",
     "text": [
      "Build model...\n",
      "Train...\n",
      "Train on 25000 samples, validate on 25000 samples\n",
      "Epoch 1/15\n",
      "25000/25000 [==============================] - 142s 6ms/step - loss: 0.4605 - acc: 0.7782 - val_loss: 0.3981 - val_acc: 0.8242\n",
      "Epoch 2/15\n",
      "25000/25000 [==============================] - 156s 6ms/step - loss: 0.2988 - acc: 0.8795 - val_loss: 0.3817 - val_acc: 0.8335\n",
      "Epoch 3/15\n",
      "25000/25000 [==============================] - 198s 8ms/step - loss: 0.2141 - acc: 0.9162 - val_loss: 0.4316 - val_acc: 0.8271\n",
      "Epoch 4/15\n",
      "25000/25000 [==============================] - 210s 8ms/step - loss: 0.1579 - acc: 0.9404 - val_loss: 0.4550 - val_acc: 0.8311\n",
      "Epoch 5/15\n",
      "25000/25000 [==============================] - 190s 8ms/step - loss: 0.1090 - acc: 0.9594 - val_loss: 0.5921 - val_acc: 0.8209\n",
      "Epoch 6/15\n",
      "25000/25000 [==============================] - 188s 8ms/step - loss: 0.0789 - acc: 0.9714 - val_loss: 0.6514 - val_acc: 0.8176\n",
      "Epoch 7/15\n",
      "25000/25000 [==============================] - 176s 7ms/step - loss: 0.0545 - acc: 0.9813 - val_loss: 0.8034 - val_acc: 0.8050\n",
      "Epoch 8/15\n",
      "25000/25000 [==============================] - 180s 7ms/step - loss: 0.0423 - acc: 0.9864 - val_loss: 0.7620 - val_acc: 0.8130\n",
      "Epoch 9/15\n",
      "25000/25000 [==============================] - 159s 6ms/step - loss: 0.0316 - acc: 0.9890 - val_loss: 0.8414 - val_acc: 0.8030\n",
      "Epoch 10/15\n",
      "25000/25000 [==============================] - 150s 6ms/step - loss: 0.0229 - acc: 0.9926 - val_loss: 1.0327 - val_acc: 0.8139\n",
      "Epoch 11/15\n",
      "25000/25000 [==============================] - 150s 6ms/step - loss: 0.0244 - acc: 0.9921 - val_loss: 0.9118 - val_acc: 0.8154\n",
      "Epoch 12/15\n",
      "25000/25000 [==============================] - 150s 6ms/step - loss: 0.0154 - acc: 0.9950 - val_loss: 1.0019 - val_acc: 0.8070\n",
      "Epoch 13/15\n",
      "25000/25000 [==============================] - 158s 6ms/step - loss: 0.0169 - acc: 0.9947 - val_loss: 1.0428 - val_acc: 0.8105\n",
      "Epoch 14/15\n",
      "25000/25000 [==============================] - 157s 6ms/step - loss: 0.0155 - acc: 0.9951 - val_loss: 1.0831 - val_acc: 0.8034\n",
      "Epoch 15/15\n",
      "25000/25000 [==============================] - 163s 7ms/step - loss: 0.0115 - acc: 0.9965 - val_loss: 1.0601 - val_acc: 0.8086\n"
     ]
    },
    {
     "data": {
      "text/plain": [
       "<keras.callbacks.History at 0x18450b88ef0>"
      ]
     },
     "execution_count": 5,
     "metadata": {},
     "output_type": "execute_result"
    }
   ],
   "source": [
    "print('Build model...')\n",
    "model = Sequential()\n",
    "model.add(Embedding(max_features, 128))\n",
    "model.add(LSTM(128, dropout=0.2, recurrent_dropout=0.2))\n",
    "model.add(Dense(1, activation='sigmoid'))\n",
    "\n",
    "# try using different optimizers and different optimizer configs\n",
    "model.compile(loss='binary_crossentropy',\n",
    "              optimizer='adam',\n",
    "              metrics=['accuracy'])\n",
    "\n",
    "print('Train...')\n",
    "model.fit(x_train, y_train,\n",
    "          batch_size=batch_size,\n",
    "          epochs=15,\n",
    "          validation_data=(x_test, y_test))\n"
   ]
  },
  {
   "cell_type": "code",
   "execution_count": 6,
   "metadata": {},
   "outputs": [
    {
     "name": "stdout",
     "output_type": "stream",
     "text": [
      "25000/25000 [==============================] - 29s 1ms/step\n",
      "Test score: 1.06014521986\n",
      "Test accuracy: 0.80864\n"
     ]
    }
   ],
   "source": [
    "score, acc = model.evaluate(x_test, y_test,\n",
    "                            batch_size=batch_size)\n",
    "print('Test score:', score)\n",
    "print('Test accuracy:', acc)"
   ]
  }
 ],
 "metadata": {
  "kernelspec": {
   "display_name": "Python 3",
   "language": "python",
   "name": "python3"
  },
  "language_info": {
   "codemirror_mode": {
    "name": "ipython",
    "version": 3
   },
   "file_extension": ".py",
   "mimetype": "text/x-python",
   "name": "python",
   "nbconvert_exporter": "python",
   "pygments_lexer": "ipython3",
   "version": "3.6.3"
  }
 },
 "nbformat": 4,
 "nbformat_minor": 2
}
