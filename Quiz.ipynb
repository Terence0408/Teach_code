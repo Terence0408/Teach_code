{
  "nbformat": 4,
  "nbformat_minor": 0,
  "metadata": {
    "colab": {
      "name": "Quiz.ipynb",
      "provenance": [],
      "include_colab_link": true
    },
    "kernelspec": {
      "name": "python3",
      "display_name": "Python 3"
    }
  },
  "cells": [
    {
      "cell_type": "markdown",
      "metadata": {
        "id": "view-in-github",
        "colab_type": "text"
      },
      "source": [
        "<a href=\"https://colab.research.google.com/github/Terence0408/Teach_code/blob/DIY/Quiz.ipynb\" target=\"_parent\"><img src=\"https://colab.research.google.com/assets/colab-badge.svg\" alt=\"Open In Colab\"/></a>"
      ]
    },
    {
      "cell_type": "markdown",
      "metadata": {
        "id": "GPjUZKYp-pQ7",
        "colab_type": "text"
      },
      "source": [
        "# Data science 動手做\n",
        "1. 讀取資料: [iris but not iris.csv](https://raw.githubusercontent.com/Terence0408/Teach_code/DIY/iris%20but%20not%20iris%20.csv)\n",
        "2. 清理資料\n",
        "3. 視覺化觀察資料\n",
        "4. 建立模型"
      ]
    },
    {
      "cell_type": "code",
      "metadata": {
        "id": "vrqBMa3wAwgT",
        "colab_type": "code",
        "colab": {}
      },
      "source": [
        ""
      ],
      "execution_count": 0,
      "outputs": []
    }
  ]
}