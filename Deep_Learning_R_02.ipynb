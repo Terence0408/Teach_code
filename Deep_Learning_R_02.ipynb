{
  "nbformat": 4,
  "nbformat_minor": 0,
  "metadata": {
    "colab": {
      "provenance": [],
      "toc_visible": true,
      "gpuType": "T4",
      "authorship_tag": "ABX9TyOWJ+ksR+VDFSX0hXR9SXM7",
      "include_colab_link": true
    },
    "kernelspec": {
      "name": "ir",
      "display_name": "R"
    },
    "language_info": {
      "name": "R"
    },
    "accelerator": "GPU"
  },
  "cells": [
    {
      "cell_type": "markdown",
      "metadata": {
        "id": "view-in-github",
        "colab_type": "text"
      },
      "source": [
        "<a href=\"https://colab.research.google.com/github/Terence0408/Teach_code/blob/master/Deep_Learning_R_02.ipynb\" target=\"_parent\"><img src=\"https://colab.research.google.com/assets/colab-badge.svg\" alt=\"Open In Colab\"/></a>"
      ]
    },
    {
      "cell_type": "markdown",
      "source": [
        "# Directly use R environment\n",
        "1. Click `Edit` \\ `編輯`\n",
        "2. Click `Notebook settings` \\ `筆記本設定`\n",
        "3. At `runtime type` \\ `執行階段類型`: select R"
      ],
      "metadata": {
        "id": "q5DhkYcX-CWh"
      }
    },
    {
      "cell_type": "code",
      "execution_count": 7,
      "metadata": {
        "id": "VFS0yGz74tdd",
        "colab": {
          "base_uri": "https://localhost:8080/",
          "height": 277
        },
        "outputId": "60083cf2-878e-4372-d1c4-13a901938cc0"
      },
      "outputs": [
        {
          "output_type": "display_data",
          "data": {
            "text/plain": [
              "               _                           \n",
              "platform       x86_64-pc-linux-gnu         \n",
              "arch           x86_64                      \n",
              "os             linux-gnu                   \n",
              "system         x86_64, linux-gnu           \n",
              "status                                     \n",
              "major          4                           \n",
              "minor          3.2                         \n",
              "year           2023                        \n",
              "month          10                          \n",
              "day            31                          \n",
              "svn rev        85441                       \n",
              "language       R                           \n",
              "version.string R version 4.3.2 (2023-10-31)\n",
              "nickname       Eye Holes                   "
            ]
          },
          "metadata": {}
        }
      ],
      "source": [
        "version"
      ]
    },
    {
      "cell_type": "markdown",
      "source": [
        "# Load package\n",
        "Tutorial: https://tensorflow.rstudio.com/tutorials/"
      ],
      "metadata": {
        "id": "cu1rGpbqGGMT"
      }
    },
    {
      "cell_type": "code",
      "source": [
        "install.packages(\"keras\")\n",
        "install.packages('reticulate') # reticulate: Reticulate: R Interface to Python\n",
        "install.packages('ramify')\n",
        "install.packages('word2vec')"
      ],
      "metadata": {
        "id": "89Xc2W2qgVVg",
        "colab": {
          "base_uri": "https://localhost:8080/"
        },
        "outputId": "5a40e859-ee9b-4316-f2dd-14383787b726"
      },
      "execution_count": 8,
      "outputs": [
        {
          "output_type": "stream",
          "name": "stderr",
          "text": [
            "Installing package into ‘/usr/local/lib/R/site-library’\n",
            "(as ‘lib’ is unspecified)\n",
            "\n",
            "Installing package into ‘/usr/local/lib/R/site-library’\n",
            "(as ‘lib’ is unspecified)\n",
            "\n",
            "Installing package into ‘/usr/local/lib/R/site-library’\n",
            "(as ‘lib’ is unspecified)\n",
            "\n",
            "Installing package into ‘/usr/local/lib/R/site-library’\n",
            "(as ‘lib’ is unspecified)\n",
            "\n"
          ]
        }
      ]
    },
    {
      "cell_type": "code",
      "source": [
        "library(keras)\n",
        "library(reticulate)\n",
        "library(tidyverse)\n",
        "library(ramify)\n",
        "library(word2vec)"
      ],
      "metadata": {
        "id": "V54Vk3b_gjlh"
      },
      "execution_count": 9,
      "outputs": []
    },
    {
      "cell_type": "markdown",
      "source": [
        "# Word Embeddings"
      ],
      "metadata": {
        "id": "klC-6pWcLFEH"
      }
    },
    {
      "cell_type": "markdown",
      "source": [
        "## Train by yourself"
      ],
      "metadata": {
        "id": "0t7Q-YRBPP-W"
      }
    },
    {
      "cell_type": "markdown",
      "source": [
        "## Use trained"
      ],
      "metadata": {
        "id": "Q-FucsWXPUue"
      }
    },
    {
      "cell_type": "markdown",
      "source": [
        "# RNN\n",
        "Recurrent Neural Networks\n",
        "\n",
        "https://github.com/rstudio/keras/blob/main/vignettes/examples/imdb_lstm.R"
      ],
      "metadata": {
        "id": "JHhBlviuLClC"
      }
    },
    {
      "cell_type": "markdown",
      "source": [
        "## Data"
      ],
      "metadata": {
        "id": "eoURIyHxQoDe"
      }
    },
    {
      "cell_type": "code",
      "source": [
        "max_features = 20000\n",
        "# cut texts after this number of words (among top max_features most common words)\n",
        "\n",
        "# Loading data\n",
        "imdb = dataset_imdb(num_words = max_features)\n",
        "\n",
        "X_train <- imdb$train$x\n",
        "y_train <- imdb$train$y\n",
        "X_test <- imdb$test$x\n",
        "y_test <- imdb$test$y\n",
        "\n",
        "cat(length(X_train), 'train sequences\\n')\n",
        "cat(length(X_test), 'test sequences\\n')"
      ],
      "metadata": {
        "colab": {
          "base_uri": "https://localhost:8080/"
        },
        "id": "JBNQsYMjbii5",
        "outputId": "c754aafb-5a36-499f-c4ec-efe9f1c76609"
      },
      "execution_count": 10,
      "outputs": [
        {
          "output_type": "stream",
          "name": "stdout",
          "text": [
            "25000 train sequences\n",
            "25000 test sequences\n"
          ]
        }
      ]
    },
    {
      "cell_type": "code",
      "source": [
        "X_train <- pad_sequences(X_train, maxlen = 80)\n",
        "X_test <- pad_sequences(X_test, maxlen = 80)\n",
        "\n",
        "cat('x_train shape:', dim(X_train), '\\n')\n",
        "X_train[1,]"
      ],
      "metadata": {
        "colab": {
          "base_uri": "https://localhost:8080/",
          "height": 69
        },
        "id": "D4F3wNZuf_gz",
        "outputId": "70a9bbe5-624f-47fd-b9ad-4da8e4e16b1c"
      },
      "execution_count": 11,
      "outputs": [
        {
          "output_type": "stream",
          "name": "stdout",
          "text": [
            "x_train shape: 25000 80 \n"
          ]
        },
        {
          "output_type": "display_data",
          "data": {
            "text/html": [
              "<style>\n",
              ".list-inline {list-style: none; margin:0; padding: 0}\n",
              ".list-inline>li {display: inline-block}\n",
              ".list-inline>li:not(:last-child)::after {content: \"\\00b7\"; padding: 0 .5ex}\n",
              "</style>\n",
              "<ol class=list-inline><li>15</li><li>256</li><li>4</li><li>2</li><li>7</li><li>3766</li><li>5</li><li>723</li><li>36</li><li>71</li><li>43</li><li>530</li><li>476</li><li>26</li><li>400</li><li>317</li><li>46</li><li>7</li><li>4</li><li>12118</li><li>1029</li><li>13</li><li>104</li><li>88</li><li>4</li><li>381</li><li>15</li><li>297</li><li>98</li><li>32</li><li>2071</li><li>56</li><li>26</li><li>141</li><li>6</li><li>194</li><li>7486</li><li>18</li><li>4</li><li>226</li><li>22</li><li>21</li><li>134</li><li>476</li><li>26</li><li>480</li><li>5</li><li>144</li><li>30</li><li>5535</li><li>18</li><li>51</li><li>36</li><li>28</li><li>224</li><li>92</li><li>25</li><li>104</li><li>4</li><li>226</li><li>65</li><li>16</li><li>38</li><li>1334</li><li>88</li><li>12</li><li>16</li><li>283</li><li>5</li><li>16</li><li>4472</li><li>113</li><li>103</li><li>32</li><li>15</li><li>16</li><li>5345</li><li>19</li><li>178</li><li>32</li></ol>\n"
            ],
            "text/markdown": "1. 15\n2. 256\n3. 4\n4. 2\n5. 7\n6. 3766\n7. 5\n8. 723\n9. 36\n10. 71\n11. 43\n12. 530\n13. 476\n14. 26\n15. 400\n16. 317\n17. 46\n18. 7\n19. 4\n20. 12118\n21. 1029\n22. 13\n23. 104\n24. 88\n25. 4\n26. 381\n27. 15\n28. 297\n29. 98\n30. 32\n31. 2071\n32. 56\n33. 26\n34. 141\n35. 6\n36. 194\n37. 7486\n38. 18\n39. 4\n40. 226\n41. 22\n42. 21\n43. 134\n44. 476\n45. 26\n46. 480\n47. 5\n48. 144\n49. 30\n50. 5535\n51. 18\n52. 51\n53. 36\n54. 28\n55. 224\n56. 92\n57. 25\n58. 104\n59. 4\n60. 226\n61. 65\n62. 16\n63. 38\n64. 1334\n65. 88\n66. 12\n67. 16\n68. 283\n69. 5\n70. 16\n71. 4472\n72. 113\n73. 103\n74. 32\n75. 15\n76. 16\n77. 5345\n78. 19\n79. 178\n80. 32\n\n\n",
            "text/latex": "\\begin{enumerate*}\n\\item 15\n\\item 256\n\\item 4\n\\item 2\n\\item 7\n\\item 3766\n\\item 5\n\\item 723\n\\item 36\n\\item 71\n\\item 43\n\\item 530\n\\item 476\n\\item 26\n\\item 400\n\\item 317\n\\item 46\n\\item 7\n\\item 4\n\\item 12118\n\\item 1029\n\\item 13\n\\item 104\n\\item 88\n\\item 4\n\\item 381\n\\item 15\n\\item 297\n\\item 98\n\\item 32\n\\item 2071\n\\item 56\n\\item 26\n\\item 141\n\\item 6\n\\item 194\n\\item 7486\n\\item 18\n\\item 4\n\\item 226\n\\item 22\n\\item 21\n\\item 134\n\\item 476\n\\item 26\n\\item 480\n\\item 5\n\\item 144\n\\item 30\n\\item 5535\n\\item 18\n\\item 51\n\\item 36\n\\item 28\n\\item 224\n\\item 92\n\\item 25\n\\item 104\n\\item 4\n\\item 226\n\\item 65\n\\item 16\n\\item 38\n\\item 1334\n\\item 88\n\\item 12\n\\item 16\n\\item 283\n\\item 5\n\\item 16\n\\item 4472\n\\item 113\n\\item 103\n\\item 32\n\\item 15\n\\item 16\n\\item 5345\n\\item 19\n\\item 178\n\\item 32\n\\end{enumerate*}\n",
            "text/plain": [
              " [1]    15   256     4     2     7  3766     5   723    36    71    43   530\n",
              "[13]   476    26   400   317    46     7     4 12118  1029    13   104    88\n",
              "[25]     4   381    15   297    98    32  2071    56    26   141     6   194\n",
              "[37]  7486    18     4   226    22    21   134   476    26   480     5   144\n",
              "[49]    30  5535    18    51    36    28   224    92    25   104     4   226\n",
              "[61]    65    16    38  1334    88    12    16   283     5    16  4472   113\n",
              "[73]   103    32    15    16  5345    19   178    32"
            ]
          },
          "metadata": {}
        }
      ]
    },
    {
      "cell_type": "code",
      "source": [
        "y_train[1]"
      ],
      "metadata": {
        "colab": {
          "base_uri": "https://localhost:8080/",
          "height": 34
        },
        "id": "Z0Sqb1xjgFP2",
        "outputId": "cf63b75c-80af-40b9-db3d-cad7600bb70d"
      },
      "execution_count": 12,
      "outputs": [
        {
          "output_type": "display_data",
          "data": {
            "text/html": [
              "1"
            ],
            "text/markdown": "1",
            "text/latex": "1",
            "text/plain": [
              "[1] 1"
            ]
          },
          "metadata": {}
        }
      ]
    },
    {
      "cell_type": "markdown",
      "source": [
        "## Model"
      ],
      "metadata": {
        "id": "RzlDHXcEQrlD"
      }
    },
    {
      "cell_type": "markdown",
      "source": [
        "### RNN"
      ],
      "metadata": {
        "id": "yMW_eZd9LFVf"
      }
    },
    {
      "cell_type": "code",
      "source": [
        "# Build the Keras Sequential model\n",
        "RNN_model <- keras_model_sequential()\n",
        "\n",
        "RNN_model %>%\n",
        "  layer_embedding(input_dim = max_features, output_dim = 128) %>%\n",
        "  layer_simple_rnn(128, dropout=0.2, recurrent_dropout=0.2, return_sequences= FALSE) %>%\n",
        "  layer_dense(units = 1, activation = 'sigmoid')\n",
        "\n",
        "\n",
        "# compile model\n",
        "RNN_model %>% compile(\n",
        "  loss = 'binary_crossentropy', #some other options: sparse_categorical_crossentropy\n",
        "  optimizer = optimizer_adam(), #or: SGD, RMSProp\n",
        "  metrics = c('accuracy'))\n",
        "\n",
        "summary(RNN_model)"
      ],
      "metadata": {
        "colab": {
          "base_uri": "https://localhost:8080/"
        },
        "id": "5JN3t120gdSM",
        "outputId": "a097a993-a598-4e45-fda0-0a825ae3c7c4"
      },
      "execution_count": 13,
      "outputs": [
        {
          "output_type": "stream",
          "name": "stdout",
          "text": [
            "Model: \"sequential\"\n",
            "________________________________________________________________________________\n",
            " Layer (type)                       Output Shape                    Param #     \n",
            "================================================================================\n",
            " embedding (Embedding)              (None, None, 128)               2560000     \n",
            " simple_rnn (SimpleRNN)             (None, 128)                     32896       \n",
            " dense (Dense)                      (None, 1)                       129         \n",
            "================================================================================\n",
            "Total params: 2593025 (9.89 MB)\n",
            "Trainable params: 2593025 (9.89 MB)\n",
            "Non-trainable params: 0 (0.00 Byte)\n",
            "________________________________________________________________________________\n"
          ]
        }
      ]
    },
    {
      "cell_type": "code",
      "source": [
        "# Evalute the model\n",
        "start_time = Sys.time() # Record the start time\n",
        "\n",
        "RNN_model %>% fit(\n",
        "    X_train, y_train,\n",
        "    batch_size = 32,\n",
        "    epochs = 1,\n",
        "    verbose = 1,\n",
        "    validation_data = list(X_test, y_test))\n",
        "\n",
        "# Record the run time\n",
        "end_time = Sys.time()\n",
        "RNN_time = end_time - start_time\n",
        "\n",
        "RNN_result <- RNN_model %>% evaluate(X_test, y_test,batch_size = 32)\n",
        "RNN_score = RNN_result[1]\n",
        "RNN_acc = RNN_result[2]\n",
        "\n",
        "print(paste('Test score:', RNN_score))\n",
        "print(paste('Test accuracy:', RNN_acc))\n",
        "print(paste('Duration: ', RNN_time))"
      ],
      "metadata": {
        "colab": {
          "base_uri": "https://localhost:8080/"
        },
        "id": "cc4yBu4Rigya",
        "outputId": "760c64ea-b3b0-4279-d583-ffe314bd89f0"
      },
      "execution_count": 14,
      "outputs": [
        {
          "output_type": "stream",
          "name": "stdout",
          "text": [
            "[1] \"Test score: 0.640228986740112\"\n",
            "[1] \"Test accuracy: 0.596920013427734\"\n",
            "[1] \"Duration:  2.39325828552246\"\n"
          ]
        }
      ]
    },
    {
      "cell_type": "markdown",
      "source": [
        "### LSTM"
      ],
      "metadata": {
        "id": "L67o52XrLNm_"
      }
    },
    {
      "cell_type": "code",
      "source": [
        "# Build the Keras Sequential model\n",
        "LSTM_model <- keras_model_sequential()\n",
        "\n",
        "LSTM_model %>%\n",
        "  layer_embedding(input_dim = max_features, output_dim = 128) %>%\n",
        "  layer_lstm(128, dropout=0.2, recurrent_dropout=0.2, return_sequences= FALSE) %>%\n",
        "  layer_dense(units = 1, activation = 'sigmoid')\n",
        "\n",
        "\n",
        "# compile model\n",
        "LSTM_model %>% compile(\n",
        "  loss = 'binary_crossentropy', #some other options: sparse_categorical_crossentropy\n",
        "  optimizer = optimizer_adam(), #or: SGD, RMSProp\n",
        "  metrics = c('accuracy'))\n",
        "\n",
        "summary(LSTM_model)"
      ],
      "metadata": {
        "colab": {
          "base_uri": "https://localhost:8080/"
        },
        "id": "N8cyqXwVlW3f",
        "outputId": "0546f8f9-29d2-4fbc-a4e0-565d8b66880a"
      },
      "execution_count": 15,
      "outputs": [
        {
          "output_type": "stream",
          "name": "stdout",
          "text": [
            "Model: \"sequential_1\"\n",
            "________________________________________________________________________________\n",
            " Layer (type)                       Output Shape                    Param #     \n",
            "================================================================================\n",
            " embedding_1 (Embedding)            (None, None, 128)               2560000     \n",
            " lstm (LSTM)                        (None, 128)                     131584      \n",
            " dense_1 (Dense)                    (None, 1)                       129         \n",
            "================================================================================\n",
            "Total params: 2691713 (10.27 MB)\n",
            "Trainable params: 2691713 (10.27 MB)\n",
            "Non-trainable params: 0 (0.00 Byte)\n",
            "________________________________________________________________________________\n"
          ]
        }
      ]
    },
    {
      "cell_type": "code",
      "source": [
        "# Evalute the model\n",
        "start_time = Sys.time() # Record the start time\n",
        "\n",
        "LSTM_model %>% fit(\n",
        "    X_train, y_train,\n",
        "    batch_size = 32,\n",
        "    epochs = 1,\n",
        "    verbose=1,\n",
        "    validation_data = list(X_test, y_test))\n",
        "\n",
        "# Record the run time\n",
        "end_time = Sys.time()\n",
        "LSTM_time = end_time - start_time\n",
        "\n",
        "LSTM_result <- LSTM_model %>% evaluate(X_test, y_test,batch_size = 32)\n",
        "LSTM_score = LSTM_result[1]\n",
        "LSTM_acc = LSTM_result[2]\n",
        "\n",
        "print(paste('Test score:', LSTM_score))\n",
        "print(paste('Test accuracy:', LSTM_acc))\n",
        "print(paste('Duration: ', LSTM_time))"
      ],
      "metadata": {
        "colab": {
          "base_uri": "https://localhost:8080/"
        },
        "id": "wrv_GbyxlYBd",
        "outputId": "286490b9-6e96-4127-dd0f-bd1c69ceb301"
      },
      "execution_count": 16,
      "outputs": [
        {
          "output_type": "stream",
          "name": "stdout",
          "text": [
            "[1] \"Test score: 0.364283174276352\"\n",
            "[1] \"Test accuracy: 0.836960017681122\"\n",
            "[1] \"Duration:  5.33190276225408\"\n"
          ]
        }
      ]
    },
    {
      "cell_type": "markdown",
      "source": [
        "### GRU"
      ],
      "metadata": {
        "id": "L6KqTdUBLO3G"
      }
    },
    {
      "cell_type": "code",
      "source": [
        "# Build the Keras Sequential model\n",
        "GRU_model <- keras_model_sequential()\n",
        "\n",
        "GRU_model %>%\n",
        "  layer_embedding(input_dim = max_features, output_dim = 128) %>%\n",
        "  layer_gru(128, dropout=0.2, recurrent_dropout=0.2, return_sequences= FALSE) %>%\n",
        "  layer_dense(units = 1, activation = 'sigmoid')\n",
        "\n",
        "\n",
        "# compile model\n",
        "GRU_model %>% compile(\n",
        "  loss = 'binary_crossentropy', #some other options: sparse_categorical_crossentropy\n",
        "  optimizer = optimizer_adam(), #or: SGD, RMSProp\n",
        "  metrics = c('accuracy'))\n",
        "\n",
        "summary(GRU_model)"
      ],
      "metadata": {
        "colab": {
          "base_uri": "https://localhost:8080/"
        },
        "id": "GxJGtotRlo6H",
        "outputId": "a1c14a05-19d8-466f-dbc1-709dc82895a5"
      },
      "execution_count": 17,
      "outputs": [
        {
          "output_type": "stream",
          "name": "stdout",
          "text": [
            "Model: \"sequential_2\"\n",
            "________________________________________________________________________________\n",
            " Layer (type)                       Output Shape                    Param #     \n",
            "================================================================================\n",
            " embedding_2 (Embedding)            (None, None, 128)               2560000     \n",
            " gru (GRU)                          (None, 128)                     99072       \n",
            " dense_2 (Dense)                    (None, 1)                       129         \n",
            "================================================================================\n",
            "Total params: 2659201 (10.14 MB)\n",
            "Trainable params: 2659201 (10.14 MB)\n",
            "Non-trainable params: 0 (0.00 Byte)\n",
            "________________________________________________________________________________\n"
          ]
        }
      ]
    },
    {
      "cell_type": "code",
      "source": [
        "# Evalute the model\n",
        "start_time = Sys.time() # Record the start time\n",
        "\n",
        "GRU_model %>% fit(\n",
        "    X_train, y_train,\n",
        "    batch_size = 32,\n",
        "    epochs = 1,\n",
        "    verbose=1,\n",
        "    validation_data = list(X_test, y_test))\n",
        "\n",
        "# Record the run time\n",
        "end_time = Sys.time()\n",
        "GRU_time = end_time - start_time\n",
        "\n",
        "GRU_result <- GRU_model %>% evaluate(X_test, y_test,batch_size = 32)\n",
        "GRU_score = GRU_result[1]\n",
        "GRU_acc = GRU_result[2]\n",
        "\n",
        "print(paste('Test score:', GRU_score))\n",
        "print(paste('Test accuracy:', GRU_acc))\n",
        "print(paste('Duration: ', GRU_time))"
      ],
      "metadata": {
        "colab": {
          "base_uri": "https://localhost:8080/"
        },
        "id": "nGtc4o5ElqBw",
        "outputId": "7fef8e72-fcd0-4076-fed0-e94b54c7c27b"
      },
      "execution_count": 18,
      "outputs": [
        {
          "output_type": "stream",
          "name": "stdout",
          "text": [
            "[1] \"Test score: 0.362203389406204\"\n",
            "[1] \"Test accuracy: 0.839359998703003\"\n",
            "[1] \"Duration:  5.41634857257207\"\n"
          ]
        }
      ]
    },
    {
      "cell_type": "markdown",
      "source": [
        "### biLSTM"
      ],
      "metadata": {
        "id": "_-GKwLssQ1Ah"
      }
    },
    {
      "cell_type": "code",
      "source": [
        "# Build the Keras Sequential model\n",
        "biLSTM_model <- keras_model_sequential()\n",
        "\n",
        "biLSTM_model %>%\n",
        "  layer_embedding(input_dim = max_features, output_dim = 128) %>%\n",
        "  bidirectional(layer_lstm(units = 128, dropout=0.2, recurrent_dropout=0.2, return_sequences= FALSE)) %>%\n",
        "  layer_dense(units = 1, activation = 'sigmoid')\n",
        "\n",
        "\n",
        "# compile model\n",
        "biLSTM_model %>% compile(\n",
        "  loss = 'binary_crossentropy', #some other options: sparse_categorical_crossentropy\n",
        "  optimizer = optimizer_adam(), #or: SGD, RMSProp\n",
        "  metrics = c('accuracy'))\n",
        "\n",
        "summary(biLSTM_model)"
      ],
      "metadata": {
        "colab": {
          "base_uri": "https://localhost:8080/"
        },
        "id": "lM5mBC4cnVI3",
        "outputId": "016fa3a7-8a5c-421f-e746-0283a4b0d145"
      },
      "execution_count": 19,
      "outputs": [
        {
          "output_type": "stream",
          "name": "stdout",
          "text": [
            "Model: \"sequential_3\"\n",
            "________________________________________________________________________________\n",
            " Layer (type)                       Output Shape                    Param #     \n",
            "================================================================================\n",
            " embedding_3 (Embedding)            (None, None, 128)               2560000     \n",
            " bidirectional (Bidirectional)      (None, 256)                     263168      \n",
            " dense_3 (Dense)                    (None, 1)                       257         \n",
            "================================================================================\n",
            "Total params: 2823425 (10.77 MB)\n",
            "Trainable params: 2823425 (10.77 MB)\n",
            "Non-trainable params: 0 (0.00 Byte)\n",
            "________________________________________________________________________________\n"
          ]
        }
      ]
    },
    {
      "cell_type": "code",
      "source": [
        "# Evalute the model\n",
        "start_time = Sys.time() # Record the start time\n",
        "\n",
        "biLSTM_model %>% fit(\n",
        "    X_train, y_train,\n",
        "    batch_size = 32,\n",
        "    epochs = 1,\n",
        "    verbose=1,\n",
        "    validation_data = list(X_test, y_test))\n",
        "\n",
        "# Record the run time\n",
        "end_time = Sys.time()\n",
        "biLSTM_time = end_time - start_time\n",
        "\n",
        "biLSTM_result <- biLSTM_model %>% evaluate(X_test, y_test,batch_size = 32)\n",
        "biLSTM_score = biLSTM_result[1]\n",
        "biLSTM_acc = biLSTM_result[2]\n",
        "\n",
        "print(paste('Test score:', biLSTM_score))\n",
        "print(paste('Test accuracy:', biLSTM_acc))\n",
        "print(paste('Duration: ', biLSTM_time))"
      ],
      "metadata": {
        "colab": {
          "base_uri": "https://localhost:8080/"
        },
        "id": "lbwxnAjWnVtr",
        "outputId": "0b8bf3f0-5cf3-43f0-c669-f05ba3a4c430"
      },
      "execution_count": 20,
      "outputs": [
        {
          "output_type": "stream",
          "name": "stdout",
          "text": [
            "[1] \"Test score: 0.359871864318848\"\n",
            "[1] \"Test accuracy: 0.843400001525879\"\n",
            "[1] \"Duration:  10.2673135956128\"\n"
          ]
        }
      ]
    },
    {
      "cell_type": "markdown",
      "source": [
        "### biLSTM_custom"
      ],
      "metadata": {
        "id": "LHH8Of8URAfA"
      }
    },
    {
      "cell_type": "code",
      "source": [
        "# Build the Keras Sequential model\n",
        "biLSTM_custom_model <- keras_model_sequential()\n",
        "\n",
        "forward_layer = layer_lstm(units = 128, dropout=0.2, recurrent_dropout=0.2, return_sequences= FALSE)\n",
        "backward_layer = layer_lstm(units = 128, dropout=0.2, recurrent_dropout=0.2, return_sequences= FALSE, go_backwards=TRUE)\n",
        "\n",
        "biLSTM_custom_model %>%\n",
        "  layer_embedding(input_dim = max_features, output_dim = 128) %>%\n",
        "  bidirectional(forward_layer, backward_layer=backward_layer) %>%\n",
        "  layer_dense(units = 1, activation = 'sigmoid')\n",
        "\n",
        "\n",
        "# compile model\n",
        "biLSTM_custom_model %>% compile(\n",
        "  loss = 'binary_crossentropy', #some other options: sparse_categorical_crossentropy\n",
        "  optimizer = optimizer_adam(), #or: SGD, RMSProp\n",
        "  metrics = c('accuracy'))\n",
        "\n",
        "summary(biLSTM_custom_model)"
      ],
      "metadata": {
        "colab": {
          "base_uri": "https://localhost:8080/"
        },
        "id": "McOz0vxZn6eD",
        "outputId": "7753a3c4-dbaf-4360-cfd2-44225ca77c81"
      },
      "execution_count": 21,
      "outputs": [
        {
          "output_type": "stream",
          "name": "stdout",
          "text": [
            "Model: \"sequential_4\"\n",
            "________________________________________________________________________________\n",
            " Layer (type)                       Output Shape                    Param #     \n",
            "================================================================================\n",
            " embedding_4 (Embedding)            (None, None, 128)               2560000     \n",
            " bidirectional_1 (Bidirectional)    (None, 256)                     263168      \n",
            " dense_4 (Dense)                    (None, 1)                       257         \n",
            "================================================================================\n",
            "Total params: 2823425 (10.77 MB)\n",
            "Trainable params: 2823425 (10.77 MB)\n",
            "Non-trainable params: 0 (0.00 Byte)\n",
            "________________________________________________________________________________\n"
          ]
        }
      ]
    },
    {
      "cell_type": "code",
      "source": [
        "# Evalute the model\n",
        "start_time = Sys.time() # Record the start time\n",
        "\n",
        "biLSTM_custom_model %>% fit(\n",
        "    X_train, y_train,\n",
        "    batch_size = 32,\n",
        "    epochs = 1,\n",
        "    verbose=1,\n",
        "    validation_data = list(X_test, y_test))\n",
        "\n",
        "# Record the run time\n",
        "end_time = Sys.time()\n",
        "biLSTM_custom_time = end_time - start_time\n",
        "\n",
        "biLSTM_custom_result <- biLSTM_custom_model %>% evaluate(X_test, y_test,batch_size = 32)\n",
        "biLSTM_custom_score = biLSTM_result[1]\n",
        "biLSTM_custom_acc = biLSTM_result[2]\n",
        "\n",
        "print(paste('Test score:', biLSTM_custom_score))\n",
        "print(paste('Test accuracy:', biLSTM_custom_acc))\n",
        "print(paste('Duration: ', biLSTM_custom_time))"
      ],
      "metadata": {
        "colab": {
          "base_uri": "https://localhost:8080/"
        },
        "id": "O6L_U77dn7Z1",
        "outputId": "8a3c0931-8d25-4159-c5db-a20c5d09c856"
      },
      "execution_count": 22,
      "outputs": [
        {
          "output_type": "stream",
          "name": "stdout",
          "text": [
            "[1] \"Test score: 0.359871864318848\"\n",
            "[1] \"Test accuracy: 0.843400001525879\"\n",
            "[1] \"Duration:  10.4809190988541\"\n"
          ]
        }
      ]
    },
    {
      "cell_type": "markdown",
      "source": [
        "## Compare"
      ],
      "metadata": {
        "id": "l0qwjWNyRCIK"
      }
    },
    {
      "cell_type": "code",
      "source": [
        "print(paste('RNN Test accuracy:', RNN_acc))\n",
        "print(paste('LSTM Test accuracy:', LSTM_acc))\n",
        "print(paste('GRU Test accuracy:', GRU_acc))\n",
        "print(paste('biLSTM Test accuracy:', biLSTM_acc))\n",
        "print(paste('biLSTM_custom Test accuracy:', biLSTM_custom_acc))"
      ],
      "metadata": {
        "colab": {
          "base_uri": "https://localhost:8080/"
        },
        "id": "xN7_58x9oHic",
        "outputId": "fc2510f9-e219-4658-dc54-528c00a74116"
      },
      "execution_count": 23,
      "outputs": [
        {
          "output_type": "stream",
          "name": "stdout",
          "text": [
            "[1] \"RNN Test accuracy: 0.596920013427734\"\n",
            "[1] \"LSTM Test accuracy: 0.836960017681122\"\n",
            "[1] \"GRU Test accuracy: 0.839359998703003\"\n",
            "[1] \"biLSTM Test accuracy: 0.843400001525879\"\n",
            "[1] \"biLSTM_custom Test accuracy: 0.843400001525879\"\n"
          ]
        }
      ]
    },
    {
      "cell_type": "code",
      "source": [
        "print(paste('RNN Test accuracy:', RNN_time))\n",
        "print(paste('LSTM Test accuracy:', LSTM_time))\n",
        "print(paste('GRU Test accuracy:', GRU_time))\n",
        "print(paste('biLSTM Test accuracy:', biLSTM_time))\n",
        "print(paste('biLSTM_custom Test accuracy:', biLSTM_custom_time))"
      ],
      "metadata": {
        "colab": {
          "base_uri": "https://localhost:8080/"
        },
        "id": "1u4OfAIaoJtG",
        "outputId": "499b501c-ab13-439c-86cb-9c1a95da0d18"
      },
      "execution_count": 24,
      "outputs": [
        {
          "output_type": "stream",
          "name": "stdout",
          "text": [
            "[1] \"RNN Test accuracy: 2.39325828552246\"\n",
            "[1] \"LSTM Test accuracy: 5.33190276225408\"\n",
            "[1] \"GRU Test accuracy: 5.41634857257207\"\n",
            "[1] \"biLSTM Test accuracy: 10.2673135956128\"\n",
            "[1] \"biLSTM_custom Test accuracy: 10.4809190988541\"\n"
          ]
        }
      ]
    }
  ]
}